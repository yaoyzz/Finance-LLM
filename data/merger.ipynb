{
 "cells": [
  {
   "cell_type": "code",
   "execution_count": 1,
   "id": "c95bba2d-3b58-4b05-af0e-d0ba19d50f8e",
   "metadata": {},
   "outputs": [],
   "source": [
    "from preprocess.preprocess import *\n",
    "import pandas as pd\n",
    "pd.set_option('display.max_columns', None)"
   ]
  },
  {
   "cell_type": "code",
   "execution_count": 2,
   "id": "d8d4df48-24b5-4914-8f9b-643cf564dff0",
   "metadata": {
    "tags": []
   },
   "outputs": [
    {
     "name": "stdout",
     "output_type": "stream",
     "text": [
      "YouTube file not found\n",
      "Snapshot of benzinga data:\n",
      "         date  benz_rate\n",
      "0  2018-05-01     7.4444\n",
      "1  2018-05-02     7.3125\n",
      "2  2018-05-03     7.6667\n",
      "3  2018-05-04     6.3333\n",
      "4  2018-05-07     7.6667\n",
      "Size:(1598, 2)\n",
      "Snapshot of stock data:\n",
      "         date    close     volume  day   macd  macds  macdh    rsv_9   kdjk_9  \\\n",
      "0  2018-05-01  243.333   74203400    1  0.000  0.000  0.000 -628.001 -176.000   \n",
      "1  2018-05-02  241.698   86368900    2 -0.037 -0.020 -0.016 -571.761 -307.921   \n",
      "2  2018-05-03  241.165  136311500    3 -0.063 -0.038 -0.025 -269.752 -295.198   \n",
      "3  2018-05-04  244.288   91222100    4  0.039 -0.012  0.051 -190.728 -260.374   \n",
      "4  2018-05-07  245.114   55304900    0  0.127  0.029  0.097 -155.361 -225.370   \n",
      "\n",
      "      kdjk   kdjd_9     kdjd   kdjj_9     kdjj  rs_14  rsi_14     rsi  \\\n",
      "0 -176.000  -25.333  -25.333 -477.334 -477.334    NaN     NaN     NaN   \n",
      "1 -307.921 -119.529 -119.529 -684.703 -684.703  0.000   0.000   0.000   \n",
      "2 -295.198 -178.085 -178.085 -529.422 -529.422  0.000   0.000   0.000   \n",
      "3 -260.374 -205.515 -205.515 -370.093 -370.093  1.640  62.119  62.119   \n",
      "4 -225.370 -212.133 -212.133 -251.843 -251.843  2.107  67.818  67.818   \n",
      "\n",
      "   close_50_sma     ma50  close_200_sma    ma200    vix     TLT     IEF    SHY  \n",
      "0       243.333  243.333        243.333  243.333  15.49  118.41  101.35  83.13  \n",
      "1       242.515  242.515        242.515  242.515  15.97  118.28  101.37  83.16  \n",
      "2       242.065  242.065        242.065  242.065  15.90  118.81  101.63  83.22  \n",
      "3       242.621  242.621        242.621  242.621  14.77  118.99  101.64  83.19  \n",
      "4       243.120  243.120        243.120  243.120  14.75  118.80  101.59  83.19  \n",
      "Size:(1262, 25)\n",
      "Snapshot of macro data:\n",
      "         date  interest_rates\n",
      "0  2018-05-01             1.7\n",
      "1  2018-05-02             1.7\n",
      "2  2018-05-03             1.7\n",
      "3  2018-05-04             1.7\n",
      "4  2018-05-05             1.7\n",
      "Size:(1830, 2)\n"
     ]
    }
   ],
   "source": [
    "merger = Preprocess('./')\n",
    "\n",
    "merger.clean_benzinga()\n",
    "merger.clean_stock()\n",
    "merger.clean_macro()"
   ]
  },
  {
   "cell_type": "code",
   "execution_count": 3,
   "id": "f36ae52e-da63-48f9-9f52-d984ad8d6c9a",
   "metadata": {
    "tags": []
   },
   "outputs": [],
   "source": [
    "merger.merge_table()"
   ]
  },
  {
   "cell_type": "code",
   "execution_count": 4,
   "id": "2eee49fb-e1db-4e8f-8f61-e8e6540a7238",
   "metadata": {
    "tags": []
   },
   "outputs": [
    {
     "data": {
      "text/html": [
       "<div>\n",
       "<style scoped>\n",
       "    .dataframe tbody tr th:only-of-type {\n",
       "        vertical-align: middle;\n",
       "    }\n",
       "\n",
       "    .dataframe tbody tr th {\n",
       "        vertical-align: top;\n",
       "    }\n",
       "\n",
       "    .dataframe thead th {\n",
       "        text-align: right;\n",
       "    }\n",
       "</style>\n",
       "<table border=\"1\" class=\"dataframe\">\n",
       "  <thead>\n",
       "    <tr style=\"text-align: right;\">\n",
       "      <th></th>\n",
       "      <th>date</th>\n",
       "      <th>close</th>\n",
       "      <th>volume</th>\n",
       "      <th>day</th>\n",
       "      <th>macd</th>\n",
       "      <th>macds</th>\n",
       "      <th>macdh</th>\n",
       "      <th>rsv_9</th>\n",
       "      <th>kdjk_9</th>\n",
       "      <th>kdjk</th>\n",
       "      <th>kdjd_9</th>\n",
       "      <th>kdjd</th>\n",
       "      <th>kdjj_9</th>\n",
       "      <th>kdjj</th>\n",
       "      <th>rs_14</th>\n",
       "      <th>rsi_14</th>\n",
       "      <th>rsi</th>\n",
       "      <th>close_50_sma</th>\n",
       "      <th>ma50</th>\n",
       "      <th>close_200_sma</th>\n",
       "      <th>ma200</th>\n",
       "      <th>vix</th>\n",
       "      <th>TLT</th>\n",
       "      <th>IEF</th>\n",
       "      <th>SHY</th>\n",
       "      <th>interest_rates</th>\n",
       "      <th>benz_rate</th>\n",
       "    </tr>\n",
       "  </thead>\n",
       "  <tbody>\n",
       "    <tr>\n",
       "      <th>0</th>\n",
       "      <td>2018-05-01</td>\n",
       "      <td>243.333</td>\n",
       "      <td>74203400.0</td>\n",
       "      <td>1.0</td>\n",
       "      <td>0.0</td>\n",
       "      <td>0.0</td>\n",
       "      <td>0.0</td>\n",
       "      <td>-628.001</td>\n",
       "      <td>-176.0</td>\n",
       "      <td>-176.0</td>\n",
       "      <td>-25.333</td>\n",
       "      <td>-25.333</td>\n",
       "      <td>-477.334</td>\n",
       "      <td>-477.334</td>\n",
       "      <td>0.0</td>\n",
       "      <td>0.0</td>\n",
       "      <td>0.0</td>\n",
       "      <td>243.333</td>\n",
       "      <td>243.333</td>\n",
       "      <td>243.333</td>\n",
       "      <td>243.333</td>\n",
       "      <td>15.49</td>\n",
       "      <td>118.41</td>\n",
       "      <td>101.35</td>\n",
       "      <td>83.13</td>\n",
       "      <td>1.7</td>\n",
       "      <td>7.444</td>\n",
       "    </tr>\n",
       "  </tbody>\n",
       "</table>\n",
       "</div>"
      ],
      "text/plain": [
       "         date    close      volume  day  macd  macds  macdh    rsv_9  kdjk_9  \\\n",
       "0  2018-05-01  243.333  74203400.0  1.0   0.0    0.0    0.0 -628.001  -176.0   \n",
       "\n",
       "    kdjk  kdjd_9    kdjd   kdjj_9     kdjj  rs_14  rsi_14  rsi  close_50_sma  \\\n",
       "0 -176.0 -25.333 -25.333 -477.334 -477.334    0.0     0.0  0.0       243.333   \n",
       "\n",
       "      ma50  close_200_sma    ma200    vix     TLT     IEF    SHY  \\\n",
       "0  243.333        243.333  243.333  15.49  118.41  101.35  83.13   \n",
       "\n",
       "   interest_rates  benz_rate  \n",
       "0             1.7      7.444  "
      ]
     },
     "execution_count": 4,
     "metadata": {},
     "output_type": "execute_result"
    }
   ],
   "source": [
    "merger.combination.head(1)"
   ]
  },
  {
   "cell_type": "code",
   "execution_count": 5,
   "id": "5b4ca89d-b336-40d9-83d9-4455d321b68a",
   "metadata": {
    "tags": []
   },
   "outputs": [
    {
     "data": {
      "text/plain": [
       "date              0\n",
       "close             0\n",
       "volume            0\n",
       "day               0\n",
       "macd              0\n",
       "macds             0\n",
       "macdh             0\n",
       "rsv_9             0\n",
       "kdjk_9            0\n",
       "kdjk              0\n",
       "kdjd_9            0\n",
       "kdjd              0\n",
       "kdjj_9            0\n",
       "kdjj              0\n",
       "rs_14             0\n",
       "rsi_14            0\n",
       "rsi               0\n",
       "close_50_sma      0\n",
       "ma50              0\n",
       "close_200_sma     0\n",
       "ma200             0\n",
       "vix               0\n",
       "TLT               0\n",
       "IEF               0\n",
       "SHY               0\n",
       "interest_rates    0\n",
       "benz_rate         0\n",
       "dtype: int64"
      ]
     },
     "execution_count": 5,
     "metadata": {},
     "output_type": "execute_result"
    }
   ],
   "source": [
    "merger.combination.isna().sum()"
   ]
  },
  {
   "cell_type": "code",
   "execution_count": 6,
   "id": "ec105f7f-10e2-45ce-a5be-3dce1230de19",
   "metadata": {
    "tags": []
   },
   "outputs": [],
   "source": [
    "merger.export_to_csv()"
   ]
  }
 ],
 "metadata": {
  "kernelspec": {
   "display_name": "Python 3 (ipykernel)",
   "language": "python",
   "name": "python3"
  },
  "language_info": {
   "codemirror_mode": {
    "name": "ipython",
    "version": 3
   },
   "file_extension": ".py",
   "mimetype": "text/x-python",
   "name": "python",
   "nbconvert_exporter": "python",
   "pygments_lexer": "ipython3",
   "version": "3.11.2"
  }
 },
 "nbformat": 4,
 "nbformat_minor": 5
}
