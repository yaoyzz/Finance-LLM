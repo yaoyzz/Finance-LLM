{
 "cells": [
  {
   "cell_type": "code",
   "execution_count": 1,
   "id": "c95bba2d-3b58-4b05-af0e-d0ba19d50f8e",
   "metadata": {},
   "outputs": [],
   "source": [
    "from preprocess.preprocess import *\n",
    "import pandas as pd\n",
    "pd.set_option('display.max_columns', None)"
   ]
  },
  {
   "cell_type": "code",
   "execution_count": 2,
   "id": "d8d4df48-24b5-4914-8f9b-643cf564dff0",
   "metadata": {
    "tags": []
   },
   "outputs": [
    {
     "name": "stdout",
     "output_type": "stream",
     "text": [
      "YouTube file not found\n",
      "Snapshot of benzinga data:\n",
      "         date  benz_rate\n",
      "0  2018-05-01     7.4444\n",
      "1  2018-05-02     7.3125\n",
      "2  2018-05-03     7.6667\n",
      "3  2018-05-04     6.3333\n",
      "4  2018-05-07     7.6667\n",
      "Size:(1598, 2)\n",
      "Snapshot of stock data:\n",
      "         date    close    volume  day   macd  macds  macdh    rsv_9   kdjk_9  \\\n",
      "0  2018-05-04  244.288  91222100    4  0.039 -0.012  0.051 -190.728 -260.374   \n",
      "1  2018-05-07  245.114  55304900    0  0.127  0.029  0.097 -155.361 -225.370   \n",
      "2  2018-05-08  245.114  67499200    1  0.177  0.069  0.108 -155.361 -202.033   \n",
      "3  2018-05-09  247.483  59666100    2  0.313  0.131  0.182 -106.900 -170.322   \n",
      "4  2018-05-10  249.797  72063900    3  0.510  0.222  0.288  -69.359 -136.668   \n",
      "\n",
      "      kdjk   kdjd_9     kdjd   kdjj_9     kdjj  rs_14  rsi_14     rsi  \\\n",
      "0 -260.374 -205.515 -205.515 -370.093 -370.093  1.640  62.119  62.119   \n",
      "1 -225.370 -212.133 -212.133 -251.843 -251.843  2.107  67.818  67.818   \n",
      "2 -202.033 -208.767 -208.767 -188.567 -188.567  2.107  67.818  67.818   \n",
      "3 -170.322 -195.952 -195.952 -119.063 -119.063  3.661  78.548  78.548   \n",
      "4 -136.668 -176.191 -176.191  -57.623  -57.623  5.296  84.118  84.118   \n",
      "\n",
      "   close_50_sma     ma50  close_200_sma    ma200    vix     TLT     IEF    SHY  \n",
      "0       242.621  242.621        242.621  242.621  14.77  118.99  101.64  83.19  \n",
      "1       243.120  243.120        243.120  243.120  14.75  118.80  101.59  83.19  \n",
      "2       243.452  243.452        243.452  243.452  14.71  118.69  101.42  83.20  \n",
      "3       244.028  244.028        244.028  244.028  13.42  117.98  101.19  83.16  \n",
      "4       244.749  244.749        244.749  244.749  13.23  118.93  101.40  83.16  \n",
      "Size:(1259, 25)\n",
      "Snapshot of macro data:\n",
      "         date  interest_rates\n",
      "0  2018-05-01             1.7\n",
      "1  2018-05-02             1.7\n",
      "2  2018-05-03             1.7\n",
      "3  2018-05-04             1.7\n",
      "4  2018-05-05             1.7\n",
      "Size:(1830, 2)\n"
     ]
    }
   ],
   "source": [
    "merger = Preprocess('./')\n",
    "\n",
    "merger.clean_benzinga()\n",
    "merger.clean_stock()\n",
    "merger.clean_macro()"
   ]
  },
  {
   "cell_type": "code",
   "execution_count": 3,
   "id": "f36ae52e-da63-48f9-9f52-d984ad8d6c9a",
   "metadata": {
    "tags": []
   },
   "outputs": [],
   "source": [
    "merger.merge_table()"
   ]
  },
  {
   "cell_type": "code",
   "execution_count": 4,
   "id": "2eee49fb-e1db-4e8f-8f61-e8e6540a7238",
   "metadata": {
    "tags": []
   },
   "outputs": [
    {
     "data": {
      "text/html": [
       "<div>\n",
       "<style scoped>\n",
       "    .dataframe tbody tr th:only-of-type {\n",
       "        vertical-align: middle;\n",
       "    }\n",
       "\n",
       "    .dataframe tbody tr th {\n",
       "        vertical-align: top;\n",
       "    }\n",
       "\n",
       "    .dataframe thead th {\n",
       "        text-align: right;\n",
       "    }\n",
       "</style>\n",
       "<table border=\"1\" class=\"dataframe\">\n",
       "  <thead>\n",
       "    <tr style=\"text-align: right;\">\n",
       "      <th></th>\n",
       "      <th>date</th>\n",
       "      <th>close</th>\n",
       "      <th>volume</th>\n",
       "      <th>day</th>\n",
       "      <th>macd</th>\n",
       "      <th>macds</th>\n",
       "      <th>macdh</th>\n",
       "      <th>rsv_9</th>\n",
       "      <th>kdjk_9</th>\n",
       "      <th>kdjk</th>\n",
       "      <th>kdjd_9</th>\n",
       "      <th>kdjd</th>\n",
       "      <th>kdjj_9</th>\n",
       "      <th>kdjj</th>\n",
       "      <th>rs_14</th>\n",
       "      <th>rsi_14</th>\n",
       "      <th>rsi</th>\n",
       "      <th>close_50_sma</th>\n",
       "      <th>ma50</th>\n",
       "      <th>close_200_sma</th>\n",
       "      <th>ma200</th>\n",
       "      <th>vix</th>\n",
       "      <th>TLT</th>\n",
       "      <th>IEF</th>\n",
       "      <th>SHY</th>\n",
       "      <th>interest_rates</th>\n",
       "      <th>benz_rate</th>\n",
       "    </tr>\n",
       "  </thead>\n",
       "  <tbody>\n",
       "    <tr>\n",
       "      <th>0</th>\n",
       "      <td>2018-05-04</td>\n",
       "      <td>244.288</td>\n",
       "      <td>91222100.0</td>\n",
       "      <td>4.0</td>\n",
       "      <td>0.039</td>\n",
       "      <td>-0.012</td>\n",
       "      <td>0.051</td>\n",
       "      <td>-190.728</td>\n",
       "      <td>-260.374</td>\n",
       "      <td>-260.374</td>\n",
       "      <td>-205.515</td>\n",
       "      <td>-205.515</td>\n",
       "      <td>-370.093</td>\n",
       "      <td>-370.093</td>\n",
       "      <td>1.64</td>\n",
       "      <td>62.119</td>\n",
       "      <td>62.119</td>\n",
       "      <td>242.621</td>\n",
       "      <td>242.621</td>\n",
       "      <td>242.621</td>\n",
       "      <td>242.621</td>\n",
       "      <td>14.77</td>\n",
       "      <td>118.99</td>\n",
       "      <td>101.64</td>\n",
       "      <td>83.19</td>\n",
       "      <td>1.7</td>\n",
       "      <td>7.189</td>\n",
       "    </tr>\n",
       "  </tbody>\n",
       "</table>\n",
       "</div>"
      ],
      "text/plain": [
       "         date    close      volume  day   macd  macds  macdh    rsv_9  \\\n",
       "0  2018-05-04  244.288  91222100.0  4.0  0.039 -0.012  0.051 -190.728   \n",
       "\n",
       "    kdjk_9     kdjk   kdjd_9     kdjd   kdjj_9     kdjj  rs_14  rsi_14  \\\n",
       "0 -260.374 -260.374 -205.515 -205.515 -370.093 -370.093   1.64  62.119   \n",
       "\n",
       "      rsi  close_50_sma     ma50  close_200_sma    ma200    vix     TLT  \\\n",
       "0  62.119       242.621  242.621        242.621  242.621  14.77  118.99   \n",
       "\n",
       "      IEF    SHY  interest_rates  benz_rate  \n",
       "0  101.64  83.19             1.7      7.189  "
      ]
     },
     "execution_count": 4,
     "metadata": {},
     "output_type": "execute_result"
    }
   ],
   "source": [
    "merger.combination.head(1)"
   ]
  },
  {
   "cell_type": "code",
   "execution_count": 5,
   "id": "5b4ca89d-b336-40d9-83d9-4455d321b68a",
   "metadata": {
    "tags": []
   },
   "outputs": [
    {
     "data": {
      "text/plain": [
       "date              0\n",
       "close             0\n",
       "volume            0\n",
       "day               0\n",
       "macd              0\n",
       "macds             0\n",
       "macdh             0\n",
       "rsv_9             0\n",
       "kdjk_9            0\n",
       "kdjk              0\n",
       "kdjd_9            0\n",
       "kdjd              0\n",
       "kdjj_9            0\n",
       "kdjj              0\n",
       "rs_14             0\n",
       "rsi_14            0\n",
       "rsi               0\n",
       "close_50_sma      0\n",
       "ma50              0\n",
       "close_200_sma     0\n",
       "ma200             0\n",
       "vix               0\n",
       "TLT               0\n",
       "IEF               0\n",
       "SHY               0\n",
       "interest_rates    0\n",
       "benz_rate         0\n",
       "dtype: int64"
      ]
     },
     "execution_count": 5,
     "metadata": {},
     "output_type": "execute_result"
    }
   ],
   "source": [
    "merger.combination.isna().sum()"
   ]
  },
  {
   "cell_type": "code",
   "execution_count": 6,
   "id": "ec105f7f-10e2-45ce-a5be-3dce1230de19",
   "metadata": {
    "tags": []
   },
   "outputs": [],
   "source": [
    "merger.export_to_csv()"
   ]
  }
 ],
 "metadata": {
  "kernelspec": {
   "display_name": "Python 3 (ipykernel)",
   "language": "python",
   "name": "python3"
  },
  "language_info": {
   "codemirror_mode": {
    "name": "ipython",
    "version": 3
   },
   "file_extension": ".py",
   "mimetype": "text/x-python",
   "name": "python",
   "nbconvert_exporter": "python",
   "pygments_lexer": "ipython3",
   "version": "3.11.2"
  }
 },
 "nbformat": 4,
 "nbformat_minor": 5
}
