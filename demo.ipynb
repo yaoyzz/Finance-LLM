{
 "cells": [
  {
   "cell_type": "code",
   "execution_count": 1,
   "metadata": {},
   "outputs": [
    {
     "name": "stdout",
     "output_type": "stream",
     "text": [
      "flask is already installed\n"
     ]
    }
   ],
   "source": [
    "import importlib\n",
    "\n",
    "# list of libraries to check/install\n",
    "libraries = ['flask']\n",
    "\n",
    "# loop through libraries and check/install\n",
    "for lib in libraries:\n",
    "    try:\n",
    "        importlib.import_module(lib)\n",
    "        print(f\"{lib} is already installed\")\n",
    "    except ImportError:\n",
    "        #!pip install {lib}\n",
    "        print(f\"{lib} has been installed\")\n",
    "\n",
    "# import libraries\n",
    "import requests\n",
    "import json\n",
    "import os\n",
    "import re\n",
    "from flask import Flask, request, render_template, redirect, url_for, Markup\n",
    "import datetime"
   ]
  },
  {
   "cell_type": "code",
   "execution_count": 6,
   "metadata": {},
   "outputs": [
    {
     "name": "stdout",
     "output_type": "stream",
     "text": [
      " * Serving Flask app \"Stock Predictions\" (lazy loading)\n",
      " * Environment: production\n",
      "\u001b[31m   WARNING: This is a development server. Do not use it in a production deployment.\u001b[0m\n",
      "\u001b[2m   Use a production WSGI server instead.\u001b[0m\n",
      " * Debug mode: off\n"
     ]
    },
    {
     "name": "stderr",
     "output_type": "stream",
     "text": [
      " * Running on http://localhost:5001/ (Press CTRL+C to quit)\n",
      "127.0.0.1 - - [07/May/2023 11:35:23] \"GET /demo HTTP/1.1\" 200 -\n",
      "127.0.0.1 - - [07/May/2023 11:35:23] \"GET /static/css/main.css HTTP/1.1\" 304 -\n",
      "127.0.0.1 - - [07/May/2023 11:35:23] \"GET /static/img/logo.png HTTP/1.1\" 304 -\n",
      "127.0.0.1 - - [07/May/2023 11:35:23] \"GET /static/js/functions-min.js HTTP/1.1\" 304 -\n",
      "127.0.0.1 - - [07/May/2023 11:35:23] \"GET /static/img/introduction-visual.png HTTP/1.1\" 304 -\n",
      "127.0.0.1 - - [07/May/2023 11:35:23] \"GET /static/css/fonts/Montserrat-Black.woff HTTP/1.1\" 304 -\n",
      "127.0.0.1 - - [07/May/2023 11:35:23] \"GET /static/css/fonts/Montserrat-Bold.woff HTTP/1.1\" 304 -\n",
      "127.0.0.1 - - [07/May/2023 11:35:23] \"GET /static/css/fonts/Montserrat-Regular.woff HTTP/1.1\" 304 -\n",
      "127.0.0.1 - - [07/May/2023 11:35:23] \"GET /static/css/fonts/Montserrat-Light.woff HTTP/1.1\" 304 -\n",
      "127.0.0.1 - - [07/May/2023 11:35:40] \"GET /demo HTTP/1.1\" 200 -\n",
      "127.0.0.1 - - [07/May/2023 11:36:20] \"GET /demo HTTP/1.1\" 200 -\n",
      "127.0.0.1 - - [07/May/2023 11:38:02] \"GET /demo HTTP/1.1\" 200 -\n",
      "127.0.0.1 - - [07/May/2023 11:38:07] \"GET /demo HTTP/1.1\" 200 -\n",
      "127.0.0.1 - - [07/May/2023 11:38:11] \"GET /demo HTTP/1.1\" 200 -\n",
      "127.0.0.1 - - [07/May/2023 11:38:15] \"GET /demo HTTP/1.1\" 200 -\n",
      "127.0.0.1 - - [07/May/2023 11:38:16] \"GET /demo HTTP/1.1\" 200 -\n",
      "127.0.0.1 - - [07/May/2023 11:38:16] \"GET /demo HTTP/1.1\" 200 -\n",
      "127.0.0.1 - - [07/May/2023 11:38:17] \"GET /demo HTTP/1.1\" 200 -\n",
      "127.0.0.1 - - [07/May/2023 11:38:17] \"GET /demo HTTP/1.1\" 200 -\n",
      "127.0.0.1 - - [07/May/2023 11:39:38] \"GET /demo HTTP/1.1\" 200 -\n",
      "127.0.0.1 - - [07/May/2023 11:41:34] \"GET /demo HTTP/1.1\" 200 -\n",
      "127.0.0.1 - - [07/May/2023 11:41:38] \"GET /demo HTTP/1.1\" 200 -\n",
      "127.0.0.1 - - [07/May/2023 11:49:08] \"GET /demo HTTP/1.1\" 200 -\n",
      "127.0.0.1 - - [07/May/2023 11:50:40] \"GET /demo HTTP/1.1\" 200 -\n",
      "127.0.0.1 - - [07/May/2023 11:51:36] \"GET /demo HTTP/1.1\" 200 -\n"
     ]
    }
   ],
   "source": [
    "app = Flask(\"Stock Predictions\", static_folder='static')\n",
    "app.config['TEMPLATES_AUTO_RELOAD'] = True\n",
    "        \n",
    "@app.route('/')\n",
    "def index():\n",
    "    return render_template('index.html')\n",
    "\n",
    "@app.route('/demo')\n",
    "def demo():\n",
    "    return render_template('demo.html')\n",
    "\n",
    "if __name__ == '__main__':\n",
    "    app.run(host='localhost', port=5001)"
   ]
  }
 ],
 "metadata": {
  "kernelspec": {
   "display_name": "Python 3",
   "language": "python",
   "name": "python3"
  },
  "language_info": {
   "codemirror_mode": {
    "name": "ipython",
    "version": 3
   },
   "file_extension": ".py",
   "mimetype": "text/x-python",
   "name": "python",
   "nbconvert_exporter": "python",
   "pygments_lexer": "ipython3",
   "version": "3.9.13"
  },
  "orig_nbformat": 4
 },
 "nbformat": 4,
 "nbformat_minor": 2
}
