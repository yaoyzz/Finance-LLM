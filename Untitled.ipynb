{
 "cells": [
  {
   "cell_type": "code",
   "execution_count": 1,
   "id": "c38a282f",
   "metadata": {},
   "outputs": [
    {
     "name": "stdout",
     "output_type": "stream",
     "text": [
      "pandas is already installed\n",
      "scikit-learn is not installed, installing now...\n",
      "Requirement already satisfied: scikit-learn in /Library/Frameworks/Python.framework/Versions/3.11/lib/python3.11/site-packages (1.2.2)\n",
      "Requirement already satisfied: numpy>=1.17.3 in /Library/Frameworks/Python.framework/Versions/3.11/lib/python3.11/site-packages (from scikit-learn) (1.24.2)\n",
      "Requirement already satisfied: scipy>=1.3.2 in /Library/Frameworks/Python.framework/Versions/3.11/lib/python3.11/site-packages (from scikit-learn) (1.10.1)\n",
      "Requirement already satisfied: joblib>=1.1.1 in /Library/Frameworks/Python.framework/Versions/3.11/lib/python3.11/site-packages (from scikit-learn) (1.2.0)\n",
      "Requirement already satisfied: threadpoolctl>=2.0.0 in /Library/Frameworks/Python.framework/Versions/3.11/lib/python3.11/site-packages (from scikit-learn) (3.1.0)\n",
      "scikit-learn has been installed\n",
      "numpy is already installed\n",
      "tensorflow is already installed\n",
      "keras is already installed\n",
      "matplotlib is already installed\n",
      "plotly is already installed\n"
     ]
    }
   ],
   "source": [
    "from lstm.lstm import Lstm"
   ]
  },
  {
   "cell_type": "code",
   "execution_count": null,
   "id": "786cdf74",
   "metadata": {},
   "outputs": [
    {
     "name": "stderr",
     "output_type": "stream",
     "text": [
      "WARNING:absl:At this time, the v2.11+ optimizer `tf.keras.optimizers.Adam` runs slowly on M1/M2 Macs, please use the legacy Keras optimizer instead, located at `tf.keras.optimizers.legacy.Adam`.\n",
      "WARNING:absl:There is a known slowdown when using v2.11+ Keras optimizers on M1/M2 Macs. Falling back to the legacy Keras optimizer, i.e., `tf.keras.optimizers.legacy.Adam`.\n"
     ]
    },
    {
     "name": "stdout",
     "output_type": "stream",
     "text": [
      "\n",
      "lstm intance initialized\n",
      "SPY data imported. Size: (1258, 31)\n",
      "SPY size: (1258, 31)\n",
      "Epoch 1/2000\n",
      "19/27 [====================>.........] - ETA: 0s - loss: 249.7477 - mae: 249.7477 WARNING:tensorflow:Early stopping conditioned on metric `val_mae` which is not available. Available metrics are: loss,mae\n"
     ]
    },
    {
     "name": "stderr",
     "output_type": "stream",
     "text": [
      "WARNING:tensorflow:Early stopping conditioned on metric `val_mae` which is not available. Available metrics are: loss,mae\n"
     ]
    },
    {
     "name": "stdout",
     "output_type": "stream",
     "text": [
      "27/27 [==============================] - 2s 4ms/step - loss: 193.8321 - mae: 193.8321\n",
      "Epoch 2/2000\n",
      "18/27 [===================>..........] - ETA: 0s - loss: 44.6114 - mae: 44.6114WARNING:tensorflow:Early stopping conditioned on metric `val_mae` which is not available. Available metrics are: loss,mae\n"
     ]
    },
    {
     "name": "stderr",
     "output_type": "stream",
     "text": [
      "WARNING:tensorflow:Early stopping conditioned on metric `val_mae` which is not available. Available metrics are: loss,mae\n"
     ]
    },
    {
     "name": "stdout",
     "output_type": "stream",
     "text": [
      "27/27 [==============================] - 0s 3ms/step - loss: 42.9606 - mae: 42.9606\n",
      "Epoch 3/2000\n",
      "21/27 [======================>.......] - ETA: 0s - loss: 42.8299 - mae: 42.8299WARNING:tensorflow:Early stopping conditioned on metric `val_mae` which is not available. Available metrics are: loss,mae\n"
     ]
    },
    {
     "name": "stderr",
     "output_type": "stream",
     "text": [
      "WARNING:tensorflow:Early stopping conditioned on metric `val_mae` which is not available. Available metrics are: loss,mae\n"
     ]
    },
    {
     "name": "stdout",
     "output_type": "stream",
     "text": [
      "27/27 [==============================] - 0s 3ms/step - loss: 41.5695 - mae: 41.5695\n",
      "Epoch 4/2000\n",
      "21/27 [======================>.......] - ETA: 0s - loss: 34.9639 - mae: 34.9639WARNING:tensorflow:Early stopping conditioned on metric `val_mae` which is not available. Available metrics are: loss,mae\n"
     ]
    },
    {
     "name": "stderr",
     "output_type": "stream",
     "text": [
      "WARNING:tensorflow:Early stopping conditioned on metric `val_mae` which is not available. Available metrics are: loss,mae\n"
     ]
    },
    {
     "name": "stdout",
     "output_type": "stream",
     "text": [
      "27/27 [==============================] - 0s 3ms/step - loss: 34.8096 - mae: 34.8096\n",
      "Epoch 5/2000\n",
      "20/27 [=====================>........] - ETA: 0s - loss: 35.2618 - mae: 35.2618WARNING:tensorflow:Early stopping conditioned on metric `val_mae` which is not available. Available metrics are: loss,mae\n"
     ]
    },
    {
     "name": "stderr",
     "output_type": "stream",
     "text": [
      "WARNING:tensorflow:Early stopping conditioned on metric `val_mae` which is not available. Available metrics are: loss,mae\n"
     ]
    },
    {
     "name": "stdout",
     "output_type": "stream",
     "text": [
      "27/27 [==============================] - 0s 3ms/step - loss: 35.6371 - mae: 35.6371\n",
      "Epoch 6/2000\n",
      "16/27 [================>.............] - ETA: 0s - loss: 41.0237 - mae: 41.0237WARNING:tensorflow:Early stopping conditioned on metric `val_mae` which is not available. Available metrics are: loss,mae\n"
     ]
    },
    {
     "name": "stderr",
     "output_type": "stream",
     "text": [
      "WARNING:tensorflow:Early stopping conditioned on metric `val_mae` which is not available. Available metrics are: loss,mae\n"
     ]
    },
    {
     "name": "stdout",
     "output_type": "stream",
     "text": [
      "27/27 [==============================] - 0s 3ms/step - loss: 37.0929 - mae: 37.0929\n",
      "Epoch 7/2000\n",
      "19/27 [====================>.........] - ETA: 0s - loss: 31.1517 - mae: 31.1517WARNING:tensorflow:Early stopping conditioned on metric `val_mae` which is not available. Available metrics are: loss,mae\n"
     ]
    },
    {
     "name": "stderr",
     "output_type": "stream",
     "text": [
      "WARNING:tensorflow:Early stopping conditioned on metric `val_mae` which is not available. Available metrics are: loss,mae\n"
     ]
    },
    {
     "name": "stdout",
     "output_type": "stream",
     "text": [
      "27/27 [==============================] - 0s 3ms/step - loss: 32.1522 - mae: 32.1522\n",
      "Epoch 8/2000\n",
      "19/27 [====================>.........] - ETA: 0s - loss: 33.3914 - mae: 33.3914WARNING:tensorflow:Early stopping conditioned on metric `val_mae` which is not available. Available metrics are: loss,mae\n"
     ]
    },
    {
     "name": "stderr",
     "output_type": "stream",
     "text": [
      "WARNING:tensorflow:Early stopping conditioned on metric `val_mae` which is not available. Available metrics are: loss,mae\n"
     ]
    },
    {
     "name": "stdout",
     "output_type": "stream",
     "text": [
      "27/27 [==============================] - 0s 3ms/step - loss: 31.7082 - mae: 31.7082\n",
      "Epoch 9/2000\n",
      "18/27 [===================>..........] - ETA: 0s - loss: 35.7777 - mae: 35.7777WARNING:tensorflow:Early stopping conditioned on metric `val_mae` which is not available. Available metrics are: loss,mae\n"
     ]
    },
    {
     "name": "stderr",
     "output_type": "stream",
     "text": [
      "WARNING:tensorflow:Early stopping conditioned on metric `val_mae` which is not available. Available metrics are: loss,mae\n"
     ]
    },
    {
     "name": "stdout",
     "output_type": "stream",
     "text": [
      "27/27 [==============================] - 0s 3ms/step - loss: 34.7444 - mae: 34.7444\n",
      "Epoch 10/2000\n",
      "19/27 [====================>.........] - ETA: 0s - loss: 28.6969 - mae: 28.6969WARNING:tensorflow:Early stopping conditioned on metric `val_mae` which is not available. Available metrics are: loss,mae\n"
     ]
    },
    {
     "name": "stderr",
     "output_type": "stream",
     "text": [
      "WARNING:tensorflow:Early stopping conditioned on metric `val_mae` which is not available. Available metrics are: loss,mae\n"
     ]
    },
    {
     "name": "stdout",
     "output_type": "stream",
     "text": [
      "27/27 [==============================] - 0s 3ms/step - loss: 27.1578 - mae: 27.1578\n",
      "Epoch 11/2000\n",
      "19/27 [====================>.........] - ETA: 0s - loss: 21.5346 - mae: 21.5346WARNING:tensorflow:Early stopping conditioned on metric `val_mae` which is not available. Available metrics are: loss,mae\n"
     ]
    },
    {
     "name": "stderr",
     "output_type": "stream",
     "text": [
      "WARNING:tensorflow:Early stopping conditioned on metric `val_mae` which is not available. Available metrics are: loss,mae\n"
     ]
    },
    {
     "name": "stdout",
     "output_type": "stream",
     "text": [
      "27/27 [==============================] - 0s 3ms/step - loss: 23.0214 - mae: 23.0214\n",
      "Epoch 12/2000\n",
      "20/27 [=====================>........] - ETA: 0s - loss: 37.7651 - mae: 37.7651WARNING:tensorflow:Early stopping conditioned on metric `val_mae` which is not available. Available metrics are: loss,mae\n"
     ]
    },
    {
     "name": "stderr",
     "output_type": "stream",
     "text": [
      "WARNING:tensorflow:Early stopping conditioned on metric `val_mae` which is not available. Available metrics are: loss,mae\n"
     ]
    },
    {
     "name": "stdout",
     "output_type": "stream",
     "text": [
      "27/27 [==============================] - 0s 3ms/step - loss: 36.9839 - mae: 36.9839\n",
      "Epoch 13/2000\n",
      "20/27 [=====================>........] - ETA: 0s - loss: 27.8548 - mae: 27.8548WARNING:tensorflow:Early stopping conditioned on metric `val_mae` which is not available. Available metrics are: loss,mae\n"
     ]
    },
    {
     "name": "stderr",
     "output_type": "stream",
     "text": [
      "WARNING:tensorflow:Early stopping conditioned on metric `val_mae` which is not available. Available metrics are: loss,mae\n"
     ]
    },
    {
     "name": "stdout",
     "output_type": "stream",
     "text": [
      "27/27 [==============================] - 0s 3ms/step - loss: 26.3897 - mae: 26.3897\n",
      "Epoch 14/2000\n",
      "20/27 [=====================>........] - ETA: 0s - loss: 21.3355 - mae: 21.3355WARNING:tensorflow:Early stopping conditioned on metric `val_mae` which is not available. Available metrics are: loss,mae\n"
     ]
    },
    {
     "name": "stderr",
     "output_type": "stream",
     "text": [
      "WARNING:tensorflow:Early stopping conditioned on metric `val_mae` which is not available. Available metrics are: loss,mae\n"
     ]
    },
    {
     "name": "stdout",
     "output_type": "stream",
     "text": [
      "27/27 [==============================] - 0s 3ms/step - loss: 22.8931 - mae: 22.8931\n",
      "Epoch 15/2000\n",
      "19/27 [====================>.........] - ETA: 0s - loss: 21.5125 - mae: 21.5125WARNING:tensorflow:Early stopping conditioned on metric `val_mae` which is not available. Available metrics are: loss,mae\n"
     ]
    },
    {
     "name": "stderr",
     "output_type": "stream",
     "text": [
      "WARNING:tensorflow:Early stopping conditioned on metric `val_mae` which is not available. Available metrics are: loss,mae\n"
     ]
    },
    {
     "name": "stdout",
     "output_type": "stream",
     "text": [
      "27/27 [==============================] - 0s 3ms/step - loss: 21.9793 - mae: 21.9793\n",
      "Epoch 16/2000\n",
      "20/27 [=====================>........] - ETA: 0s - loss: 22.2040 - mae: 22.2040WARNING:tensorflow:Early stopping conditioned on metric `val_mae` which is not available. Available metrics are: loss,mae\n"
     ]
    },
    {
     "name": "stderr",
     "output_type": "stream",
     "text": [
      "WARNING:tensorflow:Early stopping conditioned on metric `val_mae` which is not available. Available metrics are: loss,mae\n"
     ]
    },
    {
     "name": "stdout",
     "output_type": "stream",
     "text": [
      "27/27 [==============================] - 0s 3ms/step - loss: 21.7093 - mae: 21.7093\n",
      "Epoch 17/2000\n",
      "20/27 [=====================>........] - ETA: 0s - loss: 22.5907 - mae: 22.5907WARNING:tensorflow:Early stopping conditioned on metric `val_mae` which is not available. Available metrics are: loss,mae\n"
     ]
    },
    {
     "name": "stderr",
     "output_type": "stream",
     "text": [
      "WARNING:tensorflow:Early stopping conditioned on metric `val_mae` which is not available. Available metrics are: loss,mae\n"
     ]
    },
    {
     "name": "stdout",
     "output_type": "stream",
     "text": [
      "27/27 [==============================] - 0s 3ms/step - loss: 22.0751 - mae: 22.0751\n",
      "Epoch 18/2000\n",
      "20/27 [=====================>........] - ETA: 0s - loss: 22.3651 - mae: 22.3651WARNING:tensorflow:Early stopping conditioned on metric `val_mae` which is not available. Available metrics are: loss,mae\n"
     ]
    },
    {
     "name": "stderr",
     "output_type": "stream",
     "text": [
      "WARNING:tensorflow:Early stopping conditioned on metric `val_mae` which is not available. Available metrics are: loss,mae\n"
     ]
    },
    {
     "name": "stdout",
     "output_type": "stream",
     "text": [
      "27/27 [==============================] - 0s 3ms/step - loss: 21.6376 - mae: 21.6376\n",
      "Epoch 19/2000\n",
      "20/27 [=====================>........] - ETA: 0s - loss: 17.8209 - mae: 17.8209WARNING:tensorflow:Early stopping conditioned on metric `val_mae` which is not available. Available metrics are: loss,mae\n"
     ]
    },
    {
     "name": "stderr",
     "output_type": "stream",
     "text": [
      "WARNING:tensorflow:Early stopping conditioned on metric `val_mae` which is not available. Available metrics are: loss,mae\n"
     ]
    },
    {
     "name": "stdout",
     "output_type": "stream",
     "text": [
      "27/27 [==============================] - 0s 3ms/step - loss: 18.1152 - mae: 18.1152\n",
      "Epoch 20/2000\n",
      "19/27 [====================>.........] - ETA: 0s - loss: 18.6753 - mae: 18.6753WARNING:tensorflow:Early stopping conditioned on metric `val_mae` which is not available. Available metrics are: loss,mae\n"
     ]
    },
    {
     "name": "stderr",
     "output_type": "stream",
     "text": [
      "WARNING:tensorflow:Early stopping conditioned on metric `val_mae` which is not available. Available metrics are: loss,mae\n"
     ]
    },
    {
     "name": "stdout",
     "output_type": "stream",
     "text": [
      "27/27 [==============================] - 0s 3ms/step - loss: 19.9480 - mae: 19.9480\n",
      "Epoch 21/2000\n",
      "20/27 [=====================>........] - ETA: 0s - loss: 19.1601 - mae: 19.1601WARNING:tensorflow:Early stopping conditioned on metric `val_mae` which is not available. Available metrics are: loss,mae\n"
     ]
    },
    {
     "name": "stderr",
     "output_type": "stream",
     "text": [
      "WARNING:tensorflow:Early stopping conditioned on metric `val_mae` which is not available. Available metrics are: loss,mae\n"
     ]
    },
    {
     "name": "stdout",
     "output_type": "stream",
     "text": [
      "27/27 [==============================] - 0s 3ms/step - loss: 19.2475 - mae: 19.2475\n",
      "Epoch 22/2000\n",
      "20/27 [=====================>........] - ETA: 0s - loss: 19.7657 - mae: 19.7657WARNING:tensorflow:Early stopping conditioned on metric `val_mae` which is not available. Available metrics are: loss,mae\n"
     ]
    },
    {
     "name": "stderr",
     "output_type": "stream",
     "text": [
      "WARNING:tensorflow:Early stopping conditioned on metric `val_mae` which is not available. Available metrics are: loss,mae\n"
     ]
    },
    {
     "name": "stdout",
     "output_type": "stream",
     "text": [
      "27/27 [==============================] - 0s 3ms/step - loss: 19.3064 - mae: 19.3064\n",
      "Epoch 23/2000\n",
      "19/27 [====================>.........] - ETA: 0s - loss: 19.6515 - mae: 19.6515WARNING:tensorflow:Early stopping conditioned on metric `val_mae` which is not available. Available metrics are: loss,mae\n"
     ]
    },
    {
     "name": "stderr",
     "output_type": "stream",
     "text": [
      "WARNING:tensorflow:Early stopping conditioned on metric `val_mae` which is not available. Available metrics are: loss,mae\n"
     ]
    },
    {
     "name": "stdout",
     "output_type": "stream",
     "text": [
      "27/27 [==============================] - 0s 3ms/step - loss: 19.3977 - mae: 19.3977\n",
      "Epoch 24/2000\n",
      "17/27 [=================>............] - ETA: 0s - loss: 17.7064 - mae: 17.7064WARNING:tensorflow:Early stopping conditioned on metric `val_mae` which is not available. Available metrics are: loss,mae\n"
     ]
    },
    {
     "name": "stderr",
     "output_type": "stream",
     "text": [
      "WARNING:tensorflow:Early stopping conditioned on metric `val_mae` which is not available. Available metrics are: loss,mae\n"
     ]
    },
    {
     "name": "stdout",
     "output_type": "stream",
     "text": [
      "27/27 [==============================] - 0s 3ms/step - loss: 17.4834 - mae: 17.4834\n",
      "Epoch 25/2000\n",
      "18/27 [===================>..........] - ETA: 0s - loss: 24.5100 - mae: 24.5100WARNING:tensorflow:Early stopping conditioned on metric `val_mae` which is not available. Available metrics are: loss,mae\n"
     ]
    },
    {
     "name": "stderr",
     "output_type": "stream",
     "text": [
      "WARNING:tensorflow:Early stopping conditioned on metric `val_mae` which is not available. Available metrics are: loss,mae\n"
     ]
    },
    {
     "name": "stdout",
     "output_type": "stream",
     "text": [
      "27/27 [==============================] - 0s 3ms/step - loss: 24.0368 - mae: 24.0368\n",
      "Epoch 26/2000\n",
      "20/27 [=====================>........] - ETA: 0s - loss: 29.1575 - mae: 29.1575WARNING:tensorflow:Early stopping conditioned on metric `val_mae` which is not available. Available metrics are: loss,mae\n"
     ]
    },
    {
     "name": "stderr",
     "output_type": "stream",
     "text": [
      "WARNING:tensorflow:Early stopping conditioned on metric `val_mae` which is not available. Available metrics are: loss,mae\n"
     ]
    },
    {
     "name": "stdout",
     "output_type": "stream",
     "text": [
      "27/27 [==============================] - 0s 3ms/step - loss: 26.8884 - mae: 26.8884\n",
      "Epoch 27/2000\n",
      "20/27 [=====================>........] - ETA: 0s - loss: 18.2926 - mae: 18.2926WARNING:tensorflow:Early stopping conditioned on metric `val_mae` which is not available. Available metrics are: loss,mae\n"
     ]
    },
    {
     "name": "stderr",
     "output_type": "stream",
     "text": [
      "WARNING:tensorflow:Early stopping conditioned on metric `val_mae` which is not available. Available metrics are: loss,mae\n"
     ]
    },
    {
     "name": "stdout",
     "output_type": "stream",
     "text": [
      "27/27 [==============================] - 0s 3ms/step - loss: 18.2401 - mae: 18.2401\n",
      "Epoch 28/2000\n",
      "19/27 [====================>.........] - ETA: 0s - loss: 17.4105 - mae: 17.4105WARNING:tensorflow:Early stopping conditioned on metric `val_mae` which is not available. Available metrics are: loss,mae\n"
     ]
    },
    {
     "name": "stderr",
     "output_type": "stream",
     "text": [
      "WARNING:tensorflow:Early stopping conditioned on metric `val_mae` which is not available. Available metrics are: loss,mae\n"
     ]
    },
    {
     "name": "stdout",
     "output_type": "stream",
     "text": [
      "27/27 [==============================] - 0s 3ms/step - loss: 17.8238 - mae: 17.8238\n",
      "Epoch 29/2000\n",
      "19/27 [====================>.........] - ETA: 0s - loss: 18.2081 - mae: 18.2081WARNING:tensorflow:Early stopping conditioned on metric `val_mae` which is not available. Available metrics are: loss,mae\n"
     ]
    },
    {
     "name": "stderr",
     "output_type": "stream",
     "text": [
      "WARNING:tensorflow:Early stopping conditioned on metric `val_mae` which is not available. Available metrics are: loss,mae\n"
     ]
    },
    {
     "name": "stdout",
     "output_type": "stream",
     "text": [
      "27/27 [==============================] - 0s 3ms/step - loss: 17.1710 - mae: 17.1710\n",
      "Epoch 30/2000\n",
      "20/27 [=====================>........] - ETA: 0s - loss: 19.5675 - mae: 19.5675WARNING:tensorflow:Early stopping conditioned on metric `val_mae` which is not available. Available metrics are: loss,mae\n"
     ]
    },
    {
     "name": "stderr",
     "output_type": "stream",
     "text": [
      "WARNING:tensorflow:Early stopping conditioned on metric `val_mae` which is not available. Available metrics are: loss,mae\n"
     ]
    },
    {
     "name": "stdout",
     "output_type": "stream",
     "text": [
      "27/27 [==============================] - 0s 3ms/step - loss: 18.6834 - mae: 18.6834\n",
      "Epoch 31/2000\n",
      "20/27 [=====================>........] - ETA: 0s - loss: 20.8463 - mae: 20.8463WARNING:tensorflow:Early stopping conditioned on metric `val_mae` which is not available. Available metrics are: loss,mae\n"
     ]
    },
    {
     "name": "stderr",
     "output_type": "stream",
     "text": [
      "WARNING:tensorflow:Early stopping conditioned on metric `val_mae` which is not available. Available metrics are: loss,mae\n"
     ]
    },
    {
     "name": "stdout",
     "output_type": "stream",
     "text": [
      "27/27 [==============================] - 0s 3ms/step - loss: 21.1790 - mae: 21.1790\n",
      "Epoch 32/2000\n",
      "19/27 [====================>.........] - ETA: 0s - loss: 17.4805 - mae: 17.4805WARNING:tensorflow:Early stopping conditioned on metric `val_mae` which is not available. Available metrics are: loss,mae\n"
     ]
    },
    {
     "name": "stderr",
     "output_type": "stream",
     "text": [
      "WARNING:tensorflow:Early stopping conditioned on metric `val_mae` which is not available. Available metrics are: loss,mae\n"
     ]
    },
    {
     "name": "stdout",
     "output_type": "stream",
     "text": [
      "27/27 [==============================] - 0s 3ms/step - loss: 17.6706 - mae: 17.6706\n",
      "Epoch 33/2000\n",
      "20/27 [=====================>........] - ETA: 0s - loss: 17.2286 - mae: 17.2286WARNING:tensorflow:Early stopping conditioned on metric `val_mae` which is not available. Available metrics are: loss,mae\n"
     ]
    },
    {
     "name": "stderr",
     "output_type": "stream",
     "text": [
      "WARNING:tensorflow:Early stopping conditioned on metric `val_mae` which is not available. Available metrics are: loss,mae\n"
     ]
    },
    {
     "name": "stdout",
     "output_type": "stream",
     "text": [
      "27/27 [==============================] - 0s 3ms/step - loss: 18.2077 - mae: 18.2077\n",
      "Epoch 34/2000\n",
      "18/27 [===================>..........] - ETA: 0s - loss: 18.1188 - mae: 18.1188WARNING:tensorflow:Early stopping conditioned on metric `val_mae` which is not available. Available metrics are: loss,mae\n"
     ]
    },
    {
     "name": "stderr",
     "output_type": "stream",
     "text": [
      "WARNING:tensorflow:Early stopping conditioned on metric `val_mae` which is not available. Available metrics are: loss,mae\n"
     ]
    },
    {
     "name": "stdout",
     "output_type": "stream",
     "text": [
      "27/27 [==============================] - 0s 3ms/step - loss: 17.2599 - mae: 17.2599\n",
      "Epoch 35/2000\n",
      "19/27 [====================>.........] - ETA: 0s - loss: 18.1554 - mae: 18.1554WARNING:tensorflow:Early stopping conditioned on metric `val_mae` which is not available. Available metrics are: loss,mae\n"
     ]
    },
    {
     "name": "stderr",
     "output_type": "stream",
     "text": [
      "WARNING:tensorflow:Early stopping conditioned on metric `val_mae` which is not available. Available metrics are: loss,mae\n"
     ]
    },
    {
     "name": "stdout",
     "output_type": "stream",
     "text": [
      "27/27 [==============================] - 0s 3ms/step - loss: 17.4180 - mae: 17.4180\n",
      "Epoch 36/2000\n",
      "20/27 [=====================>........] - ETA: 0s - loss: 18.4122 - mae: 18.4122WARNING:tensorflow:Early stopping conditioned on metric `val_mae` which is not available. Available metrics are: loss,mae\n"
     ]
    },
    {
     "name": "stderr",
     "output_type": "stream",
     "text": [
      "WARNING:tensorflow:Early stopping conditioned on metric `val_mae` which is not available. Available metrics are: loss,mae\n"
     ]
    },
    {
     "name": "stdout",
     "output_type": "stream",
     "text": [
      "27/27 [==============================] - 0s 3ms/step - loss: 18.1658 - mae: 18.1658\n",
      "Epoch 37/2000\n",
      "19/27 [====================>.........] - ETA: 0s - loss: 19.2852 - mae: 19.2852WARNING:tensorflow:Early stopping conditioned on metric `val_mae` which is not available. Available metrics are: loss,mae\n"
     ]
    },
    {
     "name": "stderr",
     "output_type": "stream",
     "text": [
      "WARNING:tensorflow:Early stopping conditioned on metric `val_mae` which is not available. Available metrics are: loss,mae\n"
     ]
    },
    {
     "name": "stdout",
     "output_type": "stream",
     "text": [
      "27/27 [==============================] - 0s 3ms/step - loss: 19.4055 - mae: 19.4055\n",
      "Epoch 38/2000\n",
      "20/27 [=====================>........] - ETA: 0s - loss: 15.8005 - mae: 15.8005WARNING:tensorflow:Early stopping conditioned on metric `val_mae` which is not available. Available metrics are: loss,mae\n"
     ]
    },
    {
     "name": "stderr",
     "output_type": "stream",
     "text": [
      "WARNING:tensorflow:Early stopping conditioned on metric `val_mae` which is not available. Available metrics are: loss,mae\n"
     ]
    },
    {
     "name": "stdout",
     "output_type": "stream",
     "text": [
      "27/27 [==============================] - 0s 3ms/step - loss: 16.2017 - mae: 16.2017\n",
      "Epoch 39/2000\n",
      "20/27 [=====================>........] - ETA: 0s - loss: 17.9960 - mae: 17.9960WARNING:tensorflow:Early stopping conditioned on metric `val_mae` which is not available. Available metrics are: loss,mae\n"
     ]
    },
    {
     "name": "stderr",
     "output_type": "stream",
     "text": [
      "WARNING:tensorflow:Early stopping conditioned on metric `val_mae` which is not available. Available metrics are: loss,mae\n"
     ]
    },
    {
     "name": "stdout",
     "output_type": "stream",
     "text": [
      "27/27 [==============================] - 0s 3ms/step - loss: 16.8562 - mae: 16.8562\n",
      "Epoch 40/2000\n",
      "20/27 [=====================>........] - ETA: 0s - loss: 15.3443 - mae: 15.3443WARNING:tensorflow:Early stopping conditioned on metric `val_mae` which is not available. Available metrics are: loss,mae\n"
     ]
    },
    {
     "name": "stderr",
     "output_type": "stream",
     "text": [
      "WARNING:tensorflow:Early stopping conditioned on metric `val_mae` which is not available. Available metrics are: loss,mae\n"
     ]
    },
    {
     "name": "stdout",
     "output_type": "stream",
     "text": [
      "27/27 [==============================] - 0s 3ms/step - loss: 15.0697 - mae: 15.0697\n",
      "Epoch 41/2000\n",
      "19/27 [====================>.........] - ETA: 0s - loss: 17.5888 - mae: 17.5888WARNING:tensorflow:Early stopping conditioned on metric `val_mae` which is not available. Available metrics are: loss,mae\n"
     ]
    },
    {
     "name": "stderr",
     "output_type": "stream",
     "text": [
      "WARNING:tensorflow:Early stopping conditioned on metric `val_mae` which is not available. Available metrics are: loss,mae\n"
     ]
    },
    {
     "name": "stdout",
     "output_type": "stream",
     "text": [
      "27/27 [==============================] - 0s 3ms/step - loss: 16.7883 - mae: 16.7883\n",
      "Epoch 42/2000\n",
      "18/27 [===================>..........] - ETA: 0s - loss: 19.8280 - mae: 19.8280WARNING:tensorflow:Early stopping conditioned on metric `val_mae` which is not available. Available metrics are: loss,mae\n"
     ]
    },
    {
     "name": "stderr",
     "output_type": "stream",
     "text": [
      "WARNING:tensorflow:Early stopping conditioned on metric `val_mae` which is not available. Available metrics are: loss,mae\n"
     ]
    },
    {
     "name": "stdout",
     "output_type": "stream",
     "text": [
      "27/27 [==============================] - 0s 3ms/step - loss: 19.8126 - mae: 19.8126\n",
      "Epoch 43/2000\n",
      "18/27 [===================>..........] - ETA: 0s - loss: 15.1143 - mae: 15.1143WARNING:tensorflow:Early stopping conditioned on metric `val_mae` which is not available. Available metrics are: loss,mae\n"
     ]
    },
    {
     "name": "stderr",
     "output_type": "stream",
     "text": [
      "WARNING:tensorflow:Early stopping conditioned on metric `val_mae` which is not available. Available metrics are: loss,mae\n"
     ]
    },
    {
     "name": "stdout",
     "output_type": "stream",
     "text": [
      "27/27 [==============================] - 0s 3ms/step - loss: 15.0322 - mae: 15.0322\n",
      "Epoch 44/2000\n",
      "19/27 [====================>.........] - ETA: 0s - loss: 21.1224 - mae: 21.1224WARNING:tensorflow:Early stopping conditioned on metric `val_mae` which is not available. Available metrics are: loss,mae\n"
     ]
    },
    {
     "name": "stderr",
     "output_type": "stream",
     "text": [
      "WARNING:tensorflow:Early stopping conditioned on metric `val_mae` which is not available. Available metrics are: loss,mae\n"
     ]
    },
    {
     "name": "stdout",
     "output_type": "stream",
     "text": [
      "27/27 [==============================] - 0s 3ms/step - loss: 20.3918 - mae: 20.3918\n",
      "Epoch 45/2000\n",
      "20/27 [=====================>........] - ETA: 0s - loss: 20.1779 - mae: 20.1779WARNING:tensorflow:Early stopping conditioned on metric `val_mae` which is not available. Available metrics are: loss,mae\n"
     ]
    },
    {
     "name": "stderr",
     "output_type": "stream",
     "text": [
      "WARNING:tensorflow:Early stopping conditioned on metric `val_mae` which is not available. Available metrics are: loss,mae\n"
     ]
    },
    {
     "name": "stdout",
     "output_type": "stream",
     "text": [
      "27/27 [==============================] - 0s 3ms/step - loss: 21.6354 - mae: 21.6354\n",
      "Epoch 46/2000\n",
      "20/27 [=====================>........] - ETA: 0s - loss: 24.3707 - mae: 24.3707WARNING:tensorflow:Early stopping conditioned on metric `val_mae` which is not available. Available metrics are: loss,mae\n"
     ]
    },
    {
     "name": "stderr",
     "output_type": "stream",
     "text": [
      "WARNING:tensorflow:Early stopping conditioned on metric `val_mae` which is not available. Available metrics are: loss,mae\n"
     ]
    },
    {
     "name": "stdout",
     "output_type": "stream",
     "text": [
      "27/27 [==============================] - 0s 3ms/step - loss: 23.6717 - mae: 23.6717\n",
      "Epoch 47/2000\n",
      "20/27 [=====================>........] - ETA: 0s - loss: 23.2248 - mae: 23.2248WARNING:tensorflow:Early stopping conditioned on metric `val_mae` which is not available. Available metrics are: loss,mae\n"
     ]
    },
    {
     "name": "stderr",
     "output_type": "stream",
     "text": [
      "WARNING:tensorflow:Early stopping conditioned on metric `val_mae` which is not available. Available metrics are: loss,mae\n"
     ]
    },
    {
     "name": "stdout",
     "output_type": "stream",
     "text": [
      "27/27 [==============================] - 0s 3ms/step - loss: 22.1562 - mae: 22.1562\n",
      "Epoch 48/2000\n",
      "18/27 [===================>..........] - ETA: 0s - loss: 16.1506 - mae: 16.1506WARNING:tensorflow:Early stopping conditioned on metric `val_mae` which is not available. Available metrics are: loss,mae\n"
     ]
    },
    {
     "name": "stderr",
     "output_type": "stream",
     "text": [
      "WARNING:tensorflow:Early stopping conditioned on metric `val_mae` which is not available. Available metrics are: loss,mae\n"
     ]
    },
    {
     "name": "stdout",
     "output_type": "stream",
     "text": [
      "27/27 [==============================] - 0s 3ms/step - loss: 15.8372 - mae: 15.8372\n",
      "Epoch 49/2000\n",
      "18/27 [===================>..........] - ETA: 0s - loss: 21.0131 - mae: 21.0131WARNING:tensorflow:Early stopping conditioned on metric `val_mae` which is not available. Available metrics are: loss,mae\n"
     ]
    },
    {
     "name": "stderr",
     "output_type": "stream",
     "text": [
      "WARNING:tensorflow:Early stopping conditioned on metric `val_mae` which is not available. Available metrics are: loss,mae\n"
     ]
    },
    {
     "name": "stdout",
     "output_type": "stream",
     "text": [
      "27/27 [==============================] - 0s 3ms/step - loss: 18.9547 - mae: 18.9547\n",
      "Epoch 50/2000\n",
      "19/27 [====================>.........] - ETA: 0s - loss: 18.1764 - mae: 18.1764WARNING:tensorflow:Early stopping conditioned on metric `val_mae` which is not available. Available metrics are: loss,mae\n"
     ]
    },
    {
     "name": "stderr",
     "output_type": "stream",
     "text": [
      "WARNING:tensorflow:Early stopping conditioned on metric `val_mae` which is not available. Available metrics are: loss,mae\n"
     ]
    },
    {
     "name": "stdout",
     "output_type": "stream",
     "text": [
      "27/27 [==============================] - 0s 3ms/step - loss: 18.1479 - mae: 18.1479\n",
      "Epoch 51/2000\n",
      "19/27 [====================>.........] - ETA: 0s - loss: 17.0481 - mae: 17.0481WARNING:tensorflow:Early stopping conditioned on metric `val_mae` which is not available. Available metrics are: loss,mae\n"
     ]
    },
    {
     "name": "stderr",
     "output_type": "stream",
     "text": [
      "WARNING:tensorflow:Early stopping conditioned on metric `val_mae` which is not available. Available metrics are: loss,mae\n"
     ]
    },
    {
     "name": "stdout",
     "output_type": "stream",
     "text": [
      "27/27 [==============================] - 0s 3ms/step - loss: 16.1426 - mae: 16.1426\n",
      "Epoch 52/2000\n",
      "20/27 [=====================>........] - ETA: 0s - loss: 17.0446 - mae: 17.0446WARNING:tensorflow:Early stopping conditioned on metric `val_mae` which is not available. Available metrics are: loss,mae\n"
     ]
    },
    {
     "name": "stderr",
     "output_type": "stream",
     "text": [
      "WARNING:tensorflow:Early stopping conditioned on metric `val_mae` which is not available. Available metrics are: loss,mae\n"
     ]
    },
    {
     "name": "stdout",
     "output_type": "stream",
     "text": [
      "27/27 [==============================] - 0s 3ms/step - loss: 16.0056 - mae: 16.0056\n",
      "Epoch 53/2000\n",
      "20/27 [=====================>........] - ETA: 0s - loss: 15.6208 - mae: 15.6208WARNING:tensorflow:Early stopping conditioned on metric `val_mae` which is not available. Available metrics are: loss,mae\n"
     ]
    },
    {
     "name": "stderr",
     "output_type": "stream",
     "text": [
      "WARNING:tensorflow:Early stopping conditioned on metric `val_mae` which is not available. Available metrics are: loss,mae\n"
     ]
    },
    {
     "name": "stdout",
     "output_type": "stream",
     "text": [
      "27/27 [==============================] - 0s 3ms/step - loss: 14.8852 - mae: 14.8852\n",
      "Epoch 54/2000\n",
      "19/27 [====================>.........] - ETA: 0s - loss: 13.8763 - mae: 13.8763WARNING:tensorflow:Early stopping conditioned on metric `val_mae` which is not available. Available metrics are: loss,mae\n"
     ]
    },
    {
     "name": "stderr",
     "output_type": "stream",
     "text": [
      "WARNING:tensorflow:Early stopping conditioned on metric `val_mae` which is not available. Available metrics are: loss,mae\n"
     ]
    },
    {
     "name": "stdout",
     "output_type": "stream",
     "text": [
      "27/27 [==============================] - 0s 3ms/step - loss: 13.7903 - mae: 13.7903\n",
      "Epoch 55/2000\n",
      "19/27 [====================>.........] - ETA: 0s - loss: 13.7618 - mae: 13.7618WARNING:tensorflow:Early stopping conditioned on metric `val_mae` which is not available. Available metrics are: loss,mae\n"
     ]
    },
    {
     "name": "stderr",
     "output_type": "stream",
     "text": [
      "WARNING:tensorflow:Early stopping conditioned on metric `val_mae` which is not available. Available metrics are: loss,mae\n"
     ]
    },
    {
     "name": "stdout",
     "output_type": "stream",
     "text": [
      "27/27 [==============================] - 0s 3ms/step - loss: 14.3479 - mae: 14.3479\n",
      "Epoch 56/2000\n",
      "20/27 [=====================>........] - ETA: 0s - loss: 16.0848 - mae: 16.0848WARNING:tensorflow:Early stopping conditioned on metric `val_mae` which is not available. Available metrics are: loss,mae\n"
     ]
    },
    {
     "name": "stderr",
     "output_type": "stream",
     "text": [
      "WARNING:tensorflow:Early stopping conditioned on metric `val_mae` which is not available. Available metrics are: loss,mae\n"
     ]
    },
    {
     "name": "stdout",
     "output_type": "stream",
     "text": [
      "27/27 [==============================] - 0s 3ms/step - loss: 15.0646 - mae: 15.0646\n",
      "Epoch 57/2000\n",
      "20/27 [=====================>........] - ETA: 0s - loss: 17.9422 - mae: 17.9422WARNING:tensorflow:Early stopping conditioned on metric `val_mae` which is not available. Available metrics are: loss,mae\n"
     ]
    },
    {
     "name": "stderr",
     "output_type": "stream",
     "text": [
      "WARNING:tensorflow:Early stopping conditioned on metric `val_mae` which is not available. Available metrics are: loss,mae\n"
     ]
    },
    {
     "name": "stdout",
     "output_type": "stream",
     "text": [
      "27/27 [==============================] - 0s 3ms/step - loss: 16.9350 - mae: 16.9350\n",
      "Epoch 58/2000\n",
      "20/27 [=====================>........] - ETA: 0s - loss: 13.6780 - mae: 13.6780WARNING:tensorflow:Early stopping conditioned on metric `val_mae` which is not available. Available metrics are: loss,mae\n"
     ]
    },
    {
     "name": "stderr",
     "output_type": "stream",
     "text": [
      "WARNING:tensorflow:Early stopping conditioned on metric `val_mae` which is not available. Available metrics are: loss,mae\n"
     ]
    },
    {
     "name": "stdout",
     "output_type": "stream",
     "text": [
      "27/27 [==============================] - 0s 3ms/step - loss: 13.5320 - mae: 13.5320\n",
      "Epoch 59/2000\n",
      "20/27 [=====================>........] - ETA: 0s - loss: 16.0353 - mae: 16.0353WARNING:tensorflow:Early stopping conditioned on metric `val_mae` which is not available. Available metrics are: loss,mae\n"
     ]
    },
    {
     "name": "stderr",
     "output_type": "stream",
     "text": [
      "WARNING:tensorflow:Early stopping conditioned on metric `val_mae` which is not available. Available metrics are: loss,mae\n"
     ]
    },
    {
     "name": "stdout",
     "output_type": "stream",
     "text": [
      "27/27 [==============================] - 0s 3ms/step - loss: 15.9923 - mae: 15.9923\n",
      "Epoch 60/2000\n",
      "20/27 [=====================>........] - ETA: 0s - loss: 14.8784 - mae: 14.8784WARNING:tensorflow:Early stopping conditioned on metric `val_mae` which is not available. Available metrics are: loss,mae\n"
     ]
    },
    {
     "name": "stderr",
     "output_type": "stream",
     "text": [
      "WARNING:tensorflow:Early stopping conditioned on metric `val_mae` which is not available. Available metrics are: loss,mae\n"
     ]
    },
    {
     "name": "stdout",
     "output_type": "stream",
     "text": [
      "27/27 [==============================] - 0s 3ms/step - loss: 14.4471 - mae: 14.4471\n",
      "Epoch 61/2000\n",
      "19/27 [====================>.........] - ETA: 0s - loss: 15.4029 - mae: 15.4029WARNING:tensorflow:Early stopping conditioned on metric `val_mae` which is not available. Available metrics are: loss,mae\n"
     ]
    },
    {
     "name": "stderr",
     "output_type": "stream",
     "text": [
      "WARNING:tensorflow:Early stopping conditioned on metric `val_mae` which is not available. Available metrics are: loss,mae\n"
     ]
    },
    {
     "name": "stdout",
     "output_type": "stream",
     "text": [
      "27/27 [==============================] - 0s 3ms/step - loss: 15.6045 - mae: 15.6045\n",
      "Epoch 62/2000\n",
      "19/27 [====================>.........] - ETA: 0s - loss: 13.0308 - mae: 13.0308WARNING:tensorflow:Early stopping conditioned on metric `val_mae` which is not available. Available metrics are: loss,mae\n"
     ]
    },
    {
     "name": "stderr",
     "output_type": "stream",
     "text": [
      "WARNING:tensorflow:Early stopping conditioned on metric `val_mae` which is not available. Available metrics are: loss,mae\n"
     ]
    },
    {
     "name": "stdout",
     "output_type": "stream",
     "text": [
      "27/27 [==============================] - 0s 3ms/step - loss: 13.2874 - mae: 13.2874\n",
      "Epoch 63/2000\n",
      "19/27 [====================>.........] - ETA: 0s - loss: 15.2318 - mae: 15.2318WARNING:tensorflow:Early stopping conditioned on metric `val_mae` which is not available. Available metrics are: loss,mae\n"
     ]
    },
    {
     "name": "stderr",
     "output_type": "stream",
     "text": [
      "WARNING:tensorflow:Early stopping conditioned on metric `val_mae` which is not available. Available metrics are: loss,mae\n"
     ]
    },
    {
     "name": "stdout",
     "output_type": "stream",
     "text": [
      "27/27 [==============================] - 0s 3ms/step - loss: 15.0064 - mae: 15.0064\n",
      "Epoch 64/2000\n",
      "20/27 [=====================>........] - ETA: 0s - loss: 16.1967 - mae: 16.1967WARNING:tensorflow:Early stopping conditioned on metric `val_mae` which is not available. Available metrics are: loss,mae\n"
     ]
    },
    {
     "name": "stderr",
     "output_type": "stream",
     "text": [
      "WARNING:tensorflow:Early stopping conditioned on metric `val_mae` which is not available. Available metrics are: loss,mae\n"
     ]
    },
    {
     "name": "stdout",
     "output_type": "stream",
     "text": [
      "27/27 [==============================] - 0s 3ms/step - loss: 16.6329 - mae: 16.6329\n",
      "Epoch 65/2000\n",
      "20/27 [=====================>........] - ETA: 0s - loss: 16.0099 - mae: 16.0099WARNING:tensorflow:Early stopping conditioned on metric `val_mae` which is not available. Available metrics are: loss,mae\n"
     ]
    },
    {
     "name": "stderr",
     "output_type": "stream",
     "text": [
      "WARNING:tensorflow:Early stopping conditioned on metric `val_mae` which is not available. Available metrics are: loss,mae\n"
     ]
    },
    {
     "name": "stdout",
     "output_type": "stream",
     "text": [
      "27/27 [==============================] - 0s 3ms/step - loss: 15.5303 - mae: 15.5303\n",
      "Epoch 66/2000\n",
      "20/27 [=====================>........] - ETA: 0s - loss: 14.1675 - mae: 14.1675WARNING:tensorflow:Early stopping conditioned on metric `val_mae` which is not available. Available metrics are: loss,mae\n"
     ]
    },
    {
     "name": "stderr",
     "output_type": "stream",
     "text": [
      "WARNING:tensorflow:Early stopping conditioned on metric `val_mae` which is not available. Available metrics are: loss,mae\n"
     ]
    },
    {
     "name": "stdout",
     "output_type": "stream",
     "text": [
      "27/27 [==============================] - 0s 3ms/step - loss: 14.5040 - mae: 14.5040\n",
      "Epoch 67/2000\n",
      "20/27 [=====================>........] - ETA: 0s - loss: 13.5600 - mae: 13.5600WARNING:tensorflow:Early stopping conditioned on metric `val_mae` which is not available. Available metrics are: loss,mae\n"
     ]
    },
    {
     "name": "stderr",
     "output_type": "stream",
     "text": [
      "WARNING:tensorflow:Early stopping conditioned on metric `val_mae` which is not available. Available metrics are: loss,mae\n"
     ]
    },
    {
     "name": "stdout",
     "output_type": "stream",
     "text": [
      "27/27 [==============================] - 0s 3ms/step - loss: 14.5961 - mae: 14.5961\n",
      "Epoch 68/2000\n",
      "20/27 [=====================>........] - ETA: 0s - loss: 14.1668 - mae: 14.1668WARNING:tensorflow:Early stopping conditioned on metric `val_mae` which is not available. Available metrics are: loss,mae\n"
     ]
    },
    {
     "name": "stderr",
     "output_type": "stream",
     "text": [
      "WARNING:tensorflow:Early stopping conditioned on metric `val_mae` which is not available. Available metrics are: loss,mae\n"
     ]
    },
    {
     "name": "stdout",
     "output_type": "stream",
     "text": [
      "27/27 [==============================] - 0s 3ms/step - loss: 14.1280 - mae: 14.1280\n",
      "Epoch 69/2000\n",
      "18/27 [===================>..........] - ETA: 0s - loss: 16.3760 - mae: 16.3760WARNING:tensorflow:Early stopping conditioned on metric `val_mae` which is not available. Available metrics are: loss,mae\n"
     ]
    },
    {
     "name": "stderr",
     "output_type": "stream",
     "text": [
      "WARNING:tensorflow:Early stopping conditioned on metric `val_mae` which is not available. Available metrics are: loss,mae\n"
     ]
    },
    {
     "name": "stdout",
     "output_type": "stream",
     "text": [
      "27/27 [==============================] - 0s 3ms/step - loss: 16.7162 - mae: 16.7162\n",
      "Epoch 70/2000\n",
      "19/27 [====================>.........] - ETA: 0s - loss: 25.3019 - mae: 25.3019WARNING:tensorflow:Early stopping conditioned on metric `val_mae` which is not available. Available metrics are: loss,mae\n"
     ]
    },
    {
     "name": "stderr",
     "output_type": "stream",
     "text": [
      "WARNING:tensorflow:Early stopping conditioned on metric `val_mae` which is not available. Available metrics are: loss,mae\n"
     ]
    },
    {
     "name": "stdout",
     "output_type": "stream",
     "text": [
      "27/27 [==============================] - 0s 3ms/step - loss: 23.7147 - mae: 23.7147\n",
      "Epoch 71/2000\n",
      "20/27 [=====================>........] - ETA: 0s - loss: 16.1230 - mae: 16.1230WARNING:tensorflow:Early stopping conditioned on metric `val_mae` which is not available. Available metrics are: loss,mae\n"
     ]
    },
    {
     "name": "stderr",
     "output_type": "stream",
     "text": [
      "WARNING:tensorflow:Early stopping conditioned on metric `val_mae` which is not available. Available metrics are: loss,mae\n"
     ]
    },
    {
     "name": "stdout",
     "output_type": "stream",
     "text": [
      "27/27 [==============================] - 0s 3ms/step - loss: 16.6501 - mae: 16.6501\n",
      "Epoch 72/2000\n",
      "17/27 [=================>............] - ETA: 0s - loss: 15.1806 - mae: 15.1806WARNING:tensorflow:Early stopping conditioned on metric `val_mae` which is not available. Available metrics are: loss,mae\n"
     ]
    },
    {
     "name": "stderr",
     "output_type": "stream",
     "text": [
      "WARNING:tensorflow:Early stopping conditioned on metric `val_mae` which is not available. Available metrics are: loss,mae\n"
     ]
    },
    {
     "name": "stdout",
     "output_type": "stream",
     "text": [
      "27/27 [==============================] - 0s 3ms/step - loss: 14.7798 - mae: 14.7798\n",
      "Epoch 73/2000\n",
      "20/27 [=====================>........] - ETA: 0s - loss: 15.9808 - mae: 15.9808WARNING:tensorflow:Early stopping conditioned on metric `val_mae` which is not available. Available metrics are: loss,mae\n"
     ]
    },
    {
     "name": "stderr",
     "output_type": "stream",
     "text": [
      "WARNING:tensorflow:Early stopping conditioned on metric `val_mae` which is not available. Available metrics are: loss,mae\n"
     ]
    },
    {
     "name": "stdout",
     "output_type": "stream",
     "text": [
      "27/27 [==============================] - 0s 3ms/step - loss: 16.7524 - mae: 16.7524\n",
      "Epoch 74/2000\n",
      "20/27 [=====================>........] - ETA: 0s - loss: 22.6948 - mae: 22.6948WARNING:tensorflow:Early stopping conditioned on metric `val_mae` which is not available. Available metrics are: loss,mae\n"
     ]
    },
    {
     "name": "stderr",
     "output_type": "stream",
     "text": [
      "WARNING:tensorflow:Early stopping conditioned on metric `val_mae` which is not available. Available metrics are: loss,mae\n"
     ]
    },
    {
     "name": "stdout",
     "output_type": "stream",
     "text": [
      "27/27 [==============================] - 0s 3ms/step - loss: 20.4924 - mae: 20.4924\n",
      "Epoch 75/2000\n",
      "20/27 [=====================>........] - ETA: 0s - loss: 14.4060 - mae: 14.4060WARNING:tensorflow:Early stopping conditioned on metric `val_mae` which is not available. Available metrics are: loss,mae\n"
     ]
    },
    {
     "name": "stderr",
     "output_type": "stream",
     "text": [
      "WARNING:tensorflow:Early stopping conditioned on metric `val_mae` which is not available. Available metrics are: loss,mae\n"
     ]
    },
    {
     "name": "stdout",
     "output_type": "stream",
     "text": [
      "27/27 [==============================] - 0s 3ms/step - loss: 15.6843 - mae: 15.6843\n",
      "Epoch 76/2000\n",
      "20/27 [=====================>........] - ETA: 0s - loss: 15.9502 - mae: 15.9502WARNING:tensorflow:Early stopping conditioned on metric `val_mae` which is not available. Available metrics are: loss,mae\n"
     ]
    },
    {
     "name": "stderr",
     "output_type": "stream",
     "text": [
      "WARNING:tensorflow:Early stopping conditioned on metric `val_mae` which is not available. Available metrics are: loss,mae\n"
     ]
    },
    {
     "name": "stdout",
     "output_type": "stream",
     "text": [
      "27/27 [==============================] - 0s 3ms/step - loss: 15.7197 - mae: 15.7197\n",
      "Epoch 77/2000\n",
      "20/27 [=====================>........] - ETA: 0s - loss: 15.1376 - mae: 15.1376WARNING:tensorflow:Early stopping conditioned on metric `val_mae` which is not available. Available metrics are: loss,mae\n"
     ]
    },
    {
     "name": "stderr",
     "output_type": "stream",
     "text": [
      "WARNING:tensorflow:Early stopping conditioned on metric `val_mae` which is not available. Available metrics are: loss,mae\n"
     ]
    },
    {
     "name": "stdout",
     "output_type": "stream",
     "text": [
      "27/27 [==============================] - 0s 3ms/step - loss: 15.9116 - mae: 15.9116\n",
      "Epoch 78/2000\n",
      "20/27 [=====================>........] - ETA: 0s - loss: 16.7488 - mae: 16.7488WARNING:tensorflow:Early stopping conditioned on metric `val_mae` which is not available. Available metrics are: loss,mae\n"
     ]
    },
    {
     "name": "stderr",
     "output_type": "stream",
     "text": [
      "WARNING:tensorflow:Early stopping conditioned on metric `val_mae` which is not available. Available metrics are: loss,mae\n"
     ]
    },
    {
     "name": "stdout",
     "output_type": "stream",
     "text": [
      "27/27 [==============================] - 0s 3ms/step - loss: 16.6787 - mae: 16.6787\n",
      "Epoch 79/2000\n",
      "19/27 [====================>.........] - ETA: 0s - loss: 19.1539 - mae: 19.1539WARNING:tensorflow:Early stopping conditioned on metric `val_mae` which is not available. Available metrics are: loss,mae\n"
     ]
    },
    {
     "name": "stderr",
     "output_type": "stream",
     "text": [
      "WARNING:tensorflow:Early stopping conditioned on metric `val_mae` which is not available. Available metrics are: loss,mae\n"
     ]
    },
    {
     "name": "stdout",
     "output_type": "stream",
     "text": [
      "27/27 [==============================] - 0s 3ms/step - loss: 18.9204 - mae: 18.9204\n",
      "Epoch 80/2000\n",
      "19/27 [====================>.........] - ETA: 0s - loss: 14.3155 - mae: 14.3155WARNING:tensorflow:Early stopping conditioned on metric `val_mae` which is not available. Available metrics are: loss,mae\n"
     ]
    },
    {
     "name": "stderr",
     "output_type": "stream",
     "text": [
      "WARNING:tensorflow:Early stopping conditioned on metric `val_mae` which is not available. Available metrics are: loss,mae\n"
     ]
    },
    {
     "name": "stdout",
     "output_type": "stream",
     "text": [
      "27/27 [==============================] - 0s 3ms/step - loss: 14.5736 - mae: 14.5736\n",
      "Epoch 81/2000\n",
      "20/27 [=====================>........] - ETA: 0s - loss: 13.0924 - mae: 13.0924WARNING:tensorflow:Early stopping conditioned on metric `val_mae` which is not available. Available metrics are: loss,mae\n"
     ]
    },
    {
     "name": "stderr",
     "output_type": "stream",
     "text": [
      "WARNING:tensorflow:Early stopping conditioned on metric `val_mae` which is not available. Available metrics are: loss,mae\n"
     ]
    },
    {
     "name": "stdout",
     "output_type": "stream",
     "text": [
      "27/27 [==============================] - 0s 3ms/step - loss: 13.1872 - mae: 13.1872\n",
      "Epoch 82/2000\n",
      "20/27 [=====================>........] - ETA: 0s - loss: 20.4588 - mae: 20.4588WARNING:tensorflow:Early stopping conditioned on metric `val_mae` which is not available. Available metrics are: loss,mae\n"
     ]
    },
    {
     "name": "stderr",
     "output_type": "stream",
     "text": [
      "WARNING:tensorflow:Early stopping conditioned on metric `val_mae` which is not available. Available metrics are: loss,mae\n"
     ]
    },
    {
     "name": "stdout",
     "output_type": "stream",
     "text": [
      "27/27 [==============================] - 0s 3ms/step - loss: 23.3583 - mae: 23.3583\n",
      "Epoch 83/2000\n",
      "19/27 [====================>.........] - ETA: 0s - loss: 20.7846 - mae: 20.7846WARNING:tensorflow:Early stopping conditioned on metric `val_mae` which is not available. Available metrics are: loss,mae\n"
     ]
    },
    {
     "name": "stderr",
     "output_type": "stream",
     "text": [
      "WARNING:tensorflow:Early stopping conditioned on metric `val_mae` which is not available. Available metrics are: loss,mae\n"
     ]
    },
    {
     "name": "stdout",
     "output_type": "stream",
     "text": [
      "27/27 [==============================] - 0s 3ms/step - loss: 20.2142 - mae: 20.2142\n",
      "Epoch 84/2000\n",
      "20/27 [=====================>........] - ETA: 0s - loss: 18.7799 - mae: 18.7799WARNING:tensorflow:Early stopping conditioned on metric `val_mae` which is not available. Available metrics are: loss,mae\n"
     ]
    },
    {
     "name": "stderr",
     "output_type": "stream",
     "text": [
      "WARNING:tensorflow:Early stopping conditioned on metric `val_mae` which is not available. Available metrics are: loss,mae\n"
     ]
    },
    {
     "name": "stdout",
     "output_type": "stream",
     "text": [
      "27/27 [==============================] - 0s 3ms/step - loss: 19.6672 - mae: 19.6672\n",
      "Epoch 85/2000\n",
      "20/27 [=====================>........] - ETA: 0s - loss: 14.3330 - mae: 14.3330WARNING:tensorflow:Early stopping conditioned on metric `val_mae` which is not available. Available metrics are: loss,mae\n"
     ]
    },
    {
     "name": "stderr",
     "output_type": "stream",
     "text": [
      "WARNING:tensorflow:Early stopping conditioned on metric `val_mae` which is not available. Available metrics are: loss,mae\n"
     ]
    },
    {
     "name": "stdout",
     "output_type": "stream",
     "text": [
      "27/27 [==============================] - 0s 3ms/step - loss: 15.3755 - mae: 15.3755\n",
      "Epoch 86/2000\n",
      "20/27 [=====================>........] - ETA: 0s - loss: 20.5186 - mae: 20.5186WARNING:tensorflow:Early stopping conditioned on metric `val_mae` which is not available. Available metrics are: loss,mae\n"
     ]
    },
    {
     "name": "stderr",
     "output_type": "stream",
     "text": [
      "WARNING:tensorflow:Early stopping conditioned on metric `val_mae` which is not available. Available metrics are: loss,mae\n"
     ]
    },
    {
     "name": "stdout",
     "output_type": "stream",
     "text": [
      "27/27 [==============================] - 0s 3ms/step - loss: 20.1792 - mae: 20.1792\n",
      "Epoch 87/2000\n",
      "20/27 [=====================>........] - ETA: 0s - loss: 14.4709 - mae: 14.4709WARNING:tensorflow:Early stopping conditioned on metric `val_mae` which is not available. Available metrics are: loss,mae\n"
     ]
    },
    {
     "name": "stderr",
     "output_type": "stream",
     "text": [
      "WARNING:tensorflow:Early stopping conditioned on metric `val_mae` which is not available. Available metrics are: loss,mae\n"
     ]
    },
    {
     "name": "stdout",
     "output_type": "stream",
     "text": [
      "27/27 [==============================] - 0s 3ms/step - loss: 14.4056 - mae: 14.4056\n",
      "Epoch 88/2000\n",
      "20/27 [=====================>........] - ETA: 0s - loss: 15.8665 - mae: 15.8665WARNING:tensorflow:Early stopping conditioned on metric `val_mae` which is not available. Available metrics are: loss,mae\n"
     ]
    },
    {
     "name": "stderr",
     "output_type": "stream",
     "text": [
      "WARNING:tensorflow:Early stopping conditioned on metric `val_mae` which is not available. Available metrics are: loss,mae\n"
     ]
    },
    {
     "name": "stdout",
     "output_type": "stream",
     "text": [
      "27/27 [==============================] - 0s 3ms/step - loss: 15.8595 - mae: 15.8595\n",
      "Epoch 89/2000\n",
      "19/27 [====================>.........] - ETA: 0s - loss: 16.5993 - mae: 16.5993WARNING:tensorflow:Early stopping conditioned on metric `val_mae` which is not available. Available metrics are: loss,mae\n"
     ]
    },
    {
     "name": "stderr",
     "output_type": "stream",
     "text": [
      "WARNING:tensorflow:Early stopping conditioned on metric `val_mae` which is not available. Available metrics are: loss,mae\n"
     ]
    },
    {
     "name": "stdout",
     "output_type": "stream",
     "text": [
      "27/27 [==============================] - 0s 3ms/step - loss: 17.3595 - mae: 17.3595\n",
      "Epoch 90/2000\n",
      "20/27 [=====================>........] - ETA: 0s - loss: 16.6292 - mae: 16.6292WARNING:tensorflow:Early stopping conditioned on metric `val_mae` which is not available. Available metrics are: loss,mae\n"
     ]
    },
    {
     "name": "stderr",
     "output_type": "stream",
     "text": [
      "WARNING:tensorflow:Early stopping conditioned on metric `val_mae` which is not available. Available metrics are: loss,mae\n"
     ]
    },
    {
     "name": "stdout",
     "output_type": "stream",
     "text": [
      "27/27 [==============================] - 0s 3ms/step - loss: 16.0315 - mae: 16.0315\n",
      "Epoch 91/2000\n",
      "20/27 [=====================>........] - ETA: 0s - loss: 13.2274 - mae: 13.2274WARNING:tensorflow:Early stopping conditioned on metric `val_mae` which is not available. Available metrics are: loss,mae\n"
     ]
    },
    {
     "name": "stderr",
     "output_type": "stream",
     "text": [
      "WARNING:tensorflow:Early stopping conditioned on metric `val_mae` which is not available. Available metrics are: loss,mae\n"
     ]
    },
    {
     "name": "stdout",
     "output_type": "stream",
     "text": [
      "27/27 [==============================] - 0s 3ms/step - loss: 12.8956 - mae: 12.8956\n",
      "Epoch 92/2000\n",
      "20/27 [=====================>........] - ETA: 0s - loss: 13.5900 - mae: 13.5900WARNING:tensorflow:Early stopping conditioned on metric `val_mae` which is not available. Available metrics are: loss,mae\n"
     ]
    },
    {
     "name": "stderr",
     "output_type": "stream",
     "text": [
      "WARNING:tensorflow:Early stopping conditioned on metric `val_mae` which is not available. Available metrics are: loss,mae\n"
     ]
    },
    {
     "name": "stdout",
     "output_type": "stream",
     "text": [
      "27/27 [==============================] - 0s 3ms/step - loss: 13.7283 - mae: 13.7283\n",
      "Epoch 93/2000\n",
      "20/27 [=====================>........] - ETA: 0s - loss: 13.0735 - mae: 13.0735WARNING:tensorflow:Early stopping conditioned on metric `val_mae` which is not available. Available metrics are: loss,mae\n"
     ]
    },
    {
     "name": "stderr",
     "output_type": "stream",
     "text": [
      "WARNING:tensorflow:Early stopping conditioned on metric `val_mae` which is not available. Available metrics are: loss,mae\n"
     ]
    },
    {
     "name": "stdout",
     "output_type": "stream",
     "text": [
      "27/27 [==============================] - 0s 3ms/step - loss: 12.9204 - mae: 12.9204\n",
      "Epoch 94/2000\n",
      "20/27 [=====================>........] - ETA: 0s - loss: 13.2339 - mae: 13.2339WARNING:tensorflow:Early stopping conditioned on metric `val_mae` which is not available. Available metrics are: loss,mae\n"
     ]
    },
    {
     "name": "stderr",
     "output_type": "stream",
     "text": [
      "WARNING:tensorflow:Early stopping conditioned on metric `val_mae` which is not available. Available metrics are: loss,mae\n"
     ]
    },
    {
     "name": "stdout",
     "output_type": "stream",
     "text": [
      "27/27 [==============================] - 0s 3ms/step - loss: 13.3685 - mae: 13.3685\n",
      "Epoch 95/2000\n",
      "20/27 [=====================>........] - ETA: 0s - loss: 12.7115 - mae: 12.7115WARNING:tensorflow:Early stopping conditioned on metric `val_mae` which is not available. Available metrics are: loss,mae\n"
     ]
    },
    {
     "name": "stderr",
     "output_type": "stream",
     "text": [
      "WARNING:tensorflow:Early stopping conditioned on metric `val_mae` which is not available. Available metrics are: loss,mae\n"
     ]
    },
    {
     "name": "stdout",
     "output_type": "stream",
     "text": [
      "27/27 [==============================] - 0s 3ms/step - loss: 13.2823 - mae: 13.2823\n",
      "Epoch 96/2000\n",
      "20/27 [=====================>........] - ETA: 0s - loss: 14.0356 - mae: 14.0356WARNING:tensorflow:Early stopping conditioned on metric `val_mae` which is not available. Available metrics are: loss,mae\n"
     ]
    },
    {
     "name": "stderr",
     "output_type": "stream",
     "text": [
      "WARNING:tensorflow:Early stopping conditioned on metric `val_mae` which is not available. Available metrics are: loss,mae\n"
     ]
    },
    {
     "name": "stdout",
     "output_type": "stream",
     "text": [
      "27/27 [==============================] - 0s 3ms/step - loss: 13.2850 - mae: 13.2850\n",
      "Epoch 97/2000\n",
      "20/27 [=====================>........] - ETA: 0s - loss: 12.3117 - mae: 12.3117WARNING:tensorflow:Early stopping conditioned on metric `val_mae` which is not available. Available metrics are: loss,mae\n"
     ]
    },
    {
     "name": "stderr",
     "output_type": "stream",
     "text": [
      "WARNING:tensorflow:Early stopping conditioned on metric `val_mae` which is not available. Available metrics are: loss,mae\n"
     ]
    },
    {
     "name": "stdout",
     "output_type": "stream",
     "text": [
      "27/27 [==============================] - 0s 3ms/step - loss: 12.3147 - mae: 12.3147\n",
      "Epoch 98/2000\n",
      "20/27 [=====================>........] - ETA: 0s - loss: 14.4915 - mae: 14.4915WARNING:tensorflow:Early stopping conditioned on metric `val_mae` which is not available. Available metrics are: loss,mae\n"
     ]
    },
    {
     "name": "stderr",
     "output_type": "stream",
     "text": [
      "WARNING:tensorflow:Early stopping conditioned on metric `val_mae` which is not available. Available metrics are: loss,mae\n"
     ]
    },
    {
     "name": "stdout",
     "output_type": "stream",
     "text": [
      "27/27 [==============================] - 0s 3ms/step - loss: 14.6211 - mae: 14.6211\n",
      "Epoch 99/2000\n",
      "20/27 [=====================>........] - ETA: 0s - loss: 14.4822 - mae: 14.4822WARNING:tensorflow:Early stopping conditioned on metric `val_mae` which is not available. Available metrics are: loss,mae\n"
     ]
    },
    {
     "name": "stderr",
     "output_type": "stream",
     "text": [
      "WARNING:tensorflow:Early stopping conditioned on metric `val_mae` which is not available. Available metrics are: loss,mae\n"
     ]
    },
    {
     "name": "stdout",
     "output_type": "stream",
     "text": [
      "27/27 [==============================] - 0s 3ms/step - loss: 15.1584 - mae: 15.1584\n",
      "Epoch 100/2000\n",
      "20/27 [=====================>........] - ETA: 0s - loss: 14.2629 - mae: 14.2629WARNING:tensorflow:Early stopping conditioned on metric `val_mae` which is not available. Available metrics are: loss,mae\n"
     ]
    },
    {
     "name": "stderr",
     "output_type": "stream",
     "text": [
      "WARNING:tensorflow:Early stopping conditioned on metric `val_mae` which is not available. Available metrics are: loss,mae\n"
     ]
    },
    {
     "name": "stdout",
     "output_type": "stream",
     "text": [
      "27/27 [==============================] - 0s 3ms/step - loss: 14.0978 - mae: 14.0978\n",
      "Epoch 101/2000\n",
      "19/27 [====================>.........] - ETA: 0s - loss: 19.6392 - mae: 19.6392WARNING:tensorflow:Early stopping conditioned on metric `val_mae` which is not available. Available metrics are: loss,mae\n"
     ]
    },
    {
     "name": "stderr",
     "output_type": "stream",
     "text": [
      "WARNING:tensorflow:Early stopping conditioned on metric `val_mae` which is not available. Available metrics are: loss,mae\n"
     ]
    },
    {
     "name": "stdout",
     "output_type": "stream",
     "text": [
      "27/27 [==============================] - 0s 3ms/step - loss: 18.8962 - mae: 18.8962\n",
      "Epoch 102/2000\n",
      "19/27 [====================>.........] - ETA: 0s - loss: 15.5109 - mae: 15.5109WARNING:tensorflow:Early stopping conditioned on metric `val_mae` which is not available. Available metrics are: loss,mae\n"
     ]
    },
    {
     "name": "stderr",
     "output_type": "stream",
     "text": [
      "WARNING:tensorflow:Early stopping conditioned on metric `val_mae` which is not available. Available metrics are: loss,mae\n"
     ]
    },
    {
     "name": "stdout",
     "output_type": "stream",
     "text": [
      "27/27 [==============================] - 0s 3ms/step - loss: 15.8697 - mae: 15.8697\n",
      "Epoch 103/2000\n",
      "19/27 [====================>.........] - ETA: 0s - loss: 17.9706 - mae: 17.9706WARNING:tensorflow:Early stopping conditioned on metric `val_mae` which is not available. Available metrics are: loss,mae\n"
     ]
    },
    {
     "name": "stderr",
     "output_type": "stream",
     "text": [
      "WARNING:tensorflow:Early stopping conditioned on metric `val_mae` which is not available. Available metrics are: loss,mae\n"
     ]
    },
    {
     "name": "stdout",
     "output_type": "stream",
     "text": [
      "27/27 [==============================] - 0s 3ms/step - loss: 17.8955 - mae: 17.8955\n",
      "Epoch 104/2000\n",
      "20/27 [=====================>........] - ETA: 0s - loss: 15.6709 - mae: 15.6709WARNING:tensorflow:Early stopping conditioned on metric `val_mae` which is not available. Available metrics are: loss,mae\n"
     ]
    },
    {
     "name": "stderr",
     "output_type": "stream",
     "text": [
      "WARNING:tensorflow:Early stopping conditioned on metric `val_mae` which is not available. Available metrics are: loss,mae\n"
     ]
    },
    {
     "name": "stdout",
     "output_type": "stream",
     "text": [
      "27/27 [==============================] - 0s 3ms/step - loss: 15.8792 - mae: 15.8792\n",
      "Epoch 105/2000\n",
      "20/27 [=====================>........] - ETA: 0s - loss: 13.9787 - mae: 13.9787WARNING:tensorflow:Early stopping conditioned on metric `val_mae` which is not available. Available metrics are: loss,mae\n"
     ]
    },
    {
     "name": "stderr",
     "output_type": "stream",
     "text": [
      "WARNING:tensorflow:Early stopping conditioned on metric `val_mae` which is not available. Available metrics are: loss,mae\n"
     ]
    },
    {
     "name": "stdout",
     "output_type": "stream",
     "text": [
      "27/27 [==============================] - 0s 3ms/step - loss: 13.6478 - mae: 13.6478\n",
      "Epoch 106/2000\n",
      "20/27 [=====================>........] - ETA: 0s - loss: 13.4662 - mae: 13.4662WARNING:tensorflow:Early stopping conditioned on metric `val_mae` which is not available. Available metrics are: loss,mae\n"
     ]
    },
    {
     "name": "stderr",
     "output_type": "stream",
     "text": [
      "WARNING:tensorflow:Early stopping conditioned on metric `val_mae` which is not available. Available metrics are: loss,mae\n"
     ]
    },
    {
     "name": "stdout",
     "output_type": "stream",
     "text": [
      "27/27 [==============================] - 0s 3ms/step - loss: 13.0775 - mae: 13.0775\n",
      "Epoch 107/2000\n",
      "20/27 [=====================>........] - ETA: 0s - loss: 12.8572 - mae: 12.8572WARNING:tensorflow:Early stopping conditioned on metric `val_mae` which is not available. Available metrics are: loss,mae\n"
     ]
    },
    {
     "name": "stderr",
     "output_type": "stream",
     "text": [
      "WARNING:tensorflow:Early stopping conditioned on metric `val_mae` which is not available. Available metrics are: loss,mae\n"
     ]
    },
    {
     "name": "stdout",
     "output_type": "stream",
     "text": [
      "27/27 [==============================] - 0s 3ms/step - loss: 12.7726 - mae: 12.7726\n",
      "Epoch 108/2000\n",
      "20/27 [=====================>........] - ETA: 0s - loss: 11.5559 - mae: 11.5559WARNING:tensorflow:Early stopping conditioned on metric `val_mae` which is not available. Available metrics are: loss,mae\n"
     ]
    },
    {
     "name": "stderr",
     "output_type": "stream",
     "text": [
      "WARNING:tensorflow:Early stopping conditioned on metric `val_mae` which is not available. Available metrics are: loss,mae\n"
     ]
    },
    {
     "name": "stdout",
     "output_type": "stream",
     "text": [
      "27/27 [==============================] - 0s 3ms/step - loss: 12.3086 - mae: 12.3086\n",
      "Epoch 109/2000\n",
      "20/27 [=====================>........] - ETA: 0s - loss: 13.6769 - mae: 13.6769WARNING:tensorflow:Early stopping conditioned on metric `val_mae` which is not available. Available metrics are: loss,mae\n"
     ]
    },
    {
     "name": "stderr",
     "output_type": "stream",
     "text": [
      "WARNING:tensorflow:Early stopping conditioned on metric `val_mae` which is not available. Available metrics are: loss,mae\n"
     ]
    },
    {
     "name": "stdout",
     "output_type": "stream",
     "text": [
      "27/27 [==============================] - 0s 3ms/step - loss: 13.9103 - mae: 13.9103\n",
      "Epoch 110/2000\n",
      "19/27 [====================>.........] - ETA: 0s - loss: 14.9611 - mae: 14.9611WARNING:tensorflow:Early stopping conditioned on metric `val_mae` which is not available. Available metrics are: loss,mae\n"
     ]
    },
    {
     "name": "stderr",
     "output_type": "stream",
     "text": [
      "WARNING:tensorflow:Early stopping conditioned on metric `val_mae` which is not available. Available metrics are: loss,mae\n"
     ]
    },
    {
     "name": "stdout",
     "output_type": "stream",
     "text": [
      "27/27 [==============================] - 0s 3ms/step - loss: 14.4541 - mae: 14.4541\n",
      "Epoch 111/2000\n",
      "20/27 [=====================>........] - ETA: 0s - loss: 15.7796 - mae: 15.7796WARNING:tensorflow:Early stopping conditioned on metric `val_mae` which is not available. Available metrics are: loss,mae\n"
     ]
    },
    {
     "name": "stderr",
     "output_type": "stream",
     "text": [
      "WARNING:tensorflow:Early stopping conditioned on metric `val_mae` which is not available. Available metrics are: loss,mae\n"
     ]
    },
    {
     "name": "stdout",
     "output_type": "stream",
     "text": [
      "27/27 [==============================] - 0s 3ms/step - loss: 15.8166 - mae: 15.8166\n",
      "Epoch 112/2000\n",
      "20/27 [=====================>........] - ETA: 0s - loss: 14.2775 - mae: 14.2775WARNING:tensorflow:Early stopping conditioned on metric `val_mae` which is not available. Available metrics are: loss,mae\n"
     ]
    },
    {
     "name": "stderr",
     "output_type": "stream",
     "text": [
      "WARNING:tensorflow:Early stopping conditioned on metric `val_mae` which is not available. Available metrics are: loss,mae\n"
     ]
    },
    {
     "name": "stdout",
     "output_type": "stream",
     "text": [
      "27/27 [==============================] - 0s 3ms/step - loss: 14.2687 - mae: 14.2687\n",
      "Epoch 113/2000\n",
      "20/27 [=====================>........] - ETA: 0s - loss: 14.4065 - mae: 14.4065WARNING:tensorflow:Early stopping conditioned on metric `val_mae` which is not available. Available metrics are: loss,mae\n"
     ]
    },
    {
     "name": "stderr",
     "output_type": "stream",
     "text": [
      "WARNING:tensorflow:Early stopping conditioned on metric `val_mae` which is not available. Available metrics are: loss,mae\n"
     ]
    },
    {
     "name": "stdout",
     "output_type": "stream",
     "text": [
      "27/27 [==============================] - 0s 3ms/step - loss: 14.3225 - mae: 14.3225\n",
      "Epoch 114/2000\n",
      "19/27 [====================>.........] - ETA: 0s - loss: 13.9965 - mae: 13.9965WARNING:tensorflow:Early stopping conditioned on metric `val_mae` which is not available. Available metrics are: loss,mae\n"
     ]
    },
    {
     "name": "stderr",
     "output_type": "stream",
     "text": [
      "WARNING:tensorflow:Early stopping conditioned on metric `val_mae` which is not available. Available metrics are: loss,mae\n"
     ]
    },
    {
     "name": "stdout",
     "output_type": "stream",
     "text": [
      "27/27 [==============================] - 0s 3ms/step - loss: 15.7221 - mae: 15.7221\n",
      "Epoch 115/2000\n",
      "20/27 [=====================>........] - ETA: 0s - loss: 16.4383 - mae: 16.4383WARNING:tensorflow:Early stopping conditioned on metric `val_mae` which is not available. Available metrics are: loss,mae\n"
     ]
    },
    {
     "name": "stderr",
     "output_type": "stream",
     "text": [
      "WARNING:tensorflow:Early stopping conditioned on metric `val_mae` which is not available. Available metrics are: loss,mae\n"
     ]
    },
    {
     "name": "stdout",
     "output_type": "stream",
     "text": [
      "27/27 [==============================] - 0s 3ms/step - loss: 15.3343 - mae: 15.3343\n",
      "Epoch 116/2000\n",
      "19/27 [====================>.........] - ETA: 0s - loss: 13.7028 - mae: 13.7028WARNING:tensorflow:Early stopping conditioned on metric `val_mae` which is not available. Available metrics are: loss,mae\n"
     ]
    },
    {
     "name": "stderr",
     "output_type": "stream",
     "text": [
      "WARNING:tensorflow:Early stopping conditioned on metric `val_mae` which is not available. Available metrics are: loss,mae\n"
     ]
    },
    {
     "name": "stdout",
     "output_type": "stream",
     "text": [
      "27/27 [==============================] - 0s 3ms/step - loss: 14.4600 - mae: 14.4600\n",
      "Epoch 117/2000\n",
      "20/27 [=====================>........] - ETA: 0s - loss: 16.0336 - mae: 16.0336WARNING:tensorflow:Early stopping conditioned on metric `val_mae` which is not available. Available metrics are: loss,mae\n"
     ]
    },
    {
     "name": "stderr",
     "output_type": "stream",
     "text": [
      "WARNING:tensorflow:Early stopping conditioned on metric `val_mae` which is not available. Available metrics are: loss,mae\n"
     ]
    },
    {
     "name": "stdout",
     "output_type": "stream",
     "text": [
      "27/27 [==============================] - 0s 3ms/step - loss: 16.0397 - mae: 16.0397\n",
      "Epoch 118/2000\n",
      "19/27 [====================>.........] - ETA: 0s - loss: 15.9173 - mae: 15.9173WARNING:tensorflow:Early stopping conditioned on metric `val_mae` which is not available. Available metrics are: loss,mae\n"
     ]
    },
    {
     "name": "stderr",
     "output_type": "stream",
     "text": [
      "WARNING:tensorflow:Early stopping conditioned on metric `val_mae` which is not available. Available metrics are: loss,mae\n"
     ]
    },
    {
     "name": "stdout",
     "output_type": "stream",
     "text": [
      "27/27 [==============================] - 0s 3ms/step - loss: 14.9067 - mae: 14.9067\n",
      "Epoch 119/2000\n",
      "20/27 [=====================>........] - ETA: 0s - loss: 12.2415 - mae: 12.2415WARNING:tensorflow:Early stopping conditioned on metric `val_mae` which is not available. Available metrics are: loss,mae\n"
     ]
    },
    {
     "name": "stderr",
     "output_type": "stream",
     "text": [
      "WARNING:tensorflow:Early stopping conditioned on metric `val_mae` which is not available. Available metrics are: loss,mae\n"
     ]
    },
    {
     "name": "stdout",
     "output_type": "stream",
     "text": [
      "27/27 [==============================] - 0s 3ms/step - loss: 14.0666 - mae: 14.0666\n",
      "Epoch 120/2000\n",
      "20/27 [=====================>........] - ETA: 0s - loss: 23.7770 - mae: 23.7770WARNING:tensorflow:Early stopping conditioned on metric `val_mae` which is not available. Available metrics are: loss,mae\n"
     ]
    },
    {
     "name": "stderr",
     "output_type": "stream",
     "text": [
      "WARNING:tensorflow:Early stopping conditioned on metric `val_mae` which is not available. Available metrics are: loss,mae\n"
     ]
    },
    {
     "name": "stdout",
     "output_type": "stream",
     "text": [
      "27/27 [==============================] - 0s 3ms/step - loss: 21.9387 - mae: 21.9387\n",
      "Epoch 121/2000\n",
      "20/27 [=====================>........] - ETA: 0s - loss: 13.2023 - mae: 13.2023WARNING:tensorflow:Early stopping conditioned on metric `val_mae` which is not available. Available metrics are: loss,mae\n"
     ]
    },
    {
     "name": "stderr",
     "output_type": "stream",
     "text": [
      "WARNING:tensorflow:Early stopping conditioned on metric `val_mae` which is not available. Available metrics are: loss,mae\n"
     ]
    },
    {
     "name": "stdout",
     "output_type": "stream",
     "text": [
      "27/27 [==============================] - 0s 3ms/step - loss: 13.3797 - mae: 13.3797\n",
      "Epoch 122/2000\n",
      "20/27 [=====================>........] - ETA: 0s - loss: 13.9762 - mae: 13.9762WARNING:tensorflow:Early stopping conditioned on metric `val_mae` which is not available. Available metrics are: loss,mae\n"
     ]
    },
    {
     "name": "stderr",
     "output_type": "stream",
     "text": [
      "WARNING:tensorflow:Early stopping conditioned on metric `val_mae` which is not available. Available metrics are: loss,mae\n"
     ]
    },
    {
     "name": "stdout",
     "output_type": "stream",
     "text": [
      "27/27 [==============================] - 0s 3ms/step - loss: 13.4761 - mae: 13.4761\n",
      "Epoch 123/2000\n",
      "20/27 [=====================>........] - ETA: 0s - loss: 13.6641 - mae: 13.6641WARNING:tensorflow:Early stopping conditioned on metric `val_mae` which is not available. Available metrics are: loss,mae\n"
     ]
    },
    {
     "name": "stderr",
     "output_type": "stream",
     "text": [
      "WARNING:tensorflow:Early stopping conditioned on metric `val_mae` which is not available. Available metrics are: loss,mae\n"
     ]
    },
    {
     "name": "stdout",
     "output_type": "stream",
     "text": [
      "27/27 [==============================] - 0s 3ms/step - loss: 13.3327 - mae: 13.3327\n",
      "Epoch 124/2000\n",
      "19/27 [====================>.........] - ETA: 0s - loss: 14.0368 - mae: 14.0368WARNING:tensorflow:Early stopping conditioned on metric `val_mae` which is not available. Available metrics are: loss,mae\n"
     ]
    },
    {
     "name": "stderr",
     "output_type": "stream",
     "text": [
      "WARNING:tensorflow:Early stopping conditioned on metric `val_mae` which is not available. Available metrics are: loss,mae\n"
     ]
    },
    {
     "name": "stdout",
     "output_type": "stream",
     "text": [
      "27/27 [==============================] - 0s 3ms/step - loss: 13.5714 - mae: 13.5714\n",
      "Epoch 125/2000\n",
      "20/27 [=====================>........] - ETA: 0s - loss: 14.2319 - mae: 14.2319WARNING:tensorflow:Early stopping conditioned on metric `val_mae` which is not available. Available metrics are: loss,mae\n"
     ]
    },
    {
     "name": "stderr",
     "output_type": "stream",
     "text": [
      "WARNING:tensorflow:Early stopping conditioned on metric `val_mae` which is not available. Available metrics are: loss,mae\n"
     ]
    },
    {
     "name": "stdout",
     "output_type": "stream",
     "text": [
      "27/27 [==============================] - 0s 3ms/step - loss: 14.9029 - mae: 14.9029\n",
      "Epoch 126/2000\n",
      "19/27 [====================>.........] - ETA: 0s - loss: 19.0242 - mae: 19.0242WARNING:tensorflow:Early stopping conditioned on metric `val_mae` which is not available. Available metrics are: loss,mae\n"
     ]
    },
    {
     "name": "stderr",
     "output_type": "stream",
     "text": [
      "WARNING:tensorflow:Early stopping conditioned on metric `val_mae` which is not available. Available metrics are: loss,mae\n"
     ]
    },
    {
     "name": "stdout",
     "output_type": "stream",
     "text": [
      "27/27 [==============================] - 0s 3ms/step - loss: 18.6727 - mae: 18.6727\n",
      "Epoch 127/2000\n",
      "19/27 [====================>.........] - ETA: 0s - loss: 12.7945 - mae: 12.7945WARNING:tensorflow:Early stopping conditioned on metric `val_mae` which is not available. Available metrics are: loss,mae\n"
     ]
    },
    {
     "name": "stderr",
     "output_type": "stream",
     "text": [
      "WARNING:tensorflow:Early stopping conditioned on metric `val_mae` which is not available. Available metrics are: loss,mae\n"
     ]
    },
    {
     "name": "stdout",
     "output_type": "stream",
     "text": [
      "27/27 [==============================] - 0s 3ms/step - loss: 13.9649 - mae: 13.9649\n",
      "Epoch 128/2000\n",
      "19/27 [====================>.........] - ETA: 0s - loss: 13.8197 - mae: 13.8197WARNING:tensorflow:Early stopping conditioned on metric `val_mae` which is not available. Available metrics are: loss,mae\n"
     ]
    },
    {
     "name": "stderr",
     "output_type": "stream",
     "text": [
      "WARNING:tensorflow:Early stopping conditioned on metric `val_mae` which is not available. Available metrics are: loss,mae\n"
     ]
    },
    {
     "name": "stdout",
     "output_type": "stream",
     "text": [
      "27/27 [==============================] - 0s 3ms/step - loss: 13.7547 - mae: 13.7547\n",
      "Epoch 129/2000\n",
      "20/27 [=====================>........] - ETA: 0s - loss: 14.8340 - mae: 14.8340WARNING:tensorflow:Early stopping conditioned on metric `val_mae` which is not available. Available metrics are: loss,mae\n"
     ]
    },
    {
     "name": "stderr",
     "output_type": "stream",
     "text": [
      "WARNING:tensorflow:Early stopping conditioned on metric `val_mae` which is not available. Available metrics are: loss,mae\n"
     ]
    },
    {
     "name": "stdout",
     "output_type": "stream",
     "text": [
      "27/27 [==============================] - 0s 3ms/step - loss: 14.6075 - mae: 14.6075\n",
      "Epoch 130/2000\n",
      "19/27 [====================>.........] - ETA: 0s - loss: 13.1033 - mae: 13.1033WARNING:tensorflow:Early stopping conditioned on metric `val_mae` which is not available. Available metrics are: loss,mae\n"
     ]
    },
    {
     "name": "stderr",
     "output_type": "stream",
     "text": [
      "WARNING:tensorflow:Early stopping conditioned on metric `val_mae` which is not available. Available metrics are: loss,mae\n"
     ]
    },
    {
     "name": "stdout",
     "output_type": "stream",
     "text": [
      "27/27 [==============================] - 0s 3ms/step - loss: 13.4232 - mae: 13.4232\n",
      "Epoch 131/2000\n",
      "20/27 [=====================>........] - ETA: 0s - loss: 18.3741 - mae: 18.3741WARNING:tensorflow:Early stopping conditioned on metric `val_mae` which is not available. Available metrics are: loss,mae\n"
     ]
    },
    {
     "name": "stderr",
     "output_type": "stream",
     "text": [
      "WARNING:tensorflow:Early stopping conditioned on metric `val_mae` which is not available. Available metrics are: loss,mae\n"
     ]
    },
    {
     "name": "stdout",
     "output_type": "stream",
     "text": [
      "27/27 [==============================] - 0s 3ms/step - loss: 19.8365 - mae: 19.8365\n",
      "Epoch 132/2000\n",
      "19/27 [====================>.........] - ETA: 0s - loss: 21.0107 - mae: 21.0107WARNING:tensorflow:Early stopping conditioned on metric `val_mae` which is not available. Available metrics are: loss,mae\n"
     ]
    },
    {
     "name": "stderr",
     "output_type": "stream",
     "text": [
      "WARNING:tensorflow:Early stopping conditioned on metric `val_mae` which is not available. Available metrics are: loss,mae\n"
     ]
    },
    {
     "name": "stdout",
     "output_type": "stream",
     "text": [
      "27/27 [==============================] - 0s 3ms/step - loss: 18.9958 - mae: 18.9958\n",
      "Epoch 133/2000\n",
      "20/27 [=====================>........] - ETA: 0s - loss: 12.8393 - mae: 12.8393WARNING:tensorflow:Early stopping conditioned on metric `val_mae` which is not available. Available metrics are: loss,mae\n"
     ]
    },
    {
     "name": "stderr",
     "output_type": "stream",
     "text": [
      "WARNING:tensorflow:Early stopping conditioned on metric `val_mae` which is not available. Available metrics are: loss,mae\n"
     ]
    },
    {
     "name": "stdout",
     "output_type": "stream",
     "text": [
      "27/27 [==============================] - 0s 3ms/step - loss: 14.8401 - mae: 14.8401\n",
      "Epoch 134/2000\n",
      "20/27 [=====================>........] - ETA: 0s - loss: 16.2214 - mae: 16.2214WARNING:tensorflow:Early stopping conditioned on metric `val_mae` which is not available. Available metrics are: loss,mae\n"
     ]
    },
    {
     "name": "stderr",
     "output_type": "stream",
     "text": [
      "WARNING:tensorflow:Early stopping conditioned on metric `val_mae` which is not available. Available metrics are: loss,mae\n"
     ]
    },
    {
     "name": "stdout",
     "output_type": "stream",
     "text": [
      "27/27 [==============================] - 0s 3ms/step - loss: 14.9582 - mae: 14.9582\n",
      "Epoch 135/2000\n",
      "19/27 [====================>.........] - ETA: 0s - loss: 11.5083 - mae: 11.5083WARNING:tensorflow:Early stopping conditioned on metric `val_mae` which is not available. Available metrics are: loss,mae\n"
     ]
    },
    {
     "name": "stderr",
     "output_type": "stream",
     "text": [
      "WARNING:tensorflow:Early stopping conditioned on metric `val_mae` which is not available. Available metrics are: loss,mae\n"
     ]
    },
    {
     "name": "stdout",
     "output_type": "stream",
     "text": [
      "27/27 [==============================] - 0s 3ms/step - loss: 11.5419 - mae: 11.5419\n",
      "Epoch 136/2000\n",
      "19/27 [====================>.........] - ETA: 0s - loss: 12.8597 - mae: 12.8597WARNING:tensorflow:Early stopping conditioned on metric `val_mae` which is not available. Available metrics are: loss,mae\n"
     ]
    },
    {
     "name": "stderr",
     "output_type": "stream",
     "text": [
      "WARNING:tensorflow:Early stopping conditioned on metric `val_mae` which is not available. Available metrics are: loss,mae\n"
     ]
    },
    {
     "name": "stdout",
     "output_type": "stream",
     "text": [
      "27/27 [==============================] - 0s 3ms/step - loss: 12.4214 - mae: 12.4214\n",
      "Epoch 137/2000\n",
      "18/27 [===================>..........] - ETA: 0s - loss: 11.9618 - mae: 11.9618WARNING:tensorflow:Early stopping conditioned on metric `val_mae` which is not available. Available metrics are: loss,mae\n"
     ]
    },
    {
     "name": "stderr",
     "output_type": "stream",
     "text": [
      "WARNING:tensorflow:Early stopping conditioned on metric `val_mae` which is not available. Available metrics are: loss,mae\n"
     ]
    },
    {
     "name": "stdout",
     "output_type": "stream",
     "text": [
      "27/27 [==============================] - 0s 3ms/step - loss: 11.9242 - mae: 11.9242\n",
      "Epoch 138/2000\n",
      "18/27 [===================>..........] - ETA: 0s - loss: 14.6231 - mae: 14.6231WARNING:tensorflow:Early stopping conditioned on metric `val_mae` which is not available. Available metrics are: loss,mae\n"
     ]
    },
    {
     "name": "stderr",
     "output_type": "stream",
     "text": [
      "WARNING:tensorflow:Early stopping conditioned on metric `val_mae` which is not available. Available metrics are: loss,mae\n"
     ]
    },
    {
     "name": "stdout",
     "output_type": "stream",
     "text": [
      "27/27 [==============================] - 0s 3ms/step - loss: 13.8400 - mae: 13.8400\n",
      "Epoch 139/2000\n",
      "16/27 [================>.............] - ETA: 0s - loss: 14.7352 - mae: 14.7352WARNING:tensorflow:Early stopping conditioned on metric `val_mae` which is not available. Available metrics are: loss,mae\n"
     ]
    },
    {
     "name": "stderr",
     "output_type": "stream",
     "text": [
      "WARNING:tensorflow:Early stopping conditioned on metric `val_mae` which is not available. Available metrics are: loss,mae\n"
     ]
    },
    {
     "name": "stdout",
     "output_type": "stream",
     "text": [
      "27/27 [==============================] - 0s 3ms/step - loss: 14.6680 - mae: 14.6680\n",
      "Epoch 140/2000\n",
      "19/27 [====================>.........] - ETA: 0s - loss: 13.9628 - mae: 13.9628WARNING:tensorflow:Early stopping conditioned on metric `val_mae` which is not available. Available metrics are: loss,mae\n"
     ]
    },
    {
     "name": "stderr",
     "output_type": "stream",
     "text": [
      "WARNING:tensorflow:Early stopping conditioned on metric `val_mae` which is not available. Available metrics are: loss,mae\n"
     ]
    },
    {
     "name": "stdout",
     "output_type": "stream",
     "text": [
      "27/27 [==============================] - 0s 3ms/step - loss: 13.2714 - mae: 13.2714\n",
      "Epoch 141/2000\n",
      "20/27 [=====================>........] - ETA: 0s - loss: 14.8246 - mae: 14.8246WARNING:tensorflow:Early stopping conditioned on metric `val_mae` which is not available. Available metrics are: loss,mae\n"
     ]
    },
    {
     "name": "stderr",
     "output_type": "stream",
     "text": [
      "WARNING:tensorflow:Early stopping conditioned on metric `val_mae` which is not available. Available metrics are: loss,mae\n"
     ]
    },
    {
     "name": "stdout",
     "output_type": "stream",
     "text": [
      "27/27 [==============================] - 0s 3ms/step - loss: 13.8888 - mae: 13.8888\n",
      "Epoch 142/2000\n",
      "20/27 [=====================>........] - ETA: 0s - loss: 12.2845 - mae: 12.2845WARNING:tensorflow:Early stopping conditioned on metric `val_mae` which is not available. Available metrics are: loss,mae\n"
     ]
    },
    {
     "name": "stderr",
     "output_type": "stream",
     "text": [
      "WARNING:tensorflow:Early stopping conditioned on metric `val_mae` which is not available. Available metrics are: loss,mae\n"
     ]
    },
    {
     "name": "stdout",
     "output_type": "stream",
     "text": [
      "27/27 [==============================] - 0s 3ms/step - loss: 11.9852 - mae: 11.9852\n",
      "Epoch 143/2000\n",
      "20/27 [=====================>........] - ETA: 0s - loss: 12.2361 - mae: 12.2361WARNING:tensorflow:Early stopping conditioned on metric `val_mae` which is not available. Available metrics are: loss,mae\n"
     ]
    },
    {
     "name": "stderr",
     "output_type": "stream",
     "text": [
      "WARNING:tensorflow:Early stopping conditioned on metric `val_mae` which is not available. Available metrics are: loss,mae\n"
     ]
    },
    {
     "name": "stdout",
     "output_type": "stream",
     "text": [
      "27/27 [==============================] - 0s 3ms/step - loss: 12.8704 - mae: 12.8704\n",
      "Epoch 144/2000\n",
      "19/27 [====================>.........] - ETA: 0s - loss: 13.6370 - mae: 13.6370WARNING:tensorflow:Early stopping conditioned on metric `val_mae` which is not available. Available metrics are: loss,mae\n"
     ]
    },
    {
     "name": "stderr",
     "output_type": "stream",
     "text": [
      "WARNING:tensorflow:Early stopping conditioned on metric `val_mae` which is not available. Available metrics are: loss,mae\n"
     ]
    },
    {
     "name": "stdout",
     "output_type": "stream",
     "text": [
      "27/27 [==============================] - 0s 3ms/step - loss: 13.2975 - mae: 13.2975\n",
      "Epoch 145/2000\n",
      "19/27 [====================>.........] - ETA: 0s - loss: 10.3202 - mae: 10.3202WARNING:tensorflow:Early stopping conditioned on metric `val_mae` which is not available. Available metrics are: loss,mae\n"
     ]
    },
    {
     "name": "stderr",
     "output_type": "stream",
     "text": [
      "WARNING:tensorflow:Early stopping conditioned on metric `val_mae` which is not available. Available metrics are: loss,mae\n"
     ]
    },
    {
     "name": "stdout",
     "output_type": "stream",
     "text": [
      "27/27 [==============================] - 0s 3ms/step - loss: 10.5271 - mae: 10.5271\n",
      "Epoch 146/2000\n",
      "19/27 [====================>.........] - ETA: 0s - loss: 12.0648 - mae: 12.0648WARNING:tensorflow:Early stopping conditioned on metric `val_mae` which is not available. Available metrics are: loss,mae\n"
     ]
    },
    {
     "name": "stderr",
     "output_type": "stream",
     "text": [
      "WARNING:tensorflow:Early stopping conditioned on metric `val_mae` which is not available. Available metrics are: loss,mae\n"
     ]
    },
    {
     "name": "stdout",
     "output_type": "stream",
     "text": [
      "27/27 [==============================] - 0s 3ms/step - loss: 11.7584 - mae: 11.7584\n",
      "Epoch 147/2000\n",
      "18/27 [===================>..........] - ETA: 0s - loss: 12.3117 - mae: 12.3117WARNING:tensorflow:Early stopping conditioned on metric `val_mae` which is not available. Available metrics are: loss,mae\n"
     ]
    },
    {
     "name": "stderr",
     "output_type": "stream",
     "text": [
      "WARNING:tensorflow:Early stopping conditioned on metric `val_mae` which is not available. Available metrics are: loss,mae\n"
     ]
    },
    {
     "name": "stdout",
     "output_type": "stream",
     "text": [
      "27/27 [==============================] - 0s 3ms/step - loss: 14.2605 - mae: 14.2605\n",
      "Epoch 148/2000\n",
      "19/27 [====================>.........] - ETA: 0s - loss: 15.9998 - mae: 15.9998WARNING:tensorflow:Early stopping conditioned on metric `val_mae` which is not available. Available metrics are: loss,mae\n"
     ]
    },
    {
     "name": "stderr",
     "output_type": "stream",
     "text": [
      "WARNING:tensorflow:Early stopping conditioned on metric `val_mae` which is not available. Available metrics are: loss,mae\n"
     ]
    },
    {
     "name": "stdout",
     "output_type": "stream",
     "text": [
      "27/27 [==============================] - 0s 3ms/step - loss: 15.4987 - mae: 15.4987\n",
      "Epoch 149/2000\n",
      "20/27 [=====================>........] - ETA: 0s - loss: 12.5310 - mae: 12.5310WARNING:tensorflow:Early stopping conditioned on metric `val_mae` which is not available. Available metrics are: loss,mae\n"
     ]
    },
    {
     "name": "stderr",
     "output_type": "stream",
     "text": [
      "WARNING:tensorflow:Early stopping conditioned on metric `val_mae` which is not available. Available metrics are: loss,mae\n"
     ]
    },
    {
     "name": "stdout",
     "output_type": "stream",
     "text": [
      "27/27 [==============================] - 0s 3ms/step - loss: 13.2082 - mae: 13.2082\n",
      "Epoch 150/2000\n",
      "20/27 [=====================>........] - ETA: 0s - loss: 15.7248 - mae: 15.7248WARNING:tensorflow:Early stopping conditioned on metric `val_mae` which is not available. Available metrics are: loss,mae\n"
     ]
    },
    {
     "name": "stderr",
     "output_type": "stream",
     "text": [
      "WARNING:tensorflow:Early stopping conditioned on metric `val_mae` which is not available. Available metrics are: loss,mae\n"
     ]
    },
    {
     "name": "stdout",
     "output_type": "stream",
     "text": [
      "27/27 [==============================] - 0s 3ms/step - loss: 14.5875 - mae: 14.5875\n",
      "Epoch 151/2000\n",
      "20/27 [=====================>........] - ETA: 0s - loss: 11.7212 - mae: 11.7212WARNING:tensorflow:Early stopping conditioned on metric `val_mae` which is not available. Available metrics are: loss,mae\n"
     ]
    },
    {
     "name": "stderr",
     "output_type": "stream",
     "text": [
      "WARNING:tensorflow:Early stopping conditioned on metric `val_mae` which is not available. Available metrics are: loss,mae\n"
     ]
    },
    {
     "name": "stdout",
     "output_type": "stream",
     "text": [
      "27/27 [==============================] - 0s 3ms/step - loss: 12.7049 - mae: 12.7049\n",
      "Epoch 152/2000\n",
      "20/27 [=====================>........] - ETA: 0s - loss: 17.6755 - mae: 17.6755WARNING:tensorflow:Early stopping conditioned on metric `val_mae` which is not available. Available metrics are: loss,mae\n"
     ]
    },
    {
     "name": "stderr",
     "output_type": "stream",
     "text": [
      "WARNING:tensorflow:Early stopping conditioned on metric `val_mae` which is not available. Available metrics are: loss,mae\n"
     ]
    },
    {
     "name": "stdout",
     "output_type": "stream",
     "text": [
      "27/27 [==============================] - 0s 3ms/step - loss: 18.8535 - mae: 18.8535\n",
      "Epoch 153/2000\n",
      "20/27 [=====================>........] - ETA: 0s - loss: 16.3321 - mae: 16.3321WARNING:tensorflow:Early stopping conditioned on metric `val_mae` which is not available. Available metrics are: loss,mae\n"
     ]
    },
    {
     "name": "stderr",
     "output_type": "stream",
     "text": [
      "WARNING:tensorflow:Early stopping conditioned on metric `val_mae` which is not available. Available metrics are: loss,mae\n"
     ]
    },
    {
     "name": "stdout",
     "output_type": "stream",
     "text": [
      "27/27 [==============================] - 0s 3ms/step - loss: 14.8578 - mae: 14.8578\n",
      "Epoch 154/2000\n",
      "20/27 [=====================>........] - ETA: 0s - loss: 11.0671 - mae: 11.0671WARNING:tensorflow:Early stopping conditioned on metric `val_mae` which is not available. Available metrics are: loss,mae\n"
     ]
    },
    {
     "name": "stderr",
     "output_type": "stream",
     "text": [
      "WARNING:tensorflow:Early stopping conditioned on metric `val_mae` which is not available. Available metrics are: loss,mae\n"
     ]
    },
    {
     "name": "stdout",
     "output_type": "stream",
     "text": [
      "27/27 [==============================] - 0s 3ms/step - loss: 11.4612 - mae: 11.4612\n",
      "Epoch 155/2000\n",
      "20/27 [=====================>........] - ETA: 0s - loss: 13.9056 - mae: 13.9056WARNING:tensorflow:Early stopping conditioned on metric `val_mae` which is not available. Available metrics are: loss,mae\n"
     ]
    },
    {
     "name": "stderr",
     "output_type": "stream",
     "text": [
      "WARNING:tensorflow:Early stopping conditioned on metric `val_mae` which is not available. Available metrics are: loss,mae\n"
     ]
    },
    {
     "name": "stdout",
     "output_type": "stream",
     "text": [
      "27/27 [==============================] - 0s 3ms/step - loss: 13.9770 - mae: 13.9770\n",
      "Epoch 156/2000\n",
      "20/27 [=====================>........] - ETA: 0s - loss: 12.6884 - mae: 12.6884WARNING:tensorflow:Early stopping conditioned on metric `val_mae` which is not available. Available metrics are: loss,mae\n"
     ]
    },
    {
     "name": "stderr",
     "output_type": "stream",
     "text": [
      "WARNING:tensorflow:Early stopping conditioned on metric `val_mae` which is not available. Available metrics are: loss,mae\n"
     ]
    },
    {
     "name": "stdout",
     "output_type": "stream",
     "text": [
      "27/27 [==============================] - 0s 3ms/step - loss: 12.7379 - mae: 12.7379\n",
      "Epoch 157/2000\n",
      "18/27 [===================>..........] - ETA: 0s - loss: 13.1283 - mae: 13.1283WARNING:tensorflow:Early stopping conditioned on metric `val_mae` which is not available. Available metrics are: loss,mae\n"
     ]
    },
    {
     "name": "stderr",
     "output_type": "stream",
     "text": [
      "WARNING:tensorflow:Early stopping conditioned on metric `val_mae` which is not available. Available metrics are: loss,mae\n"
     ]
    },
    {
     "name": "stdout",
     "output_type": "stream",
     "text": [
      "27/27 [==============================] - 0s 3ms/step - loss: 13.0171 - mae: 13.0171\n",
      "Epoch 158/2000\n",
      "18/27 [===================>..........] - ETA: 0s - loss: 12.2527 - mae: 12.2527WARNING:tensorflow:Early stopping conditioned on metric `val_mae` which is not available. Available metrics are: loss,mae\n"
     ]
    },
    {
     "name": "stderr",
     "output_type": "stream",
     "text": [
      "WARNING:tensorflow:Early stopping conditioned on metric `val_mae` which is not available. Available metrics are: loss,mae\n"
     ]
    },
    {
     "name": "stdout",
     "output_type": "stream",
     "text": [
      "27/27 [==============================] - 0s 3ms/step - loss: 11.8525 - mae: 11.8525\n",
      "Epoch 159/2000\n",
      "20/27 [=====================>........] - ETA: 0s - loss: 13.2622 - mae: 13.2622WARNING:tensorflow:Early stopping conditioned on metric `val_mae` which is not available. Available metrics are: loss,mae\n"
     ]
    },
    {
     "name": "stderr",
     "output_type": "stream",
     "text": [
      "WARNING:tensorflow:Early stopping conditioned on metric `val_mae` which is not available. Available metrics are: loss,mae\n"
     ]
    },
    {
     "name": "stdout",
     "output_type": "stream",
     "text": [
      "27/27 [==============================] - 0s 3ms/step - loss: 13.1101 - mae: 13.1101\n",
      "Epoch 160/2000\n",
      "20/27 [=====================>........] - ETA: 0s - loss: 10.7073 - mae: 10.7073WARNING:tensorflow:Early stopping conditioned on metric `val_mae` which is not available. Available metrics are: loss,mae\n"
     ]
    },
    {
     "name": "stderr",
     "output_type": "stream",
     "text": [
      "WARNING:tensorflow:Early stopping conditioned on metric `val_mae` which is not available. Available metrics are: loss,mae\n"
     ]
    },
    {
     "name": "stdout",
     "output_type": "stream",
     "text": [
      "27/27 [==============================] - 0s 3ms/step - loss: 11.0368 - mae: 11.0368\n",
      "Epoch 161/2000\n",
      "20/27 [=====================>........] - ETA: 0s - loss: 13.3097 - mae: 13.3097WARNING:tensorflow:Early stopping conditioned on metric `val_mae` which is not available. Available metrics are: loss,mae\n"
     ]
    },
    {
     "name": "stderr",
     "output_type": "stream",
     "text": [
      "WARNING:tensorflow:Early stopping conditioned on metric `val_mae` which is not available. Available metrics are: loss,mae\n"
     ]
    },
    {
     "name": "stdout",
     "output_type": "stream",
     "text": [
      "27/27 [==============================] - 0s 3ms/step - loss: 12.5865 - mae: 12.5865\n",
      "Epoch 162/2000\n",
      "19/27 [====================>.........] - ETA: 0s - loss: 11.0375 - mae: 11.0375WARNING:tensorflow:Early stopping conditioned on metric `val_mae` which is not available. Available metrics are: loss,mae\n"
     ]
    },
    {
     "name": "stderr",
     "output_type": "stream",
     "text": [
      "WARNING:tensorflow:Early stopping conditioned on metric `val_mae` which is not available. Available metrics are: loss,mae\n"
     ]
    },
    {
     "name": "stdout",
     "output_type": "stream",
     "text": [
      "27/27 [==============================] - 0s 3ms/step - loss: 10.7504 - mae: 10.7504\n",
      "Epoch 163/2000\n",
      "20/27 [=====================>........] - ETA: 0s - loss: 10.7442 - mae: 10.7442WARNING:tensorflow:Early stopping conditioned on metric `val_mae` which is not available. Available metrics are: loss,mae\n"
     ]
    },
    {
     "name": "stderr",
     "output_type": "stream",
     "text": [
      "WARNING:tensorflow:Early stopping conditioned on metric `val_mae` which is not available. Available metrics are: loss,mae\n"
     ]
    },
    {
     "name": "stdout",
     "output_type": "stream",
     "text": [
      "27/27 [==============================] - 0s 3ms/step - loss: 11.4117 - mae: 11.4117\n",
      "Epoch 164/2000\n",
      "20/27 [=====================>........] - ETA: 0s - loss: 11.7212 - mae: 11.7212WARNING:tensorflow:Early stopping conditioned on metric `val_mae` which is not available. Available metrics are: loss,mae\n"
     ]
    },
    {
     "name": "stderr",
     "output_type": "stream",
     "text": [
      "WARNING:tensorflow:Early stopping conditioned on metric `val_mae` which is not available. Available metrics are: loss,mae\n"
     ]
    },
    {
     "name": "stdout",
     "output_type": "stream",
     "text": [
      "27/27 [==============================] - 0s 3ms/step - loss: 11.5208 - mae: 11.5208\n",
      "Epoch 165/2000\n",
      "20/27 [=====================>........] - ETA: 0s - loss: 10.0566 - mae: 10.0566WARNING:tensorflow:Early stopping conditioned on metric `val_mae` which is not available. Available metrics are: loss,mae\n"
     ]
    },
    {
     "name": "stderr",
     "output_type": "stream",
     "text": [
      "WARNING:tensorflow:Early stopping conditioned on metric `val_mae` which is not available. Available metrics are: loss,mae\n"
     ]
    },
    {
     "name": "stdout",
     "output_type": "stream",
     "text": [
      "27/27 [==============================] - 0s 3ms/step - loss: 10.8368 - mae: 10.8368\n",
      "Epoch 166/2000\n",
      "20/27 [=====================>........] - ETA: 0s - loss: 12.1442 - mae: 12.1442WARNING:tensorflow:Early stopping conditioned on metric `val_mae` which is not available. Available metrics are: loss,mae\n"
     ]
    },
    {
     "name": "stderr",
     "output_type": "stream",
     "text": [
      "WARNING:tensorflow:Early stopping conditioned on metric `val_mae` which is not available. Available metrics are: loss,mae\n"
     ]
    },
    {
     "name": "stdout",
     "output_type": "stream",
     "text": [
      "27/27 [==============================] - 0s 3ms/step - loss: 12.7804 - mae: 12.7804\n",
      "Epoch 167/2000\n",
      "19/27 [====================>.........] - ETA: 0s - loss: 12.0368 - mae: 12.0368WARNING:tensorflow:Early stopping conditioned on metric `val_mae` which is not available. Available metrics are: loss,mae\n"
     ]
    },
    {
     "name": "stderr",
     "output_type": "stream",
     "text": [
      "WARNING:tensorflow:Early stopping conditioned on metric `val_mae` which is not available. Available metrics are: loss,mae\n"
     ]
    },
    {
     "name": "stdout",
     "output_type": "stream",
     "text": [
      "27/27 [==============================] - 0s 3ms/step - loss: 11.6119 - mae: 11.6119\n",
      "Epoch 168/2000\n",
      "18/27 [===================>..........] - ETA: 0s - loss: 11.8624 - mae: 11.8624WARNING:tensorflow:Early stopping conditioned on metric `val_mae` which is not available. Available metrics are: loss,mae\n"
     ]
    },
    {
     "name": "stderr",
     "output_type": "stream",
     "text": [
      "WARNING:tensorflow:Early stopping conditioned on metric `val_mae` which is not available. Available metrics are: loss,mae\n"
     ]
    },
    {
     "name": "stdout",
     "output_type": "stream",
     "text": [
      "27/27 [==============================] - 0s 3ms/step - loss: 11.7096 - mae: 11.7096\n",
      "Epoch 169/2000\n",
      "19/27 [====================>.........] - ETA: 0s - loss: 15.6890 - mae: 15.6890WARNING:tensorflow:Early stopping conditioned on metric `val_mae` which is not available. Available metrics are: loss,mae\n"
     ]
    },
    {
     "name": "stderr",
     "output_type": "stream",
     "text": [
      "WARNING:tensorflow:Early stopping conditioned on metric `val_mae` which is not available. Available metrics are: loss,mae\n"
     ]
    },
    {
     "name": "stdout",
     "output_type": "stream",
     "text": [
      "27/27 [==============================] - 0s 3ms/step - loss: 15.7126 - mae: 15.7126\n",
      "Epoch 170/2000\n",
      "19/27 [====================>.........] - ETA: 0s - loss: 10.5120 - mae: 10.5120WARNING:tensorflow:Early stopping conditioned on metric `val_mae` which is not available. Available metrics are: loss,mae\n"
     ]
    },
    {
     "name": "stderr",
     "output_type": "stream",
     "text": [
      "WARNING:tensorflow:Early stopping conditioned on metric `val_mae` which is not available. Available metrics are: loss,mae\n"
     ]
    },
    {
     "name": "stdout",
     "output_type": "stream",
     "text": [
      "27/27 [==============================] - 0s 3ms/step - loss: 10.5023 - mae: 10.5023\n",
      "Epoch 171/2000\n",
      "19/27 [====================>.........] - ETA: 0s - loss: 11.2165 - mae: 11.2165WARNING:tensorflow:Early stopping conditioned on metric `val_mae` which is not available. Available metrics are: loss,mae\n"
     ]
    },
    {
     "name": "stderr",
     "output_type": "stream",
     "text": [
      "WARNING:tensorflow:Early stopping conditioned on metric `val_mae` which is not available. Available metrics are: loss,mae\n"
     ]
    },
    {
     "name": "stdout",
     "output_type": "stream",
     "text": [
      "27/27 [==============================] - 0s 3ms/step - loss: 11.5220 - mae: 11.5220\n",
      "Epoch 172/2000\n",
      "19/27 [====================>.........] - ETA: 0s - loss: 11.4766 - mae: 11.4766WARNING:tensorflow:Early stopping conditioned on metric `val_mae` which is not available. Available metrics are: loss,mae\n"
     ]
    },
    {
     "name": "stderr",
     "output_type": "stream",
     "text": [
      "WARNING:tensorflow:Early stopping conditioned on metric `val_mae` which is not available. Available metrics are: loss,mae\n"
     ]
    },
    {
     "name": "stdout",
     "output_type": "stream",
     "text": [
      "27/27 [==============================] - 0s 3ms/step - loss: 11.3468 - mae: 11.3468\n",
      "Epoch 173/2000\n",
      "20/27 [=====================>........] - ETA: 0s - loss: 10.8609 - mae: 10.8609WARNING:tensorflow:Early stopping conditioned on metric `val_mae` which is not available. Available metrics are: loss,mae\n"
     ]
    },
    {
     "name": "stderr",
     "output_type": "stream",
     "text": [
      "WARNING:tensorflow:Early stopping conditioned on metric `val_mae` which is not available. Available metrics are: loss,mae\n"
     ]
    },
    {
     "name": "stdout",
     "output_type": "stream",
     "text": [
      "27/27 [==============================] - 0s 3ms/step - loss: 10.5895 - mae: 10.5895\n",
      "Epoch 174/2000\n",
      "20/27 [=====================>........] - ETA: 0s - loss: 9.9021 - mae: 9.9021WARNING:tensorflow:Early stopping conditioned on metric `val_mae` which is not available. Available metrics are: loss,mae\n"
     ]
    },
    {
     "name": "stderr",
     "output_type": "stream",
     "text": [
      "WARNING:tensorflow:Early stopping conditioned on metric `val_mae` which is not available. Available metrics are: loss,mae\n"
     ]
    },
    {
     "name": "stdout",
     "output_type": "stream",
     "text": [
      "27/27 [==============================] - 0s 3ms/step - loss: 9.7796 - mae: 9.7796\n",
      "Epoch 175/2000\n",
      "19/27 [====================>.........] - ETA: 0s - loss: 13.0291 - mae: 13.0291WARNING:tensorflow:Early stopping conditioned on metric `val_mae` which is not available. Available metrics are: loss,mae\n"
     ]
    },
    {
     "name": "stderr",
     "output_type": "stream",
     "text": [
      "WARNING:tensorflow:Early stopping conditioned on metric `val_mae` which is not available. Available metrics are: loss,mae\n"
     ]
    },
    {
     "name": "stdout",
     "output_type": "stream",
     "text": [
      "27/27 [==============================] - 0s 3ms/step - loss: 13.5452 - mae: 13.5452\n",
      "Epoch 176/2000\n",
      "19/27 [====================>.........] - ETA: 0s - loss: 13.4997 - mae: 13.4997WARNING:tensorflow:Early stopping conditioned on metric `val_mae` which is not available. Available metrics are: loss,mae\n"
     ]
    },
    {
     "name": "stderr",
     "output_type": "stream",
     "text": [
      "WARNING:tensorflow:Early stopping conditioned on metric `val_mae` which is not available. Available metrics are: loss,mae\n"
     ]
    },
    {
     "name": "stdout",
     "output_type": "stream",
     "text": [
      "27/27 [==============================] - 0s 3ms/step - loss: 12.3871 - mae: 12.3871\n",
      "Epoch 177/2000\n",
      "19/27 [====================>.........] - ETA: 0s - loss: 12.8254 - mae: 12.8254WARNING:tensorflow:Early stopping conditioned on metric `val_mae` which is not available. Available metrics are: loss,mae\n"
     ]
    },
    {
     "name": "stderr",
     "output_type": "stream",
     "text": [
      "WARNING:tensorflow:Early stopping conditioned on metric `val_mae` which is not available. Available metrics are: loss,mae\n"
     ]
    },
    {
     "name": "stdout",
     "output_type": "stream",
     "text": [
      "27/27 [==============================] - 0s 3ms/step - loss: 11.9234 - mae: 11.9234\n",
      "Epoch 178/2000\n",
      "20/27 [=====================>........] - ETA: 0s - loss: 11.3398 - mae: 11.3398WARNING:tensorflow:Early stopping conditioned on metric `val_mae` which is not available. Available metrics are: loss,mae\n"
     ]
    },
    {
     "name": "stderr",
     "output_type": "stream",
     "text": [
      "WARNING:tensorflow:Early stopping conditioned on metric `val_mae` which is not available. Available metrics are: loss,mae\n"
     ]
    },
    {
     "name": "stdout",
     "output_type": "stream",
     "text": [
      "27/27 [==============================] - 0s 3ms/step - loss: 11.0684 - mae: 11.0684\n",
      "Epoch 179/2000\n",
      "19/27 [====================>.........] - ETA: 0s - loss: 10.6824 - mae: 10.6824WARNING:tensorflow:Early stopping conditioned on metric `val_mae` which is not available. Available metrics are: loss,mae\n"
     ]
    },
    {
     "name": "stderr",
     "output_type": "stream",
     "text": [
      "WARNING:tensorflow:Early stopping conditioned on metric `val_mae` which is not available. Available metrics are: loss,mae\n"
     ]
    },
    {
     "name": "stdout",
     "output_type": "stream",
     "text": [
      "27/27 [==============================] - 0s 3ms/step - loss: 10.8387 - mae: 10.8387\n",
      "Epoch 180/2000\n",
      "19/27 [====================>.........] - ETA: 0s - loss: 12.5834 - mae: 12.5834WARNING:tensorflow:Early stopping conditioned on metric `val_mae` which is not available. Available metrics are: loss,mae\n"
     ]
    },
    {
     "name": "stderr",
     "output_type": "stream",
     "text": [
      "WARNING:tensorflow:Early stopping conditioned on metric `val_mae` which is not available. Available metrics are: loss,mae\n"
     ]
    },
    {
     "name": "stdout",
     "output_type": "stream",
     "text": [
      "27/27 [==============================] - 0s 3ms/step - loss: 12.2825 - mae: 12.2825\n",
      "Epoch 181/2000\n",
      "19/27 [====================>.........] - ETA: 0s - loss: 10.2121 - mae: 10.2121WARNING:tensorflow:Early stopping conditioned on metric `val_mae` which is not available. Available metrics are: loss,mae\n"
     ]
    },
    {
     "name": "stderr",
     "output_type": "stream",
     "text": [
      "WARNING:tensorflow:Early stopping conditioned on metric `val_mae` which is not available. Available metrics are: loss,mae\n"
     ]
    },
    {
     "name": "stdout",
     "output_type": "stream",
     "text": [
      "27/27 [==============================] - 0s 3ms/step - loss: 10.8400 - mae: 10.8400\n",
      "Epoch 182/2000\n",
      "19/27 [====================>.........] - ETA: 0s - loss: 10.1336 - mae: 10.1336WARNING:tensorflow:Early stopping conditioned on metric `val_mae` which is not available. Available metrics are: loss,mae\n"
     ]
    },
    {
     "name": "stderr",
     "output_type": "stream",
     "text": [
      "WARNING:tensorflow:Early stopping conditioned on metric `val_mae` which is not available. Available metrics are: loss,mae\n"
     ]
    },
    {
     "name": "stdout",
     "output_type": "stream",
     "text": [
      "27/27 [==============================] - 0s 3ms/step - loss: 10.3860 - mae: 10.3860\n",
      "Epoch 183/2000\n",
      "19/27 [====================>.........] - ETA: 0s - loss: 11.8237 - mae: 11.8237WARNING:tensorflow:Early stopping conditioned on metric `val_mae` which is not available. Available metrics are: loss,mae\n"
     ]
    },
    {
     "name": "stderr",
     "output_type": "stream",
     "text": [
      "WARNING:tensorflow:Early stopping conditioned on metric `val_mae` which is not available. Available metrics are: loss,mae\n"
     ]
    },
    {
     "name": "stdout",
     "output_type": "stream",
     "text": [
      "27/27 [==============================] - 0s 3ms/step - loss: 11.2746 - mae: 11.2746\n",
      "Epoch 184/2000\n",
      "19/27 [====================>.........] - ETA: 0s - loss: 11.8491 - mae: 11.8491WARNING:tensorflow:Early stopping conditioned on metric `val_mae` which is not available. Available metrics are: loss,mae\n"
     ]
    },
    {
     "name": "stderr",
     "output_type": "stream",
     "text": [
      "WARNING:tensorflow:Early stopping conditioned on metric `val_mae` which is not available. Available metrics are: loss,mae\n"
     ]
    },
    {
     "name": "stdout",
     "output_type": "stream",
     "text": [
      "27/27 [==============================] - 0s 3ms/step - loss: 11.4826 - mae: 11.4826\n",
      "Epoch 185/2000\n",
      "19/27 [====================>.........] - ETA: 0s - loss: 9.4154 - mae: 9.4154WARNING:tensorflow:Early stopping conditioned on metric `val_mae` which is not available. Available metrics are: loss,mae\n"
     ]
    },
    {
     "name": "stderr",
     "output_type": "stream",
     "text": [
      "WARNING:tensorflow:Early stopping conditioned on metric `val_mae` which is not available. Available metrics are: loss,mae\n"
     ]
    },
    {
     "name": "stdout",
     "output_type": "stream",
     "text": [
      "27/27 [==============================] - 0s 3ms/step - loss: 11.1174 - mae: 11.1174\n",
      "Epoch 186/2000\n",
      "19/27 [====================>.........] - ETA: 0s - loss: 17.7110 - mae: 17.7110WARNING:tensorflow:Early stopping conditioned on metric `val_mae` which is not available. Available metrics are: loss,mae\n"
     ]
    },
    {
     "name": "stderr",
     "output_type": "stream",
     "text": [
      "WARNING:tensorflow:Early stopping conditioned on metric `val_mae` which is not available. Available metrics are: loss,mae\n"
     ]
    },
    {
     "name": "stdout",
     "output_type": "stream",
     "text": [
      "27/27 [==============================] - 0s 3ms/step - loss: 16.0302 - mae: 16.0302\n",
      "Epoch 187/2000\n",
      "20/27 [=====================>........] - ETA: 0s - loss: 12.1487 - mae: 12.1487WARNING:tensorflow:Early stopping conditioned on metric `val_mae` which is not available. Available metrics are: loss,mae\n"
     ]
    },
    {
     "name": "stderr",
     "output_type": "stream",
     "text": [
      "WARNING:tensorflow:Early stopping conditioned on metric `val_mae` which is not available. Available metrics are: loss,mae\n"
     ]
    },
    {
     "name": "stdout",
     "output_type": "stream",
     "text": [
      "27/27 [==============================] - 0s 3ms/step - loss: 11.5054 - mae: 11.5054\n",
      "Epoch 188/2000\n",
      "19/27 [====================>.........] - ETA: 0s - loss: 9.1728 - mae: 9.1728WARNING:tensorflow:Early stopping conditioned on metric `val_mae` which is not available. Available metrics are: loss,mae\n"
     ]
    },
    {
     "name": "stderr",
     "output_type": "stream",
     "text": [
      "WARNING:tensorflow:Early stopping conditioned on metric `val_mae` which is not available. Available metrics are: loss,mae\n"
     ]
    },
    {
     "name": "stdout",
     "output_type": "stream",
     "text": [
      "27/27 [==============================] - 0s 3ms/step - loss: 9.7404 - mae: 9.7404\n",
      "Epoch 189/2000\n",
      "19/27 [====================>.........] - ETA: 0s - loss: 14.5975 - mae: 14.5975WARNING:tensorflow:Early stopping conditioned on metric `val_mae` which is not available. Available metrics are: loss,mae\n"
     ]
    },
    {
     "name": "stderr",
     "output_type": "stream",
     "text": [
      "WARNING:tensorflow:Early stopping conditioned on metric `val_mae` which is not available. Available metrics are: loss,mae\n"
     ]
    },
    {
     "name": "stdout",
     "output_type": "stream",
     "text": [
      "27/27 [==============================] - 0s 3ms/step - loss: 14.3377 - mae: 14.3377\n",
      "Epoch 190/2000\n",
      "19/27 [====================>.........] - ETA: 0s - loss: 11.9809 - mae: 11.9809WARNING:tensorflow:Early stopping conditioned on metric `val_mae` which is not available. Available metrics are: loss,mae\n"
     ]
    },
    {
     "name": "stderr",
     "output_type": "stream",
     "text": [
      "WARNING:tensorflow:Early stopping conditioned on metric `val_mae` which is not available. Available metrics are: loss,mae\n"
     ]
    },
    {
     "name": "stdout",
     "output_type": "stream",
     "text": [
      "27/27 [==============================] - 0s 3ms/step - loss: 12.4543 - mae: 12.4543\n",
      "Epoch 191/2000\n",
      "19/27 [====================>.........] - ETA: 0s - loss: 12.2015 - mae: 12.2015WARNING:tensorflow:Early stopping conditioned on metric `val_mae` which is not available. Available metrics are: loss,mae\n"
     ]
    },
    {
     "name": "stderr",
     "output_type": "stream",
     "text": [
      "WARNING:tensorflow:Early stopping conditioned on metric `val_mae` which is not available. Available metrics are: loss,mae\n"
     ]
    },
    {
     "name": "stdout",
     "output_type": "stream",
     "text": [
      "27/27 [==============================] - 0s 3ms/step - loss: 12.4440 - mae: 12.4440\n",
      "Epoch 192/2000\n",
      "18/27 [===================>..........] - ETA: 0s - loss: 19.0501 - mae: 19.0501WARNING:tensorflow:Early stopping conditioned on metric `val_mae` which is not available. Available metrics are: loss,mae\n"
     ]
    },
    {
     "name": "stderr",
     "output_type": "stream",
     "text": [
      "WARNING:tensorflow:Early stopping conditioned on metric `val_mae` which is not available. Available metrics are: loss,mae\n"
     ]
    },
    {
     "name": "stdout",
     "output_type": "stream",
     "text": [
      "27/27 [==============================] - 0s 3ms/step - loss: 18.3814 - mae: 18.3814\n",
      "Epoch 193/2000\n",
      "18/27 [===================>..........] - ETA: 0s - loss: 15.5643 - mae: 15.5643WARNING:tensorflow:Early stopping conditioned on metric `val_mae` which is not available. Available metrics are: loss,mae\n"
     ]
    },
    {
     "name": "stderr",
     "output_type": "stream",
     "text": [
      "WARNING:tensorflow:Early stopping conditioned on metric `val_mae` which is not available. Available metrics are: loss,mae\n"
     ]
    },
    {
     "name": "stdout",
     "output_type": "stream",
     "text": [
      "27/27 [==============================] - 0s 3ms/step - loss: 14.0604 - mae: 14.0604\n",
      "Epoch 194/2000\n",
      "18/27 [===================>..........] - ETA: 0s - loss: 10.1564 - mae: 10.1564WARNING:tensorflow:Early stopping conditioned on metric `val_mae` which is not available. Available metrics are: loss,mae\n"
     ]
    },
    {
     "name": "stderr",
     "output_type": "stream",
     "text": [
      "WARNING:tensorflow:Early stopping conditioned on metric `val_mae` which is not available. Available metrics are: loss,mae\n"
     ]
    },
    {
     "name": "stdout",
     "output_type": "stream",
     "text": [
      "27/27 [==============================] - 0s 3ms/step - loss: 9.9436 - mae: 9.9436\n",
      "Epoch 195/2000\n",
      "19/27 [====================>.........] - ETA: 0s - loss: 15.1080 - mae: 15.1080WARNING:tensorflow:Early stopping conditioned on metric `val_mae` which is not available. Available metrics are: loss,mae\n"
     ]
    },
    {
     "name": "stderr",
     "output_type": "stream",
     "text": [
      "WARNING:tensorflow:Early stopping conditioned on metric `val_mae` which is not available. Available metrics are: loss,mae\n"
     ]
    },
    {
     "name": "stdout",
     "output_type": "stream",
     "text": [
      "27/27 [==============================] - 0s 3ms/step - loss: 13.4203 - mae: 13.4203\n",
      "Epoch 196/2000\n",
      "20/27 [=====================>........] - ETA: 0s - loss: 11.0659 - mae: 11.0659WARNING:tensorflow:Early stopping conditioned on metric `val_mae` which is not available. Available metrics are: loss,mae\n"
     ]
    },
    {
     "name": "stderr",
     "output_type": "stream",
     "text": [
      "WARNING:tensorflow:Early stopping conditioned on metric `val_mae` which is not available. Available metrics are: loss,mae\n"
     ]
    },
    {
     "name": "stdout",
     "output_type": "stream",
     "text": [
      "27/27 [==============================] - 0s 3ms/step - loss: 11.6035 - mae: 11.6035\n",
      "Epoch 197/2000\n",
      "19/27 [====================>.........] - ETA: 0s - loss: 12.0667 - mae: 12.0667WARNING:tensorflow:Early stopping conditioned on metric `val_mae` which is not available. Available metrics are: loss,mae\n"
     ]
    },
    {
     "name": "stderr",
     "output_type": "stream",
     "text": [
      "WARNING:tensorflow:Early stopping conditioned on metric `val_mae` which is not available. Available metrics are: loss,mae\n"
     ]
    },
    {
     "name": "stdout",
     "output_type": "stream",
     "text": [
      "27/27 [==============================] - 0s 3ms/step - loss: 11.8199 - mae: 11.8199\n",
      "Epoch 198/2000\n",
      "18/27 [===================>..........] - ETA: 0s - loss: 10.8058 - mae: 10.8058WARNING:tensorflow:Early stopping conditioned on metric `val_mae` which is not available. Available metrics are: loss,mae\n"
     ]
    },
    {
     "name": "stderr",
     "output_type": "stream",
     "text": [
      "WARNING:tensorflow:Early stopping conditioned on metric `val_mae` which is not available. Available metrics are: loss,mae\n"
     ]
    },
    {
     "name": "stdout",
     "output_type": "stream",
     "text": [
      "27/27 [==============================] - 0s 3ms/step - loss: 11.1573 - mae: 11.1573\n",
      "Epoch 199/2000\n",
      "19/27 [====================>.........] - ETA: 0s - loss: 13.1238 - mae: 13.1238WARNING:tensorflow:Early stopping conditioned on metric `val_mae` which is not available. Available metrics are: loss,mae\n"
     ]
    },
    {
     "name": "stderr",
     "output_type": "stream",
     "text": [
      "WARNING:tensorflow:Early stopping conditioned on metric `val_mae` which is not available. Available metrics are: loss,mae\n"
     ]
    },
    {
     "name": "stdout",
     "output_type": "stream",
     "text": [
      "27/27 [==============================] - 0s 3ms/step - loss: 12.2810 - mae: 12.2810\n",
      "Epoch 200/2000\n",
      "19/27 [====================>.........] - ETA: 0s - loss: 15.7492 - mae: 15.7492WARNING:tensorflow:Early stopping conditioned on metric `val_mae` which is not available. Available metrics are: loss,mae\n"
     ]
    },
    {
     "name": "stderr",
     "output_type": "stream",
     "text": [
      "WARNING:tensorflow:Early stopping conditioned on metric `val_mae` which is not available. Available metrics are: loss,mae\n"
     ]
    },
    {
     "name": "stdout",
     "output_type": "stream",
     "text": [
      "27/27 [==============================] - 0s 3ms/step - loss: 14.7216 - mae: 14.7216\n",
      "Epoch 201/2000\n",
      "19/27 [====================>.........] - ETA: 0s - loss: 19.3984 - mae: 19.3984WARNING:tensorflow:Early stopping conditioned on metric `val_mae` which is not available. Available metrics are: loss,mae\n"
     ]
    },
    {
     "name": "stderr",
     "output_type": "stream",
     "text": [
      "WARNING:tensorflow:Early stopping conditioned on metric `val_mae` which is not available. Available metrics are: loss,mae\n"
     ]
    },
    {
     "name": "stdout",
     "output_type": "stream",
     "text": [
      "27/27 [==============================] - 0s 3ms/step - loss: 18.8828 - mae: 18.8828\n",
      "Epoch 202/2000\n",
      "18/27 [===================>..........] - ETA: 0s - loss: 16.2544 - mae: 16.2544WARNING:tensorflow:Early stopping conditioned on metric `val_mae` which is not available. Available metrics are: loss,mae\n"
     ]
    },
    {
     "name": "stderr",
     "output_type": "stream",
     "text": [
      "WARNING:tensorflow:Early stopping conditioned on metric `val_mae` which is not available. Available metrics are: loss,mae\n"
     ]
    },
    {
     "name": "stdout",
     "output_type": "stream",
     "text": [
      "27/27 [==============================] - 0s 3ms/step - loss: 16.7550 - mae: 16.7550\n",
      "Epoch 203/2000\n",
      "18/27 [===================>..........] - ETA: 0s - loss: 19.7580 - mae: 19.7580WARNING:tensorflow:Early stopping conditioned on metric `val_mae` which is not available. Available metrics are: loss,mae\n"
     ]
    },
    {
     "name": "stderr",
     "output_type": "stream",
     "text": [
      "WARNING:tensorflow:Early stopping conditioned on metric `val_mae` which is not available. Available metrics are: loss,mae\n"
     ]
    },
    {
     "name": "stdout",
     "output_type": "stream",
     "text": [
      "27/27 [==============================] - 0s 3ms/step - loss: 18.0524 - mae: 18.0524\n",
      "Epoch 204/2000\n",
      "19/27 [====================>.........] - ETA: 0s - loss: 10.9542 - mae: 10.9542WARNING:tensorflow:Early stopping conditioned on metric `val_mae` which is not available. Available metrics are: loss,mae\n"
     ]
    },
    {
     "name": "stderr",
     "output_type": "stream",
     "text": [
      "WARNING:tensorflow:Early stopping conditioned on metric `val_mae` which is not available. Available metrics are: loss,mae\n"
     ]
    },
    {
     "name": "stdout",
     "output_type": "stream",
     "text": [
      "27/27 [==============================] - 0s 3ms/step - loss: 11.4050 - mae: 11.4050\n",
      "Epoch 205/2000\n",
      "19/27 [====================>.........] - ETA: 0s - loss: 9.7025 - mae: 9.7025  WARNING:tensorflow:Early stopping conditioned on metric `val_mae` which is not available. Available metrics are: loss,mae\n"
     ]
    },
    {
     "name": "stderr",
     "output_type": "stream",
     "text": [
      "WARNING:tensorflow:Early stopping conditioned on metric `val_mae` which is not available. Available metrics are: loss,mae\n"
     ]
    },
    {
     "name": "stdout",
     "output_type": "stream",
     "text": [
      "27/27 [==============================] - 0s 3ms/step - loss: 10.6637 - mae: 10.6637\n",
      "Epoch 206/2000\n",
      "19/27 [====================>.........] - ETA: 0s - loss: 17.5540 - mae: 17.5540WARNING:tensorflow:Early stopping conditioned on metric `val_mae` which is not available. Available metrics are: loss,mae\n"
     ]
    },
    {
     "name": "stderr",
     "output_type": "stream",
     "text": [
      "WARNING:tensorflow:Early stopping conditioned on metric `val_mae` which is not available. Available metrics are: loss,mae\n"
     ]
    },
    {
     "name": "stdout",
     "output_type": "stream",
     "text": [
      "27/27 [==============================] - 0s 3ms/step - loss: 15.8541 - mae: 15.8541\n",
      "Epoch 207/2000\n",
      "18/27 [===================>..........] - ETA: 0s - loss: 14.8357 - mae: 14.8357WARNING:tensorflow:Early stopping conditioned on metric `val_mae` which is not available. Available metrics are: loss,mae\n"
     ]
    },
    {
     "name": "stderr",
     "output_type": "stream",
     "text": [
      "WARNING:tensorflow:Early stopping conditioned on metric `val_mae` which is not available. Available metrics are: loss,mae\n"
     ]
    },
    {
     "name": "stdout",
     "output_type": "stream",
     "text": [
      "27/27 [==============================] - 0s 3ms/step - loss: 13.5300 - mae: 13.5300\n",
      "Epoch 208/2000\n",
      "19/27 [====================>.........] - ETA: 0s - loss: 10.7513 - mae: 10.7513WARNING:tensorflow:Early stopping conditioned on metric `val_mae` which is not available. Available metrics are: loss,mae\n"
     ]
    },
    {
     "name": "stderr",
     "output_type": "stream",
     "text": [
      "WARNING:tensorflow:Early stopping conditioned on metric `val_mae` which is not available. Available metrics are: loss,mae\n"
     ]
    },
    {
     "name": "stdout",
     "output_type": "stream",
     "text": [
      "27/27 [==============================] - 0s 3ms/step - loss: 10.8181 - mae: 10.8181\n",
      "Epoch 209/2000\n",
      "18/27 [===================>..........] - ETA: 0s - loss: 11.4825 - mae: 11.4825WARNING:tensorflow:Early stopping conditioned on metric `val_mae` which is not available. Available metrics are: loss,mae\n"
     ]
    },
    {
     "name": "stderr",
     "output_type": "stream",
     "text": [
      "WARNING:tensorflow:Early stopping conditioned on metric `val_mae` which is not available. Available metrics are: loss,mae\n"
     ]
    },
    {
     "name": "stdout",
     "output_type": "stream",
     "text": [
      "27/27 [==============================] - 0s 3ms/step - loss: 10.9478 - mae: 10.9478\n",
      "Epoch 210/2000\n",
      "19/27 [====================>.........] - ETA: 0s - loss: 9.7153 - mae: 9.7153WARNING:tensorflow:Early stopping conditioned on metric `val_mae` which is not available. Available metrics are: loss,mae\n"
     ]
    },
    {
     "name": "stderr",
     "output_type": "stream",
     "text": [
      "WARNING:tensorflow:Early stopping conditioned on metric `val_mae` which is not available. Available metrics are: loss,mae\n"
     ]
    },
    {
     "name": "stdout",
     "output_type": "stream",
     "text": [
      "27/27 [==============================] - 0s 3ms/step - loss: 10.4748 - mae: 10.4748\n",
      "Epoch 211/2000\n",
      "19/27 [====================>.........] - ETA: 0s - loss: 10.8655 - mae: 10.8655WARNING:tensorflow:Early stopping conditioned on metric `val_mae` which is not available. Available metrics are: loss,mae\n"
     ]
    },
    {
     "name": "stderr",
     "output_type": "stream",
     "text": [
      "WARNING:tensorflow:Early stopping conditioned on metric `val_mae` which is not available. Available metrics are: loss,mae\n"
     ]
    },
    {
     "name": "stdout",
     "output_type": "stream",
     "text": [
      "27/27 [==============================] - 0s 3ms/step - loss: 11.6272 - mae: 11.6272\n",
      "Epoch 212/2000\n",
      "18/27 [===================>..........] - ETA: 0s - loss: 10.8183 - mae: 10.8183WARNING:tensorflow:Early stopping conditioned on metric `val_mae` which is not available. Available metrics are: loss,mae\n"
     ]
    },
    {
     "name": "stderr",
     "output_type": "stream",
     "text": [
      "WARNING:tensorflow:Early stopping conditioned on metric `val_mae` which is not available. Available metrics are: loss,mae\n"
     ]
    },
    {
     "name": "stdout",
     "output_type": "stream",
     "text": [
      "27/27 [==============================] - 0s 3ms/step - loss: 11.1624 - mae: 11.1624\n",
      "Epoch 213/2000\n",
      "19/27 [====================>.........] - ETA: 0s - loss: 9.9811 - mae: 9.9811WARNING:tensorflow:Early stopping conditioned on metric `val_mae` which is not available. Available metrics are: loss,mae\n"
     ]
    },
    {
     "name": "stderr",
     "output_type": "stream",
     "text": [
      "WARNING:tensorflow:Early stopping conditioned on metric `val_mae` which is not available. Available metrics are: loss,mae\n"
     ]
    },
    {
     "name": "stdout",
     "output_type": "stream",
     "text": [
      "27/27 [==============================] - 0s 3ms/step - loss: 9.4925 - mae: 9.4925\n",
      "Epoch 214/2000\n",
      "20/27 [=====================>........] - ETA: 0s - loss: 12.7924 - mae: 12.7924WARNING:tensorflow:Early stopping conditioned on metric `val_mae` which is not available. Available metrics are: loss,mae\n"
     ]
    },
    {
     "name": "stderr",
     "output_type": "stream",
     "text": [
      "WARNING:tensorflow:Early stopping conditioned on metric `val_mae` which is not available. Available metrics are: loss,mae\n"
     ]
    },
    {
     "name": "stdout",
     "output_type": "stream",
     "text": [
      "27/27 [==============================] - 0s 3ms/step - loss: 14.1960 - mae: 14.1960\n",
      "Epoch 215/2000\n",
      "19/27 [====================>.........] - ETA: 0s - loss: 17.8671 - mae: 17.8671WARNING:tensorflow:Early stopping conditioned on metric `val_mae` which is not available. Available metrics are: loss,mae\n"
     ]
    },
    {
     "name": "stderr",
     "output_type": "stream",
     "text": [
      "WARNING:tensorflow:Early stopping conditioned on metric `val_mae` which is not available. Available metrics are: loss,mae\n"
     ]
    },
    {
     "name": "stdout",
     "output_type": "stream",
     "text": [
      "27/27 [==============================] - 0s 3ms/step - loss: 16.1900 - mae: 16.1900\n",
      "Epoch 216/2000\n",
      "20/27 [=====================>........] - ETA: 0s - loss: 9.7744 - mae: 9.7744WARNING:tensorflow:Early stopping conditioned on metric `val_mae` which is not available. Available metrics are: loss,mae\n"
     ]
    },
    {
     "name": "stderr",
     "output_type": "stream",
     "text": [
      "WARNING:tensorflow:Early stopping conditioned on metric `val_mae` which is not available. Available metrics are: loss,mae\n"
     ]
    },
    {
     "name": "stdout",
     "output_type": "stream",
     "text": [
      "27/27 [==============================] - 0s 3ms/step - loss: 10.2455 - mae: 10.2455\n",
      "Epoch 217/2000\n",
      "19/27 [====================>.........] - ETA: 0s - loss: 11.9732 - mae: 11.9732WARNING:tensorflow:Early stopping conditioned on metric `val_mae` which is not available. Available metrics are: loss,mae\n"
     ]
    },
    {
     "name": "stderr",
     "output_type": "stream",
     "text": [
      "WARNING:tensorflow:Early stopping conditioned on metric `val_mae` which is not available. Available metrics are: loss,mae\n"
     ]
    },
    {
     "name": "stdout",
     "output_type": "stream",
     "text": [
      "27/27 [==============================] - 0s 3ms/step - loss: 11.7966 - mae: 11.7966\n",
      "Epoch 218/2000\n",
      "19/27 [====================>.........] - ETA: 0s - loss: 11.5863 - mae: 11.5863WARNING:tensorflow:Early stopping conditioned on metric `val_mae` which is not available. Available metrics are: loss,mae\n"
     ]
    },
    {
     "name": "stderr",
     "output_type": "stream",
     "text": [
      "WARNING:tensorflow:Early stopping conditioned on metric `val_mae` which is not available. Available metrics are: loss,mae\n"
     ]
    },
    {
     "name": "stdout",
     "output_type": "stream",
     "text": [
      "27/27 [==============================] - 0s 3ms/step - loss: 10.9532 - mae: 10.9532\n",
      "Epoch 219/2000\n",
      "19/27 [====================>.........] - ETA: 0s - loss: 12.3409 - mae: 12.3409WARNING:tensorflow:Early stopping conditioned on metric `val_mae` which is not available. Available metrics are: loss,mae\n"
     ]
    },
    {
     "name": "stderr",
     "output_type": "stream",
     "text": [
      "WARNING:tensorflow:Early stopping conditioned on metric `val_mae` which is not available. Available metrics are: loss,mae\n"
     ]
    },
    {
     "name": "stdout",
     "output_type": "stream",
     "text": [
      "27/27 [==============================] - 0s 3ms/step - loss: 11.5094 - mae: 11.5094\n",
      "Epoch 220/2000\n",
      "19/27 [====================>.........] - ETA: 0s - loss: 10.9074 - mae: 10.9074WARNING:tensorflow:Early stopping conditioned on metric `val_mae` which is not available. Available metrics are: loss,mae\n"
     ]
    },
    {
     "name": "stderr",
     "output_type": "stream",
     "text": [
      "WARNING:tensorflow:Early stopping conditioned on metric `val_mae` which is not available. Available metrics are: loss,mae\n"
     ]
    },
    {
     "name": "stdout",
     "output_type": "stream",
     "text": [
      "27/27 [==============================] - 0s 3ms/step - loss: 10.5725 - mae: 10.5725\n",
      "Epoch 221/2000\n",
      "20/27 [=====================>........] - ETA: 0s - loss: 11.5123 - mae: 11.5123WARNING:tensorflow:Early stopping conditioned on metric `val_mae` which is not available. Available metrics are: loss,mae\n"
     ]
    },
    {
     "name": "stderr",
     "output_type": "stream",
     "text": [
      "WARNING:tensorflow:Early stopping conditioned on metric `val_mae` which is not available. Available metrics are: loss,mae\n"
     ]
    },
    {
     "name": "stdout",
     "output_type": "stream",
     "text": [
      "27/27 [==============================] - 0s 3ms/step - loss: 11.9350 - mae: 11.9350\n",
      "Epoch 222/2000\n",
      "18/27 [===================>..........] - ETA: 0s - loss: 14.3116 - mae: 14.3116WARNING:tensorflow:Early stopping conditioned on metric `val_mae` which is not available. Available metrics are: loss,mae\n"
     ]
    },
    {
     "name": "stderr",
     "output_type": "stream",
     "text": [
      "WARNING:tensorflow:Early stopping conditioned on metric `val_mae` which is not available. Available metrics are: loss,mae\n"
     ]
    },
    {
     "name": "stdout",
     "output_type": "stream",
     "text": [
      "27/27 [==============================] - 0s 3ms/step - loss: 15.2184 - mae: 15.2184\n",
      "Epoch 223/2000\n",
      "19/27 [====================>.........] - ETA: 0s - loss: 11.4276 - mae: 11.4276WARNING:tensorflow:Early stopping conditioned on metric `val_mae` which is not available. Available metrics are: loss,mae\n"
     ]
    },
    {
     "name": "stderr",
     "output_type": "stream",
     "text": [
      "WARNING:tensorflow:Early stopping conditioned on metric `val_mae` which is not available. Available metrics are: loss,mae\n"
     ]
    },
    {
     "name": "stdout",
     "output_type": "stream",
     "text": [
      "27/27 [==============================] - 0s 3ms/step - loss: 11.1239 - mae: 11.1239\n",
      "Epoch 224/2000\n",
      "20/27 [=====================>........] - ETA: 0s - loss: 10.3018 - mae: 10.3018WARNING:tensorflow:Early stopping conditioned on metric `val_mae` which is not available. Available metrics are: loss,mae\n"
     ]
    },
    {
     "name": "stderr",
     "output_type": "stream",
     "text": [
      "WARNING:tensorflow:Early stopping conditioned on metric `val_mae` which is not available. Available metrics are: loss,mae\n"
     ]
    },
    {
     "name": "stdout",
     "output_type": "stream",
     "text": [
      "27/27 [==============================] - 0s 3ms/step - loss: 10.5817 - mae: 10.5817\n",
      "Epoch 225/2000\n",
      "19/27 [====================>.........] - ETA: 0s - loss: 10.7997 - mae: 10.7997WARNING:tensorflow:Early stopping conditioned on metric `val_mae` which is not available. Available metrics are: loss,mae\n"
     ]
    },
    {
     "name": "stderr",
     "output_type": "stream",
     "text": [
      "WARNING:tensorflow:Early stopping conditioned on metric `val_mae` which is not available. Available metrics are: loss,mae\n"
     ]
    },
    {
     "name": "stdout",
     "output_type": "stream",
     "text": [
      "27/27 [==============================] - 0s 3ms/step - loss: 10.9641 - mae: 10.9641\n",
      "Epoch 226/2000\n",
      "19/27 [====================>.........] - ETA: 0s - loss: 9.9431 - mae: 9.9431  WARNING:tensorflow:Early stopping conditioned on metric `val_mae` which is not available. Available metrics are: loss,mae\n"
     ]
    },
    {
     "name": "stderr",
     "output_type": "stream",
     "text": [
      "WARNING:tensorflow:Early stopping conditioned on metric `val_mae` which is not available. Available metrics are: loss,mae\n"
     ]
    },
    {
     "name": "stdout",
     "output_type": "stream",
     "text": [
      "27/27 [==============================] - 0s 3ms/step - loss: 9.6308 - mae: 9.6308\n",
      "Epoch 227/2000\n",
      "19/27 [====================>.........] - ETA: 0s - loss: 9.1887 - mae: 9.1887  WARNING:tensorflow:Early stopping conditioned on metric `val_mae` which is not available. Available metrics are: loss,mae\n"
     ]
    },
    {
     "name": "stderr",
     "output_type": "stream",
     "text": [
      "WARNING:tensorflow:Early stopping conditioned on metric `val_mae` which is not available. Available metrics are: loss,mae\n"
     ]
    },
    {
     "name": "stdout",
     "output_type": "stream",
     "text": [
      "27/27 [==============================] - 0s 3ms/step - loss: 9.8245 - mae: 9.8245\n",
      "Epoch 228/2000\n",
      "20/27 [=====================>........] - ETA: 0s - loss: 9.0665 - mae: 9.0665WARNING:tensorflow:Early stopping conditioned on metric `val_mae` which is not available. Available metrics are: loss,mae\n"
     ]
    },
    {
     "name": "stderr",
     "output_type": "stream",
     "text": [
      "WARNING:tensorflow:Early stopping conditioned on metric `val_mae` which is not available. Available metrics are: loss,mae\n"
     ]
    },
    {
     "name": "stdout",
     "output_type": "stream",
     "text": [
      "27/27 [==============================] - 0s 3ms/step - loss: 9.1042 - mae: 9.1042\n",
      "Epoch 229/2000\n",
      "20/27 [=====================>........] - ETA: 0s - loss: 10.1995 - mae: 10.1995WARNING:tensorflow:Early stopping conditioned on metric `val_mae` which is not available. Available metrics are: loss,mae\n"
     ]
    },
    {
     "name": "stderr",
     "output_type": "stream",
     "text": [
      "WARNING:tensorflow:Early stopping conditioned on metric `val_mae` which is not available. Available metrics are: loss,mae\n"
     ]
    },
    {
     "name": "stdout",
     "output_type": "stream",
     "text": [
      "27/27 [==============================] - 0s 3ms/step - loss: 10.0766 - mae: 10.0766\n",
      "Epoch 230/2000\n",
      "19/27 [====================>.........] - ETA: 0s - loss: 9.4897 - mae: 9.4897  WARNING:tensorflow:Early stopping conditioned on metric `val_mae` which is not available. Available metrics are: loss,mae\n"
     ]
    },
    {
     "name": "stderr",
     "output_type": "stream",
     "text": [
      "WARNING:tensorflow:Early stopping conditioned on metric `val_mae` which is not available. Available metrics are: loss,mae\n"
     ]
    },
    {
     "name": "stdout",
     "output_type": "stream",
     "text": [
      "27/27 [==============================] - 0s 3ms/step - loss: 9.0248 - mae: 9.0248\n",
      "Epoch 231/2000\n",
      "19/27 [====================>.........] - ETA: 0s - loss: 10.6174 - mae: 10.6174WARNING:tensorflow:Early stopping conditioned on metric `val_mae` which is not available. Available metrics are: loss,mae\n"
     ]
    },
    {
     "name": "stderr",
     "output_type": "stream",
     "text": [
      "WARNING:tensorflow:Early stopping conditioned on metric `val_mae` which is not available. Available metrics are: loss,mae\n"
     ]
    },
    {
     "name": "stdout",
     "output_type": "stream",
     "text": [
      "27/27 [==============================] - 0s 3ms/step - loss: 10.2433 - mae: 10.2433\n",
      "Epoch 232/2000\n",
      "19/27 [====================>.........] - ETA: 0s - loss: 10.7703 - mae: 10.7703WARNING:tensorflow:Early stopping conditioned on metric `val_mae` which is not available. Available metrics are: loss,mae\n"
     ]
    },
    {
     "name": "stderr",
     "output_type": "stream",
     "text": [
      "WARNING:tensorflow:Early stopping conditioned on metric `val_mae` which is not available. Available metrics are: loss,mae\n"
     ]
    },
    {
     "name": "stdout",
     "output_type": "stream",
     "text": [
      "27/27 [==============================] - 0s 3ms/step - loss: 10.5479 - mae: 10.5479\n",
      "Epoch 233/2000\n",
      "19/27 [====================>.........] - ETA: 0s - loss: 9.6309 - mae: 9.6309WARNING:tensorflow:Early stopping conditioned on metric `val_mae` which is not available. Available metrics are: loss,mae\n"
     ]
    },
    {
     "name": "stderr",
     "output_type": "stream",
     "text": [
      "WARNING:tensorflow:Early stopping conditioned on metric `val_mae` which is not available. Available metrics are: loss,mae\n"
     ]
    },
    {
     "name": "stdout",
     "output_type": "stream",
     "text": [
      "27/27 [==============================] - 0s 3ms/step - loss: 9.3632 - mae: 9.3632\n",
      "Epoch 234/2000\n",
      "18/27 [===================>..........] - ETA: 0s - loss: 10.8555 - mae: 10.8555WARNING:tensorflow:Early stopping conditioned on metric `val_mae` which is not available. Available metrics are: loss,mae\n"
     ]
    },
    {
     "name": "stderr",
     "output_type": "stream",
     "text": [
      "WARNING:tensorflow:Early stopping conditioned on metric `val_mae` which is not available. Available metrics are: loss,mae\n"
     ]
    },
    {
     "name": "stdout",
     "output_type": "stream",
     "text": [
      "27/27 [==============================] - 0s 3ms/step - loss: 10.7794 - mae: 10.7794\n",
      "Epoch 235/2000\n",
      "19/27 [====================>.........] - ETA: 0s - loss: 13.4150 - mae: 13.4150WARNING:tensorflow:Early stopping conditioned on metric `val_mae` which is not available. Available metrics are: loss,mae\n"
     ]
    },
    {
     "name": "stderr",
     "output_type": "stream",
     "text": [
      "WARNING:tensorflow:Early stopping conditioned on metric `val_mae` which is not available. Available metrics are: loss,mae\n"
     ]
    },
    {
     "name": "stdout",
     "output_type": "stream",
     "text": [
      "27/27 [==============================] - 0s 3ms/step - loss: 12.7290 - mae: 12.7290\n",
      "Epoch 236/2000\n",
      "19/27 [====================>.........] - ETA: 0s - loss: 9.6584 - mae: 9.6584  WARNING:tensorflow:Early stopping conditioned on metric `val_mae` which is not available. Available metrics are: loss,mae\n"
     ]
    },
    {
     "name": "stderr",
     "output_type": "stream",
     "text": [
      "WARNING:tensorflow:Early stopping conditioned on metric `val_mae` which is not available. Available metrics are: loss,mae\n"
     ]
    },
    {
     "name": "stdout",
     "output_type": "stream",
     "text": [
      "27/27 [==============================] - 0s 3ms/step - loss: 11.1948 - mae: 11.1948\n",
      "Epoch 237/2000\n",
      "20/27 [=====================>........] - ETA: 0s - loss: 10.5090 - mae: 10.5090WARNING:tensorflow:Early stopping conditioned on metric `val_mae` which is not available. Available metrics are: loss,mae\n"
     ]
    },
    {
     "name": "stderr",
     "output_type": "stream",
     "text": [
      "WARNING:tensorflow:Early stopping conditioned on metric `val_mae` which is not available. Available metrics are: loss,mae\n"
     ]
    },
    {
     "name": "stdout",
     "output_type": "stream",
     "text": [
      "27/27 [==============================] - 0s 3ms/step - loss: 11.4174 - mae: 11.4174\n",
      "Epoch 238/2000\n",
      "20/27 [=====================>........] - ETA: 0s - loss: 9.0114 - mae: 9.0114WARNING:tensorflow:Early stopping conditioned on metric `val_mae` which is not available. Available metrics are: loss,mae\n"
     ]
    },
    {
     "name": "stderr",
     "output_type": "stream",
     "text": [
      "WARNING:tensorflow:Early stopping conditioned on metric `val_mae` which is not available. Available metrics are: loss,mae\n"
     ]
    },
    {
     "name": "stdout",
     "output_type": "stream",
     "text": [
      "27/27 [==============================] - 0s 3ms/step - loss: 9.0065 - mae: 9.0065\n",
      "Epoch 239/2000\n",
      "19/27 [====================>.........] - ETA: 0s - loss: 9.4716 - mae: 9.4716  WARNING:tensorflow:Early stopping conditioned on metric `val_mae` which is not available. Available metrics are: loss,mae\n"
     ]
    },
    {
     "name": "stderr",
     "output_type": "stream",
     "text": [
      "WARNING:tensorflow:Early stopping conditioned on metric `val_mae` which is not available. Available metrics are: loss,mae\n"
     ]
    },
    {
     "name": "stdout",
     "output_type": "stream",
     "text": [
      "27/27 [==============================] - 0s 3ms/step - loss: 9.6549 - mae: 9.6549\n",
      "Epoch 240/2000\n",
      "20/27 [=====================>........] - ETA: 0s - loss: 13.7274 - mae: 13.7274WARNING:tensorflow:Early stopping conditioned on metric `val_mae` which is not available. Available metrics are: loss,mae\n"
     ]
    },
    {
     "name": "stderr",
     "output_type": "stream",
     "text": [
      "WARNING:tensorflow:Early stopping conditioned on metric `val_mae` which is not available. Available metrics are: loss,mae\n"
     ]
    },
    {
     "name": "stdout",
     "output_type": "stream",
     "text": [
      "27/27 [==============================] - 0s 3ms/step - loss: 13.3626 - mae: 13.3626\n",
      "Epoch 241/2000\n",
      "19/27 [====================>.........] - ETA: 0s - loss: 20.4703 - mae: 20.4703WARNING:tensorflow:Early stopping conditioned on metric `val_mae` which is not available. Available metrics are: loss,mae\n"
     ]
    },
    {
     "name": "stderr",
     "output_type": "stream",
     "text": [
      "WARNING:tensorflow:Early stopping conditioned on metric `val_mae` which is not available. Available metrics are: loss,mae\n"
     ]
    },
    {
     "name": "stdout",
     "output_type": "stream",
     "text": [
      "27/27 [==============================] - 0s 3ms/step - loss: 17.6457 - mae: 17.6457\n",
      "Epoch 242/2000\n",
      "19/27 [====================>.........] - ETA: 0s - loss: 9.0924 - mae: 9.0924WARNING:tensorflow:Early stopping conditioned on metric `val_mae` which is not available. Available metrics are: loss,mae\n"
     ]
    },
    {
     "name": "stderr",
     "output_type": "stream",
     "text": [
      "WARNING:tensorflow:Early stopping conditioned on metric `val_mae` which is not available. Available metrics are: loss,mae\n"
     ]
    },
    {
     "name": "stdout",
     "output_type": "stream",
     "text": [
      "27/27 [==============================] - 0s 3ms/step - loss: 8.6140 - mae: 8.6140\n",
      "Epoch 243/2000\n",
      "19/27 [====================>.........] - ETA: 0s - loss: 9.8568 - mae: 9.8568  WARNING:tensorflow:Early stopping conditioned on metric `val_mae` which is not available. Available metrics are: loss,mae\n"
     ]
    },
    {
     "name": "stderr",
     "output_type": "stream",
     "text": [
      "WARNING:tensorflow:Early stopping conditioned on metric `val_mae` which is not available. Available metrics are: loss,mae\n"
     ]
    },
    {
     "name": "stdout",
     "output_type": "stream",
     "text": [
      "27/27 [==============================] - 0s 3ms/step - loss: 9.8714 - mae: 9.8714\n",
      "Epoch 244/2000\n",
      "20/27 [=====================>........] - ETA: 0s - loss: 10.0244 - mae: 10.0244WARNING:tensorflow:Early stopping conditioned on metric `val_mae` which is not available. Available metrics are: loss,mae\n"
     ]
    },
    {
     "name": "stderr",
     "output_type": "stream",
     "text": [
      "WARNING:tensorflow:Early stopping conditioned on metric `val_mae` which is not available. Available metrics are: loss,mae\n"
     ]
    },
    {
     "name": "stdout",
     "output_type": "stream",
     "text": [
      "27/27 [==============================] - 0s 3ms/step - loss: 9.9551 - mae: 9.9551\n",
      "Epoch 245/2000\n",
      "19/27 [====================>.........] - ETA: 0s - loss: 12.8614 - mae: 12.8614WARNING:tensorflow:Early stopping conditioned on metric `val_mae` which is not available. Available metrics are: loss,mae\n"
     ]
    },
    {
     "name": "stderr",
     "output_type": "stream",
     "text": [
      "WARNING:tensorflow:Early stopping conditioned on metric `val_mae` which is not available. Available metrics are: loss,mae\n"
     ]
    },
    {
     "name": "stdout",
     "output_type": "stream",
     "text": [
      "27/27 [==============================] - 0s 3ms/step - loss: 11.7427 - mae: 11.7427\n",
      "Epoch 246/2000\n",
      "18/27 [===================>..........] - ETA: 0s - loss: 12.5265 - mae: 12.5265WARNING:tensorflow:Early stopping conditioned on metric `val_mae` which is not available. Available metrics are: loss,mae\n"
     ]
    },
    {
     "name": "stderr",
     "output_type": "stream",
     "text": [
      "WARNING:tensorflow:Early stopping conditioned on metric `val_mae` which is not available. Available metrics are: loss,mae\n"
     ]
    },
    {
     "name": "stdout",
     "output_type": "stream",
     "text": [
      "27/27 [==============================] - 0s 3ms/step - loss: 12.1938 - mae: 12.1938\n",
      "Epoch 247/2000\n",
      "17/27 [=================>............] - ETA: 0s - loss: 9.6937 - mae: 9.6937  WARNING:tensorflow:Early stopping conditioned on metric `val_mae` which is not available. Available metrics are: loss,mae\n"
     ]
    },
    {
     "name": "stderr",
     "output_type": "stream",
     "text": [
      "WARNING:tensorflow:Early stopping conditioned on metric `val_mae` which is not available. Available metrics are: loss,mae\n"
     ]
    },
    {
     "name": "stdout",
     "output_type": "stream",
     "text": [
      "27/27 [==============================] - 0s 3ms/step - loss: 9.5374 - mae: 9.5374\n",
      "Epoch 248/2000\n",
      "18/27 [===================>..........] - ETA: 0s - loss: 9.9918 - mae: 9.9918WARNING:tensorflow:Early stopping conditioned on metric `val_mae` which is not available. Available metrics are: loss,mae\n"
     ]
    },
    {
     "name": "stderr",
     "output_type": "stream",
     "text": [
      "WARNING:tensorflow:Early stopping conditioned on metric `val_mae` which is not available. Available metrics are: loss,mae\n"
     ]
    },
    {
     "name": "stdout",
     "output_type": "stream",
     "text": [
      "27/27 [==============================] - 0s 3ms/step - loss: 10.5468 - mae: 10.5468\n",
      "Epoch 249/2000\n",
      "19/27 [====================>.........] - ETA: 0s - loss: 11.2383 - mae: 11.2383WARNING:tensorflow:Early stopping conditioned on metric `val_mae` which is not available. Available metrics are: loss,mae\n"
     ]
    },
    {
     "name": "stderr",
     "output_type": "stream",
     "text": [
      "WARNING:tensorflow:Early stopping conditioned on metric `val_mae` which is not available. Available metrics are: loss,mae\n"
     ]
    },
    {
     "name": "stdout",
     "output_type": "stream",
     "text": [
      "27/27 [==============================] - 0s 3ms/step - loss: 10.4415 - mae: 10.4415\n",
      "Epoch 250/2000\n",
      "19/27 [====================>.........] - ETA: 0s - loss: 9.0591 - mae: 9.0591WARNING:tensorflow:Early stopping conditioned on metric `val_mae` which is not available. Available metrics are: loss,mae\n"
     ]
    },
    {
     "name": "stderr",
     "output_type": "stream",
     "text": [
      "WARNING:tensorflow:Early stopping conditioned on metric `val_mae` which is not available. Available metrics are: loss,mae\n"
     ]
    },
    {
     "name": "stdout",
     "output_type": "stream",
     "text": [
      "27/27 [==============================] - 0s 4ms/step - loss: 9.7898 - mae: 9.7898\n",
      "Epoch 251/2000\n",
      "18/27 [===================>..........] - ETA: 0s - loss: 9.7812 - mae: 9.7812  WARNING:tensorflow:Early stopping conditioned on metric `val_mae` which is not available. Available metrics are: loss,mae\n"
     ]
    },
    {
     "name": "stderr",
     "output_type": "stream",
     "text": [
      "WARNING:tensorflow:Early stopping conditioned on metric `val_mae` which is not available. Available metrics are: loss,mae\n"
     ]
    },
    {
     "name": "stdout",
     "output_type": "stream",
     "text": [
      "27/27 [==============================] - 0s 3ms/step - loss: 9.8812 - mae: 9.8812\n",
      "Epoch 252/2000\n",
      "19/27 [====================>.........] - ETA: 0s - loss: 9.3744 - mae: 9.3744  WARNING:tensorflow:Early stopping conditioned on metric `val_mae` which is not available. Available metrics are: loss,mae\n"
     ]
    },
    {
     "name": "stderr",
     "output_type": "stream",
     "text": [
      "WARNING:tensorflow:Early stopping conditioned on metric `val_mae` which is not available. Available metrics are: loss,mae\n"
     ]
    },
    {
     "name": "stdout",
     "output_type": "stream",
     "text": [
      "27/27 [==============================] - 0s 3ms/step - loss: 10.0761 - mae: 10.0761\n",
      "Epoch 253/2000\n",
      "19/27 [====================>.........] - ETA: 0s - loss: 8.4573 - mae: 8.4573WARNING:tensorflow:Early stopping conditioned on metric `val_mae` which is not available. Available metrics are: loss,mae\n"
     ]
    },
    {
     "name": "stderr",
     "output_type": "stream",
     "text": [
      "WARNING:tensorflow:Early stopping conditioned on metric `val_mae` which is not available. Available metrics are: loss,mae\n"
     ]
    },
    {
     "name": "stdout",
     "output_type": "stream",
     "text": [
      "27/27 [==============================] - 0s 3ms/step - loss: 8.7559 - mae: 8.7559\n",
      "Epoch 254/2000\n",
      "17/27 [=================>............] - ETA: 0s - loss: 10.8067 - mae: 10.8067WARNING:tensorflow:Early stopping conditioned on metric `val_mae` which is not available. Available metrics are: loss,mae\n"
     ]
    },
    {
     "name": "stderr",
     "output_type": "stream",
     "text": [
      "WARNING:tensorflow:Early stopping conditioned on metric `val_mae` which is not available. Available metrics are: loss,mae\n"
     ]
    },
    {
     "name": "stdout",
     "output_type": "stream",
     "text": [
      "27/27 [==============================] - 0s 3ms/step - loss: 10.8706 - mae: 10.8706\n",
      "Epoch 255/2000\n",
      "17/27 [=================>............] - ETA: 0s - loss: 9.1353 - mae: 9.1353  WARNING:tensorflow:Early stopping conditioned on metric `val_mae` which is not available. Available metrics are: loss,mae\n"
     ]
    },
    {
     "name": "stderr",
     "output_type": "stream",
     "text": [
      "WARNING:tensorflow:Early stopping conditioned on metric `val_mae` which is not available. Available metrics are: loss,mae\n"
     ]
    },
    {
     "name": "stdout",
     "output_type": "stream",
     "text": [
      "27/27 [==============================] - 0s 3ms/step - loss: 8.8139 - mae: 8.8139\n",
      "Epoch 256/2000\n",
      "17/27 [=================>............] - ETA: 0s - loss: 8.9775 - mae: 8.9775WARNING:tensorflow:Early stopping conditioned on metric `val_mae` which is not available. Available metrics are: loss,mae\n"
     ]
    },
    {
     "name": "stderr",
     "output_type": "stream",
     "text": [
      "WARNING:tensorflow:Early stopping conditioned on metric `val_mae` which is not available. Available metrics are: loss,mae\n"
     ]
    },
    {
     "name": "stdout",
     "output_type": "stream",
     "text": [
      "27/27 [==============================] - 0s 3ms/step - loss: 9.4707 - mae: 9.4707\n",
      "Epoch 257/2000\n",
      "18/27 [===================>..........] - ETA: 0s - loss: 8.0268 - mae: 8.0268WARNING:tensorflow:Early stopping conditioned on metric `val_mae` which is not available. Available metrics are: loss,mae\n"
     ]
    },
    {
     "name": "stderr",
     "output_type": "stream",
     "text": [
      "WARNING:tensorflow:Early stopping conditioned on metric `val_mae` which is not available. Available metrics are: loss,mae\n"
     ]
    },
    {
     "name": "stdout",
     "output_type": "stream",
     "text": [
      "27/27 [==============================] - 0s 3ms/step - loss: 8.3795 - mae: 8.3795\n",
      "Epoch 258/2000\n",
      "15/27 [===============>..............] - ETA: 0s - loss: 8.6735 - mae: 8.6735WARNING:tensorflow:Early stopping conditioned on metric `val_mae` which is not available. Available metrics are: loss,mae\n"
     ]
    },
    {
     "name": "stderr",
     "output_type": "stream",
     "text": [
      "WARNING:tensorflow:Early stopping conditioned on metric `val_mae` which is not available. Available metrics are: loss,mae\n"
     ]
    },
    {
     "name": "stdout",
     "output_type": "stream",
     "text": [
      "27/27 [==============================] - 0s 4ms/step - loss: 8.5446 - mae: 8.5446\n",
      "Epoch 259/2000\n",
      "19/27 [====================>.........] - ETA: 0s - loss: 9.1427 - mae: 9.1427  WARNING:tensorflow:Early stopping conditioned on metric `val_mae` which is not available. Available metrics are: loss,mae\n"
     ]
    },
    {
     "name": "stderr",
     "output_type": "stream",
     "text": [
      "WARNING:tensorflow:Early stopping conditioned on metric `val_mae` which is not available. Available metrics are: loss,mae\n"
     ]
    },
    {
     "name": "stdout",
     "output_type": "stream",
     "text": [
      "27/27 [==============================] - 0s 3ms/step - loss: 8.7995 - mae: 8.7995\n",
      "Epoch 260/2000\n",
      "19/27 [====================>.........] - ETA: 0s - loss: 8.9457 - mae: 8.9457WARNING:tensorflow:Early stopping conditioned on metric `val_mae` which is not available. Available metrics are: loss,mae\n"
     ]
    },
    {
     "name": "stderr",
     "output_type": "stream",
     "text": [
      "WARNING:tensorflow:Early stopping conditioned on metric `val_mae` which is not available. Available metrics are: loss,mae\n"
     ]
    },
    {
     "name": "stdout",
     "output_type": "stream",
     "text": [
      "27/27 [==============================] - 0s 3ms/step - loss: 8.6293 - mae: 8.6293\n",
      "Epoch 261/2000\n",
      "19/27 [====================>.........] - ETA: 0s - loss: 11.6964 - mae: 11.6964WARNING:tensorflow:Early stopping conditioned on metric `val_mae` which is not available. Available metrics are: loss,mae\n"
     ]
    },
    {
     "name": "stderr",
     "output_type": "stream",
     "text": [
      "WARNING:tensorflow:Early stopping conditioned on metric `val_mae` which is not available. Available metrics are: loss,mae\n"
     ]
    },
    {
     "name": "stdout",
     "output_type": "stream",
     "text": [
      "27/27 [==============================] - 0s 3ms/step - loss: 11.4851 - mae: 11.4851\n",
      "Epoch 262/2000\n",
      "20/27 [=====================>........] - ETA: 0s - loss: 8.5576 - mae: 8.5576WARNING:tensorflow:Early stopping conditioned on metric `val_mae` which is not available. Available metrics are: loss,mae\n"
     ]
    },
    {
     "name": "stderr",
     "output_type": "stream",
     "text": [
      "WARNING:tensorflow:Early stopping conditioned on metric `val_mae` which is not available. Available metrics are: loss,mae\n"
     ]
    },
    {
     "name": "stdout",
     "output_type": "stream",
     "text": [
      "27/27 [==============================] - 0s 3ms/step - loss: 8.5470 - mae: 8.5470\n",
      "Epoch 263/2000\n",
      "20/27 [=====================>........] - ETA: 0s - loss: 9.9657 - mae: 9.9657  WARNING:tensorflow:Early stopping conditioned on metric `val_mae` which is not available. Available metrics are: loss,mae\n"
     ]
    },
    {
     "name": "stderr",
     "output_type": "stream",
     "text": [
      "WARNING:tensorflow:Early stopping conditioned on metric `val_mae` which is not available. Available metrics are: loss,mae\n"
     ]
    },
    {
     "name": "stdout",
     "output_type": "stream",
     "text": [
      "27/27 [==============================] - 0s 3ms/step - loss: 9.9437 - mae: 9.9437\n",
      "Epoch 264/2000\n",
      "20/27 [=====================>........] - ETA: 0s - loss: 8.7824 - mae: 8.7824  WARNING:tensorflow:Early stopping conditioned on metric `val_mae` which is not available. Available metrics are: loss,mae\n"
     ]
    },
    {
     "name": "stderr",
     "output_type": "stream",
     "text": [
      "WARNING:tensorflow:Early stopping conditioned on metric `val_mae` which is not available. Available metrics are: loss,mae\n"
     ]
    },
    {
     "name": "stdout",
     "output_type": "stream",
     "text": [
      "27/27 [==============================] - 0s 3ms/step - loss: 8.6880 - mae: 8.6880\n",
      "Epoch 265/2000\n",
      "19/27 [====================>.........] - ETA: 0s - loss: 7.8124 - mae: 7.8124WARNING:tensorflow:Early stopping conditioned on metric `val_mae` which is not available. Available metrics are: loss,mae\n"
     ]
    },
    {
     "name": "stderr",
     "output_type": "stream",
     "text": [
      "WARNING:tensorflow:Early stopping conditioned on metric `val_mae` which is not available. Available metrics are: loss,mae\n"
     ]
    },
    {
     "name": "stdout",
     "output_type": "stream",
     "text": [
      "27/27 [==============================] - 0s 3ms/step - loss: 8.2255 - mae: 8.2255\n",
      "Epoch 266/2000\n",
      "19/27 [====================>.........] - ETA: 0s - loss: 10.4318 - mae: 10.4318WARNING:tensorflow:Early stopping conditioned on metric `val_mae` which is not available. Available metrics are: loss,mae\n"
     ]
    },
    {
     "name": "stderr",
     "output_type": "stream",
     "text": [
      "WARNING:tensorflow:Early stopping conditioned on metric `val_mae` which is not available. Available metrics are: loss,mae\n"
     ]
    },
    {
     "name": "stdout",
     "output_type": "stream",
     "text": [
      "27/27 [==============================] - 0s 3ms/step - loss: 10.7829 - mae: 10.7829\n",
      "Epoch 267/2000\n",
      "19/27 [====================>.........] - ETA: 0s - loss: 11.4865 - mae: 11.4865WARNING:tensorflow:Early stopping conditioned on metric `val_mae` which is not available. Available metrics are: loss,mae\n"
     ]
    },
    {
     "name": "stderr",
     "output_type": "stream",
     "text": [
      "WARNING:tensorflow:Early stopping conditioned on metric `val_mae` which is not available. Available metrics are: loss,mae\n"
     ]
    },
    {
     "name": "stdout",
     "output_type": "stream",
     "text": [
      "27/27 [==============================] - 0s 3ms/step - loss: 11.1264 - mae: 11.1264\n",
      "Epoch 268/2000\n",
      "19/27 [====================>.........] - ETA: 0s - loss: 10.8598 - mae: 10.8598WARNING:tensorflow:Early stopping conditioned on metric `val_mae` which is not available. Available metrics are: loss,mae\n"
     ]
    },
    {
     "name": "stderr",
     "output_type": "stream",
     "text": [
      "WARNING:tensorflow:Early stopping conditioned on metric `val_mae` which is not available. Available metrics are: loss,mae\n"
     ]
    },
    {
     "name": "stdout",
     "output_type": "stream",
     "text": [
      "27/27 [==============================] - 0s 3ms/step - loss: 10.6924 - mae: 10.6924\n",
      "Epoch 269/2000\n",
      "20/27 [=====================>........] - ETA: 0s - loss: 11.2463 - mae: 11.2463WARNING:tensorflow:Early stopping conditioned on metric `val_mae` which is not available. Available metrics are: loss,mae\n"
     ]
    },
    {
     "name": "stderr",
     "output_type": "stream",
     "text": [
      "WARNING:tensorflow:Early stopping conditioned on metric `val_mae` which is not available. Available metrics are: loss,mae\n"
     ]
    },
    {
     "name": "stdout",
     "output_type": "stream",
     "text": [
      "27/27 [==============================] - 0s 3ms/step - loss: 10.5701 - mae: 10.5701\n",
      "Epoch 270/2000\n",
      "19/27 [====================>.........] - ETA: 0s - loss: 8.8057 - mae: 8.8057WARNING:tensorflow:Early stopping conditioned on metric `val_mae` which is not available. Available metrics are: loss,mae\n"
     ]
    },
    {
     "name": "stderr",
     "output_type": "stream",
     "text": [
      "WARNING:tensorflow:Early stopping conditioned on metric `val_mae` which is not available. Available metrics are: loss,mae\n"
     ]
    },
    {
     "name": "stdout",
     "output_type": "stream",
     "text": [
      "27/27 [==============================] - 0s 3ms/step - loss: 8.4546 - mae: 8.4546\n",
      "Epoch 271/2000\n",
      "19/27 [====================>.........] - ETA: 0s - loss: 7.9360 - mae: 7.9360WARNING:tensorflow:Early stopping conditioned on metric `val_mae` which is not available. Available metrics are: loss,mae\n"
     ]
    },
    {
     "name": "stderr",
     "output_type": "stream",
     "text": [
      "WARNING:tensorflow:Early stopping conditioned on metric `val_mae` which is not available. Available metrics are: loss,mae\n"
     ]
    },
    {
     "name": "stdout",
     "output_type": "stream",
     "text": [
      "27/27 [==============================] - 0s 3ms/step - loss: 7.9283 - mae: 7.9283\n",
      "Epoch 272/2000\n",
      "20/27 [=====================>........] - ETA: 0s - loss: 12.0169 - mae: 12.0169WARNING:tensorflow:Early stopping conditioned on metric `val_mae` which is not available. Available metrics are: loss,mae\n"
     ]
    },
    {
     "name": "stderr",
     "output_type": "stream",
     "text": [
      "WARNING:tensorflow:Early stopping conditioned on metric `val_mae` which is not available. Available metrics are: loss,mae\n"
     ]
    },
    {
     "name": "stdout",
     "output_type": "stream",
     "text": [
      "27/27 [==============================] - 0s 3ms/step - loss: 11.9972 - mae: 11.9972\n",
      "Epoch 273/2000\n",
      "19/27 [====================>.........] - ETA: 0s - loss: 11.5797 - mae: 11.5797WARNING:tensorflow:Early stopping conditioned on metric `val_mae` which is not available. Available metrics are: loss,mae\n"
     ]
    },
    {
     "name": "stderr",
     "output_type": "stream",
     "text": [
      "WARNING:tensorflow:Early stopping conditioned on metric `val_mae` which is not available. Available metrics are: loss,mae\n"
     ]
    },
    {
     "name": "stdout",
     "output_type": "stream",
     "text": [
      "27/27 [==============================] - 0s 3ms/step - loss: 11.0912 - mae: 11.0912\n",
      "Epoch 274/2000\n",
      "19/27 [====================>.........] - ETA: 0s - loss: 14.7233 - mae: 14.7233WARNING:tensorflow:Early stopping conditioned on metric `val_mae` which is not available. Available metrics are: loss,mae\n"
     ]
    },
    {
     "name": "stderr",
     "output_type": "stream",
     "text": [
      "WARNING:tensorflow:Early stopping conditioned on metric `val_mae` which is not available. Available metrics are: loss,mae\n"
     ]
    },
    {
     "name": "stdout",
     "output_type": "stream",
     "text": [
      "27/27 [==============================] - 0s 3ms/step - loss: 14.5992 - mae: 14.5992\n",
      "Epoch 275/2000\n",
      "18/27 [===================>..........] - ETA: 0s - loss: 13.2087 - mae: 13.2087WARNING:tensorflow:Early stopping conditioned on metric `val_mae` which is not available. Available metrics are: loss,mae\n"
     ]
    },
    {
     "name": "stderr",
     "output_type": "stream",
     "text": [
      "WARNING:tensorflow:Early stopping conditioned on metric `val_mae` which is not available. Available metrics are: loss,mae\n"
     ]
    },
    {
     "name": "stdout",
     "output_type": "stream",
     "text": [
      "27/27 [==============================] - 0s 3ms/step - loss: 12.8612 - mae: 12.8612\n",
      "Epoch 276/2000\n",
      "18/27 [===================>..........] - ETA: 0s - loss: 15.9328 - mae: 15.9328WARNING:tensorflow:Early stopping conditioned on metric `val_mae` which is not available. Available metrics are: loss,mae\n"
     ]
    },
    {
     "name": "stderr",
     "output_type": "stream",
     "text": [
      "WARNING:tensorflow:Early stopping conditioned on metric `val_mae` which is not available. Available metrics are: loss,mae\n"
     ]
    },
    {
     "name": "stdout",
     "output_type": "stream",
     "text": [
      "27/27 [==============================] - 0s 3ms/step - loss: 13.5837 - mae: 13.5837\n",
      "Epoch 277/2000\n",
      "18/27 [===================>..........] - ETA: 0s - loss: 10.0940 - mae: 10.0940WARNING:tensorflow:Early stopping conditioned on metric `val_mae` which is not available. Available metrics are: loss,mae\n"
     ]
    },
    {
     "name": "stderr",
     "output_type": "stream",
     "text": [
      "WARNING:tensorflow:Early stopping conditioned on metric `val_mae` which is not available. Available metrics are: loss,mae\n"
     ]
    },
    {
     "name": "stdout",
     "output_type": "stream",
     "text": [
      "27/27 [==============================] - 0s 3ms/step - loss: 9.5373 - mae: 9.5373\n",
      "Epoch 278/2000\n",
      "18/27 [===================>..........] - ETA: 0s - loss: 9.5987 - mae: 9.5987WARNING:tensorflow:Early stopping conditioned on metric `val_mae` which is not available. Available metrics are: loss,mae\n"
     ]
    },
    {
     "name": "stderr",
     "output_type": "stream",
     "text": [
      "WARNING:tensorflow:Early stopping conditioned on metric `val_mae` which is not available. Available metrics are: loss,mae\n"
     ]
    },
    {
     "name": "stdout",
     "output_type": "stream",
     "text": [
      "27/27 [==============================] - 0s 3ms/step - loss: 9.9059 - mae: 9.9059\n",
      "Epoch 279/2000\n",
      "17/27 [=================>............] - ETA: 0s - loss: 11.3827 - mae: 11.3827WARNING:tensorflow:Early stopping conditioned on metric `val_mae` which is not available. Available metrics are: loss,mae\n"
     ]
    },
    {
     "name": "stderr",
     "output_type": "stream",
     "text": [
      "WARNING:tensorflow:Early stopping conditioned on metric `val_mae` which is not available. Available metrics are: loss,mae\n"
     ]
    },
    {
     "name": "stdout",
     "output_type": "stream",
     "text": [
      "27/27 [==============================] - 0s 3ms/step - loss: 10.6207 - mae: 10.6207\n",
      "Epoch 280/2000\n",
      "16/27 [================>.............] - ETA: 0s - loss: 10.7575 - mae: 10.7575WARNING:tensorflow:Early stopping conditioned on metric `val_mae` which is not available. Available metrics are: loss,mae\n"
     ]
    },
    {
     "name": "stderr",
     "output_type": "stream",
     "text": [
      "WARNING:tensorflow:Early stopping conditioned on metric `val_mae` which is not available. Available metrics are: loss,mae\n"
     ]
    },
    {
     "name": "stdout",
     "output_type": "stream",
     "text": [
      "27/27 [==============================] - 0s 4ms/step - loss: 11.0553 - mae: 11.0553\n",
      "Epoch 281/2000\n",
      "19/27 [====================>.........] - ETA: 0s - loss: 10.8004 - mae: 10.8004WARNING:tensorflow:Early stopping conditioned on metric `val_mae` which is not available. Available metrics are: loss,mae\n"
     ]
    },
    {
     "name": "stderr",
     "output_type": "stream",
     "text": [
      "WARNING:tensorflow:Early stopping conditioned on metric `val_mae` which is not available. Available metrics are: loss,mae\n"
     ]
    },
    {
     "name": "stdout",
     "output_type": "stream",
     "text": [
      "27/27 [==============================] - 0s 3ms/step - loss: 10.0894 - mae: 10.0894\n",
      "Epoch 282/2000\n",
      "19/27 [====================>.........] - ETA: 0s - loss: 8.0911 - mae: 8.0911WARNING:tensorflow:Early stopping conditioned on metric `val_mae` which is not available. Available metrics are: loss,mae\n"
     ]
    },
    {
     "name": "stderr",
     "output_type": "stream",
     "text": [
      "WARNING:tensorflow:Early stopping conditioned on metric `val_mae` which is not available. Available metrics are: loss,mae\n"
     ]
    },
    {
     "name": "stdout",
     "output_type": "stream",
     "text": [
      "27/27 [==============================] - 0s 3ms/step - loss: 8.6687 - mae: 8.6687\n",
      "Epoch 283/2000\n",
      "18/27 [===================>..........] - ETA: 0s - loss: 8.7354 - mae: 8.7354WARNING:tensorflow:Early stopping conditioned on metric `val_mae` which is not available. Available metrics are: loss,mae\n"
     ]
    },
    {
     "name": "stderr",
     "output_type": "stream",
     "text": [
      "WARNING:tensorflow:Early stopping conditioned on metric `val_mae` which is not available. Available metrics are: loss,mae\n"
     ]
    },
    {
     "name": "stdout",
     "output_type": "stream",
     "text": [
      "27/27 [==============================] - 0s 3ms/step - loss: 8.6734 - mae: 8.6734\n",
      "Epoch 284/2000\n",
      "18/27 [===================>..........] - ETA: 0s - loss: 14.8882 - mae: 14.8882WARNING:tensorflow:Early stopping conditioned on metric `val_mae` which is not available. Available metrics are: loss,mae\n"
     ]
    },
    {
     "name": "stderr",
     "output_type": "stream",
     "text": [
      "WARNING:tensorflow:Early stopping conditioned on metric `val_mae` which is not available. Available metrics are: loss,mae\n"
     ]
    },
    {
     "name": "stdout",
     "output_type": "stream",
     "text": [
      "27/27 [==============================] - 0s 3ms/step - loss: 14.5300 - mae: 14.5300\n",
      "Epoch 285/2000\n",
      "18/27 [===================>..........] - ETA: 0s - loss: 10.1370 - mae: 10.1370WARNING:tensorflow:Early stopping conditioned on metric `val_mae` which is not available. Available metrics are: loss,mae\n"
     ]
    },
    {
     "name": "stderr",
     "output_type": "stream",
     "text": [
      "WARNING:tensorflow:Early stopping conditioned on metric `val_mae` which is not available. Available metrics are: loss,mae\n"
     ]
    },
    {
     "name": "stdout",
     "output_type": "stream",
     "text": [
      "27/27 [==============================] - 0s 3ms/step - loss: 9.4152 - mae: 9.4152\n",
      "Epoch 286/2000\n",
      "16/27 [================>.............] - ETA: 0s - loss: 8.8361 - mae: 8.8361WARNING:tensorflow:Early stopping conditioned on metric `val_mae` which is not available. Available metrics are: loss,mae\n"
     ]
    },
    {
     "name": "stderr",
     "output_type": "stream",
     "text": [
      "WARNING:tensorflow:Early stopping conditioned on metric `val_mae` which is not available. Available metrics are: loss,mae\n"
     ]
    },
    {
     "name": "stdout",
     "output_type": "stream",
     "text": [
      "27/27 [==============================] - 0s 4ms/step - loss: 9.5799 - mae: 9.5799\n",
      "Epoch 287/2000\n",
      "18/27 [===================>..........] - ETA: 0s - loss: 9.4062 - mae: 9.4062WARNING:tensorflow:Early stopping conditioned on metric `val_mae` which is not available. Available metrics are: loss,mae\n"
     ]
    },
    {
     "name": "stderr",
     "output_type": "stream",
     "text": [
      "WARNING:tensorflow:Early stopping conditioned on metric `val_mae` which is not available. Available metrics are: loss,mae\n"
     ]
    },
    {
     "name": "stdout",
     "output_type": "stream",
     "text": [
      "27/27 [==============================] - 0s 3ms/step - loss: 9.0009 - mae: 9.0009\n",
      "Epoch 288/2000\n",
      "19/27 [====================>.........] - ETA: 0s - loss: 9.6823 - mae: 9.6823WARNING:tensorflow:Early stopping conditioned on metric `val_mae` which is not available. Available metrics are: loss,mae\n"
     ]
    },
    {
     "name": "stderr",
     "output_type": "stream",
     "text": [
      "WARNING:tensorflow:Early stopping conditioned on metric `val_mae` which is not available. Available metrics are: loss,mae\n"
     ]
    },
    {
     "name": "stdout",
     "output_type": "stream",
     "text": [
      "27/27 [==============================] - 0s 3ms/step - loss: 9.2047 - mae: 9.2047\n",
      "Epoch 289/2000\n",
      "19/27 [====================>.........] - ETA: 0s - loss: 10.1735 - mae: 10.1735WARNING:tensorflow:Early stopping conditioned on metric `val_mae` which is not available. Available metrics are: loss,mae\n"
     ]
    },
    {
     "name": "stderr",
     "output_type": "stream",
     "text": [
      "WARNING:tensorflow:Early stopping conditioned on metric `val_mae` which is not available. Available metrics are: loss,mae\n"
     ]
    },
    {
     "name": "stdout",
     "output_type": "stream",
     "text": [
      "27/27 [==============================] - 0s 3ms/step - loss: 10.6896 - mae: 10.6896\n",
      "Epoch 290/2000\n",
      "18/27 [===================>..........] - ETA: 0s - loss: 11.0092 - mae: 11.0092WARNING:tensorflow:Early stopping conditioned on metric `val_mae` which is not available. Available metrics are: loss,mae\n"
     ]
    },
    {
     "name": "stderr",
     "output_type": "stream",
     "text": [
      "WARNING:tensorflow:Early stopping conditioned on metric `val_mae` which is not available. Available metrics are: loss,mae\n"
     ]
    },
    {
     "name": "stdout",
     "output_type": "stream",
     "text": [
      "27/27 [==============================] - 0s 3ms/step - loss: 11.2779 - mae: 11.2779\n",
      "Epoch 291/2000\n",
      "19/27 [====================>.........] - ETA: 0s - loss: 11.8459 - mae: 11.8459WARNING:tensorflow:Early stopping conditioned on metric `val_mae` which is not available. Available metrics are: loss,mae\n"
     ]
    },
    {
     "name": "stderr",
     "output_type": "stream",
     "text": [
      "WARNING:tensorflow:Early stopping conditioned on metric `val_mae` which is not available. Available metrics are: loss,mae\n"
     ]
    },
    {
     "name": "stdout",
     "output_type": "stream",
     "text": [
      "27/27 [==============================] - 0s 3ms/step - loss: 11.3908 - mae: 11.3908\n",
      "Epoch 292/2000\n",
      "19/27 [====================>.........] - ETA: 0s - loss: 8.2050 - mae: 8.2050  WARNING:tensorflow:Early stopping conditioned on metric `val_mae` which is not available. Available metrics are: loss,mae\n"
     ]
    },
    {
     "name": "stderr",
     "output_type": "stream",
     "text": [
      "WARNING:tensorflow:Early stopping conditioned on metric `val_mae` which is not available. Available metrics are: loss,mae\n"
     ]
    },
    {
     "name": "stdout",
     "output_type": "stream",
     "text": [
      "27/27 [==============================] - 0s 3ms/step - loss: 8.4520 - mae: 8.4520\n",
      "Epoch 293/2000\n",
      "20/27 [=====================>........] - ETA: 0s - loss: 8.5537 - mae: 8.5537WARNING:tensorflow:Early stopping conditioned on metric `val_mae` which is not available. Available metrics are: loss,mae\n"
     ]
    },
    {
     "name": "stderr",
     "output_type": "stream",
     "text": [
      "WARNING:tensorflow:Early stopping conditioned on metric `val_mae` which is not available. Available metrics are: loss,mae\n"
     ]
    },
    {
     "name": "stdout",
     "output_type": "stream",
     "text": [
      "27/27 [==============================] - 0s 3ms/step - loss: 8.4498 - mae: 8.4498\n",
      "Epoch 294/2000\n",
      "19/27 [====================>.........] - ETA: 0s - loss: 8.1991 - mae: 8.1991WARNING:tensorflow:Early stopping conditioned on metric `val_mae` which is not available. Available metrics are: loss,mae\n"
     ]
    },
    {
     "name": "stderr",
     "output_type": "stream",
     "text": [
      "WARNING:tensorflow:Early stopping conditioned on metric `val_mae` which is not available. Available metrics are: loss,mae\n"
     ]
    },
    {
     "name": "stdout",
     "output_type": "stream",
     "text": [
      "27/27 [==============================] - 0s 3ms/step - loss: 7.9816 - mae: 7.9816\n",
      "Epoch 295/2000\n",
      "19/27 [====================>.........] - ETA: 0s - loss: 11.7604 - mae: 11.7604WARNING:tensorflow:Early stopping conditioned on metric `val_mae` which is not available. Available metrics are: loss,mae\n"
     ]
    },
    {
     "name": "stderr",
     "output_type": "stream",
     "text": [
      "WARNING:tensorflow:Early stopping conditioned on metric `val_mae` which is not available. Available metrics are: loss,mae\n"
     ]
    },
    {
     "name": "stdout",
     "output_type": "stream",
     "text": [
      "27/27 [==============================] - 0s 3ms/step - loss: 10.5080 - mae: 10.5080\n",
      "Epoch 296/2000\n",
      "19/27 [====================>.........] - ETA: 0s - loss: 8.3907 - mae: 8.3907  WARNING:tensorflow:Early stopping conditioned on metric `val_mae` which is not available. Available metrics are: loss,mae\n"
     ]
    },
    {
     "name": "stderr",
     "output_type": "stream",
     "text": [
      "WARNING:tensorflow:Early stopping conditioned on metric `val_mae` which is not available. Available metrics are: loss,mae\n"
     ]
    },
    {
     "name": "stdout",
     "output_type": "stream",
     "text": [
      "27/27 [==============================] - 0s 3ms/step - loss: 8.4303 - mae: 8.4303\n",
      "Epoch 297/2000\n",
      "16/27 [================>.............] - ETA: 0s - loss: 12.3505 - mae: 12.3505WARNING:tensorflow:Early stopping conditioned on metric `val_mae` which is not available. Available metrics are: loss,mae\n"
     ]
    },
    {
     "name": "stderr",
     "output_type": "stream",
     "text": [
      "WARNING:tensorflow:Early stopping conditioned on metric `val_mae` which is not available. Available metrics are: loss,mae\n"
     ]
    },
    {
     "name": "stdout",
     "output_type": "stream",
     "text": [
      "27/27 [==============================] - 0s 4ms/step - loss: 13.9287 - mae: 13.9287\n",
      "Epoch 298/2000\n",
      "18/27 [===================>..........] - ETA: 0s - loss: 12.2865 - mae: 12.2865WARNING:tensorflow:Early stopping conditioned on metric `val_mae` which is not available. Available metrics are: loss,mae\n"
     ]
    },
    {
     "name": "stderr",
     "output_type": "stream",
     "text": [
      "WARNING:tensorflow:Early stopping conditioned on metric `val_mae` which is not available. Available metrics are: loss,mae\n"
     ]
    },
    {
     "name": "stdout",
     "output_type": "stream",
     "text": [
      "27/27 [==============================] - 0s 3ms/step - loss: 10.7676 - mae: 10.7676\n",
      "Epoch 299/2000\n",
      "19/27 [====================>.........] - ETA: 0s - loss: 7.6331 - mae: 7.6331WARNING:tensorflow:Early stopping conditioned on metric `val_mae` which is not available. Available metrics are: loss,mae\n"
     ]
    },
    {
     "name": "stderr",
     "output_type": "stream",
     "text": [
      "WARNING:tensorflow:Early stopping conditioned on metric `val_mae` which is not available. Available metrics are: loss,mae\n"
     ]
    },
    {
     "name": "stdout",
     "output_type": "stream",
     "text": [
      "27/27 [==============================] - 0s 3ms/step - loss: 7.5500 - mae: 7.5500\n",
      "Epoch 300/2000\n",
      "18/27 [===================>..........] - ETA: 0s - loss: 10.1515 - mae: 10.1515WARNING:tensorflow:Early stopping conditioned on metric `val_mae` which is not available. Available metrics are: loss,mae\n"
     ]
    },
    {
     "name": "stderr",
     "output_type": "stream",
     "text": [
      "WARNING:tensorflow:Early stopping conditioned on metric `val_mae` which is not available. Available metrics are: loss,mae\n"
     ]
    },
    {
     "name": "stdout",
     "output_type": "stream",
     "text": [
      "27/27 [==============================] - 0s 3ms/step - loss: 9.9578 - mae: 9.9578\n",
      "Epoch 301/2000\n",
      "19/27 [====================>.........] - ETA: 0s - loss: 9.5623 - mae: 9.5623WARNING:tensorflow:Early stopping conditioned on metric `val_mae` which is not available. Available metrics are: loss,mae\n"
     ]
    },
    {
     "name": "stderr",
     "output_type": "stream",
     "text": [
      "WARNING:tensorflow:Early stopping conditioned on metric `val_mae` which is not available. Available metrics are: loss,mae\n"
     ]
    },
    {
     "name": "stdout",
     "output_type": "stream",
     "text": [
      "27/27 [==============================] - 0s 3ms/step - loss: 10.4292 - mae: 10.4292\n",
      "Epoch 302/2000\n",
      "19/27 [====================>.........] - ETA: 0s - loss: 10.1657 - mae: 10.1657WARNING:tensorflow:Early stopping conditioned on metric `val_mae` which is not available. Available metrics are: loss,mae\n"
     ]
    },
    {
     "name": "stderr",
     "output_type": "stream",
     "text": [
      "WARNING:tensorflow:Early stopping conditioned on metric `val_mae` which is not available. Available metrics are: loss,mae\n"
     ]
    },
    {
     "name": "stdout",
     "output_type": "stream",
     "text": [
      "27/27 [==============================] - 0s 3ms/step - loss: 10.7173 - mae: 10.7173\n",
      "Epoch 303/2000\n",
      "20/27 [=====================>........] - ETA: 0s - loss: 8.9969 - mae: 8.9969  WARNING:tensorflow:Early stopping conditioned on metric `val_mae` which is not available. Available metrics are: loss,mae\n"
     ]
    },
    {
     "name": "stderr",
     "output_type": "stream",
     "text": [
      "WARNING:tensorflow:Early stopping conditioned on metric `val_mae` which is not available. Available metrics are: loss,mae\n"
     ]
    },
    {
     "name": "stdout",
     "output_type": "stream",
     "text": [
      "27/27 [==============================] - 0s 3ms/step - loss: 8.8533 - mae: 8.8533\n",
      "Epoch 304/2000\n",
      "20/27 [=====================>........] - ETA: 0s - loss: 9.5142 - mae: 9.5142  WARNING:tensorflow:Early stopping conditioned on metric `val_mae` which is not available. Available metrics are: loss,mae\n"
     ]
    },
    {
     "name": "stderr",
     "output_type": "stream",
     "text": [
      "WARNING:tensorflow:Early stopping conditioned on metric `val_mae` which is not available. Available metrics are: loss,mae\n"
     ]
    },
    {
     "name": "stdout",
     "output_type": "stream",
     "text": [
      "27/27 [==============================] - 0s 3ms/step - loss: 8.9430 - mae: 8.9430\n",
      "Epoch 305/2000\n",
      "19/27 [====================>.........] - ETA: 0s - loss: 10.1808 - mae: 10.1808WARNING:tensorflow:Early stopping conditioned on metric `val_mae` which is not available. Available metrics are: loss,mae\n"
     ]
    },
    {
     "name": "stderr",
     "output_type": "stream",
     "text": [
      "WARNING:tensorflow:Early stopping conditioned on metric `val_mae` which is not available. Available metrics are: loss,mae\n"
     ]
    },
    {
     "name": "stdout",
     "output_type": "stream",
     "text": [
      "27/27 [==============================] - 0s 3ms/step - loss: 9.3267 - mae: 9.3267\n",
      "Epoch 306/2000\n",
      "19/27 [====================>.........] - ETA: 0s - loss: 12.1891 - mae: 12.1891WARNING:tensorflow:Early stopping conditioned on metric `val_mae` which is not available. Available metrics are: loss,mae\n"
     ]
    },
    {
     "name": "stderr",
     "output_type": "stream",
     "text": [
      "WARNING:tensorflow:Early stopping conditioned on metric `val_mae` which is not available. Available metrics are: loss,mae\n"
     ]
    },
    {
     "name": "stdout",
     "output_type": "stream",
     "text": [
      "27/27 [==============================] - 0s 3ms/step - loss: 11.2579 - mae: 11.2579\n",
      "Epoch 307/2000\n",
      "19/27 [====================>.........] - ETA: 0s - loss: 9.0182 - mae: 9.0182WARNING:tensorflow:Early stopping conditioned on metric `val_mae` which is not available. Available metrics are: loss,mae\n"
     ]
    },
    {
     "name": "stderr",
     "output_type": "stream",
     "text": [
      "WARNING:tensorflow:Early stopping conditioned on metric `val_mae` which is not available. Available metrics are: loss,mae\n"
     ]
    },
    {
     "name": "stdout",
     "output_type": "stream",
     "text": [
      "27/27 [==============================] - 0s 3ms/step - loss: 9.3644 - mae: 9.3644\n",
      "Epoch 308/2000\n",
      "20/27 [=====================>........] - ETA: 0s - loss: 8.9778 - mae: 8.9778  WARNING:tensorflow:Early stopping conditioned on metric `val_mae` which is not available. Available metrics are: loss,mae\n"
     ]
    },
    {
     "name": "stderr",
     "output_type": "stream",
     "text": [
      "WARNING:tensorflow:Early stopping conditioned on metric `val_mae` which is not available. Available metrics are: loss,mae\n"
     ]
    },
    {
     "name": "stdout",
     "output_type": "stream",
     "text": [
      "27/27 [==============================] - 0s 3ms/step - loss: 8.5416 - mae: 8.5416\n",
      "Epoch 309/2000\n",
      "19/27 [====================>.........] - ETA: 0s - loss: 11.3263 - mae: 11.3263WARNING:tensorflow:Early stopping conditioned on metric `val_mae` which is not available. Available metrics are: loss,mae\n"
     ]
    },
    {
     "name": "stderr",
     "output_type": "stream",
     "text": [
      "WARNING:tensorflow:Early stopping conditioned on metric `val_mae` which is not available. Available metrics are: loss,mae\n"
     ]
    },
    {
     "name": "stdout",
     "output_type": "stream",
     "text": [
      "27/27 [==============================] - 0s 3ms/step - loss: 13.5715 - mae: 13.5715\n",
      "Epoch 310/2000\n",
      "17/27 [=================>............] - ETA: 0s - loss: 10.8098 - mae: 10.8098WARNING:tensorflow:Early stopping conditioned on metric `val_mae` which is not available. Available metrics are: loss,mae\n"
     ]
    },
    {
     "name": "stderr",
     "output_type": "stream",
     "text": [
      "WARNING:tensorflow:Early stopping conditioned on metric `val_mae` which is not available. Available metrics are: loss,mae\n"
     ]
    },
    {
     "name": "stdout",
     "output_type": "stream",
     "text": [
      "27/27 [==============================] - 0s 4ms/step - loss: 9.8751 - mae: 9.8751\n",
      "Epoch 311/2000\n",
      "17/27 [=================>............] - ETA: 0s - loss: 9.1473 - mae: 9.1473WARNING:tensorflow:Early stopping conditioned on metric `val_mae` which is not available. Available metrics are: loss,mae\n"
     ]
    },
    {
     "name": "stderr",
     "output_type": "stream",
     "text": [
      "WARNING:tensorflow:Early stopping conditioned on metric `val_mae` which is not available. Available metrics are: loss,mae\n"
     ]
    },
    {
     "name": "stdout",
     "output_type": "stream",
     "text": [
      "27/27 [==============================] - 0s 3ms/step - loss: 9.1631 - mae: 9.1631\n",
      "Epoch 312/2000\n",
      "17/27 [=================>............] - ETA: 0s - loss: 7.7245 - mae: 7.7245WARNING:tensorflow:Early stopping conditioned on metric `val_mae` which is not available. Available metrics are: loss,mae\n"
     ]
    },
    {
     "name": "stderr",
     "output_type": "stream",
     "text": [
      "WARNING:tensorflow:Early stopping conditioned on metric `val_mae` which is not available. Available metrics are: loss,mae\n"
     ]
    },
    {
     "name": "stdout",
     "output_type": "stream",
     "text": [
      "27/27 [==============================] - 0s 4ms/step - loss: 8.4557 - mae: 8.4557\n",
      "Epoch 313/2000\n",
      "17/27 [=================>............] - ETA: 0s - loss: 9.3240 - mae: 9.3240WARNING:tensorflow:Early stopping conditioned on metric `val_mae` which is not available. Available metrics are: loss,mae\n"
     ]
    },
    {
     "name": "stderr",
     "output_type": "stream",
     "text": [
      "WARNING:tensorflow:Early stopping conditioned on metric `val_mae` which is not available. Available metrics are: loss,mae\n"
     ]
    },
    {
     "name": "stdout",
     "output_type": "stream",
     "text": [
      "27/27 [==============================] - 0s 4ms/step - loss: 8.9688 - mae: 8.9688\n",
      "Epoch 314/2000\n",
      "17/27 [=================>............] - ETA: 0s - loss: 8.6777 - mae: 8.6777WARNING:tensorflow:Early stopping conditioned on metric `val_mae` which is not available. Available metrics are: loss,mae\n"
     ]
    },
    {
     "name": "stderr",
     "output_type": "stream",
     "text": [
      "WARNING:tensorflow:Early stopping conditioned on metric `val_mae` which is not available. Available metrics are: loss,mae\n"
     ]
    },
    {
     "name": "stdout",
     "output_type": "stream",
     "text": [
      "27/27 [==============================] - 0s 3ms/step - loss: 8.0162 - mae: 8.0162\n",
      "Epoch 315/2000\n",
      "18/27 [===================>..........] - ETA: 0s - loss: 7.6621 - mae: 7.6621WARNING:tensorflow:Early stopping conditioned on metric `val_mae` which is not available. Available metrics are: loss,mae\n"
     ]
    },
    {
     "name": "stderr",
     "output_type": "stream",
     "text": [
      "WARNING:tensorflow:Early stopping conditioned on metric `val_mae` which is not available. Available metrics are: loss,mae\n"
     ]
    },
    {
     "name": "stdout",
     "output_type": "stream",
     "text": [
      "27/27 [==============================] - 0s 3ms/step - loss: 7.8684 - mae: 7.8684\n",
      "Epoch 316/2000\n",
      "18/27 [===================>..........] - ETA: 0s - loss: 9.9015 - mae: 9.9015WARNING:tensorflow:Early stopping conditioned on metric `val_mae` which is not available. Available metrics are: loss,mae\n"
     ]
    },
    {
     "name": "stderr",
     "output_type": "stream",
     "text": [
      "WARNING:tensorflow:Early stopping conditioned on metric `val_mae` which is not available. Available metrics are: loss,mae\n"
     ]
    },
    {
     "name": "stdout",
     "output_type": "stream",
     "text": [
      "27/27 [==============================] - 0s 3ms/step - loss: 9.4171 - mae: 9.4171\n",
      "Epoch 317/2000\n",
      "18/27 [===================>..........] - ETA: 0s - loss: 11.0728 - mae: 11.0728WARNING:tensorflow:Early stopping conditioned on metric `val_mae` which is not available. Available metrics are: loss,mae\n"
     ]
    },
    {
     "name": "stderr",
     "output_type": "stream",
     "text": [
      "WARNING:tensorflow:Early stopping conditioned on metric `val_mae` which is not available. Available metrics are: loss,mae\n"
     ]
    },
    {
     "name": "stdout",
     "output_type": "stream",
     "text": [
      "27/27 [==============================] - 0s 3ms/step - loss: 10.5141 - mae: 10.5141\n",
      "Epoch 318/2000\n",
      "18/27 [===================>..........] - ETA: 0s - loss: 7.6047 - mae: 7.6047WARNING:tensorflow:Early stopping conditioned on metric `val_mae` which is not available. Available metrics are: loss,mae\n"
     ]
    },
    {
     "name": "stderr",
     "output_type": "stream",
     "text": [
      "WARNING:tensorflow:Early stopping conditioned on metric `val_mae` which is not available. Available metrics are: loss,mae\n"
     ]
    },
    {
     "name": "stdout",
     "output_type": "stream",
     "text": [
      "27/27 [==============================] - 0s 3ms/step - loss: 7.3354 - mae: 7.3354\n",
      "Epoch 319/2000\n",
      "18/27 [===================>..........] - ETA: 0s - loss: 9.6753 - mae: 9.6753WARNING:tensorflow:Early stopping conditioned on metric `val_mae` which is not available. Available metrics are: loss,mae\n"
     ]
    },
    {
     "name": "stderr",
     "output_type": "stream",
     "text": [
      "WARNING:tensorflow:Early stopping conditioned on metric `val_mae` which is not available. Available metrics are: loss,mae\n"
     ]
    },
    {
     "name": "stdout",
     "output_type": "stream",
     "text": [
      "27/27 [==============================] - 0s 4ms/step - loss: 9.3641 - mae: 9.3641\n",
      "Epoch 320/2000\n",
      "15/27 [===============>..............] - ETA: 0s - loss: 10.1610 - mae: 10.1610WARNING:tensorflow:Early stopping conditioned on metric `val_mae` which is not available. Available metrics are: loss,mae\n"
     ]
    },
    {
     "name": "stderr",
     "output_type": "stream",
     "text": [
      "WARNING:tensorflow:Early stopping conditioned on metric `val_mae` which is not available. Available metrics are: loss,mae\n"
     ]
    },
    {
     "name": "stdout",
     "output_type": "stream",
     "text": [
      "27/27 [==============================] - 0s 4ms/step - loss: 9.1537 - mae: 9.1537\n",
      "Epoch 321/2000\n",
      "17/27 [=================>............] - ETA: 0s - loss: 8.9922 - mae: 8.9922WARNING:tensorflow:Early stopping conditioned on metric `val_mae` which is not available. Available metrics are: loss,mae\n"
     ]
    },
    {
     "name": "stderr",
     "output_type": "stream",
     "text": [
      "WARNING:tensorflow:Early stopping conditioned on metric `val_mae` which is not available. Available metrics are: loss,mae\n"
     ]
    },
    {
     "name": "stdout",
     "output_type": "stream",
     "text": [
      "27/27 [==============================] - 0s 4ms/step - loss: 8.6221 - mae: 8.6221\n",
      "Epoch 322/2000\n",
      "18/27 [===================>..........] - ETA: 0s - loss: 7.3786 - mae: 7.3786WARNING:tensorflow:Early stopping conditioned on metric `val_mae` which is not available. Available metrics are: loss,mae\n"
     ]
    },
    {
     "name": "stderr",
     "output_type": "stream",
     "text": [
      "WARNING:tensorflow:Early stopping conditioned on metric `val_mae` which is not available. Available metrics are: loss,mae\n"
     ]
    },
    {
     "name": "stdout",
     "output_type": "stream",
     "text": [
      "27/27 [==============================] - 0s 3ms/step - loss: 7.7220 - mae: 7.7220\n",
      "Epoch 323/2000\n",
      "18/27 [===================>..........] - ETA: 0s - loss: 10.6041 - mae: 10.6041WARNING:tensorflow:Early stopping conditioned on metric `val_mae` which is not available. Available metrics are: loss,mae\n"
     ]
    },
    {
     "name": "stderr",
     "output_type": "stream",
     "text": [
      "WARNING:tensorflow:Early stopping conditioned on metric `val_mae` which is not available. Available metrics are: loss,mae\n"
     ]
    },
    {
     "name": "stdout",
     "output_type": "stream",
     "text": [
      "27/27 [==============================] - 0s 3ms/step - loss: 10.2493 - mae: 10.2493\n",
      "Epoch 324/2000\n",
      "19/27 [====================>.........] - ETA: 0s - loss: 11.3409 - mae: 11.3409WARNING:tensorflow:Early stopping conditioned on metric `val_mae` which is not available. Available metrics are: loss,mae\n"
     ]
    },
    {
     "name": "stderr",
     "output_type": "stream",
     "text": [
      "WARNING:tensorflow:Early stopping conditioned on metric `val_mae` which is not available. Available metrics are: loss,mae\n"
     ]
    },
    {
     "name": "stdout",
     "output_type": "stream",
     "text": [
      "27/27 [==============================] - 0s 3ms/step - loss: 10.7289 - mae: 10.7289\n",
      "Epoch 325/2000\n",
      "19/27 [====================>.........] - ETA: 0s - loss: 9.2549 - mae: 9.2549  WARNING:tensorflow:Early stopping conditioned on metric `val_mae` which is not available. Available metrics are: loss,mae\n"
     ]
    },
    {
     "name": "stderr",
     "output_type": "stream",
     "text": [
      "WARNING:tensorflow:Early stopping conditioned on metric `val_mae` which is not available. Available metrics are: loss,mae\n"
     ]
    },
    {
     "name": "stdout",
     "output_type": "stream",
     "text": [
      "27/27 [==============================] - 0s 3ms/step - loss: 9.3661 - mae: 9.3661\n",
      "Epoch 326/2000\n",
      "19/27 [====================>.........] - ETA: 0s - loss: 10.5743 - mae: 10.5743WARNING:tensorflow:Early stopping conditioned on metric `val_mae` which is not available. Available metrics are: loss,mae\n"
     ]
    },
    {
     "name": "stderr",
     "output_type": "stream",
     "text": [
      "WARNING:tensorflow:Early stopping conditioned on metric `val_mae` which is not available. Available metrics are: loss,mae\n"
     ]
    },
    {
     "name": "stdout",
     "output_type": "stream",
     "text": [
      "27/27 [==============================] - 0s 3ms/step - loss: 10.4272 - mae: 10.4272\n",
      "Epoch 327/2000\n",
      "18/27 [===================>..........] - ETA: 0s - loss: 6.9406 - mae: 6.9406WARNING:tensorflow:Early stopping conditioned on metric `val_mae` which is not available. Available metrics are: loss,mae\n"
     ]
    },
    {
     "name": "stderr",
     "output_type": "stream",
     "text": [
      "WARNING:tensorflow:Early stopping conditioned on metric `val_mae` which is not available. Available metrics are: loss,mae\n"
     ]
    },
    {
     "name": "stdout",
     "output_type": "stream",
     "text": [
      "27/27 [==============================] - 0s 3ms/step - loss: 7.1600 - mae: 7.1600\n",
      "Epoch 328/2000\n",
      "18/27 [===================>..........] - ETA: 0s - loss: 7.8147 - mae: 7.8147WARNING:tensorflow:Early stopping conditioned on metric `val_mae` which is not available. Available metrics are: loss,mae\n"
     ]
    },
    {
     "name": "stderr",
     "output_type": "stream",
     "text": [
      "WARNING:tensorflow:Early stopping conditioned on metric `val_mae` which is not available. Available metrics are: loss,mae\n"
     ]
    },
    {
     "name": "stdout",
     "output_type": "stream",
     "text": [
      "27/27 [==============================] - 0s 3ms/step - loss: 7.4919 - mae: 7.4919\n",
      "Epoch 329/2000\n",
      "19/27 [====================>.........] - ETA: 0s - loss: 7.6010 - mae: 7.6010WARNING:tensorflow:Early stopping conditioned on metric `val_mae` which is not available. Available metrics are: loss,mae\n"
     ]
    },
    {
     "name": "stderr",
     "output_type": "stream",
     "text": [
      "WARNING:tensorflow:Early stopping conditioned on metric `val_mae` which is not available. Available metrics are: loss,mae\n"
     ]
    },
    {
     "name": "stdout",
     "output_type": "stream",
     "text": [
      "27/27 [==============================] - 0s 3ms/step - loss: 7.3142 - mae: 7.3142\n",
      "Epoch 330/2000\n",
      "19/27 [====================>.........] - ETA: 0s - loss: 8.1527 - mae: 8.1527WARNING:tensorflow:Early stopping conditioned on metric `val_mae` which is not available. Available metrics are: loss,mae\n"
     ]
    },
    {
     "name": "stderr",
     "output_type": "stream",
     "text": [
      "WARNING:tensorflow:Early stopping conditioned on metric `val_mae` which is not available. Available metrics are: loss,mae\n"
     ]
    },
    {
     "name": "stdout",
     "output_type": "stream",
     "text": [
      "27/27 [==============================] - 0s 3ms/step - loss: 8.0550 - mae: 8.0550\n",
      "Epoch 331/2000\n",
      "19/27 [====================>.........] - ETA: 0s - loss: 7.2692 - mae: 7.2692WARNING:tensorflow:Early stopping conditioned on metric `val_mae` which is not available. Available metrics are: loss,mae\n"
     ]
    },
    {
     "name": "stderr",
     "output_type": "stream",
     "text": [
      "WARNING:tensorflow:Early stopping conditioned on metric `val_mae` which is not available. Available metrics are: loss,mae\n"
     ]
    },
    {
     "name": "stdout",
     "output_type": "stream",
     "text": [
      "27/27 [==============================] - 0s 3ms/step - loss: 7.4445 - mae: 7.4445\n",
      "Epoch 332/2000\n",
      "20/27 [=====================>........] - ETA: 0s - loss: 8.9547 - mae: 8.9547WARNING:tensorflow:Early stopping conditioned on metric `val_mae` which is not available. Available metrics are: loss,mae\n"
     ]
    },
    {
     "name": "stderr",
     "output_type": "stream",
     "text": [
      "WARNING:tensorflow:Early stopping conditioned on metric `val_mae` which is not available. Available metrics are: loss,mae\n"
     ]
    },
    {
     "name": "stdout",
     "output_type": "stream",
     "text": [
      "27/27 [==============================] - 0s 3ms/step - loss: 8.1636 - mae: 8.1636\n",
      "Epoch 333/2000\n",
      "19/27 [====================>.........] - ETA: 0s - loss: 7.3336 - mae: 7.3336WARNING:tensorflow:Early stopping conditioned on metric `val_mae` which is not available. Available metrics are: loss,mae\n"
     ]
    },
    {
     "name": "stderr",
     "output_type": "stream",
     "text": [
      "WARNING:tensorflow:Early stopping conditioned on metric `val_mae` which is not available. Available metrics are: loss,mae\n"
     ]
    },
    {
     "name": "stdout",
     "output_type": "stream",
     "text": [
      "27/27 [==============================] - 0s 3ms/step - loss: 7.8342 - mae: 7.8342\n",
      "Epoch 334/2000\n",
      "20/27 [=====================>........] - ETA: 0s - loss: 9.0384 - mae: 9.0384  WARNING:tensorflow:Early stopping conditioned on metric `val_mae` which is not available. Available metrics are: loss,mae\n"
     ]
    },
    {
     "name": "stderr",
     "output_type": "stream",
     "text": [
      "WARNING:tensorflow:Early stopping conditioned on metric `val_mae` which is not available. Available metrics are: loss,mae\n"
     ]
    },
    {
     "name": "stdout",
     "output_type": "stream",
     "text": [
      "27/27 [==============================] - 0s 3ms/step - loss: 9.4355 - mae: 9.4355\n",
      "Epoch 335/2000\n",
      "20/27 [=====================>........] - ETA: 0s - loss: 7.4177 - mae: 7.4177WARNING:tensorflow:Early stopping conditioned on metric `val_mae` which is not available. Available metrics are: loss,mae\n"
     ]
    },
    {
     "name": "stderr",
     "output_type": "stream",
     "text": [
      "WARNING:tensorflow:Early stopping conditioned on metric `val_mae` which is not available. Available metrics are: loss,mae\n"
     ]
    },
    {
     "name": "stdout",
     "output_type": "stream",
     "text": [
      "27/27 [==============================] - 0s 3ms/step - loss: 7.2894 - mae: 7.2894\n",
      "Epoch 336/2000\n",
      "19/27 [====================>.........] - ETA: 0s - loss: 7.9335 - mae: 7.9335WARNING:tensorflow:Early stopping conditioned on metric `val_mae` which is not available. Available metrics are: loss,mae\n"
     ]
    },
    {
     "name": "stderr",
     "output_type": "stream",
     "text": [
      "WARNING:tensorflow:Early stopping conditioned on metric `val_mae` which is not available. Available metrics are: loss,mae\n"
     ]
    },
    {
     "name": "stdout",
     "output_type": "stream",
     "text": [
      "27/27 [==============================] - 0s 3ms/step - loss: 8.3302 - mae: 8.3302\n",
      "Epoch 337/2000\n",
      "18/27 [===================>..........] - ETA: 0s - loss: 10.3067 - mae: 10.3067WARNING:tensorflow:Early stopping conditioned on metric `val_mae` which is not available. Available metrics are: loss,mae\n"
     ]
    },
    {
     "name": "stderr",
     "output_type": "stream",
     "text": [
      "WARNING:tensorflow:Early stopping conditioned on metric `val_mae` which is not available. Available metrics are: loss,mae\n"
     ]
    },
    {
     "name": "stdout",
     "output_type": "stream",
     "text": [
      "27/27 [==============================] - 0s 3ms/step - loss: 11.3140 - mae: 11.3140\n",
      "Epoch 338/2000\n",
      "18/27 [===================>..........] - ETA: 0s - loss: 11.7469 - mae: 11.7469WARNING:tensorflow:Early stopping conditioned on metric `val_mae` which is not available. Available metrics are: loss,mae\n"
     ]
    },
    {
     "name": "stderr",
     "output_type": "stream",
     "text": [
      "WARNING:tensorflow:Early stopping conditioned on metric `val_mae` which is not available. Available metrics are: loss,mae\n"
     ]
    },
    {
     "name": "stdout",
     "output_type": "stream",
     "text": [
      "27/27 [==============================] - 0s 3ms/step - loss: 11.2129 - mae: 11.2129\n",
      "Epoch 339/2000\n",
      "18/27 [===================>..........] - ETA: 0s - loss: 9.8540 - mae: 9.8540  WARNING:tensorflow:Early stopping conditioned on metric `val_mae` which is not available. Available metrics are: loss,mae\n"
     ]
    },
    {
     "name": "stderr",
     "output_type": "stream",
     "text": [
      "WARNING:tensorflow:Early stopping conditioned on metric `val_mae` which is not available. Available metrics are: loss,mae\n"
     ]
    },
    {
     "name": "stdout",
     "output_type": "stream",
     "text": [
      "27/27 [==============================] - 0s 3ms/step - loss: 10.4300 - mae: 10.4300\n",
      "Epoch 340/2000\n",
      "18/27 [===================>..........] - ETA: 0s - loss: 9.9939 - mae: 9.9939  WARNING:tensorflow:Early stopping conditioned on metric `val_mae` which is not available. Available metrics are: loss,mae\n"
     ]
    },
    {
     "name": "stderr",
     "output_type": "stream",
     "text": [
      "WARNING:tensorflow:Early stopping conditioned on metric `val_mae` which is not available. Available metrics are: loss,mae\n"
     ]
    },
    {
     "name": "stdout",
     "output_type": "stream",
     "text": [
      "27/27 [==============================] - 0s 3ms/step - loss: 11.3971 - mae: 11.3971\n",
      "Epoch 341/2000\n",
      "18/27 [===================>..........] - ETA: 0s - loss: 10.4182 - mae: 10.4182WARNING:tensorflow:Early stopping conditioned on metric `val_mae` which is not available. Available metrics are: loss,mae\n"
     ]
    },
    {
     "name": "stderr",
     "output_type": "stream",
     "text": [
      "WARNING:tensorflow:Early stopping conditioned on metric `val_mae` which is not available. Available metrics are: loss,mae\n"
     ]
    },
    {
     "name": "stdout",
     "output_type": "stream",
     "text": [
      "27/27 [==============================] - 0s 3ms/step - loss: 9.4683 - mae: 9.4683\n",
      "Epoch 342/2000\n",
      "18/27 [===================>..........] - ETA: 0s - loss: 9.3744 - mae: 9.3744WARNING:tensorflow:Early stopping conditioned on metric `val_mae` which is not available. Available metrics are: loss,mae\n"
     ]
    },
    {
     "name": "stderr",
     "output_type": "stream",
     "text": [
      "WARNING:tensorflow:Early stopping conditioned on metric `val_mae` which is not available. Available metrics are: loss,mae\n"
     ]
    },
    {
     "name": "stdout",
     "output_type": "stream",
     "text": [
      "27/27 [==============================] - 0s 3ms/step - loss: 8.6771 - mae: 8.6771\n",
      "Epoch 343/2000\n",
      "19/27 [====================>.........] - ETA: 0s - loss: 10.4178 - mae: 10.4178WARNING:tensorflow:Early stopping conditioned on metric `val_mae` which is not available. Available metrics are: loss,mae\n"
     ]
    },
    {
     "name": "stderr",
     "output_type": "stream",
     "text": [
      "WARNING:tensorflow:Early stopping conditioned on metric `val_mae` which is not available. Available metrics are: loss,mae\n"
     ]
    },
    {
     "name": "stdout",
     "output_type": "stream",
     "text": [
      "27/27 [==============================] - 0s 3ms/step - loss: 11.3662 - mae: 11.3662\n",
      "Epoch 344/2000\n",
      "19/27 [====================>.........] - ETA: 0s - loss: 8.7130 - mae: 8.7130  WARNING:tensorflow:Early stopping conditioned on metric `val_mae` which is not available. Available metrics are: loss,mae\n"
     ]
    },
    {
     "name": "stderr",
     "output_type": "stream",
     "text": [
      "WARNING:tensorflow:Early stopping conditioned on metric `val_mae` which is not available. Available metrics are: loss,mae\n"
     ]
    },
    {
     "name": "stdout",
     "output_type": "stream",
     "text": [
      "27/27 [==============================] - 0s 3ms/step - loss: 8.3187 - mae: 8.3187\n",
      "Epoch 345/2000\n",
      "19/27 [====================>.........] - ETA: 0s - loss: 9.4091 - mae: 9.4091WARNING:tensorflow:Early stopping conditioned on metric `val_mae` which is not available. Available metrics are: loss,mae\n"
     ]
    },
    {
     "name": "stderr",
     "output_type": "stream",
     "text": [
      "WARNING:tensorflow:Early stopping conditioned on metric `val_mae` which is not available. Available metrics are: loss,mae\n"
     ]
    },
    {
     "name": "stdout",
     "output_type": "stream",
     "text": [
      "27/27 [==============================] - 0s 3ms/step - loss: 9.1565 - mae: 9.1565\n",
      "Epoch 346/2000\n",
      "19/27 [====================>.........] - ETA: 0s - loss: 10.2297 - mae: 10.2297WARNING:tensorflow:Early stopping conditioned on metric `val_mae` which is not available. Available metrics are: loss,mae\n"
     ]
    },
    {
     "name": "stderr",
     "output_type": "stream",
     "text": [
      "WARNING:tensorflow:Early stopping conditioned on metric `val_mae` which is not available. Available metrics are: loss,mae\n"
     ]
    },
    {
     "name": "stdout",
     "output_type": "stream",
     "text": [
      "27/27 [==============================] - 0s 3ms/step - loss: 10.1124 - mae: 10.1124\n",
      "Epoch 347/2000\n",
      "19/27 [====================>.........] - ETA: 0s - loss: 7.0854 - mae: 7.0854WARNING:tensorflow:Early stopping conditioned on metric `val_mae` which is not available. Available metrics are: loss,mae\n"
     ]
    },
    {
     "name": "stderr",
     "output_type": "stream",
     "text": [
      "WARNING:tensorflow:Early stopping conditioned on metric `val_mae` which is not available. Available metrics are: loss,mae\n"
     ]
    },
    {
     "name": "stdout",
     "output_type": "stream",
     "text": [
      "27/27 [==============================] - 0s 3ms/step - loss: 7.8857 - mae: 7.8857\n",
      "Epoch 348/2000\n",
      "19/27 [====================>.........] - ETA: 0s - loss: 9.2238 - mae: 9.2238  WARNING:tensorflow:Early stopping conditioned on metric `val_mae` which is not available. Available metrics are: loss,mae\n"
     ]
    },
    {
     "name": "stderr",
     "output_type": "stream",
     "text": [
      "WARNING:tensorflow:Early stopping conditioned on metric `val_mae` which is not available. Available metrics are: loss,mae\n"
     ]
    },
    {
     "name": "stdout",
     "output_type": "stream",
     "text": [
      "27/27 [==============================] - 0s 3ms/step - loss: 8.8136 - mae: 8.8136\n",
      "Epoch 349/2000\n",
      "19/27 [====================>.........] - ETA: 0s - loss: 8.7711 - mae: 8.7711WARNING:tensorflow:Early stopping conditioned on metric `val_mae` which is not available. Available metrics are: loss,mae\n"
     ]
    },
    {
     "name": "stderr",
     "output_type": "stream",
     "text": [
      "WARNING:tensorflow:Early stopping conditioned on metric `val_mae` which is not available. Available metrics are: loss,mae\n"
     ]
    },
    {
     "name": "stdout",
     "output_type": "stream",
     "text": [
      "27/27 [==============================] - 0s 3ms/step - loss: 9.2979 - mae: 9.2979\n",
      "Epoch 350/2000\n",
      "19/27 [====================>.........] - ETA: 0s - loss: 10.3020 - mae: 10.3020WARNING:tensorflow:Early stopping conditioned on metric `val_mae` which is not available. Available metrics are: loss,mae\n"
     ]
    },
    {
     "name": "stderr",
     "output_type": "stream",
     "text": [
      "WARNING:tensorflow:Early stopping conditioned on metric `val_mae` which is not available. Available metrics are: loss,mae\n"
     ]
    },
    {
     "name": "stdout",
     "output_type": "stream",
     "text": [
      "27/27 [==============================] - 0s 3ms/step - loss: 10.0471 - mae: 10.0471\n",
      "Epoch 351/2000\n",
      "19/27 [====================>.........] - ETA: 0s - loss: 9.2727 - mae: 9.2727WARNING:tensorflow:Early stopping conditioned on metric `val_mae` which is not available. Available metrics are: loss,mae\n"
     ]
    },
    {
     "name": "stderr",
     "output_type": "stream",
     "text": [
      "WARNING:tensorflow:Early stopping conditioned on metric `val_mae` which is not available. Available metrics are: loss,mae\n"
     ]
    },
    {
     "name": "stdout",
     "output_type": "stream",
     "text": [
      "27/27 [==============================] - 0s 3ms/step - loss: 9.5173 - mae: 9.5173\n",
      "Epoch 352/2000\n",
      "19/27 [====================>.........] - ETA: 0s - loss: 10.3522 - mae: 10.3522WARNING:tensorflow:Early stopping conditioned on metric `val_mae` which is not available. Available metrics are: loss,mae\n"
     ]
    },
    {
     "name": "stderr",
     "output_type": "stream",
     "text": [
      "WARNING:tensorflow:Early stopping conditioned on metric `val_mae` which is not available. Available metrics are: loss,mae\n"
     ]
    },
    {
     "name": "stdout",
     "output_type": "stream",
     "text": [
      "27/27 [==============================] - 0s 3ms/step - loss: 10.3345 - mae: 10.3345\n",
      "Epoch 353/2000\n",
      "19/27 [====================>.........] - ETA: 0s - loss: 8.2966 - mae: 8.2966  WARNING:tensorflow:Early stopping conditioned on metric `val_mae` which is not available. Available metrics are: loss,mae\n"
     ]
    },
    {
     "name": "stderr",
     "output_type": "stream",
     "text": [
      "WARNING:tensorflow:Early stopping conditioned on metric `val_mae` which is not available. Available metrics are: loss,mae\n"
     ]
    },
    {
     "name": "stdout",
     "output_type": "stream",
     "text": [
      "27/27 [==============================] - 0s 3ms/step - loss: 8.8087 - mae: 8.8087\n",
      "Epoch 354/2000\n",
      "19/27 [====================>.........] - ETA: 0s - loss: 9.7011 - mae: 9.7011WARNING:tensorflow:Early stopping conditioned on metric `val_mae` which is not available. Available metrics are: loss,mae\n"
     ]
    },
    {
     "name": "stderr",
     "output_type": "stream",
     "text": [
      "WARNING:tensorflow:Early stopping conditioned on metric `val_mae` which is not available. Available metrics are: loss,mae\n"
     ]
    },
    {
     "name": "stdout",
     "output_type": "stream",
     "text": [
      "27/27 [==============================] - 0s 3ms/step - loss: 9.7126 - mae: 9.7126\n",
      "Epoch 355/2000\n",
      "18/27 [===================>..........] - ETA: 0s - loss: 6.6610 - mae: 6.6610WARNING:tensorflow:Early stopping conditioned on metric `val_mae` which is not available. Available metrics are: loss,mae\n"
     ]
    },
    {
     "name": "stderr",
     "output_type": "stream",
     "text": [
      "WARNING:tensorflow:Early stopping conditioned on metric `val_mae` which is not available. Available metrics are: loss,mae\n"
     ]
    },
    {
     "name": "stdout",
     "output_type": "stream",
     "text": [
      "27/27 [==============================] - 0s 3ms/step - loss: 7.0419 - mae: 7.0419\n",
      "Epoch 356/2000\n",
      "18/27 [===================>..........] - ETA: 0s - loss: 8.4734 - mae: 8.4734WARNING:tensorflow:Early stopping conditioned on metric `val_mae` which is not available. Available metrics are: loss,mae\n"
     ]
    },
    {
     "name": "stderr",
     "output_type": "stream",
     "text": [
      "WARNING:tensorflow:Early stopping conditioned on metric `val_mae` which is not available. Available metrics are: loss,mae\n"
     ]
    },
    {
     "name": "stdout",
     "output_type": "stream",
     "text": [
      "27/27 [==============================] - 0s 3ms/step - loss: 8.6048 - mae: 8.6048\n",
      "Epoch 357/2000\n",
      "19/27 [====================>.........] - ETA: 0s - loss: 10.3383 - mae: 10.3383WARNING:tensorflow:Early stopping conditioned on metric `val_mae` which is not available. Available metrics are: loss,mae\n"
     ]
    },
    {
     "name": "stderr",
     "output_type": "stream",
     "text": [
      "WARNING:tensorflow:Early stopping conditioned on metric `val_mae` which is not available. Available metrics are: loss,mae\n"
     ]
    },
    {
     "name": "stdout",
     "output_type": "stream",
     "text": [
      "27/27 [==============================] - 0s 3ms/step - loss: 10.1104 - mae: 10.1104\n",
      "Epoch 358/2000\n",
      "19/27 [====================>.........] - ETA: 0s - loss: 8.7741 - mae: 8.7741  WARNING:tensorflow:Early stopping conditioned on metric `val_mae` which is not available. Available metrics are: loss,mae\n"
     ]
    },
    {
     "name": "stderr",
     "output_type": "stream",
     "text": [
      "WARNING:tensorflow:Early stopping conditioned on metric `val_mae` which is not available. Available metrics are: loss,mae\n"
     ]
    },
    {
     "name": "stdout",
     "output_type": "stream",
     "text": [
      "27/27 [==============================] - 0s 3ms/step - loss: 8.3203 - mae: 8.3203\n",
      "Epoch 359/2000\n",
      "19/27 [====================>.........] - ETA: 0s - loss: 10.5168 - mae: 10.5168WARNING:tensorflow:Early stopping conditioned on metric `val_mae` which is not available. Available metrics are: loss,mae\n"
     ]
    },
    {
     "name": "stderr",
     "output_type": "stream",
     "text": [
      "WARNING:tensorflow:Early stopping conditioned on metric `val_mae` which is not available. Available metrics are: loss,mae\n"
     ]
    },
    {
     "name": "stdout",
     "output_type": "stream",
     "text": [
      "27/27 [==============================] - 0s 3ms/step - loss: 9.9620 - mae: 9.9620\n",
      "Epoch 360/2000\n",
      "19/27 [====================>.........] - ETA: 0s - loss: 8.0421 - mae: 8.0421WARNING:tensorflow:Early stopping conditioned on metric `val_mae` which is not available. Available metrics are: loss,mae\n"
     ]
    },
    {
     "name": "stderr",
     "output_type": "stream",
     "text": [
      "WARNING:tensorflow:Early stopping conditioned on metric `val_mae` which is not available. Available metrics are: loss,mae\n"
     ]
    },
    {
     "name": "stdout",
     "output_type": "stream",
     "text": [
      "27/27 [==============================] - 0s 3ms/step - loss: 8.2015 - mae: 8.2015\n",
      "Epoch 361/2000\n",
      "18/27 [===================>..........] - ETA: 0s - loss: 11.2286 - mae: 11.2286WARNING:tensorflow:Early stopping conditioned on metric `val_mae` which is not available. Available metrics are: loss,mae\n"
     ]
    },
    {
     "name": "stderr",
     "output_type": "stream",
     "text": [
      "WARNING:tensorflow:Early stopping conditioned on metric `val_mae` which is not available. Available metrics are: loss,mae\n"
     ]
    },
    {
     "name": "stdout",
     "output_type": "stream",
     "text": [
      "27/27 [==============================] - 0s 3ms/step - loss: 10.5396 - mae: 10.5396\n",
      "Epoch 362/2000\n",
      "19/27 [====================>.........] - ETA: 0s - loss: 12.6903 - mae: 12.6903WARNING:tensorflow:Early stopping conditioned on metric `val_mae` which is not available. Available metrics are: loss,mae\n"
     ]
    },
    {
     "name": "stderr",
     "output_type": "stream",
     "text": [
      "WARNING:tensorflow:Early stopping conditioned on metric `val_mae` which is not available. Available metrics are: loss,mae\n"
     ]
    },
    {
     "name": "stdout",
     "output_type": "stream",
     "text": [
      "27/27 [==============================] - 0s 3ms/step - loss: 14.5234 - mae: 14.5234\n",
      "Epoch 363/2000\n",
      "19/27 [====================>.........] - ETA: 0s - loss: 8.8102 - mae: 8.8102WARNING:tensorflow:Early stopping conditioned on metric `val_mae` which is not available. Available metrics are: loss,mae\n"
     ]
    },
    {
     "name": "stderr",
     "output_type": "stream",
     "text": [
      "WARNING:tensorflow:Early stopping conditioned on metric `val_mae` which is not available. Available metrics are: loss,mae\n"
     ]
    },
    {
     "name": "stdout",
     "output_type": "stream",
     "text": [
      "27/27 [==============================] - 0s 3ms/step - loss: 9.3952 - mae: 9.3952\n",
      "Epoch 364/2000\n",
      "19/27 [====================>.........] - ETA: 0s - loss: 10.8202 - mae: 10.8202WARNING:tensorflow:Early stopping conditioned on metric `val_mae` which is not available. Available metrics are: loss,mae\n"
     ]
    },
    {
     "name": "stderr",
     "output_type": "stream",
     "text": [
      "WARNING:tensorflow:Early stopping conditioned on metric `val_mae` which is not available. Available metrics are: loss,mae\n"
     ]
    },
    {
     "name": "stdout",
     "output_type": "stream",
     "text": [
      "27/27 [==============================] - 0s 3ms/step - loss: 10.2125 - mae: 10.2125\n",
      "Epoch 365/2000\n",
      "19/27 [====================>.........] - ETA: 0s - loss: 7.9108 - mae: 7.9108WARNING:tensorflow:Early stopping conditioned on metric `val_mae` which is not available. Available metrics are: loss,mae\n"
     ]
    },
    {
     "name": "stderr",
     "output_type": "stream",
     "text": [
      "WARNING:tensorflow:Early stopping conditioned on metric `val_mae` which is not available. Available metrics are: loss,mae\n"
     ]
    },
    {
     "name": "stdout",
     "output_type": "stream",
     "text": [
      "27/27 [==============================] - 0s 3ms/step - loss: 7.4348 - mae: 7.4348\n",
      "Epoch 366/2000\n",
      "19/27 [====================>.........] - ETA: 0s - loss: 7.7028 - mae: 7.7028WARNING:tensorflow:Early stopping conditioned on metric `val_mae` which is not available. Available metrics are: loss,mae\n"
     ]
    },
    {
     "name": "stderr",
     "output_type": "stream",
     "text": [
      "WARNING:tensorflow:Early stopping conditioned on metric `val_mae` which is not available. Available metrics are: loss,mae\n"
     ]
    },
    {
     "name": "stdout",
     "output_type": "stream",
     "text": [
      "27/27 [==============================] - 0s 3ms/step - loss: 7.8634 - mae: 7.8634\n",
      "Epoch 367/2000\n",
      "19/27 [====================>.........] - ETA: 0s - loss: 15.0261 - mae: 15.0261WARNING:tensorflow:Early stopping conditioned on metric `val_mae` which is not available. Available metrics are: loss,mae\n"
     ]
    },
    {
     "name": "stderr",
     "output_type": "stream",
     "text": [
      "WARNING:tensorflow:Early stopping conditioned on metric `val_mae` which is not available. Available metrics are: loss,mae\n"
     ]
    },
    {
     "name": "stdout",
     "output_type": "stream",
     "text": [
      "27/27 [==============================] - 0s 3ms/step - loss: 13.3418 - mae: 13.3418\n",
      "Epoch 368/2000\n",
      "15/27 [===============>..............] - ETA: 0s - loss: 7.9374 - mae: 7.9374WARNING:tensorflow:Early stopping conditioned on metric `val_mae` which is not available. Available metrics are: loss,mae\n"
     ]
    },
    {
     "name": "stderr",
     "output_type": "stream",
     "text": [
      "WARNING:tensorflow:Early stopping conditioned on metric `val_mae` which is not available. Available metrics are: loss,mae\n"
     ]
    },
    {
     "name": "stdout",
     "output_type": "stream",
     "text": [
      "27/27 [==============================] - 0s 4ms/step - loss: 7.9283 - mae: 7.9283\n",
      "Epoch 369/2000\n",
      "19/27 [====================>.........] - ETA: 0s - loss: 7.5961 - mae: 7.5961WARNING:tensorflow:Early stopping conditioned on metric `val_mae` which is not available. Available metrics are: loss,mae\n"
     ]
    },
    {
     "name": "stderr",
     "output_type": "stream",
     "text": [
      "WARNING:tensorflow:Early stopping conditioned on metric `val_mae` which is not available. Available metrics are: loss,mae\n"
     ]
    },
    {
     "name": "stdout",
     "output_type": "stream",
     "text": [
      "27/27 [==============================] - 0s 3ms/step - loss: 7.8052 - mae: 7.8052\n",
      "Epoch 370/2000\n",
      "19/27 [====================>.........] - ETA: 0s - loss: 9.6943 - mae: 9.6943WARNING:tensorflow:Early stopping conditioned on metric `val_mae` which is not available. Available metrics are: loss,mae\n"
     ]
    },
    {
     "name": "stderr",
     "output_type": "stream",
     "text": [
      "WARNING:tensorflow:Early stopping conditioned on metric `val_mae` which is not available. Available metrics are: loss,mae\n"
     ]
    },
    {
     "name": "stdout",
     "output_type": "stream",
     "text": [
      "27/27 [==============================] - 0s 3ms/step - loss: 9.6853 - mae: 9.6853\n",
      "Epoch 371/2000\n",
      "19/27 [====================>.........] - ETA: 0s - loss: 10.0613 - mae: 10.0613WARNING:tensorflow:Early stopping conditioned on metric `val_mae` which is not available. Available metrics are: loss,mae\n"
     ]
    },
    {
     "name": "stderr",
     "output_type": "stream",
     "text": [
      "WARNING:tensorflow:Early stopping conditioned on metric `val_mae` which is not available. Available metrics are: loss,mae\n"
     ]
    },
    {
     "name": "stdout",
     "output_type": "stream",
     "text": [
      "27/27 [==============================] - 0s 3ms/step - loss: 10.1389 - mae: 10.1389\n",
      "Epoch 372/2000\n",
      "19/27 [====================>.........] - ETA: 0s - loss: 9.9853 - mae: 9.9853  WARNING:tensorflow:Early stopping conditioned on metric `val_mae` which is not available. Available metrics are: loss,mae\n"
     ]
    },
    {
     "name": "stderr",
     "output_type": "stream",
     "text": [
      "WARNING:tensorflow:Early stopping conditioned on metric `val_mae` which is not available. Available metrics are: loss,mae\n"
     ]
    },
    {
     "name": "stdout",
     "output_type": "stream",
     "text": [
      "27/27 [==============================] - 0s 3ms/step - loss: 10.4473 - mae: 10.4473\n",
      "Epoch 373/2000\n",
      "19/27 [====================>.........] - ETA: 0s - loss: 7.5515 - mae: 7.5515WARNING:tensorflow:Early stopping conditioned on metric `val_mae` which is not available. Available metrics are: loss,mae\n"
     ]
    },
    {
     "name": "stderr",
     "output_type": "stream",
     "text": [
      "WARNING:tensorflow:Early stopping conditioned on metric `val_mae` which is not available. Available metrics are: loss,mae\n"
     ]
    },
    {
     "name": "stdout",
     "output_type": "stream",
     "text": [
      "27/27 [==============================] - 0s 3ms/step - loss: 8.4225 - mae: 8.4225\n",
      "Epoch 374/2000\n",
      "19/27 [====================>.........] - ETA: 0s - loss: 15.6329 - mae: 15.6329WARNING:tensorflow:Early stopping conditioned on metric `val_mae` which is not available. Available metrics are: loss,mae\n"
     ]
    },
    {
     "name": "stderr",
     "output_type": "stream",
     "text": [
      "WARNING:tensorflow:Early stopping conditioned on metric `val_mae` which is not available. Available metrics are: loss,mae\n"
     ]
    },
    {
     "name": "stdout",
     "output_type": "stream",
     "text": [
      "27/27 [==============================] - 0s 3ms/step - loss: 16.5153 - mae: 16.5153\n",
      "Epoch 375/2000\n",
      "19/27 [====================>.........] - ETA: 0s - loss: 17.3545 - mae: 17.3545WARNING:tensorflow:Early stopping conditioned on metric `val_mae` which is not available. Available metrics are: loss,mae\n"
     ]
    },
    {
     "name": "stderr",
     "output_type": "stream",
     "text": [
      "WARNING:tensorflow:Early stopping conditioned on metric `val_mae` which is not available. Available metrics are: loss,mae\n"
     ]
    },
    {
     "name": "stdout",
     "output_type": "stream",
     "text": [
      "27/27 [==============================] - 0s 3ms/step - loss: 15.8400 - mae: 15.8400\n",
      "Epoch 376/2000\n",
      "19/27 [====================>.........] - ETA: 0s - loss: 8.6783 - mae: 8.6783  WARNING:tensorflow:Early stopping conditioned on metric `val_mae` which is not available. Available metrics are: loss,mae\n"
     ]
    },
    {
     "name": "stderr",
     "output_type": "stream",
     "text": [
      "WARNING:tensorflow:Early stopping conditioned on metric `val_mae` which is not available. Available metrics are: loss,mae\n"
     ]
    },
    {
     "name": "stdout",
     "output_type": "stream",
     "text": [
      "27/27 [==============================] - 0s 3ms/step - loss: 8.0258 - mae: 8.0258\n",
      "Epoch 377/2000\n",
      "20/27 [=====================>........] - ETA: 0s - loss: 7.8319 - mae: 7.8319WARNING:tensorflow:Early stopping conditioned on metric `val_mae` which is not available. Available metrics are: loss,mae\n"
     ]
    },
    {
     "name": "stderr",
     "output_type": "stream",
     "text": [
      "WARNING:tensorflow:Early stopping conditioned on metric `val_mae` which is not available. Available metrics are: loss,mae\n"
     ]
    },
    {
     "name": "stdout",
     "output_type": "stream",
     "text": [
      "27/27 [==============================] - 0s 3ms/step - loss: 8.1955 - mae: 8.1955\n",
      "Epoch 378/2000\n",
      "19/27 [====================>.........] - ETA: 0s - loss: 15.6220 - mae: 15.6220WARNING:tensorflow:Early stopping conditioned on metric `val_mae` which is not available. Available metrics are: loss,mae\n"
     ]
    },
    {
     "name": "stderr",
     "output_type": "stream",
     "text": [
      "WARNING:tensorflow:Early stopping conditioned on metric `val_mae` which is not available. Available metrics are: loss,mae\n"
     ]
    },
    {
     "name": "stdout",
     "output_type": "stream",
     "text": [
      "27/27 [==============================] - 0s 3ms/step - loss: 14.6083 - mae: 14.6083\n",
      "Epoch 379/2000\n",
      "19/27 [====================>.........] - ETA: 0s - loss: 8.4323 - mae: 8.4323  WARNING:tensorflow:Early stopping conditioned on metric `val_mae` which is not available. Available metrics are: loss,mae\n"
     ]
    },
    {
     "name": "stderr",
     "output_type": "stream",
     "text": [
      "WARNING:tensorflow:Early stopping conditioned on metric `val_mae` which is not available. Available metrics are: loss,mae\n"
     ]
    },
    {
     "name": "stdout",
     "output_type": "stream",
     "text": [
      "27/27 [==============================] - 0s 3ms/step - loss: 8.4598 - mae: 8.4598\n",
      "Epoch 380/2000\n",
      "19/27 [====================>.........] - ETA: 0s - loss: 7.8416 - mae: 7.8416  WARNING:tensorflow:Early stopping conditioned on metric `val_mae` which is not available. Available metrics are: loss,mae\n"
     ]
    },
    {
     "name": "stderr",
     "output_type": "stream",
     "text": [
      "WARNING:tensorflow:Early stopping conditioned on metric `val_mae` which is not available. Available metrics are: loss,mae\n"
     ]
    },
    {
     "name": "stdout",
     "output_type": "stream",
     "text": [
      "27/27 [==============================] - 0s 3ms/step - loss: 8.3195 - mae: 8.3195\n",
      "Epoch 381/2000\n",
      "20/27 [=====================>........] - ETA: 0s - loss: 10.0709 - mae: 10.0709WARNING:tensorflow:Early stopping conditioned on metric `val_mae` which is not available. Available metrics are: loss,mae\n"
     ]
    },
    {
     "name": "stderr",
     "output_type": "stream",
     "text": [
      "WARNING:tensorflow:Early stopping conditioned on metric `val_mae` which is not available. Available metrics are: loss,mae\n"
     ]
    },
    {
     "name": "stdout",
     "output_type": "stream",
     "text": [
      "27/27 [==============================] - 0s 3ms/step - loss: 10.0853 - mae: 10.0853\n",
      "Epoch 382/2000\n",
      "19/27 [====================>.........] - ETA: 0s - loss: 8.0386 - mae: 8.0386WARNING:tensorflow:Early stopping conditioned on metric `val_mae` which is not available. Available metrics are: loss,mae\n"
     ]
    },
    {
     "name": "stderr",
     "output_type": "stream",
     "text": [
      "WARNING:tensorflow:Early stopping conditioned on metric `val_mae` which is not available. Available metrics are: loss,mae\n"
     ]
    },
    {
     "name": "stdout",
     "output_type": "stream",
     "text": [
      "27/27 [==============================] - 0s 3ms/step - loss: 7.8484 - mae: 7.8484\n",
      "Epoch 383/2000\n",
      "20/27 [=====================>........] - ETA: 0s - loss: 10.7137 - mae: 10.7137WARNING:tensorflow:Early stopping conditioned on metric `val_mae` which is not available. Available metrics are: loss,mae\n"
     ]
    },
    {
     "name": "stderr",
     "output_type": "stream",
     "text": [
      "WARNING:tensorflow:Early stopping conditioned on metric `val_mae` which is not available. Available metrics are: loss,mae\n"
     ]
    },
    {
     "name": "stdout",
     "output_type": "stream",
     "text": [
      "27/27 [==============================] - 0s 3ms/step - loss: 10.0503 - mae: 10.0503\n",
      "Epoch 384/2000\n",
      "19/27 [====================>.........] - ETA: 0s - loss: 8.0475 - mae: 8.0475  WARNING:tensorflow:Early stopping conditioned on metric `val_mae` which is not available. Available metrics are: loss,mae\n"
     ]
    },
    {
     "name": "stderr",
     "output_type": "stream",
     "text": [
      "WARNING:tensorflow:Early stopping conditioned on metric `val_mae` which is not available. Available metrics are: loss,mae\n"
     ]
    },
    {
     "name": "stdout",
     "output_type": "stream",
     "text": [
      "27/27 [==============================] - 0s 3ms/step - loss: 7.6253 - mae: 7.6253\n",
      "Epoch 385/2000\n",
      "19/27 [====================>.........] - ETA: 0s - loss: 7.3965 - mae: 7.3965WARNING:tensorflow:Early stopping conditioned on metric `val_mae` which is not available. Available metrics are: loss,mae\n"
     ]
    },
    {
     "name": "stderr",
     "output_type": "stream",
     "text": [
      "WARNING:tensorflow:Early stopping conditioned on metric `val_mae` which is not available. Available metrics are: loss,mae\n"
     ]
    },
    {
     "name": "stdout",
     "output_type": "stream",
     "text": [
      "27/27 [==============================] - 0s 3ms/step - loss: 7.6652 - mae: 7.6652\n",
      "Epoch 386/2000\n",
      "19/27 [====================>.........] - ETA: 0s - loss: 7.2102 - mae: 7.2102  WARNING:tensorflow:Early stopping conditioned on metric `val_mae` which is not available. Available metrics are: loss,mae\n"
     ]
    },
    {
     "name": "stderr",
     "output_type": "stream",
     "text": [
      "WARNING:tensorflow:Early stopping conditioned on metric `val_mae` which is not available. Available metrics are: loss,mae\n"
     ]
    },
    {
     "name": "stdout",
     "output_type": "stream",
     "text": [
      "27/27 [==============================] - 0s 3ms/step - loss: 7.0522 - mae: 7.0522\n",
      "Epoch 387/2000\n",
      "19/27 [====================>.........] - ETA: 0s - loss: 9.2293 - mae: 9.2293WARNING:tensorflow:Early stopping conditioned on metric `val_mae` which is not available. Available metrics are: loss,mae\n"
     ]
    },
    {
     "name": "stderr",
     "output_type": "stream",
     "text": [
      "WARNING:tensorflow:Early stopping conditioned on metric `val_mae` which is not available. Available metrics are: loss,mae\n"
     ]
    },
    {
     "name": "stdout",
     "output_type": "stream",
     "text": [
      "27/27 [==============================] - 0s 3ms/step - loss: 9.5512 - mae: 9.5512\n",
      "Epoch 388/2000\n",
      "15/27 [===============>..............] - ETA: 0s - loss: 8.5210 - mae: 8.5210WARNING:tensorflow:Early stopping conditioned on metric `val_mae` which is not available. Available metrics are: loss,mae\n"
     ]
    },
    {
     "name": "stderr",
     "output_type": "stream",
     "text": [
      "WARNING:tensorflow:Early stopping conditioned on metric `val_mae` which is not available. Available metrics are: loss,mae\n"
     ]
    },
    {
     "name": "stdout",
     "output_type": "stream",
     "text": [
      "27/27 [==============================] - 0s 4ms/step - loss: 8.4345 - mae: 8.4345\n",
      "Epoch 389/2000\n",
      "17/27 [=================>............] - ETA: 0s - loss: 10.9134 - mae: 10.9134WARNING:tensorflow:Early stopping conditioned on metric `val_mae` which is not available. Available metrics are: loss,mae\n"
     ]
    },
    {
     "name": "stderr",
     "output_type": "stream",
     "text": [
      "WARNING:tensorflow:Early stopping conditioned on metric `val_mae` which is not available. Available metrics are: loss,mae\n"
     ]
    },
    {
     "name": "stdout",
     "output_type": "stream",
     "text": [
      "27/27 [==============================] - 0s 4ms/step - loss: 10.6197 - mae: 10.6197\n",
      "Epoch 390/2000\n",
      "18/27 [===================>..........] - ETA: 0s - loss: 7.7770 - mae: 7.7770WARNING:tensorflow:Early stopping conditioned on metric `val_mae` which is not available. Available metrics are: loss,mae\n"
     ]
    },
    {
     "name": "stderr",
     "output_type": "stream",
     "text": [
      "WARNING:tensorflow:Early stopping conditioned on metric `val_mae` which is not available. Available metrics are: loss,mae\n"
     ]
    },
    {
     "name": "stdout",
     "output_type": "stream",
     "text": [
      "27/27 [==============================] - 0s 3ms/step - loss: 7.8668 - mae: 7.8668\n",
      "Epoch 391/2000\n",
      "18/27 [===================>..........] - ETA: 0s - loss: 9.1180 - mae: 9.1180  WARNING:tensorflow:Early stopping conditioned on metric `val_mae` which is not available. Available metrics are: loss,mae\n"
     ]
    },
    {
     "name": "stderr",
     "output_type": "stream",
     "text": [
      "WARNING:tensorflow:Early stopping conditioned on metric `val_mae` which is not available. Available metrics are: loss,mae\n"
     ]
    },
    {
     "name": "stdout",
     "output_type": "stream",
     "text": [
      "27/27 [==============================] - 0s 3ms/step - loss: 8.8461 - mae: 8.8461\n",
      "Epoch 392/2000\n",
      "18/27 [===================>..........] - ETA: 0s - loss: 6.9422 - mae: 6.9422WARNING:tensorflow:Early stopping conditioned on metric `val_mae` which is not available. Available metrics are: loss,mae\n"
     ]
    },
    {
     "name": "stderr",
     "output_type": "stream",
     "text": [
      "WARNING:tensorflow:Early stopping conditioned on metric `val_mae` which is not available. Available metrics are: loss,mae\n"
     ]
    },
    {
     "name": "stdout",
     "output_type": "stream",
     "text": [
      "27/27 [==============================] - 0s 3ms/step - loss: 6.9498 - mae: 6.9498\n",
      "Epoch 393/2000\n",
      "20/27 [=====================>........] - ETA: 0s - loss: 8.3813 - mae: 8.3813WARNING:tensorflow:Early stopping conditioned on metric `val_mae` which is not available. Available metrics are: loss,mae\n"
     ]
    },
    {
     "name": "stderr",
     "output_type": "stream",
     "text": [
      "WARNING:tensorflow:Early stopping conditioned on metric `val_mae` which is not available. Available metrics are: loss,mae\n"
     ]
    },
    {
     "name": "stdout",
     "output_type": "stream",
     "text": [
      "27/27 [==============================] - 0s 3ms/step - loss: 8.2689 - mae: 8.2689\n",
      "Epoch 394/2000\n",
      "20/27 [=====================>........] - ETA: 0s - loss: 9.3908 - mae: 9.3908  WARNING:tensorflow:Early stopping conditioned on metric `val_mae` which is not available. Available metrics are: loss,mae\n"
     ]
    },
    {
     "name": "stderr",
     "output_type": "stream",
     "text": [
      "WARNING:tensorflow:Early stopping conditioned on metric `val_mae` which is not available. Available metrics are: loss,mae\n"
     ]
    },
    {
     "name": "stdout",
     "output_type": "stream",
     "text": [
      "27/27 [==============================] - 0s 3ms/step - loss: 9.3554 - mae: 9.3554\n",
      "Epoch 395/2000\n",
      "20/27 [=====================>........] - ETA: 0s - loss: 9.4553 - mae: 9.4553WARNING:tensorflow:Early stopping conditioned on metric `val_mae` which is not available. Available metrics are: loss,mae\n"
     ]
    },
    {
     "name": "stderr",
     "output_type": "stream",
     "text": [
      "WARNING:tensorflow:Early stopping conditioned on metric `val_mae` which is not available. Available metrics are: loss,mae\n"
     ]
    },
    {
     "name": "stdout",
     "output_type": "stream",
     "text": [
      "27/27 [==============================] - 0s 3ms/step - loss: 9.2838 - mae: 9.2838\n",
      "Epoch 396/2000\n",
      "20/27 [=====================>........] - ETA: 0s - loss: 11.5667 - mae: 11.5667WARNING:tensorflow:Early stopping conditioned on metric `val_mae` which is not available. Available metrics are: loss,mae\n"
     ]
    },
    {
     "name": "stderr",
     "output_type": "stream",
     "text": [
      "WARNING:tensorflow:Early stopping conditioned on metric `val_mae` which is not available. Available metrics are: loss,mae\n"
     ]
    },
    {
     "name": "stdout",
     "output_type": "stream",
     "text": [
      "27/27 [==============================] - 0s 3ms/step - loss: 11.9762 - mae: 11.9762\n",
      "Epoch 397/2000\n",
      "19/27 [====================>.........] - ETA: 0s - loss: 9.1920 - mae: 9.1920  WARNING:tensorflow:Early stopping conditioned on metric `val_mae` which is not available. Available metrics are: loss,mae\n"
     ]
    },
    {
     "name": "stderr",
     "output_type": "stream",
     "text": [
      "WARNING:tensorflow:Early stopping conditioned on metric `val_mae` which is not available. Available metrics are: loss,mae\n"
     ]
    },
    {
     "name": "stdout",
     "output_type": "stream",
     "text": [
      "27/27 [==============================] - 0s 3ms/step - loss: 9.3242 - mae: 9.3242\n",
      "Epoch 398/2000\n",
      "20/27 [=====================>........] - ETA: 0s - loss: 10.2733 - mae: 10.2733WARNING:tensorflow:Early stopping conditioned on metric `val_mae` which is not available. Available metrics are: loss,mae\n"
     ]
    },
    {
     "name": "stderr",
     "output_type": "stream",
     "text": [
      "WARNING:tensorflow:Early stopping conditioned on metric `val_mae` which is not available. Available metrics are: loss,mae\n"
     ]
    },
    {
     "name": "stdout",
     "output_type": "stream",
     "text": [
      "27/27 [==============================] - 0s 3ms/step - loss: 9.6220 - mae: 9.6220\n",
      "Epoch 399/2000\n",
      "16/27 [================>.............] - ETA: 0s - loss: 11.2545 - mae: 11.2545WARNING:tensorflow:Early stopping conditioned on metric `val_mae` which is not available. Available metrics are: loss,mae\n"
     ]
    },
    {
     "name": "stderr",
     "output_type": "stream",
     "text": [
      "WARNING:tensorflow:Early stopping conditioned on metric `val_mae` which is not available. Available metrics are: loss,mae\n"
     ]
    },
    {
     "name": "stdout",
     "output_type": "stream",
     "text": [
      "27/27 [==============================] - 0s 4ms/step - loss: 9.2269 - mae: 9.2269\n",
      "Epoch 400/2000\n",
      "19/27 [====================>.........] - ETA: 0s - loss: 6.7770 - mae: 6.7770WARNING:tensorflow:Early stopping conditioned on metric `val_mae` which is not available. Available metrics are: loss,mae\n"
     ]
    },
    {
     "name": "stderr",
     "output_type": "stream",
     "text": [
      "WARNING:tensorflow:Early stopping conditioned on metric `val_mae` which is not available. Available metrics are: loss,mae\n"
     ]
    },
    {
     "name": "stdout",
     "output_type": "stream",
     "text": [
      "27/27 [==============================] - 0s 3ms/step - loss: 6.9819 - mae: 6.9819\n",
      "Epoch 401/2000\n",
      "20/27 [=====================>........] - ETA: 0s - loss: 7.1020 - mae: 7.1020WARNING:tensorflow:Early stopping conditioned on metric `val_mae` which is not available. Available metrics are: loss,mae\n"
     ]
    },
    {
     "name": "stderr",
     "output_type": "stream",
     "text": [
      "WARNING:tensorflow:Early stopping conditioned on metric `val_mae` which is not available. Available metrics are: loss,mae\n"
     ]
    },
    {
     "name": "stdout",
     "output_type": "stream",
     "text": [
      "27/27 [==============================] - 0s 3ms/step - loss: 7.5948 - mae: 7.5948\n",
      "Epoch 402/2000\n",
      "18/27 [===================>..........] - ETA: 0s - loss: 7.8285 - mae: 7.8285  WARNING:tensorflow:Early stopping conditioned on metric `val_mae` which is not available. Available metrics are: loss,mae\n"
     ]
    },
    {
     "name": "stderr",
     "output_type": "stream",
     "text": [
      "WARNING:tensorflow:Early stopping conditioned on metric `val_mae` which is not available. Available metrics are: loss,mae\n"
     ]
    },
    {
     "name": "stdout",
     "output_type": "stream",
     "text": [
      "27/27 [==============================] - 0s 3ms/step - loss: 8.3534 - mae: 8.3534\n",
      "Epoch 403/2000\n",
      "17/27 [=================>............] - ETA: 0s - loss: 8.3906 - mae: 8.3906  WARNING:tensorflow:Early stopping conditioned on metric `val_mae` which is not available. Available metrics are: loss,mae\n"
     ]
    },
    {
     "name": "stderr",
     "output_type": "stream",
     "text": [
      "WARNING:tensorflow:Early stopping conditioned on metric `val_mae` which is not available. Available metrics are: loss,mae\n"
     ]
    },
    {
     "name": "stdout",
     "output_type": "stream",
     "text": [
      "27/27 [==============================] - 0s 3ms/step - loss: 8.5078 - mae: 8.5078\n",
      "Epoch 404/2000\n",
      "17/27 [=================>............] - ETA: 0s - loss: 8.9639 - mae: 8.9639WARNING:tensorflow:Early stopping conditioned on metric `val_mae` which is not available. Available metrics are: loss,mae\n"
     ]
    },
    {
     "name": "stderr",
     "output_type": "stream",
     "text": [
      "WARNING:tensorflow:Early stopping conditioned on metric `val_mae` which is not available. Available metrics are: loss,mae\n"
     ]
    },
    {
     "name": "stdout",
     "output_type": "stream",
     "text": [
      "27/27 [==============================] - 0s 4ms/step - loss: 9.4587 - mae: 9.4587\n",
      "Epoch 405/2000\n",
      "19/27 [====================>.........] - ETA: 0s - loss: 9.8535 - mae: 9.8535WARNING:tensorflow:Early stopping conditioned on metric `val_mae` which is not available. Available metrics are: loss,mae\n"
     ]
    },
    {
     "name": "stderr",
     "output_type": "stream",
     "text": [
      "WARNING:tensorflow:Early stopping conditioned on metric `val_mae` which is not available. Available metrics are: loss,mae\n"
     ]
    },
    {
     "name": "stdout",
     "output_type": "stream",
     "text": [
      "27/27 [==============================] - 0s 3ms/step - loss: 10.0948 - mae: 10.0948\n",
      "Epoch 406/2000\n",
      "20/27 [=====================>........] - ETA: 0s - loss: 6.7771 - mae: 6.7771WARNING:tensorflow:Early stopping conditioned on metric `val_mae` which is not available. Available metrics are: loss,mae\n"
     ]
    },
    {
     "name": "stderr",
     "output_type": "stream",
     "text": [
      "WARNING:tensorflow:Early stopping conditioned on metric `val_mae` which is not available. Available metrics are: loss,mae\n"
     ]
    },
    {
     "name": "stdout",
     "output_type": "stream",
     "text": [
      "27/27 [==============================] - 0s 3ms/step - loss: 6.8500 - mae: 6.8500\n",
      "Epoch 407/2000\n",
      "19/27 [====================>.........] - ETA: 0s - loss: 8.3031 - mae: 8.3031WARNING:tensorflow:Early stopping conditioned on metric `val_mae` which is not available. Available metrics are: loss,mae\n"
     ]
    },
    {
     "name": "stderr",
     "output_type": "stream",
     "text": [
      "WARNING:tensorflow:Early stopping conditioned on metric `val_mae` which is not available. Available metrics are: loss,mae\n"
     ]
    },
    {
     "name": "stdout",
     "output_type": "stream",
     "text": [
      "27/27 [==============================] - 0s 3ms/step - loss: 8.0722 - mae: 8.0722\n",
      "Epoch 408/2000\n",
      "19/27 [====================>.........] - ETA: 0s - loss: 6.9599 - mae: 6.9599WARNING:tensorflow:Early stopping conditioned on metric `val_mae` which is not available. Available metrics are: loss,mae\n"
     ]
    },
    {
     "name": "stderr",
     "output_type": "stream",
     "text": [
      "WARNING:tensorflow:Early stopping conditioned on metric `val_mae` which is not available. Available metrics are: loss,mae\n"
     ]
    },
    {
     "name": "stdout",
     "output_type": "stream",
     "text": [
      "27/27 [==============================] - 0s 3ms/step - loss: 6.7994 - mae: 6.7994\n",
      "Epoch 409/2000\n",
      "19/27 [====================>.........] - ETA: 0s - loss: 8.8144 - mae: 8.8144WARNING:tensorflow:Early stopping conditioned on metric `val_mae` which is not available. Available metrics are: loss,mae\n"
     ]
    },
    {
     "name": "stderr",
     "output_type": "stream",
     "text": [
      "WARNING:tensorflow:Early stopping conditioned on metric `val_mae` which is not available. Available metrics are: loss,mae\n"
     ]
    },
    {
     "name": "stdout",
     "output_type": "stream",
     "text": [
      "27/27 [==============================] - 0s 3ms/step - loss: 9.9122 - mae: 9.9122\n",
      "Epoch 410/2000\n",
      "17/27 [=================>............] - ETA: 0s - loss: 10.1756 - mae: 10.1756WARNING:tensorflow:Early stopping conditioned on metric `val_mae` which is not available. Available metrics are: loss,mae\n"
     ]
    },
    {
     "name": "stderr",
     "output_type": "stream",
     "text": [
      "WARNING:tensorflow:Early stopping conditioned on metric `val_mae` which is not available. Available metrics are: loss,mae\n"
     ]
    },
    {
     "name": "stdout",
     "output_type": "stream",
     "text": [
      "27/27 [==============================] - 0s 4ms/step - loss: 9.6233 - mae: 9.6233\n",
      "Epoch 411/2000\n",
      "17/27 [=================>............] - ETA: 0s - loss: 8.2673 - mae: 8.2673WARNING:tensorflow:Early stopping conditioned on metric `val_mae` which is not available. Available metrics are: loss,mae\n"
     ]
    },
    {
     "name": "stderr",
     "output_type": "stream",
     "text": [
      "WARNING:tensorflow:Early stopping conditioned on metric `val_mae` which is not available. Available metrics are: loss,mae\n"
     ]
    },
    {
     "name": "stdout",
     "output_type": "stream",
     "text": [
      "27/27 [==============================] - 0s 3ms/step - loss: 8.5540 - mae: 8.5540\n",
      "Epoch 412/2000\n",
      "19/27 [====================>.........] - ETA: 0s - loss: 7.5582 - mae: 7.5582WARNING:tensorflow:Early stopping conditioned on metric `val_mae` which is not available. Available metrics are: loss,mae\n"
     ]
    },
    {
     "name": "stderr",
     "output_type": "stream",
     "text": [
      "WARNING:tensorflow:Early stopping conditioned on metric `val_mae` which is not available. Available metrics are: loss,mae\n"
     ]
    },
    {
     "name": "stdout",
     "output_type": "stream",
     "text": [
      "27/27 [==============================] - 0s 3ms/step - loss: 7.7345 - mae: 7.7345\n",
      "Epoch 413/2000\n",
      "20/27 [=====================>........] - ETA: 0s - loss: 8.0310 - mae: 8.0310WARNING:tensorflow:Early stopping conditioned on metric `val_mae` which is not available. Available metrics are: loss,mae\n"
     ]
    },
    {
     "name": "stderr",
     "output_type": "stream",
     "text": [
      "WARNING:tensorflow:Early stopping conditioned on metric `val_mae` which is not available. Available metrics are: loss,mae\n"
     ]
    },
    {
     "name": "stdout",
     "output_type": "stream",
     "text": [
      "27/27 [==============================] - 0s 3ms/step - loss: 8.8647 - mae: 8.8647\n",
      "Epoch 414/2000\n",
      "19/27 [====================>.........] - ETA: 0s - loss: 7.1155 - mae: 7.1155WARNING:tensorflow:Early stopping conditioned on metric `val_mae` which is not available. Available metrics are: loss,mae\n"
     ]
    },
    {
     "name": "stderr",
     "output_type": "stream",
     "text": [
      "WARNING:tensorflow:Early stopping conditioned on metric `val_mae` which is not available. Available metrics are: loss,mae\n"
     ]
    },
    {
     "name": "stdout",
     "output_type": "stream",
     "text": [
      "27/27 [==============================] - 0s 3ms/step - loss: 7.1875 - mae: 7.1875\n",
      "Epoch 415/2000\n",
      "20/27 [=====================>........] - ETA: 0s - loss: 12.2491 - mae: 12.2491WARNING:tensorflow:Early stopping conditioned on metric `val_mae` which is not available. Available metrics are: loss,mae\n"
     ]
    },
    {
     "name": "stderr",
     "output_type": "stream",
     "text": [
      "WARNING:tensorflow:Early stopping conditioned on metric `val_mae` which is not available. Available metrics are: loss,mae\n"
     ]
    },
    {
     "name": "stdout",
     "output_type": "stream",
     "text": [
      "27/27 [==============================] - 0s 3ms/step - loss: 12.3423 - mae: 12.3423\n",
      "Epoch 416/2000\n",
      "19/27 [====================>.........] - ETA: 0s - loss: 11.9349 - mae: 11.9349WARNING:tensorflow:Early stopping conditioned on metric `val_mae` which is not available. Available metrics are: loss,mae\n"
     ]
    },
    {
     "name": "stderr",
     "output_type": "stream",
     "text": [
      "WARNING:tensorflow:Early stopping conditioned on metric `val_mae` which is not available. Available metrics are: loss,mae\n"
     ]
    },
    {
     "name": "stdout",
     "output_type": "stream",
     "text": [
      "27/27 [==============================] - 0s 3ms/step - loss: 11.6461 - mae: 11.6461\n",
      "Epoch 417/2000\n",
      "20/27 [=====================>........] - ETA: 0s - loss: 6.5619 - mae: 6.5619WARNING:tensorflow:Early stopping conditioned on metric `val_mae` which is not available. Available metrics are: loss,mae\n"
     ]
    },
    {
     "name": "stderr",
     "output_type": "stream",
     "text": [
      "WARNING:tensorflow:Early stopping conditioned on metric `val_mae` which is not available. Available metrics are: loss,mae\n"
     ]
    },
    {
     "name": "stdout",
     "output_type": "stream",
     "text": [
      "27/27 [==============================] - 0s 3ms/step - loss: 6.5359 - mae: 6.5359\n",
      "Epoch 418/2000\n",
      "20/27 [=====================>........] - ETA: 0s - loss: 7.4477 - mae: 7.4477WARNING:tensorflow:Early stopping conditioned on metric `val_mae` which is not available. Available metrics are: loss,mae\n"
     ]
    },
    {
     "name": "stderr",
     "output_type": "stream",
     "text": [
      "WARNING:tensorflow:Early stopping conditioned on metric `val_mae` which is not available. Available metrics are: loss,mae\n"
     ]
    },
    {
     "name": "stdout",
     "output_type": "stream",
     "text": [
      "27/27 [==============================] - 0s 3ms/step - loss: 7.3030 - mae: 7.3030\n",
      "Epoch 419/2000\n",
      "17/27 [=================>............] - ETA: 0s - loss: 7.4399 - mae: 7.4399WARNING:tensorflow:Early stopping conditioned on metric `val_mae` which is not available. Available metrics are: loss,mae\n"
     ]
    },
    {
     "name": "stderr",
     "output_type": "stream",
     "text": [
      "WARNING:tensorflow:Early stopping conditioned on metric `val_mae` which is not available. Available metrics are: loss,mae\n"
     ]
    },
    {
     "name": "stdout",
     "output_type": "stream",
     "text": [
      "27/27 [==============================] - 0s 4ms/step - loss: 7.2815 - mae: 7.2815\n",
      "Epoch 420/2000\n",
      "26/27 [===========================>..] - ETA: 0s - loss: 8.9580 - mae: 8.9580WARNING:tensorflow:Early stopping conditioned on metric `val_mae` which is not available. Available metrics are: loss,mae\n"
     ]
    },
    {
     "name": "stderr",
     "output_type": "stream",
     "text": [
      "WARNING:tensorflow:Early stopping conditioned on metric `val_mae` which is not available. Available metrics are: loss,mae\n"
     ]
    },
    {
     "name": "stdout",
     "output_type": "stream",
     "text": [
      "27/27 [==============================] - 0s 5ms/step - loss: 9.2614 - mae: 9.2614\n",
      "Epoch 421/2000\n",
      "17/27 [=================>............] - ETA: 0s - loss: 7.9937 - mae: 7.9937WARNING:tensorflow:Early stopping conditioned on metric `val_mae` which is not available. Available metrics are: loss,mae\n"
     ]
    },
    {
     "name": "stderr",
     "output_type": "stream",
     "text": [
      "WARNING:tensorflow:Early stopping conditioned on metric `val_mae` which is not available. Available metrics are: loss,mae\n"
     ]
    },
    {
     "name": "stdout",
     "output_type": "stream",
     "text": [
      "27/27 [==============================] - 0s 4ms/step - loss: 8.4336 - mae: 8.4336\n",
      "Epoch 422/2000\n",
      "17/27 [=================>............] - ETA: 0s - loss: 6.2352 - mae: 6.2352WARNING:tensorflow:Early stopping conditioned on metric `val_mae` which is not available. Available metrics are: loss,mae\n"
     ]
    },
    {
     "name": "stderr",
     "output_type": "stream",
     "text": [
      "WARNING:tensorflow:Early stopping conditioned on metric `val_mae` which is not available. Available metrics are: loss,mae\n"
     ]
    },
    {
     "name": "stdout",
     "output_type": "stream",
     "text": [
      "27/27 [==============================] - 0s 4ms/step - loss: 6.3413 - mae: 6.3413\n",
      "Epoch 423/2000\n",
      "17/27 [=================>............] - ETA: 0s - loss: 8.8405 - mae: 8.8405WARNING:tensorflow:Early stopping conditioned on metric `val_mae` which is not available. Available metrics are: loss,mae\n"
     ]
    },
    {
     "name": "stderr",
     "output_type": "stream",
     "text": [
      "WARNING:tensorflow:Early stopping conditioned on metric `val_mae` which is not available. Available metrics are: loss,mae\n"
     ]
    },
    {
     "name": "stdout",
     "output_type": "stream",
     "text": [
      "27/27 [==============================] - 0s 4ms/step - loss: 10.5067 - mae: 10.5067\n",
      "Epoch 424/2000\n",
      "17/27 [=================>............] - ETA: 0s - loss: 9.7902 - mae: 9.7902WARNING:tensorflow:Early stopping conditioned on metric `val_mae` which is not available. Available metrics are: loss,mae\n"
     ]
    },
    {
     "name": "stderr",
     "output_type": "stream",
     "text": [
      "WARNING:tensorflow:Early stopping conditioned on metric `val_mae` which is not available. Available metrics are: loss,mae\n"
     ]
    },
    {
     "name": "stdout",
     "output_type": "stream",
     "text": [
      "27/27 [==============================] - 0s 4ms/step - loss: 10.1572 - mae: 10.1572\n",
      "Epoch 425/2000\n",
      "17/27 [=================>............] - ETA: 0s - loss: 7.8079 - mae: 7.8079  WARNING:tensorflow:Early stopping conditioned on metric `val_mae` which is not available. Available metrics are: loss,mae\n"
     ]
    },
    {
     "name": "stderr",
     "output_type": "stream",
     "text": [
      "WARNING:tensorflow:Early stopping conditioned on metric `val_mae` which is not available. Available metrics are: loss,mae\n"
     ]
    },
    {
     "name": "stdout",
     "output_type": "stream",
     "text": [
      "27/27 [==============================] - 0s 4ms/step - loss: 7.8180 - mae: 7.8180\n",
      "Epoch 426/2000\n",
      "18/27 [===================>..........] - ETA: 0s - loss: 8.7952 - mae: 8.7952  WARNING:tensorflow:Early stopping conditioned on metric `val_mae` which is not available. Available metrics are: loss,mae\n"
     ]
    },
    {
     "name": "stderr",
     "output_type": "stream",
     "text": [
      "WARNING:tensorflow:Early stopping conditioned on metric `val_mae` which is not available. Available metrics are: loss,mae\n"
     ]
    },
    {
     "name": "stdout",
     "output_type": "stream",
     "text": [
      "27/27 [==============================] - 0s 3ms/step - loss: 12.1388 - mae: 12.1388\n",
      "Epoch 427/2000\n",
      "17/27 [=================>............] - ETA: 0s - loss: 16.3761 - mae: 16.3761WARNING:tensorflow:Early stopping conditioned on metric `val_mae` which is not available. Available metrics are: loss,mae\n"
     ]
    },
    {
     "name": "stderr",
     "output_type": "stream",
     "text": [
      "WARNING:tensorflow:Early stopping conditioned on metric `val_mae` which is not available. Available metrics are: loss,mae\n"
     ]
    },
    {
     "name": "stdout",
     "output_type": "stream",
     "text": [
      "27/27 [==============================] - 0s 4ms/step - loss: 14.5062 - mae: 14.5062\n",
      "Epoch 428/2000\n",
      "17/27 [=================>............] - ETA: 0s - loss: 15.4770 - mae: 15.4770WARNING:tensorflow:Early stopping conditioned on metric `val_mae` which is not available. Available metrics are: loss,mae\n"
     ]
    },
    {
     "name": "stderr",
     "output_type": "stream",
     "text": [
      "WARNING:tensorflow:Early stopping conditioned on metric `val_mae` which is not available. Available metrics are: loss,mae\n"
     ]
    },
    {
     "name": "stdout",
     "output_type": "stream",
     "text": [
      "27/27 [==============================] - 0s 4ms/step - loss: 13.3318 - mae: 13.3318\n",
      "Epoch 429/2000\n",
      "17/27 [=================>............] - ETA: 0s - loss: 7.7012 - mae: 7.7012WARNING:tensorflow:Early stopping conditioned on metric `val_mae` which is not available. Available metrics are: loss,mae\n"
     ]
    },
    {
     "name": "stderr",
     "output_type": "stream",
     "text": [
      "WARNING:tensorflow:Early stopping conditioned on metric `val_mae` which is not available. Available metrics are: loss,mae\n"
     ]
    },
    {
     "name": "stdout",
     "output_type": "stream",
     "text": [
      "27/27 [==============================] - 0s 4ms/step - loss: 8.5028 - mae: 8.5028\n",
      "Epoch 430/2000\n",
      "19/27 [====================>.........] - ETA: 0s - loss: 8.5977 - mae: 8.5977  WARNING:tensorflow:Early stopping conditioned on metric `val_mae` which is not available. Available metrics are: loss,mae\n"
     ]
    },
    {
     "name": "stderr",
     "output_type": "stream",
     "text": [
      "WARNING:tensorflow:Early stopping conditioned on metric `val_mae` which is not available. Available metrics are: loss,mae\n"
     ]
    },
    {
     "name": "stdout",
     "output_type": "stream",
     "text": [
      "27/27 [==============================] - 0s 3ms/step - loss: 8.1329 - mae: 8.1329\n",
      "Epoch 431/2000\n",
      "19/27 [====================>.........] - ETA: 0s - loss: 7.7678 - mae: 7.7678WARNING:tensorflow:Early stopping conditioned on metric `val_mae` which is not available. Available metrics are: loss,mae\n"
     ]
    },
    {
     "name": "stderr",
     "output_type": "stream",
     "text": [
      "WARNING:tensorflow:Early stopping conditioned on metric `val_mae` which is not available. Available metrics are: loss,mae\n"
     ]
    },
    {
     "name": "stdout",
     "output_type": "stream",
     "text": [
      "27/27 [==============================] - 0s 3ms/step - loss: 7.7520 - mae: 7.7520\n",
      "Epoch 432/2000\n",
      "19/27 [====================>.........] - ETA: 0s - loss: 8.9589 - mae: 8.9589WARNING:tensorflow:Early stopping conditioned on metric `val_mae` which is not available. Available metrics are: loss,mae\n"
     ]
    },
    {
     "name": "stderr",
     "output_type": "stream",
     "text": [
      "WARNING:tensorflow:Early stopping conditioned on metric `val_mae` which is not available. Available metrics are: loss,mae\n"
     ]
    },
    {
     "name": "stdout",
     "output_type": "stream",
     "text": [
      "27/27 [==============================] - 0s 3ms/step - loss: 8.8742 - mae: 8.8742\n",
      "Epoch 433/2000\n",
      "19/27 [====================>.........] - ETA: 0s - loss: 9.2224 - mae: 9.2224WARNING:tensorflow:Early stopping conditioned on metric `val_mae` which is not available. Available metrics are: loss,mae\n"
     ]
    },
    {
     "name": "stderr",
     "output_type": "stream",
     "text": [
      "WARNING:tensorflow:Early stopping conditioned on metric `val_mae` which is not available. Available metrics are: loss,mae\n"
     ]
    },
    {
     "name": "stdout",
     "output_type": "stream",
     "text": [
      "27/27 [==============================] - 0s 3ms/step - loss: 9.7580 - mae: 9.7580\n",
      "Epoch 434/2000\n",
      "20/27 [=====================>........] - ETA: 0s - loss: 7.3849 - mae: 7.3849  WARNING:tensorflow:Early stopping conditioned on metric `val_mae` which is not available. Available metrics are: loss,mae\n"
     ]
    },
    {
     "name": "stderr",
     "output_type": "stream",
     "text": [
      "WARNING:tensorflow:Early stopping conditioned on metric `val_mae` which is not available. Available metrics are: loss,mae\n"
     ]
    },
    {
     "name": "stdout",
     "output_type": "stream",
     "text": [
      "27/27 [==============================] - 0s 3ms/step - loss: 8.0942 - mae: 8.0942\n",
      "Epoch 435/2000\n",
      "20/27 [=====================>........] - ETA: 0s - loss: 12.6379 - mae: 12.6379WARNING:tensorflow:Early stopping conditioned on metric `val_mae` which is not available. Available metrics are: loss,mae\n"
     ]
    },
    {
     "name": "stderr",
     "output_type": "stream",
     "text": [
      "WARNING:tensorflow:Early stopping conditioned on metric `val_mae` which is not available. Available metrics are: loss,mae\n"
     ]
    },
    {
     "name": "stdout",
     "output_type": "stream",
     "text": [
      "27/27 [==============================] - 0s 3ms/step - loss: 11.4670 - mae: 11.4670\n",
      "Epoch 436/2000\n",
      "20/27 [=====================>........] - ETA: 0s - loss: 8.6847 - mae: 8.6847  WARNING:tensorflow:Early stopping conditioned on metric `val_mae` which is not available. Available metrics are: loss,mae\n"
     ]
    },
    {
     "name": "stderr",
     "output_type": "stream",
     "text": [
      "WARNING:tensorflow:Early stopping conditioned on metric `val_mae` which is not available. Available metrics are: loss,mae\n"
     ]
    },
    {
     "name": "stdout",
     "output_type": "stream",
     "text": [
      "27/27 [==============================] - 0s 3ms/step - loss: 8.3659 - mae: 8.3659\n",
      "Epoch 437/2000\n",
      "20/27 [=====================>........] - ETA: 0s - loss: 11.8182 - mae: 11.8182WARNING:tensorflow:Early stopping conditioned on metric `val_mae` which is not available. Available metrics are: loss,mae\n"
     ]
    },
    {
     "name": "stderr",
     "output_type": "stream",
     "text": [
      "WARNING:tensorflow:Early stopping conditioned on metric `val_mae` which is not available. Available metrics are: loss,mae\n"
     ]
    },
    {
     "name": "stdout",
     "output_type": "stream",
     "text": [
      "27/27 [==============================] - 0s 3ms/step - loss: 12.0277 - mae: 12.0277\n",
      "Epoch 438/2000\n",
      "20/27 [=====================>........] - ETA: 0s - loss: 11.9205 - mae: 11.9205WARNING:tensorflow:Early stopping conditioned on metric `val_mae` which is not available. Available metrics are: loss,mae\n"
     ]
    },
    {
     "name": "stderr",
     "output_type": "stream",
     "text": [
      "WARNING:tensorflow:Early stopping conditioned on metric `val_mae` which is not available. Available metrics are: loss,mae\n"
     ]
    },
    {
     "name": "stdout",
     "output_type": "stream",
     "text": [
      "27/27 [==============================] - 0s 3ms/step - loss: 10.7476 - mae: 10.7476\n",
      "Epoch 439/2000\n",
      "19/27 [====================>.........] - ETA: 0s - loss: 6.2875 - mae: 6.2875WARNING:tensorflow:Early stopping conditioned on metric `val_mae` which is not available. Available metrics are: loss,mae\n"
     ]
    },
    {
     "name": "stderr",
     "output_type": "stream",
     "text": [
      "WARNING:tensorflow:Early stopping conditioned on metric `val_mae` which is not available. Available metrics are: loss,mae\n"
     ]
    },
    {
     "name": "stdout",
     "output_type": "stream",
     "text": [
      "27/27 [==============================] - 0s 3ms/step - loss: 6.5368 - mae: 6.5368\n",
      "Epoch 440/2000\n",
      "19/27 [====================>.........] - ETA: 0s - loss: 6.9085 - mae: 6.9085WARNING:tensorflow:Early stopping conditioned on metric `val_mae` which is not available. Available metrics are: loss,mae\n"
     ]
    },
    {
     "name": "stderr",
     "output_type": "stream",
     "text": [
      "WARNING:tensorflow:Early stopping conditioned on metric `val_mae` which is not available. Available metrics are: loss,mae\n"
     ]
    },
    {
     "name": "stdout",
     "output_type": "stream",
     "text": [
      "27/27 [==============================] - 0s 3ms/step - loss: 7.0348 - mae: 7.0348\n",
      "Epoch 441/2000\n",
      "20/27 [=====================>........] - ETA: 0s - loss: 7.0216 - mae: 7.0216WARNING:tensorflow:Early stopping conditioned on metric `val_mae` which is not available. Available metrics are: loss,mae\n"
     ]
    },
    {
     "name": "stderr",
     "output_type": "stream",
     "text": [
      "WARNING:tensorflow:Early stopping conditioned on metric `val_mae` which is not available. Available metrics are: loss,mae\n"
     ]
    },
    {
     "name": "stdout",
     "output_type": "stream",
     "text": [
      "27/27 [==============================] - 0s 3ms/step - loss: 6.8465 - mae: 6.8465\n",
      "Epoch 442/2000\n",
      "19/27 [====================>.........] - ETA: 0s - loss: 6.9411 - mae: 6.9411WARNING:tensorflow:Early stopping conditioned on metric `val_mae` which is not available. Available metrics are: loss,mae\n"
     ]
    },
    {
     "name": "stderr",
     "output_type": "stream",
     "text": [
      "WARNING:tensorflow:Early stopping conditioned on metric `val_mae` which is not available. Available metrics are: loss,mae\n"
     ]
    },
    {
     "name": "stdout",
     "output_type": "stream",
     "text": [
      "27/27 [==============================] - 0s 3ms/step - loss: 7.3411 - mae: 7.3411\n",
      "Epoch 443/2000\n",
      "19/27 [====================>.........] - ETA: 0s - loss: 7.3650 - mae: 7.3650WARNING:tensorflow:Early stopping conditioned on metric `val_mae` which is not available. Available metrics are: loss,mae\n"
     ]
    },
    {
     "name": "stderr",
     "output_type": "stream",
     "text": [
      "WARNING:tensorflow:Early stopping conditioned on metric `val_mae` which is not available. Available metrics are: loss,mae\n"
     ]
    },
    {
     "name": "stdout",
     "output_type": "stream",
     "text": [
      "27/27 [==============================] - 0s 3ms/step - loss: 7.2046 - mae: 7.2046\n",
      "Epoch 444/2000\n",
      "20/27 [=====================>........] - ETA: 0s - loss: 7.1370 - mae: 7.1370WARNING:tensorflow:Early stopping conditioned on metric `val_mae` which is not available. Available metrics are: loss,mae\n"
     ]
    },
    {
     "name": "stderr",
     "output_type": "stream",
     "text": [
      "WARNING:tensorflow:Early stopping conditioned on metric `val_mae` which is not available. Available metrics are: loss,mae\n"
     ]
    },
    {
     "name": "stdout",
     "output_type": "stream",
     "text": [
      "27/27 [==============================] - 0s 3ms/step - loss: 7.7446 - mae: 7.7446\n",
      "Epoch 445/2000\n",
      "20/27 [=====================>........] - ETA: 0s - loss: 9.1647 - mae: 9.1647  WARNING:tensorflow:Early stopping conditioned on metric `val_mae` which is not available. Available metrics are: loss,mae\n"
     ]
    },
    {
     "name": "stderr",
     "output_type": "stream",
     "text": [
      "WARNING:tensorflow:Early stopping conditioned on metric `val_mae` which is not available. Available metrics are: loss,mae\n"
     ]
    },
    {
     "name": "stdout",
     "output_type": "stream",
     "text": [
      "27/27 [==============================] - 0s 3ms/step - loss: 8.5240 - mae: 8.5240\n",
      "Epoch 446/2000\n",
      "20/27 [=====================>........] - ETA: 0s - loss: 7.0383 - mae: 7.0383WARNING:tensorflow:Early stopping conditioned on metric `val_mae` which is not available. Available metrics are: loss,mae\n"
     ]
    },
    {
     "name": "stderr",
     "output_type": "stream",
     "text": [
      "WARNING:tensorflow:Early stopping conditioned on metric `val_mae` which is not available. Available metrics are: loss,mae\n"
     ]
    },
    {
     "name": "stdout",
     "output_type": "stream",
     "text": [
      "27/27 [==============================] - 0s 3ms/step - loss: 6.8222 - mae: 6.8222\n",
      "Epoch 447/2000\n",
      "19/27 [====================>.........] - ETA: 0s - loss: 6.3152 - mae: 6.3152WARNING:tensorflow:Early stopping conditioned on metric `val_mae` which is not available. Available metrics are: loss,mae\n"
     ]
    },
    {
     "name": "stderr",
     "output_type": "stream",
     "text": [
      "WARNING:tensorflow:Early stopping conditioned on metric `val_mae` which is not available. Available metrics are: loss,mae\n"
     ]
    },
    {
     "name": "stdout",
     "output_type": "stream",
     "text": [
      "27/27 [==============================] - 0s 3ms/step - loss: 6.2193 - mae: 6.2193\n",
      "Epoch 448/2000\n",
      "17/27 [=================>............] - ETA: 0s - loss: 6.3017 - mae: 6.3017WARNING:tensorflow:Early stopping conditioned on metric `val_mae` which is not available. Available metrics are: loss,mae\n"
     ]
    },
    {
     "name": "stderr",
     "output_type": "stream",
     "text": [
      "WARNING:tensorflow:Early stopping conditioned on metric `val_mae` which is not available. Available metrics are: loss,mae\n"
     ]
    },
    {
     "name": "stdout",
     "output_type": "stream",
     "text": [
      "27/27 [==============================] - 0s 3ms/step - loss: 6.8938 - mae: 6.8938\n",
      "Epoch 449/2000\n",
      "20/27 [=====================>........] - ETA: 0s - loss: 7.2336 - mae: 7.2336WARNING:tensorflow:Early stopping conditioned on metric `val_mae` which is not available. Available metrics are: loss,mae\n"
     ]
    },
    {
     "name": "stderr",
     "output_type": "stream",
     "text": [
      "WARNING:tensorflow:Early stopping conditioned on metric `val_mae` which is not available. Available metrics are: loss,mae\n"
     ]
    },
    {
     "name": "stdout",
     "output_type": "stream",
     "text": [
      "27/27 [==============================] - 0s 3ms/step - loss: 7.2340 - mae: 7.2340\n",
      "Epoch 450/2000\n",
      "19/27 [====================>.........] - ETA: 0s - loss: 10.9770 - mae: 10.9770WARNING:tensorflow:Early stopping conditioned on metric `val_mae` which is not available. Available metrics are: loss,mae\n"
     ]
    },
    {
     "name": "stderr",
     "output_type": "stream",
     "text": [
      "WARNING:tensorflow:Early stopping conditioned on metric `val_mae` which is not available. Available metrics are: loss,mae\n"
     ]
    },
    {
     "name": "stdout",
     "output_type": "stream",
     "text": [
      "27/27 [==============================] - 0s 3ms/step - loss: 10.3642 - mae: 10.3642\n",
      "Epoch 451/2000\n",
      "19/27 [====================>.........] - ETA: 0s - loss: 8.1332 - mae: 8.1332WARNING:tensorflow:Early stopping conditioned on metric `val_mae` which is not available. Available metrics are: loss,mae\n"
     ]
    },
    {
     "name": "stderr",
     "output_type": "stream",
     "text": [
      "WARNING:tensorflow:Early stopping conditioned on metric `val_mae` which is not available. Available metrics are: loss,mae\n"
     ]
    },
    {
     "name": "stdout",
     "output_type": "stream",
     "text": [
      "27/27 [==============================] - 0s 3ms/step - loss: 7.6323 - mae: 7.6323\n",
      "Epoch 452/2000\n",
      "20/27 [=====================>........] - ETA: 0s - loss: 7.5396 - mae: 7.5396WARNING:tensorflow:Early stopping conditioned on metric `val_mae` which is not available. Available metrics are: loss,mae\n"
     ]
    },
    {
     "name": "stderr",
     "output_type": "stream",
     "text": [
      "WARNING:tensorflow:Early stopping conditioned on metric `val_mae` which is not available. Available metrics are: loss,mae\n"
     ]
    },
    {
     "name": "stdout",
     "output_type": "stream",
     "text": [
      "27/27 [==============================] - 0s 3ms/step - loss: 7.1388 - mae: 7.1388\n",
      "Epoch 453/2000\n",
      "20/27 [=====================>........] - ETA: 0s - loss: 7.3921 - mae: 7.3921WARNING:tensorflow:Early stopping conditioned on metric `val_mae` which is not available. Available metrics are: loss,mae\n"
     ]
    },
    {
     "name": "stderr",
     "output_type": "stream",
     "text": [
      "WARNING:tensorflow:Early stopping conditioned on metric `val_mae` which is not available. Available metrics are: loss,mae\n"
     ]
    },
    {
     "name": "stdout",
     "output_type": "stream",
     "text": [
      "27/27 [==============================] - 0s 3ms/step - loss: 7.4101 - mae: 7.4101\n",
      "Epoch 454/2000\n",
      "19/27 [====================>.........] - ETA: 0s - loss: 6.7001 - mae: 6.7001WARNING:tensorflow:Early stopping conditioned on metric `val_mae` which is not available. Available metrics are: loss,mae\n"
     ]
    },
    {
     "name": "stderr",
     "output_type": "stream",
     "text": [
      "WARNING:tensorflow:Early stopping conditioned on metric `val_mae` which is not available. Available metrics are: loss,mae\n"
     ]
    },
    {
     "name": "stdout",
     "output_type": "stream",
     "text": [
      "27/27 [==============================] - 0s 3ms/step - loss: 6.7293 - mae: 6.7293\n",
      "Epoch 455/2000\n",
      "20/27 [=====================>........] - ETA: 0s - loss: 8.7678 - mae: 8.7678  WARNING:tensorflow:Early stopping conditioned on metric `val_mae` which is not available. Available metrics are: loss,mae\n"
     ]
    },
    {
     "name": "stderr",
     "output_type": "stream",
     "text": [
      "WARNING:tensorflow:Early stopping conditioned on metric `val_mae` which is not available. Available metrics are: loss,mae\n"
     ]
    },
    {
     "name": "stdout",
     "output_type": "stream",
     "text": [
      "27/27 [==============================] - 0s 3ms/step - loss: 8.1796 - mae: 8.1796\n",
      "Epoch 456/2000\n",
      "20/27 [=====================>........] - ETA: 0s - loss: 7.3472 - mae: 7.3472WARNING:tensorflow:Early stopping conditioned on metric `val_mae` which is not available. Available metrics are: loss,mae\n"
     ]
    },
    {
     "name": "stderr",
     "output_type": "stream",
     "text": [
      "WARNING:tensorflow:Early stopping conditioned on metric `val_mae` which is not available. Available metrics are: loss,mae\n"
     ]
    },
    {
     "name": "stdout",
     "output_type": "stream",
     "text": [
      "27/27 [==============================] - 0s 3ms/step - loss: 7.4945 - mae: 7.4945\n",
      "Epoch 457/2000\n",
      "20/27 [=====================>........] - ETA: 0s - loss: 6.4071 - mae: 6.4071WARNING:tensorflow:Early stopping conditioned on metric `val_mae` which is not available. Available metrics are: loss,mae\n"
     ]
    },
    {
     "name": "stderr",
     "output_type": "stream",
     "text": [
      "WARNING:tensorflow:Early stopping conditioned on metric `val_mae` which is not available. Available metrics are: loss,mae\n"
     ]
    },
    {
     "name": "stdout",
     "output_type": "stream",
     "text": [
      "27/27 [==============================] - 0s 3ms/step - loss: 6.8420 - mae: 6.8420\n",
      "Epoch 458/2000\n",
      "20/27 [=====================>........] - ETA: 0s - loss: 5.7693 - mae: 5.7693WARNING:tensorflow:Early stopping conditioned on metric `val_mae` which is not available. Available metrics are: loss,mae\n"
     ]
    },
    {
     "name": "stderr",
     "output_type": "stream",
     "text": [
      "WARNING:tensorflow:Early stopping conditioned on metric `val_mae` which is not available. Available metrics are: loss,mae\n"
     ]
    },
    {
     "name": "stdout",
     "output_type": "stream",
     "text": [
      "27/27 [==============================] - 0s 3ms/step - loss: 6.1933 - mae: 6.1933\n",
      "Epoch 459/2000\n",
      "20/27 [=====================>........] - ETA: 0s - loss: 6.3372 - mae: 6.3372WARNING:tensorflow:Early stopping conditioned on metric `val_mae` which is not available. Available metrics are: loss,mae\n"
     ]
    },
    {
     "name": "stderr",
     "output_type": "stream",
     "text": [
      "WARNING:tensorflow:Early stopping conditioned on metric `val_mae` which is not available. Available metrics are: loss,mae\n"
     ]
    },
    {
     "name": "stdout",
     "output_type": "stream",
     "text": [
      "27/27 [==============================] - 0s 3ms/step - loss: 6.4971 - mae: 6.4971\n",
      "Epoch 460/2000\n",
      "20/27 [=====================>........] - ETA: 0s - loss: 7.5028 - mae: 7.5028WARNING:tensorflow:Early stopping conditioned on metric `val_mae` which is not available. Available metrics are: loss,mae\n"
     ]
    },
    {
     "name": "stderr",
     "output_type": "stream",
     "text": [
      "WARNING:tensorflow:Early stopping conditioned on metric `val_mae` which is not available. Available metrics are: loss,mae\n"
     ]
    },
    {
     "name": "stdout",
     "output_type": "stream",
     "text": [
      "27/27 [==============================] - 0s 3ms/step - loss: 7.1840 - mae: 7.1840\n",
      "Epoch 461/2000\n",
      "20/27 [=====================>........] - ETA: 0s - loss: 7.1453 - mae: 7.1453WARNING:tensorflow:Early stopping conditioned on metric `val_mae` which is not available. Available metrics are: loss,mae\n"
     ]
    },
    {
     "name": "stderr",
     "output_type": "stream",
     "text": [
      "WARNING:tensorflow:Early stopping conditioned on metric `val_mae` which is not available. Available metrics are: loss,mae\n"
     ]
    },
    {
     "name": "stdout",
     "output_type": "stream",
     "text": [
      "27/27 [==============================] - 0s 3ms/step - loss: 6.6890 - mae: 6.6890\n",
      "Epoch 462/2000\n",
      "20/27 [=====================>........] - ETA: 0s - loss: 8.3303 - mae: 8.3303WARNING:tensorflow:Early stopping conditioned on metric `val_mae` which is not available. Available metrics are: loss,mae\n"
     ]
    },
    {
     "name": "stderr",
     "output_type": "stream",
     "text": [
      "WARNING:tensorflow:Early stopping conditioned on metric `val_mae` which is not available. Available metrics are: loss,mae\n"
     ]
    },
    {
     "name": "stdout",
     "output_type": "stream",
     "text": [
      "27/27 [==============================] - 0s 3ms/step - loss: 7.6741 - mae: 7.6741\n",
      "Epoch 463/2000\n",
      "16/27 [================>.............] - ETA: 0s - loss: 7.4196 - mae: 7.4196WARNING:tensorflow:Early stopping conditioned on metric `val_mae` which is not available. Available metrics are: loss,mae\n"
     ]
    },
    {
     "name": "stderr",
     "output_type": "stream",
     "text": [
      "WARNING:tensorflow:Early stopping conditioned on metric `val_mae` which is not available. Available metrics are: loss,mae\n"
     ]
    },
    {
     "name": "stdout",
     "output_type": "stream",
     "text": [
      "27/27 [==============================] - 0s 4ms/step - loss: 7.7430 - mae: 7.7430\n",
      "Epoch 464/2000\n",
      "17/27 [=================>............] - ETA: 0s - loss: 7.3600 - mae: 7.3600WARNING:tensorflow:Early stopping conditioned on metric `val_mae` which is not available. Available metrics are: loss,mae\n"
     ]
    },
    {
     "name": "stderr",
     "output_type": "stream",
     "text": [
      "WARNING:tensorflow:Early stopping conditioned on metric `val_mae` which is not available. Available metrics are: loss,mae\n"
     ]
    },
    {
     "name": "stdout",
     "output_type": "stream",
     "text": [
      "27/27 [==============================] - 0s 4ms/step - loss: 7.2136 - mae: 7.2136\n",
      "Epoch 465/2000\n",
      "17/27 [=================>............] - ETA: 0s - loss: 5.5202 - mae: 5.5202WARNING:tensorflow:Early stopping conditioned on metric `val_mae` which is not available. Available metrics are: loss,mae\n"
     ]
    },
    {
     "name": "stderr",
     "output_type": "stream",
     "text": [
      "WARNING:tensorflow:Early stopping conditioned on metric `val_mae` which is not available. Available metrics are: loss,mae\n"
     ]
    },
    {
     "name": "stdout",
     "output_type": "stream",
     "text": [
      "27/27 [==============================] - 0s 4ms/step - loss: 5.4989 - mae: 5.4989\n",
      "Epoch 466/2000\n",
      "17/27 [=================>............] - ETA: 0s - loss: 6.1532 - mae: 6.1532WARNING:tensorflow:Early stopping conditioned on metric `val_mae` which is not available. Available metrics are: loss,mae\n"
     ]
    },
    {
     "name": "stderr",
     "output_type": "stream",
     "text": [
      "WARNING:tensorflow:Early stopping conditioned on metric `val_mae` which is not available. Available metrics are: loss,mae\n"
     ]
    },
    {
     "name": "stdout",
     "output_type": "stream",
     "text": [
      "27/27 [==============================] - 0s 4ms/step - loss: 7.5236 - mae: 7.5236\n",
      "Epoch 467/2000\n",
      "18/27 [===================>..........] - ETA: 0s - loss: 8.6570 - mae: 8.6570  WARNING:tensorflow:Early stopping conditioned on metric `val_mae` which is not available. Available metrics are: loss,mae\n"
     ]
    },
    {
     "name": "stderr",
     "output_type": "stream",
     "text": [
      "WARNING:tensorflow:Early stopping conditioned on metric `val_mae` which is not available. Available metrics are: loss,mae\n"
     ]
    },
    {
     "name": "stdout",
     "output_type": "stream",
     "text": [
      "27/27 [==============================] - 0s 3ms/step - loss: 9.3212 - mae: 9.3212\n",
      "Epoch 468/2000\n",
      "19/27 [====================>.........] - ETA: 0s - loss: 6.5691 - mae: 6.5691WARNING:tensorflow:Early stopping conditioned on metric `val_mae` which is not available. Available metrics are: loss,mae\n"
     ]
    },
    {
     "name": "stderr",
     "output_type": "stream",
     "text": [
      "WARNING:tensorflow:Early stopping conditioned on metric `val_mae` which is not available. Available metrics are: loss,mae\n"
     ]
    },
    {
     "name": "stdout",
     "output_type": "stream",
     "text": [
      "27/27 [==============================] - 0s 3ms/step - loss: 6.6801 - mae: 6.6801\n",
      "Epoch 469/2000\n",
      "18/27 [===================>..........] - ETA: 0s - loss: 8.2255 - mae: 8.2255  WARNING:tensorflow:Early stopping conditioned on metric `val_mae` which is not available. Available metrics are: loss,mae\n"
     ]
    },
    {
     "name": "stderr",
     "output_type": "stream",
     "text": [
      "WARNING:tensorflow:Early stopping conditioned on metric `val_mae` which is not available. Available metrics are: loss,mae\n"
     ]
    },
    {
     "name": "stdout",
     "output_type": "stream",
     "text": [
      "27/27 [==============================] - 0s 3ms/step - loss: 8.3778 - mae: 8.3778\n",
      "Epoch 470/2000\n",
      "19/27 [====================>.........] - ETA: 0s - loss: 5.7461 - mae: 5.7461WARNING:tensorflow:Early stopping conditioned on metric `val_mae` which is not available. Available metrics are: loss,mae\n"
     ]
    },
    {
     "name": "stderr",
     "output_type": "stream",
     "text": [
      "WARNING:tensorflow:Early stopping conditioned on metric `val_mae` which is not available. Available metrics are: loss,mae\n"
     ]
    },
    {
     "name": "stdout",
     "output_type": "stream",
     "text": [
      "27/27 [==============================] - 0s 3ms/step - loss: 6.5169 - mae: 6.5169\n",
      "Epoch 471/2000\n",
      "18/27 [===================>..........] - ETA: 0s - loss: 7.2236 - mae: 7.2236WARNING:tensorflow:Early stopping conditioned on metric `val_mae` which is not available. Available metrics are: loss,mae\n"
     ]
    },
    {
     "name": "stderr",
     "output_type": "stream",
     "text": [
      "WARNING:tensorflow:Early stopping conditioned on metric `val_mae` which is not available. Available metrics are: loss,mae\n"
     ]
    },
    {
     "name": "stdout",
     "output_type": "stream",
     "text": [
      "27/27 [==============================] - 0s 3ms/step - loss: 7.3165 - mae: 7.3165\n",
      "Epoch 472/2000\n",
      "17/27 [=================>............] - ETA: 0s - loss: 6.0227 - mae: 6.0227WARNING:tensorflow:Early stopping conditioned on metric `val_mae` which is not available. Available metrics are: loss,mae\n"
     ]
    },
    {
     "name": "stderr",
     "output_type": "stream",
     "text": [
      "WARNING:tensorflow:Early stopping conditioned on metric `val_mae` which is not available. Available metrics are: loss,mae\n"
     ]
    },
    {
     "name": "stdout",
     "output_type": "stream",
     "text": [
      "27/27 [==============================] - 0s 3ms/step - loss: 6.0229 - mae: 6.0229\n",
      "Epoch 473/2000\n",
      "18/27 [===================>..........] - ETA: 0s - loss: 6.4835 - mae: 6.4835WARNING:tensorflow:Early stopping conditioned on metric `val_mae` which is not available. Available metrics are: loss,mae\n"
     ]
    },
    {
     "name": "stderr",
     "output_type": "stream",
     "text": [
      "WARNING:tensorflow:Early stopping conditioned on metric `val_mae` which is not available. Available metrics are: loss,mae\n"
     ]
    },
    {
     "name": "stdout",
     "output_type": "stream",
     "text": [
      "27/27 [==============================] - 0s 4ms/step - loss: 6.6907 - mae: 6.6907\n",
      "Epoch 474/2000\n",
      "18/27 [===================>..........] - ETA: 0s - loss: 5.9336 - mae: 5.9336WARNING:tensorflow:Early stopping conditioned on metric `val_mae` which is not available. Available metrics are: loss,mae\n"
     ]
    },
    {
     "name": "stderr",
     "output_type": "stream",
     "text": [
      "WARNING:tensorflow:Early stopping conditioned on metric `val_mae` which is not available. Available metrics are: loss,mae\n"
     ]
    },
    {
     "name": "stdout",
     "output_type": "stream",
     "text": [
      "27/27 [==============================] - 0s 3ms/step - loss: 6.0460 - mae: 6.0460\n",
      "Epoch 475/2000\n",
      "19/27 [====================>.........] - ETA: 0s - loss: 6.2976 - mae: 6.2976WARNING:tensorflow:Early stopping conditioned on metric `val_mae` which is not available. Available metrics are: loss,mae\n"
     ]
    },
    {
     "name": "stderr",
     "output_type": "stream",
     "text": [
      "WARNING:tensorflow:Early stopping conditioned on metric `val_mae` which is not available. Available metrics are: loss,mae\n"
     ]
    },
    {
     "name": "stdout",
     "output_type": "stream",
     "text": [
      "27/27 [==============================] - 0s 3ms/step - loss: 6.4566 - mae: 6.4566\n",
      "Epoch 476/2000\n",
      "19/27 [====================>.........] - ETA: 0s - loss: 7.3409 - mae: 7.3409WARNING:tensorflow:Early stopping conditioned on metric `val_mae` which is not available. Available metrics are: loss,mae\n"
     ]
    },
    {
     "name": "stderr",
     "output_type": "stream",
     "text": [
      "WARNING:tensorflow:Early stopping conditioned on metric `val_mae` which is not available. Available metrics are: loss,mae\n"
     ]
    },
    {
     "name": "stdout",
     "output_type": "stream",
     "text": [
      "27/27 [==============================] - 0s 3ms/step - loss: 7.1921 - mae: 7.1921\n",
      "Epoch 477/2000\n",
      "19/27 [====================>.........] - ETA: 0s - loss: 8.8171 - mae: 8.8171WARNING:tensorflow:Early stopping conditioned on metric `val_mae` which is not available. Available metrics are: loss,mae\n"
     ]
    },
    {
     "name": "stderr",
     "output_type": "stream",
     "text": [
      "WARNING:tensorflow:Early stopping conditioned on metric `val_mae` which is not available. Available metrics are: loss,mae\n"
     ]
    },
    {
     "name": "stdout",
     "output_type": "stream",
     "text": [
      "27/27 [==============================] - 0s 3ms/step - loss: 9.0328 - mae: 9.0328\n",
      "Epoch 478/2000\n",
      "20/27 [=====================>........] - ETA: 0s - loss: 7.6826 - mae: 7.6826  WARNING:tensorflow:Early stopping conditioned on metric `val_mae` which is not available. Available metrics are: loss,mae\n"
     ]
    },
    {
     "name": "stderr",
     "output_type": "stream",
     "text": [
      "WARNING:tensorflow:Early stopping conditioned on metric `val_mae` which is not available. Available metrics are: loss,mae\n"
     ]
    },
    {
     "name": "stdout",
     "output_type": "stream",
     "text": [
      "27/27 [==============================] - 0s 3ms/step - loss: 7.1304 - mae: 7.1304\n",
      "Epoch 479/2000\n",
      "19/27 [====================>.........] - ETA: 0s - loss: 6.5886 - mae: 6.5886WARNING:tensorflow:Early stopping conditioned on metric `val_mae` which is not available. Available metrics are: loss,mae\n"
     ]
    },
    {
     "name": "stderr",
     "output_type": "stream",
     "text": [
      "WARNING:tensorflow:Early stopping conditioned on metric `val_mae` which is not available. Available metrics are: loss,mae\n"
     ]
    },
    {
     "name": "stdout",
     "output_type": "stream",
     "text": [
      "27/27 [==============================] - 0s 3ms/step - loss: 6.5006 - mae: 6.5006\n",
      "Epoch 480/2000\n",
      "19/27 [====================>.........] - ETA: 0s - loss: 9.1674 - mae: 9.1674  WARNING:tensorflow:Early stopping conditioned on metric `val_mae` which is not available. Available metrics are: loss,mae\n"
     ]
    },
    {
     "name": "stderr",
     "output_type": "stream",
     "text": [
      "WARNING:tensorflow:Early stopping conditioned on metric `val_mae` which is not available. Available metrics are: loss,mae\n"
     ]
    },
    {
     "name": "stdout",
     "output_type": "stream",
     "text": [
      "27/27 [==============================] - 0s 3ms/step - loss: 8.8246 - mae: 8.8246\n",
      "Epoch 481/2000\n",
      "19/27 [====================>.........] - ETA: 0s - loss: 6.5751 - mae: 6.5751WARNING:tensorflow:Early stopping conditioned on metric `val_mae` which is not available. Available metrics are: loss,mae\n"
     ]
    },
    {
     "name": "stderr",
     "output_type": "stream",
     "text": [
      "WARNING:tensorflow:Early stopping conditioned on metric `val_mae` which is not available. Available metrics are: loss,mae\n"
     ]
    },
    {
     "name": "stdout",
     "output_type": "stream",
     "text": [
      "27/27 [==============================] - 0s 3ms/step - loss: 6.5089 - mae: 6.5089\n",
      "Epoch 482/2000\n",
      "19/27 [====================>.........] - ETA: 0s - loss: 9.7427 - mae: 9.7427WARNING:tensorflow:Early stopping conditioned on metric `val_mae` which is not available. Available metrics are: loss,mae\n"
     ]
    },
    {
     "name": "stderr",
     "output_type": "stream",
     "text": [
      "WARNING:tensorflow:Early stopping conditioned on metric `val_mae` which is not available. Available metrics are: loss,mae\n"
     ]
    },
    {
     "name": "stdout",
     "output_type": "stream",
     "text": [
      "27/27 [==============================] - 0s 3ms/step - loss: 9.4499 - mae: 9.4499\n",
      "Epoch 483/2000\n",
      "19/27 [====================>.........] - ETA: 0s - loss: 6.6638 - mae: 6.6638WARNING:tensorflow:Early stopping conditioned on metric `val_mae` which is not available. Available metrics are: loss,mae\n"
     ]
    },
    {
     "name": "stderr",
     "output_type": "stream",
     "text": [
      "WARNING:tensorflow:Early stopping conditioned on metric `val_mae` which is not available. Available metrics are: loss,mae\n"
     ]
    },
    {
     "name": "stdout",
     "output_type": "stream",
     "text": [
      "27/27 [==============================] - 0s 3ms/step - loss: 6.5374 - mae: 6.5374\n",
      "Epoch 484/2000\n",
      "19/27 [====================>.........] - ETA: 0s - loss: 9.5535 - mae: 9.5535WARNING:tensorflow:Early stopping conditioned on metric `val_mae` which is not available. Available metrics are: loss,mae\n"
     ]
    },
    {
     "name": "stderr",
     "output_type": "stream",
     "text": [
      "WARNING:tensorflow:Early stopping conditioned on metric `val_mae` which is not available. Available metrics are: loss,mae\n"
     ]
    },
    {
     "name": "stdout",
     "output_type": "stream",
     "text": [
      "27/27 [==============================] - 0s 3ms/step - loss: 9.1376 - mae: 9.1376\n",
      "Epoch 485/2000\n",
      "19/27 [====================>.........] - ETA: 0s - loss: 8.8186 - mae: 8.8186  WARNING:tensorflow:Early stopping conditioned on metric `val_mae` which is not available. Available metrics are: loss,mae\n"
     ]
    },
    {
     "name": "stderr",
     "output_type": "stream",
     "text": [
      "WARNING:tensorflow:Early stopping conditioned on metric `val_mae` which is not available. Available metrics are: loss,mae\n"
     ]
    },
    {
     "name": "stdout",
     "output_type": "stream",
     "text": [
      "27/27 [==============================] - 0s 3ms/step - loss: 8.6004 - mae: 8.6004\n",
      "Epoch 486/2000\n",
      "19/27 [====================>.........] - ETA: 0s - loss: 6.1326 - mae: 6.1326WARNING:tensorflow:Early stopping conditioned on metric `val_mae` which is not available. Available metrics are: loss,mae\n"
     ]
    },
    {
     "name": "stderr",
     "output_type": "stream",
     "text": [
      "WARNING:tensorflow:Early stopping conditioned on metric `val_mae` which is not available. Available metrics are: loss,mae\n"
     ]
    },
    {
     "name": "stdout",
     "output_type": "stream",
     "text": [
      "27/27 [==============================] - 0s 3ms/step - loss: 6.0697 - mae: 6.0697\n",
      "Epoch 487/2000\n",
      "18/27 [===================>..........] - ETA: 0s - loss: 6.5884 - mae: 6.5884WARNING:tensorflow:Early stopping conditioned on metric `val_mae` which is not available. Available metrics are: loss,mae\n"
     ]
    },
    {
     "name": "stderr",
     "output_type": "stream",
     "text": [
      "WARNING:tensorflow:Early stopping conditioned on metric `val_mae` which is not available. Available metrics are: loss,mae\n"
     ]
    },
    {
     "name": "stdout",
     "output_type": "stream",
     "text": [
      "27/27 [==============================] - 0s 3ms/step - loss: 6.6864 - mae: 6.6864\n",
      "Epoch 488/2000\n",
      "18/27 [===================>..........] - ETA: 0s - loss: 8.0067 - mae: 8.0067WARNING:tensorflow:Early stopping conditioned on metric `val_mae` which is not available. Available metrics are: loss,mae\n"
     ]
    },
    {
     "name": "stderr",
     "output_type": "stream",
     "text": [
      "WARNING:tensorflow:Early stopping conditioned on metric `val_mae` which is not available. Available metrics are: loss,mae\n"
     ]
    },
    {
     "name": "stdout",
     "output_type": "stream",
     "text": [
      "27/27 [==============================] - 0s 3ms/step - loss: 8.0739 - mae: 8.0739\n",
      "Epoch 489/2000\n",
      "19/27 [====================>.........] - ETA: 0s - loss: 6.7406 - mae: 6.7406WARNING:tensorflow:Early stopping conditioned on metric `val_mae` which is not available. Available metrics are: loss,mae\n"
     ]
    },
    {
     "name": "stderr",
     "output_type": "stream",
     "text": [
      "WARNING:tensorflow:Early stopping conditioned on metric `val_mae` which is not available. Available metrics are: loss,mae\n"
     ]
    },
    {
     "name": "stdout",
     "output_type": "stream",
     "text": [
      "27/27 [==============================] - 0s 3ms/step - loss: 6.6397 - mae: 6.6397\n",
      "Epoch 490/2000\n",
      "19/27 [====================>.........] - ETA: 0s - loss: 7.3822 - mae: 7.3822WARNING:tensorflow:Early stopping conditioned on metric `val_mae` which is not available. Available metrics are: loss,mae\n"
     ]
    },
    {
     "name": "stderr",
     "output_type": "stream",
     "text": [
      "WARNING:tensorflow:Early stopping conditioned on metric `val_mae` which is not available. Available metrics are: loss,mae\n"
     ]
    },
    {
     "name": "stdout",
     "output_type": "stream",
     "text": [
      "27/27 [==============================] - 0s 3ms/step - loss: 6.9194 - mae: 6.9194\n",
      "Epoch 491/2000\n",
      "18/27 [===================>..........] - ETA: 0s - loss: 5.8928 - mae: 5.8928WARNING:tensorflow:Early stopping conditioned on metric `val_mae` which is not available. Available metrics are: loss,mae\n"
     ]
    },
    {
     "name": "stderr",
     "output_type": "stream",
     "text": [
      "WARNING:tensorflow:Early stopping conditioned on metric `val_mae` which is not available. Available metrics are: loss,mae\n"
     ]
    },
    {
     "name": "stdout",
     "output_type": "stream",
     "text": [
      "27/27 [==============================] - 0s 3ms/step - loss: 5.9170 - mae: 5.9170\n",
      "Epoch 492/2000\n",
      "19/27 [====================>.........] - ETA: 0s - loss: 6.4969 - mae: 6.4969WARNING:tensorflow:Early stopping conditioned on metric `val_mae` which is not available. Available metrics are: loss,mae\n"
     ]
    },
    {
     "name": "stderr",
     "output_type": "stream",
     "text": [
      "WARNING:tensorflow:Early stopping conditioned on metric `val_mae` which is not available. Available metrics are: loss,mae\n"
     ]
    },
    {
     "name": "stdout",
     "output_type": "stream",
     "text": [
      "27/27 [==============================] - 0s 3ms/step - loss: 6.6420 - mae: 6.6420\n",
      "Epoch 493/2000\n",
      "19/27 [====================>.........] - ETA: 0s - loss: 6.6759 - mae: 6.6759WARNING:tensorflow:Early stopping conditioned on metric `val_mae` which is not available. Available metrics are: loss,mae\n"
     ]
    },
    {
     "name": "stderr",
     "output_type": "stream",
     "text": [
      "WARNING:tensorflow:Early stopping conditioned on metric `val_mae` which is not available. Available metrics are: loss,mae\n"
     ]
    },
    {
     "name": "stdout",
     "output_type": "stream",
     "text": [
      "27/27 [==============================] - 0s 3ms/step - loss: 6.3840 - mae: 6.3840\n",
      "Epoch 494/2000\n",
      "20/27 [=====================>........] - ETA: 0s - loss: 8.2773 - mae: 8.2773  WARNING:tensorflow:Early stopping conditioned on metric `val_mae` which is not available. Available metrics are: loss,mae\n"
     ]
    },
    {
     "name": "stderr",
     "output_type": "stream",
     "text": [
      "WARNING:tensorflow:Early stopping conditioned on metric `val_mae` which is not available. Available metrics are: loss,mae\n"
     ]
    },
    {
     "name": "stdout",
     "output_type": "stream",
     "text": [
      "27/27 [==============================] - 0s 3ms/step - loss: 7.8481 - mae: 7.8481\n",
      "Epoch 495/2000\n",
      "16/27 [================>.............] - ETA: 0s - loss: 7.4555 - mae: 7.4555WARNING:tensorflow:Early stopping conditioned on metric `val_mae` which is not available. Available metrics are: loss,mae\n"
     ]
    },
    {
     "name": "stderr",
     "output_type": "stream",
     "text": [
      "WARNING:tensorflow:Early stopping conditioned on metric `val_mae` which is not available. Available metrics are: loss,mae\n"
     ]
    },
    {
     "name": "stdout",
     "output_type": "stream",
     "text": [
      "27/27 [==============================] - 0s 4ms/step - loss: 6.9711 - mae: 6.9711\n",
      "Epoch 496/2000\n",
      "19/27 [====================>.........] - ETA: 0s - loss: 5.5016 - mae: 5.5016WARNING:tensorflow:Early stopping conditioned on metric `val_mae` which is not available. Available metrics are: loss,mae\n"
     ]
    },
    {
     "name": "stderr",
     "output_type": "stream",
     "text": [
      "WARNING:tensorflow:Early stopping conditioned on metric `val_mae` which is not available. Available metrics are: loss,mae\n"
     ]
    },
    {
     "name": "stdout",
     "output_type": "stream",
     "text": [
      "27/27 [==============================] - 0s 3ms/step - loss: 5.6621 - mae: 5.6621\n",
      "Epoch 497/2000\n",
      "19/27 [====================>.........] - ETA: 0s - loss: 6.3398 - mae: 6.3398WARNING:tensorflow:Early stopping conditioned on metric `val_mae` which is not available. Available metrics are: loss,mae\n"
     ]
    },
    {
     "name": "stderr",
     "output_type": "stream",
     "text": [
      "WARNING:tensorflow:Early stopping conditioned on metric `val_mae` which is not available. Available metrics are: loss,mae\n"
     ]
    },
    {
     "name": "stdout",
     "output_type": "stream",
     "text": [
      "27/27 [==============================] - 0s 3ms/step - loss: 6.6446 - mae: 6.6446\n",
      "Epoch 498/2000\n",
      "18/27 [===================>..........] - ETA: 0s - loss: 7.4934 - mae: 7.4934WARNING:tensorflow:Early stopping conditioned on metric `val_mae` which is not available. Available metrics are: loss,mae\n"
     ]
    },
    {
     "name": "stderr",
     "output_type": "stream",
     "text": [
      "WARNING:tensorflow:Early stopping conditioned on metric `val_mae` which is not available. Available metrics are: loss,mae\n"
     ]
    },
    {
     "name": "stdout",
     "output_type": "stream",
     "text": [
      "27/27 [==============================] - 0s 3ms/step - loss: 7.4563 - mae: 7.4563\n",
      "Epoch 499/2000\n",
      "19/27 [====================>.........] - ETA: 0s - loss: 6.6623 - mae: 6.6623  WARNING:tensorflow:Early stopping conditioned on metric `val_mae` which is not available. Available metrics are: loss,mae\n"
     ]
    },
    {
     "name": "stderr",
     "output_type": "stream",
     "text": [
      "WARNING:tensorflow:Early stopping conditioned on metric `val_mae` which is not available. Available metrics are: loss,mae\n"
     ]
    },
    {
     "name": "stdout",
     "output_type": "stream",
     "text": [
      "27/27 [==============================] - 0s 3ms/step - loss: 6.3709 - mae: 6.3709\n",
      "Epoch 500/2000\n",
      "19/27 [====================>.........] - ETA: 0s - loss: 8.6932 - mae: 8.6932WARNING:tensorflow:Early stopping conditioned on metric `val_mae` which is not available. Available metrics are: loss,mae\n"
     ]
    },
    {
     "name": "stderr",
     "output_type": "stream",
     "text": [
      "WARNING:tensorflow:Early stopping conditioned on metric `val_mae` which is not available. Available metrics are: loss,mae\n"
     ]
    },
    {
     "name": "stdout",
     "output_type": "stream",
     "text": [
      "27/27 [==============================] - 0s 3ms/step - loss: 8.7289 - mae: 8.7289\n",
      "Epoch 501/2000\n",
      "18/27 [===================>..........] - ETA: 0s - loss: 7.3362 - mae: 7.3362WARNING:tensorflow:Early stopping conditioned on metric `val_mae` which is not available. Available metrics are: loss,mae\n"
     ]
    },
    {
     "name": "stderr",
     "output_type": "stream",
     "text": [
      "WARNING:tensorflow:Early stopping conditioned on metric `val_mae` which is not available. Available metrics are: loss,mae\n"
     ]
    },
    {
     "name": "stdout",
     "output_type": "stream",
     "text": [
      "27/27 [==============================] - 0s 3ms/step - loss: 7.0677 - mae: 7.0677\n",
      "Epoch 502/2000\n",
      "17/27 [=================>............] - ETA: 0s - loss: 7.3245 - mae: 7.3245WARNING:tensorflow:Early stopping conditioned on metric `val_mae` which is not available. Available metrics are: loss,mae\n"
     ]
    },
    {
     "name": "stderr",
     "output_type": "stream",
     "text": [
      "WARNING:tensorflow:Early stopping conditioned on metric `val_mae` which is not available. Available metrics are: loss,mae\n"
     ]
    },
    {
     "name": "stdout",
     "output_type": "stream",
     "text": [
      "27/27 [==============================] - 0s 3ms/step - loss: 6.7572 - mae: 6.7572\n",
      "Epoch 503/2000\n",
      "18/27 [===================>..........] - ETA: 0s - loss: 5.4570 - mae: 5.4570WARNING:tensorflow:Early stopping conditioned on metric `val_mae` which is not available. Available metrics are: loss,mae\n"
     ]
    },
    {
     "name": "stderr",
     "output_type": "stream",
     "text": [
      "WARNING:tensorflow:Early stopping conditioned on metric `val_mae` which is not available. Available metrics are: loss,mae\n"
     ]
    },
    {
     "name": "stdout",
     "output_type": "stream",
     "text": [
      "27/27 [==============================] - 0s 3ms/step - loss: 5.6963 - mae: 5.6963\n",
      "Epoch 504/2000\n",
      "18/27 [===================>..........] - ETA: 0s - loss: 9.1364 - mae: 9.1364WARNING:tensorflow:Early stopping conditioned on metric `val_mae` which is not available. Available metrics are: loss,mae\n"
     ]
    },
    {
     "name": "stderr",
     "output_type": "stream",
     "text": [
      "WARNING:tensorflow:Early stopping conditioned on metric `val_mae` which is not available. Available metrics are: loss,mae\n"
     ]
    },
    {
     "name": "stdout",
     "output_type": "stream",
     "text": [
      "27/27 [==============================] - 0s 3ms/step - loss: 9.0871 - mae: 9.0871\n",
      "Epoch 505/2000\n",
      "16/27 [================>.............] - ETA: 0s - loss: 6.6548 - mae: 6.6548WARNING:tensorflow:Early stopping conditioned on metric `val_mae` which is not available. Available metrics are: loss,mae\n"
     ]
    },
    {
     "name": "stderr",
     "output_type": "stream",
     "text": [
      "WARNING:tensorflow:Early stopping conditioned on metric `val_mae` which is not available. Available metrics are: loss,mae\n"
     ]
    },
    {
     "name": "stdout",
     "output_type": "stream",
     "text": [
      "27/27 [==============================] - 0s 3ms/step - loss: 8.5280 - mae: 8.5280\n",
      "Epoch 506/2000\n",
      "19/27 [====================>.........] - ETA: 0s - loss: 8.6498 - mae: 8.6498  WARNING:tensorflow:Early stopping conditioned on metric `val_mae` which is not available. Available metrics are: loss,mae\n"
     ]
    },
    {
     "name": "stderr",
     "output_type": "stream",
     "text": [
      "WARNING:tensorflow:Early stopping conditioned on metric `val_mae` which is not available. Available metrics are: loss,mae\n"
     ]
    },
    {
     "name": "stdout",
     "output_type": "stream",
     "text": [
      "27/27 [==============================] - 0s 3ms/step - loss: 8.3928 - mae: 8.3928\n",
      "Epoch 507/2000\n",
      "19/27 [====================>.........] - ETA: 0s - loss: 5.5558 - mae: 5.5558WARNING:tensorflow:Early stopping conditioned on metric `val_mae` which is not available. Available metrics are: loss,mae\n"
     ]
    },
    {
     "name": "stderr",
     "output_type": "stream",
     "text": [
      "WARNING:tensorflow:Early stopping conditioned on metric `val_mae` which is not available. Available metrics are: loss,mae\n"
     ]
    },
    {
     "name": "stdout",
     "output_type": "stream",
     "text": [
      "27/27 [==============================] - 0s 3ms/step - loss: 5.4238 - mae: 5.4238\n",
      "Epoch 508/2000\n",
      "18/27 [===================>..........] - ETA: 0s - loss: 6.2398 - mae: 6.2398WARNING:tensorflow:Early stopping conditioned on metric `val_mae` which is not available. Available metrics are: loss,mae\n"
     ]
    },
    {
     "name": "stderr",
     "output_type": "stream",
     "text": [
      "WARNING:tensorflow:Early stopping conditioned on metric `val_mae` which is not available. Available metrics are: loss,mae\n"
     ]
    },
    {
     "name": "stdout",
     "output_type": "stream",
     "text": [
      "27/27 [==============================] - 0s 3ms/step - loss: 6.4359 - mae: 6.4359\n",
      "Epoch 509/2000\n",
      "18/27 [===================>..........] - ETA: 0s - loss: 12.8993 - mae: 12.8993WARNING:tensorflow:Early stopping conditioned on metric `val_mae` which is not available. Available metrics are: loss,mae\n"
     ]
    },
    {
     "name": "stderr",
     "output_type": "stream",
     "text": [
      "WARNING:tensorflow:Early stopping conditioned on metric `val_mae` which is not available. Available metrics are: loss,mae\n"
     ]
    },
    {
     "name": "stdout",
     "output_type": "stream",
     "text": [
      "27/27 [==============================] - 0s 3ms/step - loss: 11.3683 - mae: 11.3683\n",
      "Epoch 510/2000\n",
      "18/27 [===================>..........] - ETA: 0s - loss: 7.4786 - mae: 7.4786WARNING:tensorflow:Early stopping conditioned on metric `val_mae` which is not available. Available metrics are: loss,mae\n"
     ]
    },
    {
     "name": "stderr",
     "output_type": "stream",
     "text": [
      "WARNING:tensorflow:Early stopping conditioned on metric `val_mae` which is not available. Available metrics are: loss,mae\n"
     ]
    },
    {
     "name": "stdout",
     "output_type": "stream",
     "text": [
      "27/27 [==============================] - 0s 3ms/step - loss: 7.1681 - mae: 7.1681\n",
      "Epoch 511/2000\n",
      "19/27 [====================>.........] - ETA: 0s - loss: 7.2496 - mae: 7.2496WARNING:tensorflow:Early stopping conditioned on metric `val_mae` which is not available. Available metrics are: loss,mae\n"
     ]
    },
    {
     "name": "stderr",
     "output_type": "stream",
     "text": [
      "WARNING:tensorflow:Early stopping conditioned on metric `val_mae` which is not available. Available metrics are: loss,mae\n"
     ]
    },
    {
     "name": "stdout",
     "output_type": "stream",
     "text": [
      "27/27 [==============================] - 0s 3ms/step - loss: 6.9759 - mae: 6.9759\n",
      "Epoch 512/2000\n",
      "19/27 [====================>.........] - ETA: 0s - loss: 6.1528 - mae: 6.1528WARNING:tensorflow:Early stopping conditioned on metric `val_mae` which is not available. Available metrics are: loss,mae\n"
     ]
    },
    {
     "name": "stderr",
     "output_type": "stream",
     "text": [
      "WARNING:tensorflow:Early stopping conditioned on metric `val_mae` which is not available. Available metrics are: loss,mae\n"
     ]
    },
    {
     "name": "stdout",
     "output_type": "stream",
     "text": [
      "27/27 [==============================] - 0s 3ms/step - loss: 6.4426 - mae: 6.4426\n",
      "Epoch 513/2000\n",
      "19/27 [====================>.........] - ETA: 0s - loss: 7.1746 - mae: 7.1746WARNING:tensorflow:Early stopping conditioned on metric `val_mae` which is not available. Available metrics are: loss,mae\n"
     ]
    },
    {
     "name": "stderr",
     "output_type": "stream",
     "text": [
      "WARNING:tensorflow:Early stopping conditioned on metric `val_mae` which is not available. Available metrics are: loss,mae\n"
     ]
    },
    {
     "name": "stdout",
     "output_type": "stream",
     "text": [
      "27/27 [==============================] - 0s 3ms/step - loss: 7.2367 - mae: 7.2367\n",
      "Epoch 514/2000\n",
      "18/27 [===================>..........] - ETA: 0s - loss: 6.1231 - mae: 6.1231WARNING:tensorflow:Early stopping conditioned on metric `val_mae` which is not available. Available metrics are: loss,mae\n"
     ]
    },
    {
     "name": "stderr",
     "output_type": "stream",
     "text": [
      "WARNING:tensorflow:Early stopping conditioned on metric `val_mae` which is not available. Available metrics are: loss,mae\n"
     ]
    },
    {
     "name": "stdout",
     "output_type": "stream",
     "text": [
      "27/27 [==============================] - 0s 3ms/step - loss: 6.0161 - mae: 6.0161\n",
      "Epoch 515/2000\n",
      "19/27 [====================>.........] - ETA: 0s - loss: 7.7374 - mae: 7.7374WARNING:tensorflow:Early stopping conditioned on metric `val_mae` which is not available. Available metrics are: loss,mae\n"
     ]
    },
    {
     "name": "stderr",
     "output_type": "stream",
     "text": [
      "WARNING:tensorflow:Early stopping conditioned on metric `val_mae` which is not available. Available metrics are: loss,mae\n"
     ]
    },
    {
     "name": "stdout",
     "output_type": "stream",
     "text": [
      "27/27 [==============================] - 0s 3ms/step - loss: 7.8752 - mae: 7.8752\n",
      "Epoch 516/2000\n",
      "19/27 [====================>.........] - ETA: 0s - loss: 7.8979 - mae: 7.8979WARNING:tensorflow:Early stopping conditioned on metric `val_mae` which is not available. Available metrics are: loss,mae\n"
     ]
    },
    {
     "name": "stderr",
     "output_type": "stream",
     "text": [
      "WARNING:tensorflow:Early stopping conditioned on metric `val_mae` which is not available. Available metrics are: loss,mae\n"
     ]
    },
    {
     "name": "stdout",
     "output_type": "stream",
     "text": [
      "27/27 [==============================] - 0s 3ms/step - loss: 9.7287 - mae: 9.7287\n",
      "Epoch 517/2000\n",
      "18/27 [===================>..........] - ETA: 0s - loss: 14.3971 - mae: 14.3971WARNING:tensorflow:Early stopping conditioned on metric `val_mae` which is not available. Available metrics are: loss,mae\n"
     ]
    },
    {
     "name": "stderr",
     "output_type": "stream",
     "text": [
      "WARNING:tensorflow:Early stopping conditioned on metric `val_mae` which is not available. Available metrics are: loss,mae\n"
     ]
    },
    {
     "name": "stdout",
     "output_type": "stream",
     "text": [
      "27/27 [==============================] - 0s 3ms/step - loss: 13.0631 - mae: 13.0631\n",
      "Epoch 518/2000\n",
      "18/27 [===================>..........] - ETA: 0s - loss: 7.1256 - mae: 7.1256WARNING:tensorflow:Early stopping conditioned on metric `val_mae` which is not available. Available metrics are: loss,mae\n"
     ]
    },
    {
     "name": "stderr",
     "output_type": "stream",
     "text": [
      "WARNING:tensorflow:Early stopping conditioned on metric `val_mae` which is not available. Available metrics are: loss,mae\n"
     ]
    },
    {
     "name": "stdout",
     "output_type": "stream",
     "text": [
      "27/27 [==============================] - 0s 3ms/step - loss: 6.5114 - mae: 6.5114\n",
      "Epoch 519/2000\n",
      "18/27 [===================>..........] - ETA: 0s - loss: 8.2671 - mae: 8.2671WARNING:tensorflow:Early stopping conditioned on metric `val_mae` which is not available. Available metrics are: loss,mae\n"
     ]
    },
    {
     "name": "stderr",
     "output_type": "stream",
     "text": [
      "WARNING:tensorflow:Early stopping conditioned on metric `val_mae` which is not available. Available metrics are: loss,mae\n"
     ]
    },
    {
     "name": "stdout",
     "output_type": "stream",
     "text": [
      "27/27 [==============================] - 0s 3ms/step - loss: 7.6457 - mae: 7.6457\n",
      "Epoch 520/2000\n",
      "19/27 [====================>.........] - ETA: 0s - loss: 6.3187 - mae: 6.3187WARNING:tensorflow:Early stopping conditioned on metric `val_mae` which is not available. Available metrics are: loss,mae\n"
     ]
    },
    {
     "name": "stderr",
     "output_type": "stream",
     "text": [
      "WARNING:tensorflow:Early stopping conditioned on metric `val_mae` which is not available. Available metrics are: loss,mae\n"
     ]
    },
    {
     "name": "stdout",
     "output_type": "stream",
     "text": [
      "27/27 [==============================] - 0s 3ms/step - loss: 6.4980 - mae: 6.4980\n",
      "Epoch 521/2000\n",
      "18/27 [===================>..........] - ETA: 0s - loss: 8.3027 - mae: 8.3027WARNING:tensorflow:Early stopping conditioned on metric `val_mae` which is not available. Available metrics are: loss,mae\n"
     ]
    },
    {
     "name": "stderr",
     "output_type": "stream",
     "text": [
      "WARNING:tensorflow:Early stopping conditioned on metric `val_mae` which is not available. Available metrics are: loss,mae\n"
     ]
    },
    {
     "name": "stdout",
     "output_type": "stream",
     "text": [
      "27/27 [==============================] - 0s 3ms/step - loss: 7.8505 - mae: 7.8505\n",
      "Epoch 522/2000\n",
      "19/27 [====================>.........] - ETA: 0s - loss: 9.0928 - mae: 9.0928WARNING:tensorflow:Early stopping conditioned on metric `val_mae` which is not available. Available metrics are: loss,mae\n"
     ]
    },
    {
     "name": "stderr",
     "output_type": "stream",
     "text": [
      "WARNING:tensorflow:Early stopping conditioned on metric `val_mae` which is not available. Available metrics are: loss,mae\n"
     ]
    },
    {
     "name": "stdout",
     "output_type": "stream",
     "text": [
      "27/27 [==============================] - 0s 3ms/step - loss: 8.3462 - mae: 8.3462\n",
      "Epoch 523/2000\n",
      "19/27 [====================>.........] - ETA: 0s - loss: 6.9344 - mae: 6.9344WARNING:tensorflow:Early stopping conditioned on metric `val_mae` which is not available. Available metrics are: loss,mae\n"
     ]
    },
    {
     "name": "stderr",
     "output_type": "stream",
     "text": [
      "WARNING:tensorflow:Early stopping conditioned on metric `val_mae` which is not available. Available metrics are: loss,mae\n"
     ]
    },
    {
     "name": "stdout",
     "output_type": "stream",
     "text": [
      "27/27 [==============================] - 0s 3ms/step - loss: 6.5112 - mae: 6.5112\n",
      "Epoch 524/2000\n",
      "19/27 [====================>.........] - ETA: 0s - loss: 6.4279 - mae: 6.4279WARNING:tensorflow:Early stopping conditioned on metric `val_mae` which is not available. Available metrics are: loss,mae\n"
     ]
    },
    {
     "name": "stderr",
     "output_type": "stream",
     "text": [
      "WARNING:tensorflow:Early stopping conditioned on metric `val_mae` which is not available. Available metrics are: loss,mae\n"
     ]
    },
    {
     "name": "stdout",
     "output_type": "stream",
     "text": [
      "27/27 [==============================] - 0s 3ms/step - loss: 6.2179 - mae: 6.2179\n",
      "Epoch 525/2000\n",
      "19/27 [====================>.........] - ETA: 0s - loss: 7.1109 - mae: 7.1109WARNING:tensorflow:Early stopping conditioned on metric `val_mae` which is not available. Available metrics are: loss,mae\n"
     ]
    },
    {
     "name": "stderr",
     "output_type": "stream",
     "text": [
      "WARNING:tensorflow:Early stopping conditioned on metric `val_mae` which is not available. Available metrics are: loss,mae\n"
     ]
    },
    {
     "name": "stdout",
     "output_type": "stream",
     "text": [
      "27/27 [==============================] - 0s 3ms/step - loss: 7.1390 - mae: 7.1390\n",
      "Epoch 526/2000\n",
      "19/27 [====================>.........] - ETA: 0s - loss: 7.5585 - mae: 7.5585WARNING:tensorflow:Early stopping conditioned on metric `val_mae` which is not available. Available metrics are: loss,mae\n"
     ]
    },
    {
     "name": "stderr",
     "output_type": "stream",
     "text": [
      "WARNING:tensorflow:Early stopping conditioned on metric `val_mae` which is not available. Available metrics are: loss,mae\n"
     ]
    },
    {
     "name": "stdout",
     "output_type": "stream",
     "text": [
      "27/27 [==============================] - 0s 3ms/step - loss: 7.1032 - mae: 7.1032\n",
      "Epoch 527/2000\n",
      "19/27 [====================>.........] - ETA: 0s - loss: 5.5358 - mae: 5.5358WARNING:tensorflow:Early stopping conditioned on metric `val_mae` which is not available. Available metrics are: loss,mae\n"
     ]
    },
    {
     "name": "stderr",
     "output_type": "stream",
     "text": [
      "WARNING:tensorflow:Early stopping conditioned on metric `val_mae` which is not available. Available metrics are: loss,mae\n"
     ]
    },
    {
     "name": "stdout",
     "output_type": "stream",
     "text": [
      "27/27 [==============================] - 0s 3ms/step - loss: 5.4796 - mae: 5.4796\n",
      "Epoch 528/2000\n",
      "19/27 [====================>.........] - ETA: 0s - loss: 7.3901 - mae: 7.3901WARNING:tensorflow:Early stopping conditioned on metric `val_mae` which is not available. Available metrics are: loss,mae\n"
     ]
    },
    {
     "name": "stderr",
     "output_type": "stream",
     "text": [
      "WARNING:tensorflow:Early stopping conditioned on metric `val_mae` which is not available. Available metrics are: loss,mae\n"
     ]
    },
    {
     "name": "stdout",
     "output_type": "stream",
     "text": [
      "27/27 [==============================] - 0s 3ms/step - loss: 9.0740 - mae: 9.0740\n",
      "Epoch 529/2000\n",
      "18/27 [===================>..........] - ETA: 0s - loss: 8.7953 - mae: 8.7953  WARNING:tensorflow:Early stopping conditioned on metric `val_mae` which is not available. Available metrics are: loss,mae\n"
     ]
    },
    {
     "name": "stderr",
     "output_type": "stream",
     "text": [
      "WARNING:tensorflow:Early stopping conditioned on metric `val_mae` which is not available. Available metrics are: loss,mae\n"
     ]
    },
    {
     "name": "stdout",
     "output_type": "stream",
     "text": [
      "27/27 [==============================] - 0s 3ms/step - loss: 7.5316 - mae: 7.5316\n",
      "Epoch 530/2000\n",
      "19/27 [====================>.........] - ETA: 0s - loss: 5.9277 - mae: 5.9277WARNING:tensorflow:Early stopping conditioned on metric `val_mae` which is not available. Available metrics are: loss,mae\n"
     ]
    },
    {
     "name": "stderr",
     "output_type": "stream",
     "text": [
      "WARNING:tensorflow:Early stopping conditioned on metric `val_mae` which is not available. Available metrics are: loss,mae\n"
     ]
    },
    {
     "name": "stdout",
     "output_type": "stream",
     "text": [
      "27/27 [==============================] - 0s 3ms/step - loss: 5.9591 - mae: 5.9591\n",
      "Epoch 531/2000\n",
      "18/27 [===================>..........] - ETA: 0s - loss: 6.6579 - mae: 6.6579WARNING:tensorflow:Early stopping conditioned on metric `val_mae` which is not available. Available metrics are: loss,mae\n"
     ]
    },
    {
     "name": "stderr",
     "output_type": "stream",
     "text": [
      "WARNING:tensorflow:Early stopping conditioned on metric `val_mae` which is not available. Available metrics are: loss,mae\n"
     ]
    },
    {
     "name": "stdout",
     "output_type": "stream",
     "text": [
      "27/27 [==============================] - 0s 3ms/step - loss: 6.3200 - mae: 6.3200\n",
      "Epoch 532/2000\n",
      "19/27 [====================>.........] - ETA: 0s - loss: 7.7942 - mae: 7.7942WARNING:tensorflow:Early stopping conditioned on metric `val_mae` which is not available. Available metrics are: loss,mae\n"
     ]
    },
    {
     "name": "stderr",
     "output_type": "stream",
     "text": [
      "WARNING:tensorflow:Early stopping conditioned on metric `val_mae` which is not available. Available metrics are: loss,mae\n"
     ]
    },
    {
     "name": "stdout",
     "output_type": "stream",
     "text": [
      "27/27 [==============================] - 0s 3ms/step - loss: 7.3756 - mae: 7.3756\n",
      "Epoch 533/2000\n",
      "19/27 [====================>.........] - ETA: 0s - loss: 9.3770 - mae: 9.3770  WARNING:tensorflow:Early stopping conditioned on metric `val_mae` which is not available. Available metrics are: loss,mae\n"
     ]
    },
    {
     "name": "stderr",
     "output_type": "stream",
     "text": [
      "WARNING:tensorflow:Early stopping conditioned on metric `val_mae` which is not available. Available metrics are: loss,mae\n"
     ]
    },
    {
     "name": "stdout",
     "output_type": "stream",
     "text": [
      "27/27 [==============================] - 0s 3ms/step - loss: 9.4388 - mae: 9.4388\n",
      "Epoch 534/2000\n",
      "19/27 [====================>.........] - ETA: 0s - loss: 9.1459 - mae: 9.1459WARNING:tensorflow:Early stopping conditioned on metric `val_mae` which is not available. Available metrics are: loss,mae\n"
     ]
    },
    {
     "name": "stderr",
     "output_type": "stream",
     "text": [
      "WARNING:tensorflow:Early stopping conditioned on metric `val_mae` which is not available. Available metrics are: loss,mae\n"
     ]
    },
    {
     "name": "stdout",
     "output_type": "stream",
     "text": [
      "27/27 [==============================] - 0s 3ms/step - loss: 8.3027 - mae: 8.3027\n",
      "Epoch 535/2000\n",
      "19/27 [====================>.........] - ETA: 0s - loss: 6.2265 - mae: 6.2265WARNING:tensorflow:Early stopping conditioned on metric `val_mae` which is not available. Available metrics are: loss,mae\n"
     ]
    },
    {
     "name": "stderr",
     "output_type": "stream",
     "text": [
      "WARNING:tensorflow:Early stopping conditioned on metric `val_mae` which is not available. Available metrics are: loss,mae\n"
     ]
    },
    {
     "name": "stdout",
     "output_type": "stream",
     "text": [
      "27/27 [==============================] - 0s 3ms/step - loss: 6.1090 - mae: 6.1090\n",
      "Epoch 536/2000\n",
      "19/27 [====================>.........] - ETA: 0s - loss: 6.2367 - mae: 6.2367WARNING:tensorflow:Early stopping conditioned on metric `val_mae` which is not available. Available metrics are: loss,mae\n"
     ]
    },
    {
     "name": "stderr",
     "output_type": "stream",
     "text": [
      "WARNING:tensorflow:Early stopping conditioned on metric `val_mae` which is not available. Available metrics are: loss,mae\n"
     ]
    },
    {
     "name": "stdout",
     "output_type": "stream",
     "text": [
      "27/27 [==============================] - 0s 3ms/step - loss: 6.6698 - mae: 6.6698\n",
      "Epoch 537/2000\n",
      "18/27 [===================>..........] - ETA: 0s - loss: 6.9764 - mae: 6.9764WARNING:tensorflow:Early stopping conditioned on metric `val_mae` which is not available. Available metrics are: loss,mae\n"
     ]
    },
    {
     "name": "stderr",
     "output_type": "stream",
     "text": [
      "WARNING:tensorflow:Early stopping conditioned on metric `val_mae` which is not available. Available metrics are: loss,mae\n"
     ]
    },
    {
     "name": "stdout",
     "output_type": "stream",
     "text": [
      "27/27 [==============================] - 0s 3ms/step - loss: 7.5965 - mae: 7.5965\n",
      "Epoch 538/2000\n",
      "19/27 [====================>.........] - ETA: 0s - loss: 11.4330 - mae: 11.4330WARNING:tensorflow:Early stopping conditioned on metric `val_mae` which is not available. Available metrics are: loss,mae\n"
     ]
    },
    {
     "name": "stderr",
     "output_type": "stream",
     "text": [
      "WARNING:tensorflow:Early stopping conditioned on metric `val_mae` which is not available. Available metrics are: loss,mae\n"
     ]
    },
    {
     "name": "stdout",
     "output_type": "stream",
     "text": [
      "27/27 [==============================] - 0s 3ms/step - loss: 10.5630 - mae: 10.5630\n",
      "Epoch 539/2000\n",
      "19/27 [====================>.........] - ETA: 0s - loss: 7.7006 - mae: 7.7006WARNING:tensorflow:Early stopping conditioned on metric `val_mae` which is not available. Available metrics are: loss,mae\n"
     ]
    },
    {
     "name": "stderr",
     "output_type": "stream",
     "text": [
      "WARNING:tensorflow:Early stopping conditioned on metric `val_mae` which is not available. Available metrics are: loss,mae\n"
     ]
    },
    {
     "name": "stdout",
     "output_type": "stream",
     "text": [
      "27/27 [==============================] - 0s 3ms/step - loss: 8.8403 - mae: 8.8403\n",
      "Epoch 540/2000\n",
      "18/27 [===================>..........] - ETA: 0s - loss: 10.2327 - mae: 10.2327WARNING:tensorflow:Early stopping conditioned on metric `val_mae` which is not available. Available metrics are: loss,mae\n"
     ]
    },
    {
     "name": "stderr",
     "output_type": "stream",
     "text": [
      "WARNING:tensorflow:Early stopping conditioned on metric `val_mae` which is not available. Available metrics are: loss,mae\n"
     ]
    },
    {
     "name": "stdout",
     "output_type": "stream",
     "text": [
      "27/27 [==============================] - 0s 3ms/step - loss: 9.4203 - mae: 9.4203\n",
      "Epoch 541/2000\n",
      "19/27 [====================>.........] - ETA: 0s - loss: 8.5040 - mae: 8.5040  WARNING:tensorflow:Early stopping conditioned on metric `val_mae` which is not available. Available metrics are: loss,mae\n"
     ]
    },
    {
     "name": "stderr",
     "output_type": "stream",
     "text": [
      "WARNING:tensorflow:Early stopping conditioned on metric `val_mae` which is not available. Available metrics are: loss,mae\n"
     ]
    },
    {
     "name": "stdout",
     "output_type": "stream",
     "text": [
      "27/27 [==============================] - 0s 3ms/step - loss: 7.6068 - mae: 7.6068\n",
      "Epoch 542/2000\n",
      "18/27 [===================>..........] - ETA: 0s - loss: 7.6953 - mae: 7.6953WARNING:tensorflow:Early stopping conditioned on metric `val_mae` which is not available. Available metrics are: loss,mae\n"
     ]
    },
    {
     "name": "stderr",
     "output_type": "stream",
     "text": [
      "WARNING:tensorflow:Early stopping conditioned on metric `val_mae` which is not available. Available metrics are: loss,mae\n"
     ]
    },
    {
     "name": "stdout",
     "output_type": "stream",
     "text": [
      "27/27 [==============================] - 0s 3ms/step - loss: 7.2141 - mae: 7.2141\n",
      "Epoch 543/2000\n",
      "16/27 [================>.............] - ETA: 0s - loss: 5.7083 - mae: 5.7083WARNING:tensorflow:Early stopping conditioned on metric `val_mae` which is not available. Available metrics are: loss,mae\n"
     ]
    },
    {
     "name": "stderr",
     "output_type": "stream",
     "text": [
      "WARNING:tensorflow:Early stopping conditioned on metric `val_mae` which is not available. Available metrics are: loss,mae\n"
     ]
    },
    {
     "name": "stdout",
     "output_type": "stream",
     "text": [
      "27/27 [==============================] - 0s 4ms/step - loss: 5.6956 - mae: 5.6956\n",
      "Epoch 544/2000\n",
      "18/27 [===================>..........] - ETA: 0s - loss: 8.0186 - mae: 8.0186WARNING:tensorflow:Early stopping conditioned on metric `val_mae` which is not available. Available metrics are: loss,mae\n"
     ]
    },
    {
     "name": "stderr",
     "output_type": "stream",
     "text": [
      "WARNING:tensorflow:Early stopping conditioned on metric `val_mae` which is not available. Available metrics are: loss,mae\n"
     ]
    },
    {
     "name": "stdout",
     "output_type": "stream",
     "text": [
      "27/27 [==============================] - 0s 3ms/step - loss: 7.6495 - mae: 7.6495\n",
      "Epoch 545/2000\n",
      "19/27 [====================>.........] - ETA: 0s - loss: 9.8660 - mae: 9.8660WARNING:tensorflow:Early stopping conditioned on metric `val_mae` which is not available. Available metrics are: loss,mae\n"
     ]
    },
    {
     "name": "stderr",
     "output_type": "stream",
     "text": [
      "WARNING:tensorflow:Early stopping conditioned on metric `val_mae` which is not available. Available metrics are: loss,mae\n"
     ]
    },
    {
     "name": "stdout",
     "output_type": "stream",
     "text": [
      "27/27 [==============================] - 0s 3ms/step - loss: 10.1601 - mae: 10.1601\n",
      "Epoch 546/2000\n",
      "18/27 [===================>..........] - ETA: 0s - loss: 7.4292 - mae: 7.4292WARNING:tensorflow:Early stopping conditioned on metric `val_mae` which is not available. Available metrics are: loss,mae\n"
     ]
    },
    {
     "name": "stderr",
     "output_type": "stream",
     "text": [
      "WARNING:tensorflow:Early stopping conditioned on metric `val_mae` which is not available. Available metrics are: loss,mae\n"
     ]
    },
    {
     "name": "stdout",
     "output_type": "stream",
     "text": [
      "27/27 [==============================] - 0s 3ms/step - loss: 6.8211 - mae: 6.8211\n",
      "Epoch 547/2000\n",
      "19/27 [====================>.........] - ETA: 0s - loss: 7.7385 - mae: 7.7385  WARNING:tensorflow:Early stopping conditioned on metric `val_mae` which is not available. Available metrics are: loss,mae\n"
     ]
    },
    {
     "name": "stderr",
     "output_type": "stream",
     "text": [
      "WARNING:tensorflow:Early stopping conditioned on metric `val_mae` which is not available. Available metrics are: loss,mae\n"
     ]
    },
    {
     "name": "stdout",
     "output_type": "stream",
     "text": [
      "27/27 [==============================] - 0s 3ms/step - loss: 7.9236 - mae: 7.9236\n",
      "Epoch 548/2000\n",
      "19/27 [====================>.........] - ETA: 0s - loss: 7.3561 - mae: 7.3561  WARNING:tensorflow:Early stopping conditioned on metric `val_mae` which is not available. Available metrics are: loss,mae\n"
     ]
    },
    {
     "name": "stderr",
     "output_type": "stream",
     "text": [
      "WARNING:tensorflow:Early stopping conditioned on metric `val_mae` which is not available. Available metrics are: loss,mae\n"
     ]
    },
    {
     "name": "stdout",
     "output_type": "stream",
     "text": [
      "27/27 [==============================] - 0s 3ms/step - loss: 8.4136 - mae: 8.4136\n",
      "Epoch 549/2000\n",
      "19/27 [====================>.........] - ETA: 0s - loss: 10.7071 - mae: 10.7071WARNING:tensorflow:Early stopping conditioned on metric `val_mae` which is not available. Available metrics are: loss,mae\n"
     ]
    },
    {
     "name": "stderr",
     "output_type": "stream",
     "text": [
      "WARNING:tensorflow:Early stopping conditioned on metric `val_mae` which is not available. Available metrics are: loss,mae\n"
     ]
    },
    {
     "name": "stdout",
     "output_type": "stream",
     "text": [
      "27/27 [==============================] - 0s 3ms/step - loss: 9.3279 - mae: 9.3279\n",
      "Epoch 550/2000\n",
      "19/27 [====================>.........] - ETA: 0s - loss: 5.7785 - mae: 5.7785WARNING:tensorflow:Early stopping conditioned on metric `val_mae` which is not available. Available metrics are: loss,mae\n"
     ]
    },
    {
     "name": "stderr",
     "output_type": "stream",
     "text": [
      "WARNING:tensorflow:Early stopping conditioned on metric `val_mae` which is not available. Available metrics are: loss,mae\n"
     ]
    },
    {
     "name": "stdout",
     "output_type": "stream",
     "text": [
      "27/27 [==============================] - 0s 3ms/step - loss: 6.4837 - mae: 6.4837\n",
      "Epoch 551/2000\n",
      "18/27 [===================>..........] - ETA: 0s - loss: 8.4683 - mae: 8.4683WARNING:tensorflow:Early stopping conditioned on metric `val_mae` which is not available. Available metrics are: loss,mae\n"
     ]
    },
    {
     "name": "stderr",
     "output_type": "stream",
     "text": [
      "WARNING:tensorflow:Early stopping conditioned on metric `val_mae` which is not available. Available metrics are: loss,mae\n"
     ]
    },
    {
     "name": "stdout",
     "output_type": "stream",
     "text": [
      "27/27 [==============================] - 0s 3ms/step - loss: 7.7469 - mae: 7.7469\n",
      "Epoch 552/2000\n",
      "19/27 [====================>.........] - ETA: 0s - loss: 5.7375 - mae: 5.7375WARNING:tensorflow:Early stopping conditioned on metric `val_mae` which is not available. Available metrics are: loss,mae\n"
     ]
    },
    {
     "name": "stderr",
     "output_type": "stream",
     "text": [
      "WARNING:tensorflow:Early stopping conditioned on metric `val_mae` which is not available. Available metrics are: loss,mae\n"
     ]
    },
    {
     "name": "stdout",
     "output_type": "stream",
     "text": [
      "27/27 [==============================] - 0s 3ms/step - loss: 5.6858 - mae: 5.6858\n",
      "Epoch 553/2000\n",
      "18/27 [===================>..........] - ETA: 0s - loss: 6.9802 - mae: 6.9802WARNING:tensorflow:Early stopping conditioned on metric `val_mae` which is not available. Available metrics are: loss,mae\n"
     ]
    },
    {
     "name": "stderr",
     "output_type": "stream",
     "text": [
      "WARNING:tensorflow:Early stopping conditioned on metric `val_mae` which is not available. Available metrics are: loss,mae\n"
     ]
    },
    {
     "name": "stdout",
     "output_type": "stream",
     "text": [
      "27/27 [==============================] - 0s 3ms/step - loss: 6.4998 - mae: 6.4998\n",
      "Epoch 554/2000\n",
      "19/27 [====================>.........] - ETA: 0s - loss: 6.0874 - mae: 6.0874WARNING:tensorflow:Early stopping conditioned on metric `val_mae` which is not available. Available metrics are: loss,mae\n"
     ]
    },
    {
     "name": "stderr",
     "output_type": "stream",
     "text": [
      "WARNING:tensorflow:Early stopping conditioned on metric `val_mae` which is not available. Available metrics are: loss,mae\n"
     ]
    },
    {
     "name": "stdout",
     "output_type": "stream",
     "text": [
      "27/27 [==============================] - 0s 3ms/step - loss: 6.3665 - mae: 6.3665\n",
      "Epoch 555/2000\n",
      "19/27 [====================>.........] - ETA: 0s - loss: 9.6041 - mae: 9.6041WARNING:tensorflow:Early stopping conditioned on metric `val_mae` which is not available. Available metrics are: loss,mae\n"
     ]
    },
    {
     "name": "stderr",
     "output_type": "stream",
     "text": [
      "WARNING:tensorflow:Early stopping conditioned on metric `val_mae` which is not available. Available metrics are: loss,mae\n"
     ]
    },
    {
     "name": "stdout",
     "output_type": "stream",
     "text": [
      "27/27 [==============================] - 0s 3ms/step - loss: 9.0349 - mae: 9.0349\n",
      "Epoch 556/2000\n",
      "19/27 [====================>.........] - ETA: 0s - loss: 6.1573 - mae: 6.1573WARNING:tensorflow:Early stopping conditioned on metric `val_mae` which is not available. Available metrics are: loss,mae\n"
     ]
    },
    {
     "name": "stderr",
     "output_type": "stream",
     "text": [
      "WARNING:tensorflow:Early stopping conditioned on metric `val_mae` which is not available. Available metrics are: loss,mae\n"
     ]
    },
    {
     "name": "stdout",
     "output_type": "stream",
     "text": [
      "27/27 [==============================] - 0s 3ms/step - loss: 6.3167 - mae: 6.3167\n",
      "Epoch 557/2000\n",
      "19/27 [====================>.........] - ETA: 0s - loss: 5.7513 - mae: 5.7513WARNING:tensorflow:Early stopping conditioned on metric `val_mae` which is not available. Available metrics are: loss,mae\n"
     ]
    },
    {
     "name": "stderr",
     "output_type": "stream",
     "text": [
      "WARNING:tensorflow:Early stopping conditioned on metric `val_mae` which is not available. Available metrics are: loss,mae\n"
     ]
    },
    {
     "name": "stdout",
     "output_type": "stream",
     "text": [
      "27/27 [==============================] - 0s 3ms/step - loss: 6.0702 - mae: 6.0702\n",
      "Epoch 558/2000\n",
      "19/27 [====================>.........] - ETA: 0s - loss: 6.3145 - mae: 6.3145WARNING:tensorflow:Early stopping conditioned on metric `val_mae` which is not available. Available metrics are: loss,mae\n"
     ]
    },
    {
     "name": "stderr",
     "output_type": "stream",
     "text": [
      "WARNING:tensorflow:Early stopping conditioned on metric `val_mae` which is not available. Available metrics are: loss,mae\n"
     ]
    },
    {
     "name": "stdout",
     "output_type": "stream",
     "text": [
      "27/27 [==============================] - 0s 3ms/step - loss: 6.4897 - mae: 6.4897\n",
      "Epoch 559/2000\n",
      "19/27 [====================>.........] - ETA: 0s - loss: 5.7645 - mae: 5.7645WARNING:tensorflow:Early stopping conditioned on metric `val_mae` which is not available. Available metrics are: loss,mae\n"
     ]
    },
    {
     "name": "stderr",
     "output_type": "stream",
     "text": [
      "WARNING:tensorflow:Early stopping conditioned on metric `val_mae` which is not available. Available metrics are: loss,mae\n"
     ]
    },
    {
     "name": "stdout",
     "output_type": "stream",
     "text": [
      "27/27 [==============================] - 0s 3ms/step - loss: 6.0474 - mae: 6.0474\n",
      "Epoch 560/2000\n",
      "19/27 [====================>.........] - ETA: 0s - loss: 5.9732 - mae: 5.9732WARNING:tensorflow:Early stopping conditioned on metric `val_mae` which is not available. Available metrics are: loss,mae\n"
     ]
    },
    {
     "name": "stderr",
     "output_type": "stream",
     "text": [
      "WARNING:tensorflow:Early stopping conditioned on metric `val_mae` which is not available. Available metrics are: loss,mae\n"
     ]
    },
    {
     "name": "stdout",
     "output_type": "stream",
     "text": [
      "27/27 [==============================] - 0s 3ms/step - loss: 6.2035 - mae: 6.2035\n",
      "Epoch 561/2000\n",
      "19/27 [====================>.........] - ETA: 0s - loss: 6.0713 - mae: 6.0713WARNING:tensorflow:Early stopping conditioned on metric `val_mae` which is not available. Available metrics are: loss,mae\n"
     ]
    },
    {
     "name": "stderr",
     "output_type": "stream",
     "text": [
      "WARNING:tensorflow:Early stopping conditioned on metric `val_mae` which is not available. Available metrics are: loss,mae\n"
     ]
    },
    {
     "name": "stdout",
     "output_type": "stream",
     "text": [
      "27/27 [==============================] - 0s 3ms/step - loss: 6.4895 - mae: 6.4895\n",
      "Epoch 562/2000\n",
      "19/27 [====================>.........] - ETA: 0s - loss: 7.6421 - mae: 7.6421WARNING:tensorflow:Early stopping conditioned on metric `val_mae` which is not available. Available metrics are: loss,mae\n"
     ]
    },
    {
     "name": "stderr",
     "output_type": "stream",
     "text": [
      "WARNING:tensorflow:Early stopping conditioned on metric `val_mae` which is not available. Available metrics are: loss,mae\n"
     ]
    },
    {
     "name": "stdout",
     "output_type": "stream",
     "text": [
      "27/27 [==============================] - 0s 3ms/step - loss: 7.5137 - mae: 7.5137\n",
      "Epoch 563/2000\n",
      "19/27 [====================>.........] - ETA: 0s - loss: 7.1879 - mae: 7.1879WARNING:tensorflow:Early stopping conditioned on metric `val_mae` which is not available. Available metrics are: loss,mae\n"
     ]
    },
    {
     "name": "stderr",
     "output_type": "stream",
     "text": [
      "WARNING:tensorflow:Early stopping conditioned on metric `val_mae` which is not available. Available metrics are: loss,mae\n"
     ]
    },
    {
     "name": "stdout",
     "output_type": "stream",
     "text": [
      "27/27 [==============================] - 0s 3ms/step - loss: 6.8704 - mae: 6.8704\n",
      "Epoch 564/2000\n",
      "19/27 [====================>.........] - ETA: 0s - loss: 6.5796 - mae: 6.5796WARNING:tensorflow:Early stopping conditioned on metric `val_mae` which is not available. Available metrics are: loss,mae\n"
     ]
    },
    {
     "name": "stderr",
     "output_type": "stream",
     "text": [
      "WARNING:tensorflow:Early stopping conditioned on metric `val_mae` which is not available. Available metrics are: loss,mae\n"
     ]
    },
    {
     "name": "stdout",
     "output_type": "stream",
     "text": [
      "27/27 [==============================] - 0s 3ms/step - loss: 8.1238 - mae: 8.1238\n",
      "Epoch 565/2000\n",
      "19/27 [====================>.........] - ETA: 0s - loss: 9.4346 - mae: 9.4346  WARNING:tensorflow:Early stopping conditioned on metric `val_mae` which is not available. Available metrics are: loss,mae\n"
     ]
    },
    {
     "name": "stderr",
     "output_type": "stream",
     "text": [
      "WARNING:tensorflow:Early stopping conditioned on metric `val_mae` which is not available. Available metrics are: loss,mae\n"
     ]
    },
    {
     "name": "stdout",
     "output_type": "stream",
     "text": [
      "27/27 [==============================] - 0s 3ms/step - loss: 8.6110 - mae: 8.6110\n",
      "Epoch 566/2000\n",
      "19/27 [====================>.........] - ETA: 0s - loss: 6.0290 - mae: 6.0290WARNING:tensorflow:Early stopping conditioned on metric `val_mae` which is not available. Available metrics are: loss,mae\n"
     ]
    },
    {
     "name": "stderr",
     "output_type": "stream",
     "text": [
      "WARNING:tensorflow:Early stopping conditioned on metric `val_mae` which is not available. Available metrics are: loss,mae\n"
     ]
    },
    {
     "name": "stdout",
     "output_type": "stream",
     "text": [
      "27/27 [==============================] - 0s 3ms/step - loss: 6.2867 - mae: 6.2867\n",
      "Epoch 567/2000\n",
      "19/27 [====================>.........] - ETA: 0s - loss: 5.9649 - mae: 5.9649WARNING:tensorflow:Early stopping conditioned on metric `val_mae` which is not available. Available metrics are: loss,mae\n"
     ]
    },
    {
     "name": "stderr",
     "output_type": "stream",
     "text": [
      "WARNING:tensorflow:Early stopping conditioned on metric `val_mae` which is not available. Available metrics are: loss,mae\n"
     ]
    },
    {
     "name": "stdout",
     "output_type": "stream",
     "text": [
      "27/27 [==============================] - 0s 3ms/step - loss: 6.0665 - mae: 6.0665\n",
      "Epoch 568/2000\n",
      "19/27 [====================>.........] - ETA: 0s - loss: 8.1575 - mae: 8.1575WARNING:tensorflow:Early stopping conditioned on metric `val_mae` which is not available. Available metrics are: loss,mae\n"
     ]
    },
    {
     "name": "stderr",
     "output_type": "stream",
     "text": [
      "WARNING:tensorflow:Early stopping conditioned on metric `val_mae` which is not available. Available metrics are: loss,mae\n"
     ]
    },
    {
     "name": "stdout",
     "output_type": "stream",
     "text": [
      "27/27 [==============================] - 0s 3ms/step - loss: 8.2604 - mae: 8.2604\n",
      "Epoch 569/2000\n",
      "19/27 [====================>.........] - ETA: 0s - loss: 6.2425 - mae: 6.2425WARNING:tensorflow:Early stopping conditioned on metric `val_mae` which is not available. Available metrics are: loss,mae\n"
     ]
    },
    {
     "name": "stderr",
     "output_type": "stream",
     "text": [
      "WARNING:tensorflow:Early stopping conditioned on metric `val_mae` which is not available. Available metrics are: loss,mae\n"
     ]
    },
    {
     "name": "stdout",
     "output_type": "stream",
     "text": [
      "27/27 [==============================] - 0s 3ms/step - loss: 6.4078 - mae: 6.4078\n",
      "Epoch 570/2000\n",
      "19/27 [====================>.........] - ETA: 0s - loss: 6.5176 - mae: 6.5176WARNING:tensorflow:Early stopping conditioned on metric `val_mae` which is not available. Available metrics are: loss,mae\n"
     ]
    },
    {
     "name": "stderr",
     "output_type": "stream",
     "text": [
      "WARNING:tensorflow:Early stopping conditioned on metric `val_mae` which is not available. Available metrics are: loss,mae\n"
     ]
    },
    {
     "name": "stdout",
     "output_type": "stream",
     "text": [
      "27/27 [==============================] - 0s 3ms/step - loss: 7.5671 - mae: 7.5671\n",
      "Epoch 571/2000\n",
      "19/27 [====================>.........] - ETA: 0s - loss: 9.7550 - mae: 9.7550WARNING:tensorflow:Early stopping conditioned on metric `val_mae` which is not available. Available metrics are: loss,mae\n"
     ]
    },
    {
     "name": "stderr",
     "output_type": "stream",
     "text": [
      "WARNING:tensorflow:Early stopping conditioned on metric `val_mae` which is not available. Available metrics are: loss,mae\n"
     ]
    },
    {
     "name": "stdout",
     "output_type": "stream",
     "text": [
      "27/27 [==============================] - 0s 3ms/step - loss: 9.7890 - mae: 9.7890\n",
      "Epoch 572/2000\n",
      "19/27 [====================>.........] - ETA: 0s - loss: 5.8058 - mae: 5.8058WARNING:tensorflow:Early stopping conditioned on metric `val_mae` which is not available. Available metrics are: loss,mae\n"
     ]
    },
    {
     "name": "stderr",
     "output_type": "stream",
     "text": [
      "WARNING:tensorflow:Early stopping conditioned on metric `val_mae` which is not available. Available metrics are: loss,mae\n"
     ]
    },
    {
     "name": "stdout",
     "output_type": "stream",
     "text": [
      "27/27 [==============================] - 0s 3ms/step - loss: 6.3468 - mae: 6.3468\n",
      "Epoch 573/2000\n",
      "19/27 [====================>.........] - ETA: 0s - loss: 5.4504 - mae: 5.4504WARNING:tensorflow:Early stopping conditioned on metric `val_mae` which is not available. Available metrics are: loss,mae\n"
     ]
    },
    {
     "name": "stderr",
     "output_type": "stream",
     "text": [
      "WARNING:tensorflow:Early stopping conditioned on metric `val_mae` which is not available. Available metrics are: loss,mae\n"
     ]
    },
    {
     "name": "stdout",
     "output_type": "stream",
     "text": [
      "27/27 [==============================] - 0s 3ms/step - loss: 5.3043 - mae: 5.3043\n",
      "Epoch 574/2000\n",
      "19/27 [====================>.........] - ETA: 0s - loss: 5.4653 - mae: 5.4653WARNING:tensorflow:Early stopping conditioned on metric `val_mae` which is not available. Available metrics are: loss,mae\n"
     ]
    },
    {
     "name": "stderr",
     "output_type": "stream",
     "text": [
      "WARNING:tensorflow:Early stopping conditioned on metric `val_mae` which is not available. Available metrics are: loss,mae\n"
     ]
    },
    {
     "name": "stdout",
     "output_type": "stream",
     "text": [
      "27/27 [==============================] - 0s 3ms/step - loss: 5.2707 - mae: 5.2707\n",
      "Epoch 575/2000\n",
      "19/27 [====================>.........] - ETA: 0s - loss: 5.6682 - mae: 5.6682WARNING:tensorflow:Early stopping conditioned on metric `val_mae` which is not available. Available metrics are: loss,mae\n"
     ]
    },
    {
     "name": "stderr",
     "output_type": "stream",
     "text": [
      "WARNING:tensorflow:Early stopping conditioned on metric `val_mae` which is not available. Available metrics are: loss,mae\n"
     ]
    },
    {
     "name": "stdout",
     "output_type": "stream",
     "text": [
      "27/27 [==============================] - 0s 3ms/step - loss: 6.3539 - mae: 6.3539\n",
      "Epoch 576/2000\n",
      "19/27 [====================>.........] - ETA: 0s - loss: 9.1756 - mae: 9.1756  WARNING:tensorflow:Early stopping conditioned on metric `val_mae` which is not available. Available metrics are: loss,mae\n"
     ]
    },
    {
     "name": "stderr",
     "output_type": "stream",
     "text": [
      "WARNING:tensorflow:Early stopping conditioned on metric `val_mae` which is not available. Available metrics are: loss,mae\n"
     ]
    },
    {
     "name": "stdout",
     "output_type": "stream",
     "text": [
      "27/27 [==============================] - 0s 3ms/step - loss: 8.8831 - mae: 8.8831\n",
      "Epoch 577/2000\n",
      "18/27 [===================>..........] - ETA: 0s - loss: 7.7412 - mae: 7.7412WARNING:tensorflow:Early stopping conditioned on metric `val_mae` which is not available. Available metrics are: loss,mae\n"
     ]
    },
    {
     "name": "stderr",
     "output_type": "stream",
     "text": [
      "WARNING:tensorflow:Early stopping conditioned on metric `val_mae` which is not available. Available metrics are: loss,mae\n"
     ]
    },
    {
     "name": "stdout",
     "output_type": "stream",
     "text": [
      "27/27 [==============================] - 0s 3ms/step - loss: 9.2896 - mae: 9.2896\n",
      "Epoch 578/2000\n",
      "19/27 [====================>.........] - ETA: 0s - loss: 13.4388 - mae: 13.4388WARNING:tensorflow:Early stopping conditioned on metric `val_mae` which is not available. Available metrics are: loss,mae\n"
     ]
    },
    {
     "name": "stderr",
     "output_type": "stream",
     "text": [
      "WARNING:tensorflow:Early stopping conditioned on metric `val_mae` which is not available. Available metrics are: loss,mae\n"
     ]
    },
    {
     "name": "stdout",
     "output_type": "stream",
     "text": [
      "27/27 [==============================] - 0s 3ms/step - loss: 12.7896 - mae: 12.7896\n",
      "Epoch 579/2000\n",
      "19/27 [====================>.........] - ETA: 0s - loss: 10.0470 - mae: 10.0470WARNING:tensorflow:Early stopping conditioned on metric `val_mae` which is not available. Available metrics are: loss,mae\n"
     ]
    },
    {
     "name": "stderr",
     "output_type": "stream",
     "text": [
      "WARNING:tensorflow:Early stopping conditioned on metric `val_mae` which is not available. Available metrics are: loss,mae\n"
     ]
    },
    {
     "name": "stdout",
     "output_type": "stream",
     "text": [
      "27/27 [==============================] - 0s 3ms/step - loss: 9.3784 - mae: 9.3784\n",
      "Epoch 580/2000\n",
      "18/27 [===================>..........] - ETA: 0s - loss: 5.9222 - mae: 5.9222WARNING:tensorflow:Early stopping conditioned on metric `val_mae` which is not available. Available metrics are: loss,mae\n"
     ]
    },
    {
     "name": "stderr",
     "output_type": "stream",
     "text": [
      "WARNING:tensorflow:Early stopping conditioned on metric `val_mae` which is not available. Available metrics are: loss,mae\n"
     ]
    },
    {
     "name": "stdout",
     "output_type": "stream",
     "text": [
      "27/27 [==============================] - 0s 3ms/step - loss: 5.6720 - mae: 5.6720\n",
      "Epoch 581/2000\n",
      "19/27 [====================>.........] - ETA: 0s - loss: 6.6768 - mae: 6.6768WARNING:tensorflow:Early stopping conditioned on metric `val_mae` which is not available. Available metrics are: loss,mae\n"
     ]
    },
    {
     "name": "stderr",
     "output_type": "stream",
     "text": [
      "WARNING:tensorflow:Early stopping conditioned on metric `val_mae` which is not available. Available metrics are: loss,mae\n"
     ]
    },
    {
     "name": "stdout",
     "output_type": "stream",
     "text": [
      "27/27 [==============================] - 0s 3ms/step - loss: 6.5637 - mae: 6.5637\n",
      "Epoch 582/2000\n",
      "19/27 [====================>.........] - ETA: 0s - loss: 5.6431 - mae: 5.6431WARNING:tensorflow:Early stopping conditioned on metric `val_mae` which is not available. Available metrics are: loss,mae\n"
     ]
    },
    {
     "name": "stderr",
     "output_type": "stream",
     "text": [
      "WARNING:tensorflow:Early stopping conditioned on metric `val_mae` which is not available. Available metrics are: loss,mae\n"
     ]
    },
    {
     "name": "stdout",
     "output_type": "stream",
     "text": [
      "27/27 [==============================] - 0s 3ms/step - loss: 5.4857 - mae: 5.4857\n",
      "Epoch 583/2000\n",
      "19/27 [====================>.........] - ETA: 0s - loss: 6.0590 - mae: 6.0590WARNING:tensorflow:Early stopping conditioned on metric `val_mae` which is not available. Available metrics are: loss,mae\n"
     ]
    },
    {
     "name": "stderr",
     "output_type": "stream",
     "text": [
      "WARNING:tensorflow:Early stopping conditioned on metric `val_mae` which is not available. Available metrics are: loss,mae\n"
     ]
    },
    {
     "name": "stdout",
     "output_type": "stream",
     "text": [
      "27/27 [==============================] - 0s 3ms/step - loss: 5.5915 - mae: 5.5915\n",
      "Epoch 584/2000\n",
      "18/27 [===================>..........] - ETA: 0s - loss: 7.5898 - mae: 7.5898WARNING:tensorflow:Early stopping conditioned on metric `val_mae` which is not available. Available metrics are: loss,mae\n"
     ]
    },
    {
     "name": "stderr",
     "output_type": "stream",
     "text": [
      "WARNING:tensorflow:Early stopping conditioned on metric `val_mae` which is not available. Available metrics are: loss,mae\n"
     ]
    },
    {
     "name": "stdout",
     "output_type": "stream",
     "text": [
      "27/27 [==============================] - 0s 3ms/step - loss: 6.7343 - mae: 6.7343\n",
      "Epoch 585/2000\n",
      "18/27 [===================>..........] - ETA: 0s - loss: 5.8126 - mae: 5.8126WARNING:tensorflow:Early stopping conditioned on metric `val_mae` which is not available. Available metrics are: loss,mae\n"
     ]
    },
    {
     "name": "stderr",
     "output_type": "stream",
     "text": [
      "WARNING:tensorflow:Early stopping conditioned on metric `val_mae` which is not available. Available metrics are: loss,mae\n"
     ]
    },
    {
     "name": "stdout",
     "output_type": "stream",
     "text": [
      "27/27 [==============================] - 0s 3ms/step - loss: 5.9329 - mae: 5.9329\n",
      "Epoch 586/2000\n",
      "19/27 [====================>.........] - ETA: 0s - loss: 5.7980 - mae: 5.7980  WARNING:tensorflow:Early stopping conditioned on metric `val_mae` which is not available. Available metrics are: loss,mae\n"
     ]
    },
    {
     "name": "stderr",
     "output_type": "stream",
     "text": [
      "WARNING:tensorflow:Early stopping conditioned on metric `val_mae` which is not available. Available metrics are: loss,mae\n"
     ]
    },
    {
     "name": "stdout",
     "output_type": "stream",
     "text": [
      "27/27 [==============================] - 0s 3ms/step - loss: 5.7682 - mae: 5.7682\n",
      "Epoch 587/2000\n",
      "19/27 [====================>.........] - ETA: 0s - loss: 6.1358 - mae: 6.1358WARNING:tensorflow:Early stopping conditioned on metric `val_mae` which is not available. Available metrics are: loss,mae\n"
     ]
    },
    {
     "name": "stderr",
     "output_type": "stream",
     "text": [
      "WARNING:tensorflow:Early stopping conditioned on metric `val_mae` which is not available. Available metrics are: loss,mae\n"
     ]
    },
    {
     "name": "stdout",
     "output_type": "stream",
     "text": [
      "27/27 [==============================] - 0s 3ms/step - loss: 6.1361 - mae: 6.1361\n",
      "Epoch 588/2000\n",
      "19/27 [====================>.........] - ETA: 0s - loss: 6.0125 - mae: 6.0125WARNING:tensorflow:Early stopping conditioned on metric `val_mae` which is not available. Available metrics are: loss,mae\n"
     ]
    },
    {
     "name": "stderr",
     "output_type": "stream",
     "text": [
      "WARNING:tensorflow:Early stopping conditioned on metric `val_mae` which is not available. Available metrics are: loss,mae\n"
     ]
    },
    {
     "name": "stdout",
     "output_type": "stream",
     "text": [
      "27/27 [==============================] - 0s 3ms/step - loss: 5.6762 - mae: 5.6762\n",
      "Epoch 589/2000\n",
      "19/27 [====================>.........] - ETA: 0s - loss: 6.8233 - mae: 6.8233WARNING:tensorflow:Early stopping conditioned on metric `val_mae` which is not available. Available metrics are: loss,mae\n"
     ]
    },
    {
     "name": "stderr",
     "output_type": "stream",
     "text": [
      "WARNING:tensorflow:Early stopping conditioned on metric `val_mae` which is not available. Available metrics are: loss,mae\n"
     ]
    },
    {
     "name": "stdout",
     "output_type": "stream",
     "text": [
      "27/27 [==============================] - 0s 3ms/step - loss: 7.8727 - mae: 7.8727\n",
      "Epoch 590/2000\n",
      "19/27 [====================>.........] - ETA: 0s - loss: 6.9362 - mae: 6.9362  WARNING:tensorflow:Early stopping conditioned on metric `val_mae` which is not available. Available metrics are: loss,mae\n"
     ]
    },
    {
     "name": "stderr",
     "output_type": "stream",
     "text": [
      "WARNING:tensorflow:Early stopping conditioned on metric `val_mae` which is not available. Available metrics are: loss,mae\n"
     ]
    },
    {
     "name": "stdout",
     "output_type": "stream",
     "text": [
      "27/27 [==============================] - 0s 3ms/step - loss: 6.7021 - mae: 6.7021\n",
      "Epoch 591/2000\n",
      "19/27 [====================>.........] - ETA: 0s - loss: 6.1226 - mae: 6.1226  WARNING:tensorflow:Early stopping conditioned on metric `val_mae` which is not available. Available metrics are: loss,mae\n"
     ]
    },
    {
     "name": "stderr",
     "output_type": "stream",
     "text": [
      "WARNING:tensorflow:Early stopping conditioned on metric `val_mae` which is not available. Available metrics are: loss,mae\n"
     ]
    },
    {
     "name": "stdout",
     "output_type": "stream",
     "text": [
      "27/27 [==============================] - 0s 3ms/step - loss: 6.1028 - mae: 6.1028\n",
      "Epoch 592/2000\n",
      "18/27 [===================>..........] - ETA: 0s - loss: 6.0467 - mae: 6.0467WARNING:tensorflow:Early stopping conditioned on metric `val_mae` which is not available. Available metrics are: loss,mae\n"
     ]
    },
    {
     "name": "stderr",
     "output_type": "stream",
     "text": [
      "WARNING:tensorflow:Early stopping conditioned on metric `val_mae` which is not available. Available metrics are: loss,mae\n"
     ]
    },
    {
     "name": "stdout",
     "output_type": "stream",
     "text": [
      "27/27 [==============================] - 0s 3ms/step - loss: 7.0817 - mae: 7.0817\n",
      "Epoch 593/2000\n",
      "18/27 [===================>..........] - ETA: 0s - loss: 6.3762 - mae: 6.3762WARNING:tensorflow:Early stopping conditioned on metric `val_mae` which is not available. Available metrics are: loss,mae\n"
     ]
    },
    {
     "name": "stderr",
     "output_type": "stream",
     "text": [
      "WARNING:tensorflow:Early stopping conditioned on metric `val_mae` which is not available. Available metrics are: loss,mae\n"
     ]
    },
    {
     "name": "stdout",
     "output_type": "stream",
     "text": [
      "27/27 [==============================] - 0s 3ms/step - loss: 6.1664 - mae: 6.1664\n",
      "Epoch 594/2000\n",
      "19/27 [====================>.........] - ETA: 0s - loss: 6.7717 - mae: 6.7717WARNING:tensorflow:Early stopping conditioned on metric `val_mae` which is not available. Available metrics are: loss,mae\n"
     ]
    },
    {
     "name": "stderr",
     "output_type": "stream",
     "text": [
      "WARNING:tensorflow:Early stopping conditioned on metric `val_mae` which is not available. Available metrics are: loss,mae\n"
     ]
    },
    {
     "name": "stdout",
     "output_type": "stream",
     "text": [
      "27/27 [==============================] - 0s 3ms/step - loss: 6.9740 - mae: 6.9740\n",
      "Epoch 595/2000\n",
      "19/27 [====================>.........] - ETA: 0s - loss: 6.5167 - mae: 6.5167WARNING:tensorflow:Early stopping conditioned on metric `val_mae` which is not available. Available metrics are: loss,mae\n"
     ]
    },
    {
     "name": "stderr",
     "output_type": "stream",
     "text": [
      "WARNING:tensorflow:Early stopping conditioned on metric `val_mae` which is not available. Available metrics are: loss,mae\n"
     ]
    },
    {
     "name": "stdout",
     "output_type": "stream",
     "text": [
      "27/27 [==============================] - 0s 3ms/step - loss: 6.3375 - mae: 6.3375\n",
      "Epoch 596/2000\n",
      "19/27 [====================>.........] - ETA: 0s - loss: 5.8172 - mae: 5.8172WARNING:tensorflow:Early stopping conditioned on metric `val_mae` which is not available. Available metrics are: loss,mae\n"
     ]
    },
    {
     "name": "stderr",
     "output_type": "stream",
     "text": [
      "WARNING:tensorflow:Early stopping conditioned on metric `val_mae` which is not available. Available metrics are: loss,mae\n"
     ]
    },
    {
     "name": "stdout",
     "output_type": "stream",
     "text": [
      "27/27 [==============================] - 0s 3ms/step - loss: 5.8357 - mae: 5.8357\n",
      "Epoch 597/2000\n",
      "19/27 [====================>.........] - ETA: 0s - loss: 5.6799 - mae: 5.6799WARNING:tensorflow:Early stopping conditioned on metric `val_mae` which is not available. Available metrics are: loss,mae\n"
     ]
    },
    {
     "name": "stderr",
     "output_type": "stream",
     "text": [
      "WARNING:tensorflow:Early stopping conditioned on metric `val_mae` which is not available. Available metrics are: loss,mae\n"
     ]
    },
    {
     "name": "stdout",
     "output_type": "stream",
     "text": [
      "27/27 [==============================] - 0s 3ms/step - loss: 6.0516 - mae: 6.0516\n",
      "Epoch 598/2000\n",
      "19/27 [====================>.........] - ETA: 0s - loss: 7.4935 - mae: 7.4935WARNING:tensorflow:Early stopping conditioned on metric `val_mae` which is not available. Available metrics are: loss,mae\n"
     ]
    },
    {
     "name": "stderr",
     "output_type": "stream",
     "text": [
      "WARNING:tensorflow:Early stopping conditioned on metric `val_mae` which is not available. Available metrics are: loss,mae\n"
     ]
    },
    {
     "name": "stdout",
     "output_type": "stream",
     "text": [
      "27/27 [==============================] - 0s 3ms/step - loss: 8.3250 - mae: 8.3250\n",
      "Epoch 599/2000\n",
      "18/27 [===================>..........] - ETA: 0s - loss: 6.1966 - mae: 6.1966WARNING:tensorflow:Early stopping conditioned on metric `val_mae` which is not available. Available metrics are: loss,mae\n"
     ]
    },
    {
     "name": "stderr",
     "output_type": "stream",
     "text": [
      "WARNING:tensorflow:Early stopping conditioned on metric `val_mae` which is not available. Available metrics are: loss,mae\n"
     ]
    },
    {
     "name": "stdout",
     "output_type": "stream",
     "text": [
      "27/27 [==============================] - 0s 3ms/step - loss: 6.1483 - mae: 6.1483\n",
      "Epoch 600/2000\n",
      "19/27 [====================>.........] - ETA: 0s - loss: 6.9252 - mae: 6.9252WARNING:tensorflow:Early stopping conditioned on metric `val_mae` which is not available. Available metrics are: loss,mae\n"
     ]
    },
    {
     "name": "stderr",
     "output_type": "stream",
     "text": [
      "WARNING:tensorflow:Early stopping conditioned on metric `val_mae` which is not available. Available metrics are: loss,mae\n"
     ]
    },
    {
     "name": "stdout",
     "output_type": "stream",
     "text": [
      "27/27 [==============================] - 0s 3ms/step - loss: 6.7731 - mae: 6.7731\n",
      "Epoch 601/2000\n",
      "18/27 [===================>..........] - ETA: 0s - loss: 5.7019 - mae: 5.7019WARNING:tensorflow:Early stopping conditioned on metric `val_mae` which is not available. Available metrics are: loss,mae\n"
     ]
    },
    {
     "name": "stderr",
     "output_type": "stream",
     "text": [
      "WARNING:tensorflow:Early stopping conditioned on metric `val_mae` which is not available. Available metrics are: loss,mae\n"
     ]
    },
    {
     "name": "stdout",
     "output_type": "stream",
     "text": [
      "27/27 [==============================] - 0s 3ms/step - loss: 5.7855 - mae: 5.7855\n",
      "Epoch 602/2000\n",
      "18/27 [===================>..........] - ETA: 0s - loss: 5.8498 - mae: 5.8498WARNING:tensorflow:Early stopping conditioned on metric `val_mae` which is not available. Available metrics are: loss,mae\n"
     ]
    },
    {
     "name": "stderr",
     "output_type": "stream",
     "text": [
      "WARNING:tensorflow:Early stopping conditioned on metric `val_mae` which is not available. Available metrics are: loss,mae\n"
     ]
    },
    {
     "name": "stdout",
     "output_type": "stream",
     "text": [
      "27/27 [==============================] - 0s 3ms/step - loss: 6.8523 - mae: 6.8523\n",
      "Epoch 603/2000\n",
      "19/27 [====================>.........] - ETA: 0s - loss: 7.5362 - mae: 7.5362  WARNING:tensorflow:Early stopping conditioned on metric `val_mae` which is not available. Available metrics are: loss,mae\n"
     ]
    },
    {
     "name": "stderr",
     "output_type": "stream",
     "text": [
      "WARNING:tensorflow:Early stopping conditioned on metric `val_mae` which is not available. Available metrics are: loss,mae\n"
     ]
    },
    {
     "name": "stdout",
     "output_type": "stream",
     "text": [
      "27/27 [==============================] - 0s 3ms/step - loss: 7.7315 - mae: 7.7315\n",
      "Epoch 604/2000\n",
      "19/27 [====================>.........] - ETA: 0s - loss: 6.7602 - mae: 6.7602WARNING:tensorflow:Early stopping conditioned on metric `val_mae` which is not available. Available metrics are: loss,mae\n"
     ]
    },
    {
     "name": "stderr",
     "output_type": "stream",
     "text": [
      "WARNING:tensorflow:Early stopping conditioned on metric `val_mae` which is not available. Available metrics are: loss,mae\n"
     ]
    },
    {
     "name": "stdout",
     "output_type": "stream",
     "text": [
      "27/27 [==============================] - 0s 3ms/step - loss: 6.3426 - mae: 6.3426\n",
      "Epoch 605/2000\n",
      "19/27 [====================>.........] - ETA: 0s - loss: 5.4305 - mae: 5.4305WARNING:tensorflow:Early stopping conditioned on metric `val_mae` which is not available. Available metrics are: loss,mae\n"
     ]
    },
    {
     "name": "stderr",
     "output_type": "stream",
     "text": [
      "WARNING:tensorflow:Early stopping conditioned on metric `val_mae` which is not available. Available metrics are: loss,mae\n"
     ]
    },
    {
     "name": "stdout",
     "output_type": "stream",
     "text": [
      "27/27 [==============================] - 0s 3ms/step - loss: 5.4038 - mae: 5.4038\n",
      "Epoch 606/2000\n",
      "18/27 [===================>..........] - ETA: 0s - loss: 5.9157 - mae: 5.9157WARNING:tensorflow:Early stopping conditioned on metric `val_mae` which is not available. Available metrics are: loss,mae\n"
     ]
    },
    {
     "name": "stderr",
     "output_type": "stream",
     "text": [
      "WARNING:tensorflow:Early stopping conditioned on metric `val_mae` which is not available. Available metrics are: loss,mae\n"
     ]
    },
    {
     "name": "stdout",
     "output_type": "stream",
     "text": [
      "27/27 [==============================] - 0s 3ms/step - loss: 5.5863 - mae: 5.5863\n",
      "Epoch 607/2000\n",
      "19/27 [====================>.........] - ETA: 0s - loss: 5.1164 - mae: 5.1164WARNING:tensorflow:Early stopping conditioned on metric `val_mae` which is not available. Available metrics are: loss,mae\n"
     ]
    },
    {
     "name": "stderr",
     "output_type": "stream",
     "text": [
      "WARNING:tensorflow:Early stopping conditioned on metric `val_mae` which is not available. Available metrics are: loss,mae\n"
     ]
    },
    {
     "name": "stdout",
     "output_type": "stream",
     "text": [
      "27/27 [==============================] - 0s 3ms/step - loss: 5.4317 - mae: 5.4317\n",
      "Epoch 608/2000\n",
      "19/27 [====================>.........] - ETA: 0s - loss: 5.3174 - mae: 5.3174WARNING:tensorflow:Early stopping conditioned on metric `val_mae` which is not available. Available metrics are: loss,mae\n"
     ]
    },
    {
     "name": "stderr",
     "output_type": "stream",
     "text": [
      "WARNING:tensorflow:Early stopping conditioned on metric `val_mae` which is not available. Available metrics are: loss,mae\n"
     ]
    },
    {
     "name": "stdout",
     "output_type": "stream",
     "text": [
      "27/27 [==============================] - 0s 3ms/step - loss: 5.0237 - mae: 5.0237\n",
      "Epoch 609/2000\n",
      "19/27 [====================>.........] - ETA: 0s - loss: 6.8298 - mae: 6.8298WARNING:tensorflow:Early stopping conditioned on metric `val_mae` which is not available. Available metrics are: loss,mae\n"
     ]
    },
    {
     "name": "stderr",
     "output_type": "stream",
     "text": [
      "WARNING:tensorflow:Early stopping conditioned on metric `val_mae` which is not available. Available metrics are: loss,mae\n"
     ]
    },
    {
     "name": "stdout",
     "output_type": "stream",
     "text": [
      "27/27 [==============================] - 0s 3ms/step - loss: 6.9057 - mae: 6.9057\n",
      "Epoch 610/2000\n",
      "18/27 [===================>..........] - ETA: 0s - loss: 5.3688 - mae: 5.3688WARNING:tensorflow:Early stopping conditioned on metric `val_mae` which is not available. Available metrics are: loss,mae\n"
     ]
    },
    {
     "name": "stderr",
     "output_type": "stream",
     "text": [
      "WARNING:tensorflow:Early stopping conditioned on metric `val_mae` which is not available. Available metrics are: loss,mae\n"
     ]
    },
    {
     "name": "stdout",
     "output_type": "stream",
     "text": [
      "27/27 [==============================] - 0s 3ms/step - loss: 5.5713 - mae: 5.5713\n",
      "Epoch 611/2000\n",
      "19/27 [====================>.........] - ETA: 0s - loss: 7.9858 - mae: 7.9858WARNING:tensorflow:Early stopping conditioned on metric `val_mae` which is not available. Available metrics are: loss,mae\n"
     ]
    },
    {
     "name": "stderr",
     "output_type": "stream",
     "text": [
      "WARNING:tensorflow:Early stopping conditioned on metric `val_mae` which is not available. Available metrics are: loss,mae\n"
     ]
    },
    {
     "name": "stdout",
     "output_type": "stream",
     "text": [
      "27/27 [==============================] - 0s 3ms/step - loss: 8.8541 - mae: 8.8541\n",
      "Epoch 612/2000\n",
      "19/27 [====================>.........] - ETA: 0s - loss: 7.0535 - mae: 7.0535WARNING:tensorflow:Early stopping conditioned on metric `val_mae` which is not available. Available metrics are: loss,mae\n"
     ]
    },
    {
     "name": "stderr",
     "output_type": "stream",
     "text": [
      "WARNING:tensorflow:Early stopping conditioned on metric `val_mae` which is not available. Available metrics are: loss,mae\n"
     ]
    },
    {
     "name": "stdout",
     "output_type": "stream",
     "text": [
      "27/27 [==============================] - 0s 3ms/step - loss: 6.7068 - mae: 6.7068\n",
      "Epoch 613/2000\n",
      "19/27 [====================>.........] - ETA: 0s - loss: 5.7725 - mae: 5.7725WARNING:tensorflow:Early stopping conditioned on metric `val_mae` which is not available. Available metrics are: loss,mae\n"
     ]
    },
    {
     "name": "stderr",
     "output_type": "stream",
     "text": [
      "WARNING:tensorflow:Early stopping conditioned on metric `val_mae` which is not available. Available metrics are: loss,mae\n"
     ]
    },
    {
     "name": "stdout",
     "output_type": "stream",
     "text": [
      "27/27 [==============================] - 0s 3ms/step - loss: 6.1885 - mae: 6.1885\n",
      "Epoch 614/2000\n",
      "18/27 [===================>..........] - ETA: 0s - loss: 6.5471 - mae: 6.5471WARNING:tensorflow:Early stopping conditioned on metric `val_mae` which is not available. Available metrics are: loss,mae\n"
     ]
    },
    {
     "name": "stderr",
     "output_type": "stream",
     "text": [
      "WARNING:tensorflow:Early stopping conditioned on metric `val_mae` which is not available. Available metrics are: loss,mae\n"
     ]
    },
    {
     "name": "stdout",
     "output_type": "stream",
     "text": [
      "27/27 [==============================] - 0s 3ms/step - loss: 6.1758 - mae: 6.1758\n",
      "Epoch 615/2000\n",
      "19/27 [====================>.........] - ETA: 0s - loss: 5.1332 - mae: 5.1332WARNING:tensorflow:Early stopping conditioned on metric `val_mae` which is not available. Available metrics are: loss,mae\n"
     ]
    },
    {
     "name": "stderr",
     "output_type": "stream",
     "text": [
      "WARNING:tensorflow:Early stopping conditioned on metric `val_mae` which is not available. Available metrics are: loss,mae\n"
     ]
    },
    {
     "name": "stdout",
     "output_type": "stream",
     "text": [
      "27/27 [==============================] - 0s 3ms/step - loss: 5.5191 - mae: 5.5191\n",
      "Epoch 616/2000\n",
      "18/27 [===================>..........] - ETA: 0s - loss: 9.9457 - mae: 9.9457  WARNING:tensorflow:Early stopping conditioned on metric `val_mae` which is not available. Available metrics are: loss,mae\n"
     ]
    },
    {
     "name": "stderr",
     "output_type": "stream",
     "text": [
      "WARNING:tensorflow:Early stopping conditioned on metric `val_mae` which is not available. Available metrics are: loss,mae\n"
     ]
    },
    {
     "name": "stdout",
     "output_type": "stream",
     "text": [
      "27/27 [==============================] - 0s 3ms/step - loss: 9.5947 - mae: 9.5947\n",
      "Epoch 617/2000\n",
      "19/27 [====================>.........] - ETA: 0s - loss: 6.1284 - mae: 6.1284WARNING:tensorflow:Early stopping conditioned on metric `val_mae` which is not available. Available metrics are: loss,mae\n"
     ]
    },
    {
     "name": "stderr",
     "output_type": "stream",
     "text": [
      "WARNING:tensorflow:Early stopping conditioned on metric `val_mae` which is not available. Available metrics are: loss,mae\n"
     ]
    },
    {
     "name": "stdout",
     "output_type": "stream",
     "text": [
      "27/27 [==============================] - 0s 3ms/step - loss: 6.5741 - mae: 6.5741\n",
      "Epoch 618/2000\n",
      "19/27 [====================>.........] - ETA: 0s - loss: 6.0020 - mae: 6.0020WARNING:tensorflow:Early stopping conditioned on metric `val_mae` which is not available. Available metrics are: loss,mae\n"
     ]
    },
    {
     "name": "stderr",
     "output_type": "stream",
     "text": [
      "WARNING:tensorflow:Early stopping conditioned on metric `val_mae` which is not available. Available metrics are: loss,mae\n"
     ]
    },
    {
     "name": "stdout",
     "output_type": "stream",
     "text": [
      "27/27 [==============================] - 0s 3ms/step - loss: 6.1604 - mae: 6.1604\n",
      "Epoch 619/2000\n",
      "19/27 [====================>.........] - ETA: 0s - loss: 6.5257 - mae: 6.5257WARNING:tensorflow:Early stopping conditioned on metric `val_mae` which is not available. Available metrics are: loss,mae\n"
     ]
    },
    {
     "name": "stderr",
     "output_type": "stream",
     "text": [
      "WARNING:tensorflow:Early stopping conditioned on metric `val_mae` which is not available. Available metrics are: loss,mae\n"
     ]
    },
    {
     "name": "stdout",
     "output_type": "stream",
     "text": [
      "27/27 [==============================] - 0s 3ms/step - loss: 6.3236 - mae: 6.3236\n",
      "Epoch 620/2000\n",
      "19/27 [====================>.........] - ETA: 0s - loss: 5.0138 - mae: 5.0138WARNING:tensorflow:Early stopping conditioned on metric `val_mae` which is not available. Available metrics are: loss,mae\n"
     ]
    },
    {
     "name": "stderr",
     "output_type": "stream",
     "text": [
      "WARNING:tensorflow:Early stopping conditioned on metric `val_mae` which is not available. Available metrics are: loss,mae\n"
     ]
    },
    {
     "name": "stdout",
     "output_type": "stream",
     "text": [
      "27/27 [==============================] - 0s 3ms/step - loss: 5.1768 - mae: 5.1768\n",
      "Epoch 621/2000\n",
      "19/27 [====================>.........] - ETA: 0s - loss: 5.0173 - mae: 5.0173WARNING:tensorflow:Early stopping conditioned on metric `val_mae` which is not available. Available metrics are: loss,mae\n"
     ]
    },
    {
     "name": "stderr",
     "output_type": "stream",
     "text": [
      "WARNING:tensorflow:Early stopping conditioned on metric `val_mae` which is not available. Available metrics are: loss,mae\n"
     ]
    },
    {
     "name": "stdout",
     "output_type": "stream",
     "text": [
      "27/27 [==============================] - 0s 3ms/step - loss: 5.3133 - mae: 5.3133\n",
      "Epoch 622/2000\n",
      "18/27 [===================>..........] - ETA: 0s - loss: 6.1524 - mae: 6.1524WARNING:tensorflow:Early stopping conditioned on metric `val_mae` which is not available. Available metrics are: loss,mae\n"
     ]
    },
    {
     "name": "stderr",
     "output_type": "stream",
     "text": [
      "WARNING:tensorflow:Early stopping conditioned on metric `val_mae` which is not available. Available metrics are: loss,mae\n"
     ]
    },
    {
     "name": "stdout",
     "output_type": "stream",
     "text": [
      "27/27 [==============================] - 0s 3ms/step - loss: 6.0144 - mae: 6.0144\n",
      "Epoch 623/2000\n",
      "19/27 [====================>.........] - ETA: 0s - loss: 4.9504 - mae: 4.9504WARNING:tensorflow:Early stopping conditioned on metric `val_mae` which is not available. Available metrics are: loss,mae\n"
     ]
    },
    {
     "name": "stderr",
     "output_type": "stream",
     "text": [
      "WARNING:tensorflow:Early stopping conditioned on metric `val_mae` which is not available. Available metrics are: loss,mae\n"
     ]
    },
    {
     "name": "stdout",
     "output_type": "stream",
     "text": [
      "27/27 [==============================] - 0s 3ms/step - loss: 5.3175 - mae: 5.3175\n",
      "Epoch 624/2000\n",
      "19/27 [====================>.........] - ETA: 0s - loss: 5.8198 - mae: 5.8198WARNING:tensorflow:Early stopping conditioned on metric `val_mae` which is not available. Available metrics are: loss,mae\n"
     ]
    },
    {
     "name": "stderr",
     "output_type": "stream",
     "text": [
      "WARNING:tensorflow:Early stopping conditioned on metric `val_mae` which is not available. Available metrics are: loss,mae\n"
     ]
    },
    {
     "name": "stdout",
     "output_type": "stream",
     "text": [
      "27/27 [==============================] - 0s 3ms/step - loss: 5.6992 - mae: 5.6992\n",
      "Epoch 625/2000\n",
      "19/27 [====================>.........] - ETA: 0s - loss: 6.6087 - mae: 6.6087WARNING:tensorflow:Early stopping conditioned on metric `val_mae` which is not available. Available metrics are: loss,mae\n"
     ]
    },
    {
     "name": "stderr",
     "output_type": "stream",
     "text": [
      "WARNING:tensorflow:Early stopping conditioned on metric `val_mae` which is not available. Available metrics are: loss,mae\n"
     ]
    },
    {
     "name": "stdout",
     "output_type": "stream",
     "text": [
      "27/27 [==============================] - 0s 3ms/step - loss: 7.0054 - mae: 7.0054\n",
      "Epoch 626/2000\n",
      "19/27 [====================>.........] - ETA: 0s - loss: 6.5727 - mae: 6.5727WARNING:tensorflow:Early stopping conditioned on metric `val_mae` which is not available. Available metrics are: loss,mae\n"
     ]
    },
    {
     "name": "stderr",
     "output_type": "stream",
     "text": [
      "WARNING:tensorflow:Early stopping conditioned on metric `val_mae` which is not available. Available metrics are: loss,mae\n"
     ]
    },
    {
     "name": "stdout",
     "output_type": "stream",
     "text": [
      "27/27 [==============================] - 0s 3ms/step - loss: 6.6880 - mae: 6.6880\n",
      "Epoch 627/2000\n",
      "19/27 [====================>.........] - ETA: 0s - loss: 6.3247 - mae: 6.3247WARNING:tensorflow:Early stopping conditioned on metric `val_mae` which is not available. Available metrics are: loss,mae\n"
     ]
    },
    {
     "name": "stderr",
     "output_type": "stream",
     "text": [
      "WARNING:tensorflow:Early stopping conditioned on metric `val_mae` which is not available. Available metrics are: loss,mae\n"
     ]
    },
    {
     "name": "stdout",
     "output_type": "stream",
     "text": [
      "27/27 [==============================] - 0s 3ms/step - loss: 6.4127 - mae: 6.4127\n",
      "Epoch 628/2000\n",
      "19/27 [====================>.........] - ETA: 0s - loss: 7.3237 - mae: 7.3237WARNING:tensorflow:Early stopping conditioned on metric `val_mae` which is not available. Available metrics are: loss,mae\n"
     ]
    },
    {
     "name": "stderr",
     "output_type": "stream",
     "text": [
      "WARNING:tensorflow:Early stopping conditioned on metric `val_mae` which is not available. Available metrics are: loss,mae\n"
     ]
    },
    {
     "name": "stdout",
     "output_type": "stream",
     "text": [
      "27/27 [==============================] - 0s 3ms/step - loss: 7.6943 - mae: 7.6943\n",
      "Epoch 629/2000\n",
      "19/27 [====================>.........] - ETA: 0s - loss: 6.1679 - mae: 6.1679WARNING:tensorflow:Early stopping conditioned on metric `val_mae` which is not available. Available metrics are: loss,mae\n"
     ]
    },
    {
     "name": "stderr",
     "output_type": "stream",
     "text": [
      "WARNING:tensorflow:Early stopping conditioned on metric `val_mae` which is not available. Available metrics are: loss,mae\n"
     ]
    },
    {
     "name": "stdout",
     "output_type": "stream",
     "text": [
      "27/27 [==============================] - 0s 3ms/step - loss: 5.9502 - mae: 5.9502\n",
      "Epoch 630/2000\n",
      "19/27 [====================>.........] - ETA: 0s - loss: 6.2962 - mae: 6.2962WARNING:tensorflow:Early stopping conditioned on metric `val_mae` which is not available. Available metrics are: loss,mae\n"
     ]
    },
    {
     "name": "stderr",
     "output_type": "stream",
     "text": [
      "WARNING:tensorflow:Early stopping conditioned on metric `val_mae` which is not available. Available metrics are: loss,mae\n"
     ]
    },
    {
     "name": "stdout",
     "output_type": "stream",
     "text": [
      "27/27 [==============================] - 0s 3ms/step - loss: 6.0199 - mae: 6.0199\n",
      "Epoch 631/2000\n",
      "18/27 [===================>..........] - ETA: 0s - loss: 5.4406 - mae: 5.4406WARNING:tensorflow:Early stopping conditioned on metric `val_mae` which is not available. Available metrics are: loss,mae\n"
     ]
    },
    {
     "name": "stderr",
     "output_type": "stream",
     "text": [
      "WARNING:tensorflow:Early stopping conditioned on metric `val_mae` which is not available. Available metrics are: loss,mae\n"
     ]
    },
    {
     "name": "stdout",
     "output_type": "stream",
     "text": [
      "27/27 [==============================] - 0s 3ms/step - loss: 6.3963 - mae: 6.3963\n",
      "Epoch 632/2000\n",
      "19/27 [====================>.........] - ETA: 0s - loss: 6.1389 - mae: 6.1389WARNING:tensorflow:Early stopping conditioned on metric `val_mae` which is not available. Available metrics are: loss,mae\n"
     ]
    },
    {
     "name": "stderr",
     "output_type": "stream",
     "text": [
      "WARNING:tensorflow:Early stopping conditioned on metric `val_mae` which is not available. Available metrics are: loss,mae\n"
     ]
    },
    {
     "name": "stdout",
     "output_type": "stream",
     "text": [
      "27/27 [==============================] - 0s 3ms/step - loss: 6.4736 - mae: 6.4736\n",
      "Epoch 633/2000\n",
      "18/27 [===================>..........] - ETA: 0s - loss: 8.0724 - mae: 8.0724WARNING:tensorflow:Early stopping conditioned on metric `val_mae` which is not available. Available metrics are: loss,mae\n"
     ]
    },
    {
     "name": "stderr",
     "output_type": "stream",
     "text": [
      "WARNING:tensorflow:Early stopping conditioned on metric `val_mae` which is not available. Available metrics are: loss,mae\n"
     ]
    },
    {
     "name": "stdout",
     "output_type": "stream",
     "text": [
      "27/27 [==============================] - 0s 3ms/step - loss: 7.6894 - mae: 7.6894\n",
      "Epoch 634/2000\n",
      "18/27 [===================>..........] - ETA: 0s - loss: 8.8313 - mae: 8.8313WARNING:tensorflow:Early stopping conditioned on metric `val_mae` which is not available. Available metrics are: loss,mae\n"
     ]
    },
    {
     "name": "stderr",
     "output_type": "stream",
     "text": [
      "WARNING:tensorflow:Early stopping conditioned on metric `val_mae` which is not available. Available metrics are: loss,mae\n"
     ]
    },
    {
     "name": "stdout",
     "output_type": "stream",
     "text": [
      "27/27 [==============================] - 0s 3ms/step - loss: 7.5909 - mae: 7.5909\n",
      "Epoch 635/2000\n",
      "15/27 [===============>..............] - ETA: 0s - loss: 5.2724 - mae: 5.2724WARNING:tensorflow:Early stopping conditioned on metric `val_mae` which is not available. Available metrics are: loss,mae\n"
     ]
    },
    {
     "name": "stderr",
     "output_type": "stream",
     "text": [
      "WARNING:tensorflow:Early stopping conditioned on metric `val_mae` which is not available. Available metrics are: loss,mae\n"
     ]
    },
    {
     "name": "stdout",
     "output_type": "stream",
     "text": [
      "27/27 [==============================] - 0s 4ms/step - loss: 5.7756 - mae: 5.7756\n",
      "Epoch 636/2000\n",
      "18/27 [===================>..........] - ETA: 0s - loss: 5.2619 - mae: 5.2619WARNING:tensorflow:Early stopping conditioned on metric `val_mae` which is not available. Available metrics are: loss,mae\n"
     ]
    },
    {
     "name": "stderr",
     "output_type": "stream",
     "text": [
      "WARNING:tensorflow:Early stopping conditioned on metric `val_mae` which is not available. Available metrics are: loss,mae\n"
     ]
    },
    {
     "name": "stdout",
     "output_type": "stream",
     "text": [
      "27/27 [==============================] - 0s 3ms/step - loss: 5.5045 - mae: 5.5045\n",
      "Epoch 637/2000\n",
      "19/27 [====================>.........] - ETA: 0s - loss: 6.5729 - mae: 6.5729WARNING:tensorflow:Early stopping conditioned on metric `val_mae` which is not available. Available metrics are: loss,mae\n"
     ]
    },
    {
     "name": "stderr",
     "output_type": "stream",
     "text": [
      "WARNING:tensorflow:Early stopping conditioned on metric `val_mae` which is not available. Available metrics are: loss,mae\n"
     ]
    },
    {
     "name": "stdout",
     "output_type": "stream",
     "text": [
      "27/27 [==============================] - 0s 3ms/step - loss: 7.1304 - mae: 7.1304\n",
      "Epoch 638/2000\n",
      "19/27 [====================>.........] - ETA: 0s - loss: 7.4728 - mae: 7.4728WARNING:tensorflow:Early stopping conditioned on metric `val_mae` which is not available. Available metrics are: loss,mae\n"
     ]
    },
    {
     "name": "stderr",
     "output_type": "stream",
     "text": [
      "WARNING:tensorflow:Early stopping conditioned on metric `val_mae` which is not available. Available metrics are: loss,mae\n"
     ]
    },
    {
     "name": "stdout",
     "output_type": "stream",
     "text": [
      "27/27 [==============================] - 0s 3ms/step - loss: 6.9250 - mae: 6.9250\n",
      "Epoch 639/2000\n",
      "18/27 [===================>..........] - ETA: 0s - loss: 7.8530 - mae: 7.8530WARNING:tensorflow:Early stopping conditioned on metric `val_mae` which is not available. Available metrics are: loss,mae\n"
     ]
    },
    {
     "name": "stderr",
     "output_type": "stream",
     "text": [
      "WARNING:tensorflow:Early stopping conditioned on metric `val_mae` which is not available. Available metrics are: loss,mae\n"
     ]
    },
    {
     "name": "stdout",
     "output_type": "stream",
     "text": [
      "27/27 [==============================] - 0s 3ms/step - loss: 7.0533 - mae: 7.0533\n",
      "Epoch 640/2000\n",
      "19/27 [====================>.........] - ETA: 0s - loss: 6.2283 - mae: 6.2283WARNING:tensorflow:Early stopping conditioned on metric `val_mae` which is not available. Available metrics are: loss,mae\n"
     ]
    },
    {
     "name": "stderr",
     "output_type": "stream",
     "text": [
      "WARNING:tensorflow:Early stopping conditioned on metric `val_mae` which is not available. Available metrics are: loss,mae\n"
     ]
    },
    {
     "name": "stdout",
     "output_type": "stream",
     "text": [
      "27/27 [==============================] - 0s 3ms/step - loss: 5.9185 - mae: 5.9185\n",
      "Epoch 641/2000\n",
      "19/27 [====================>.........] - ETA: 0s - loss: 5.9559 - mae: 5.9559WARNING:tensorflow:Early stopping conditioned on metric `val_mae` which is not available. Available metrics are: loss,mae\n"
     ]
    },
    {
     "name": "stderr",
     "output_type": "stream",
     "text": [
      "WARNING:tensorflow:Early stopping conditioned on metric `val_mae` which is not available. Available metrics are: loss,mae\n"
     ]
    },
    {
     "name": "stdout",
     "output_type": "stream",
     "text": [
      "27/27 [==============================] - 0s 3ms/step - loss: 5.9395 - mae: 5.9395\n",
      "Epoch 642/2000\n",
      "18/27 [===================>..........] - ETA: 0s - loss: 6.6381 - mae: 6.6381WARNING:tensorflow:Early stopping conditioned on metric `val_mae` which is not available. Available metrics are: loss,mae\n"
     ]
    },
    {
     "name": "stderr",
     "output_type": "stream",
     "text": [
      "WARNING:tensorflow:Early stopping conditioned on metric `val_mae` which is not available. Available metrics are: loss,mae\n"
     ]
    },
    {
     "name": "stdout",
     "output_type": "stream",
     "text": [
      "27/27 [==============================] - 0s 3ms/step - loss: 6.8148 - mae: 6.8148\n",
      "Epoch 643/2000\n",
      "18/27 [===================>..........] - ETA: 0s - loss: 5.6119 - mae: 5.6119WARNING:tensorflow:Early stopping conditioned on metric `val_mae` which is not available. Available metrics are: loss,mae\n"
     ]
    },
    {
     "name": "stderr",
     "output_type": "stream",
     "text": [
      "WARNING:tensorflow:Early stopping conditioned on metric `val_mae` which is not available. Available metrics are: loss,mae\n"
     ]
    },
    {
     "name": "stdout",
     "output_type": "stream",
     "text": [
      "27/27 [==============================] - 0s 3ms/step - loss: 5.2698 - mae: 5.2698\n",
      "Epoch 644/2000\n",
      "19/27 [====================>.........] - ETA: 0s - loss: 5.8000 - mae: 5.8000WARNING:tensorflow:Early stopping conditioned on metric `val_mae` which is not available. Available metrics are: loss,mae\n"
     ]
    },
    {
     "name": "stderr",
     "output_type": "stream",
     "text": [
      "WARNING:tensorflow:Early stopping conditioned on metric `val_mae` which is not available. Available metrics are: loss,mae\n"
     ]
    },
    {
     "name": "stdout",
     "output_type": "stream",
     "text": [
      "27/27 [==============================] - 0s 3ms/step - loss: 5.4375 - mae: 5.4375\n",
      "Epoch 645/2000\n",
      "19/27 [====================>.........] - ETA: 0s - loss: 7.5188 - mae: 7.5188WARNING:tensorflow:Early stopping conditioned on metric `val_mae` which is not available. Available metrics are: loss,mae\n"
     ]
    },
    {
     "name": "stderr",
     "output_type": "stream",
     "text": [
      "WARNING:tensorflow:Early stopping conditioned on metric `val_mae` which is not available. Available metrics are: loss,mae\n"
     ]
    },
    {
     "name": "stdout",
     "output_type": "stream",
     "text": [
      "27/27 [==============================] - 0s 3ms/step - loss: 8.4673 - mae: 8.4673\n",
      "Epoch 646/2000\n",
      "18/27 [===================>..........] - ETA: 0s - loss: 7.0553 - mae: 7.0553WARNING:tensorflow:Early stopping conditioned on metric `val_mae` which is not available. Available metrics are: loss,mae\n"
     ]
    },
    {
     "name": "stderr",
     "output_type": "stream",
     "text": [
      "WARNING:tensorflow:Early stopping conditioned on metric `val_mae` which is not available. Available metrics are: loss,mae\n"
     ]
    },
    {
     "name": "stdout",
     "output_type": "stream",
     "text": [
      "27/27 [==============================] - 0s 3ms/step - loss: 6.7182 - mae: 6.7182\n",
      "Epoch 647/2000\n",
      "18/27 [===================>..........] - ETA: 0s - loss: 7.0834 - mae: 7.0834WARNING:tensorflow:Early stopping conditioned on metric `val_mae` which is not available. Available metrics are: loss,mae\n"
     ]
    },
    {
     "name": "stderr",
     "output_type": "stream",
     "text": [
      "WARNING:tensorflow:Early stopping conditioned on metric `val_mae` which is not available. Available metrics are: loss,mae\n"
     ]
    },
    {
     "name": "stdout",
     "output_type": "stream",
     "text": [
      "27/27 [==============================] - 0s 3ms/step - loss: 6.9027 - mae: 6.9027\n",
      "Epoch 648/2000\n",
      "18/27 [===================>..........] - ETA: 0s - loss: 6.7375 - mae: 6.7375WARNING:tensorflow:Early stopping conditioned on metric `val_mae` which is not available. Available metrics are: loss,mae\n"
     ]
    },
    {
     "name": "stderr",
     "output_type": "stream",
     "text": [
      "WARNING:tensorflow:Early stopping conditioned on metric `val_mae` which is not available. Available metrics are: loss,mae\n"
     ]
    },
    {
     "name": "stdout",
     "output_type": "stream",
     "text": [
      "27/27 [==============================] - 0s 3ms/step - loss: 6.4023 - mae: 6.4023\n",
      "Epoch 649/2000\n",
      "18/27 [===================>..........] - ETA: 0s - loss: 7.2464 - mae: 7.2464WARNING:tensorflow:Early stopping conditioned on metric `val_mae` which is not available. Available metrics are: loss,mae\n"
     ]
    },
    {
     "name": "stderr",
     "output_type": "stream",
     "text": [
      "WARNING:tensorflow:Early stopping conditioned on metric `val_mae` which is not available. Available metrics are: loss,mae\n"
     ]
    },
    {
     "name": "stdout",
     "output_type": "stream",
     "text": [
      "27/27 [==============================] - 0s 3ms/step - loss: 9.2236 - mae: 9.2236\n",
      "Epoch 650/2000\n",
      "19/27 [====================>.........] - ETA: 0s - loss: 10.5463 - mae: 10.5463WARNING:tensorflow:Early stopping conditioned on metric `val_mae` which is not available. Available metrics are: loss,mae\n"
     ]
    },
    {
     "name": "stderr",
     "output_type": "stream",
     "text": [
      "WARNING:tensorflow:Early stopping conditioned on metric `val_mae` which is not available. Available metrics are: loss,mae\n"
     ]
    },
    {
     "name": "stdout",
     "output_type": "stream",
     "text": [
      "27/27 [==============================] - 0s 3ms/step - loss: 8.9323 - mae: 8.9323\n",
      "Epoch 651/2000\n",
      "18/27 [===================>..........] - ETA: 0s - loss: 7.2063 - mae: 7.2063WARNING:tensorflow:Early stopping conditioned on metric `val_mae` which is not available. Available metrics are: loss,mae\n"
     ]
    },
    {
     "name": "stderr",
     "output_type": "stream",
     "text": [
      "WARNING:tensorflow:Early stopping conditioned on metric `val_mae` which is not available. Available metrics are: loss,mae\n"
     ]
    },
    {
     "name": "stdout",
     "output_type": "stream",
     "text": [
      "27/27 [==============================] - 0s 3ms/step - loss: 9.2447 - mae: 9.2447\n",
      "Epoch 652/2000\n",
      "18/27 [===================>..........] - ETA: 0s - loss: 7.2456 - mae: 7.2456  WARNING:tensorflow:Early stopping conditioned on metric `val_mae` which is not available. Available metrics are: loss,mae\n"
     ]
    },
    {
     "name": "stderr",
     "output_type": "stream",
     "text": [
      "WARNING:tensorflow:Early stopping conditioned on metric `val_mae` which is not available. Available metrics are: loss,mae\n"
     ]
    },
    {
     "name": "stdout",
     "output_type": "stream",
     "text": [
      "27/27 [==============================] - 0s 3ms/step - loss: 7.1070 - mae: 7.1070\n",
      "Epoch 653/2000\n",
      "19/27 [====================>.........] - ETA: 0s - loss: 7.3019 - mae: 7.3019WARNING:tensorflow:Early stopping conditioned on metric `val_mae` which is not available. Available metrics are: loss,mae\n"
     ]
    },
    {
     "name": "stderr",
     "output_type": "stream",
     "text": [
      "WARNING:tensorflow:Early stopping conditioned on metric `val_mae` which is not available. Available metrics are: loss,mae\n"
     ]
    },
    {
     "name": "stdout",
     "output_type": "stream",
     "text": [
      "27/27 [==============================] - 0s 3ms/step - loss: 6.6651 - mae: 6.6651\n",
      "Epoch 654/2000\n",
      "19/27 [====================>.........] - ETA: 0s - loss: 5.0630 - mae: 5.0630WARNING:tensorflow:Early stopping conditioned on metric `val_mae` which is not available. Available metrics are: loss,mae\n"
     ]
    },
    {
     "name": "stderr",
     "output_type": "stream",
     "text": [
      "WARNING:tensorflow:Early stopping conditioned on metric `val_mae` which is not available. Available metrics are: loss,mae\n"
     ]
    },
    {
     "name": "stdout",
     "output_type": "stream",
     "text": [
      "27/27 [==============================] - 0s 3ms/step - loss: 5.7956 - mae: 5.7956\n",
      "Epoch 655/2000\n",
      "19/27 [====================>.........] - ETA: 0s - loss: 5.3303 - mae: 5.3303WARNING:tensorflow:Early stopping conditioned on metric `val_mae` which is not available. Available metrics are: loss,mae\n"
     ]
    },
    {
     "name": "stderr",
     "output_type": "stream",
     "text": [
      "WARNING:tensorflow:Early stopping conditioned on metric `val_mae` which is not available. Available metrics are: loss,mae\n"
     ]
    },
    {
     "name": "stdout",
     "output_type": "stream",
     "text": [
      "27/27 [==============================] - 0s 3ms/step - loss: 5.6741 - mae: 5.6741\n",
      "Epoch 656/2000\n",
      "20/27 [=====================>........] - ETA: 0s - loss: 8.6050 - mae: 8.6050WARNING:tensorflow:Early stopping conditioned on metric `val_mae` which is not available. Available metrics are: loss,mae\n"
     ]
    },
    {
     "name": "stderr",
     "output_type": "stream",
     "text": [
      "WARNING:tensorflow:Early stopping conditioned on metric `val_mae` which is not available. Available metrics are: loss,mae\n"
     ]
    },
    {
     "name": "stdout",
     "output_type": "stream",
     "text": [
      "27/27 [==============================] - 0s 3ms/step - loss: 7.8973 - mae: 7.8973\n",
      "Epoch 657/2000\n",
      "19/27 [====================>.........] - ETA: 0s - loss: 4.7280 - mae: 4.7280WARNING:tensorflow:Early stopping conditioned on metric `val_mae` which is not available. Available metrics are: loss,mae\n"
     ]
    },
    {
     "name": "stderr",
     "output_type": "stream",
     "text": [
      "WARNING:tensorflow:Early stopping conditioned on metric `val_mae` which is not available. Available metrics are: loss,mae\n"
     ]
    },
    {
     "name": "stdout",
     "output_type": "stream",
     "text": [
      "27/27 [==============================] - 0s 3ms/step - loss: 4.8733 - mae: 4.8733\n",
      "Epoch 658/2000\n",
      "19/27 [====================>.........] - ETA: 0s - loss: 5.5150 - mae: 5.5150WARNING:tensorflow:Early stopping conditioned on metric `val_mae` which is not available. Available metrics are: loss,mae\n"
     ]
    },
    {
     "name": "stderr",
     "output_type": "stream",
     "text": [
      "WARNING:tensorflow:Early stopping conditioned on metric `val_mae` which is not available. Available metrics are: loss,mae\n"
     ]
    },
    {
     "name": "stdout",
     "output_type": "stream",
     "text": [
      "27/27 [==============================] - 0s 3ms/step - loss: 5.7405 - mae: 5.7405\n",
      "Epoch 659/2000\n",
      "19/27 [====================>.........] - ETA: 0s - loss: 5.7964 - mae: 5.7964WARNING:tensorflow:Early stopping conditioned on metric `val_mae` which is not available. Available metrics are: loss,mae\n"
     ]
    },
    {
     "name": "stderr",
     "output_type": "stream",
     "text": [
      "WARNING:tensorflow:Early stopping conditioned on metric `val_mae` which is not available. Available metrics are: loss,mae\n"
     ]
    },
    {
     "name": "stdout",
     "output_type": "stream",
     "text": [
      "27/27 [==============================] - 0s 3ms/step - loss: 6.4513 - mae: 6.4513\n",
      "Epoch 660/2000\n",
      "19/27 [====================>.........] - ETA: 0s - loss: 8.6915 - mae: 8.6915WARNING:tensorflow:Early stopping conditioned on metric `val_mae` which is not available. Available metrics are: loss,mae\n"
     ]
    },
    {
     "name": "stderr",
     "output_type": "stream",
     "text": [
      "WARNING:tensorflow:Early stopping conditioned on metric `val_mae` which is not available. Available metrics are: loss,mae\n"
     ]
    },
    {
     "name": "stdout",
     "output_type": "stream",
     "text": [
      "27/27 [==============================] - 0s 3ms/step - loss: 8.0855 - mae: 8.0855\n",
      "Epoch 661/2000\n",
      "19/27 [====================>.........] - ETA: 0s - loss: 5.4127 - mae: 5.4127WARNING:tensorflow:Early stopping conditioned on metric `val_mae` which is not available. Available metrics are: loss,mae\n"
     ]
    },
    {
     "name": "stderr",
     "output_type": "stream",
     "text": [
      "WARNING:tensorflow:Early stopping conditioned on metric `val_mae` which is not available. Available metrics are: loss,mae\n"
     ]
    },
    {
     "name": "stdout",
     "output_type": "stream",
     "text": [
      "27/27 [==============================] - 0s 3ms/step - loss: 5.1648 - mae: 5.1648\n",
      "Epoch 662/2000\n",
      "20/27 [=====================>........] - ETA: 0s - loss: 7.7560 - mae: 7.7560WARNING:tensorflow:Early stopping conditioned on metric `val_mae` which is not available. Available metrics are: loss,mae\n"
     ]
    },
    {
     "name": "stderr",
     "output_type": "stream",
     "text": [
      "WARNING:tensorflow:Early stopping conditioned on metric `val_mae` which is not available. Available metrics are: loss,mae\n"
     ]
    },
    {
     "name": "stdout",
     "output_type": "stream",
     "text": [
      "27/27 [==============================] - 0s 3ms/step - loss: 7.9327 - mae: 7.9327\n",
      "Epoch 663/2000\n",
      "19/27 [====================>.........] - ETA: 0s - loss: 5.3101 - mae: 5.3101WARNING:tensorflow:Early stopping conditioned on metric `val_mae` which is not available. Available metrics are: loss,mae\n"
     ]
    },
    {
     "name": "stderr",
     "output_type": "stream",
     "text": [
      "WARNING:tensorflow:Early stopping conditioned on metric `val_mae` which is not available. Available metrics are: loss,mae\n"
     ]
    },
    {
     "name": "stdout",
     "output_type": "stream",
     "text": [
      "27/27 [==============================] - 0s 3ms/step - loss: 5.9264 - mae: 5.9264\n",
      "Epoch 664/2000\n",
      "19/27 [====================>.........] - ETA: 0s - loss: 7.8665 - mae: 7.8665WARNING:tensorflow:Early stopping conditioned on metric `val_mae` which is not available. Available metrics are: loss,mae\n"
     ]
    },
    {
     "name": "stderr",
     "output_type": "stream",
     "text": [
      "WARNING:tensorflow:Early stopping conditioned on metric `val_mae` which is not available. Available metrics are: loss,mae\n"
     ]
    },
    {
     "name": "stdout",
     "output_type": "stream",
     "text": [
      "27/27 [==============================] - 0s 3ms/step - loss: 7.2499 - mae: 7.2499\n",
      "Epoch 665/2000\n",
      "19/27 [====================>.........] - ETA: 0s - loss: 7.2111 - mae: 7.2111WARNING:tensorflow:Early stopping conditioned on metric `val_mae` which is not available. Available metrics are: loss,mae\n"
     ]
    },
    {
     "name": "stderr",
     "output_type": "stream",
     "text": [
      "WARNING:tensorflow:Early stopping conditioned on metric `val_mae` which is not available. Available metrics are: loss,mae\n"
     ]
    },
    {
     "name": "stdout",
     "output_type": "stream",
     "text": [
      "27/27 [==============================] - 0s 3ms/step - loss: 7.2003 - mae: 7.2003\n",
      "Epoch 666/2000\n",
      "19/27 [====================>.........] - ETA: 0s - loss: 5.5461 - mae: 5.5461WARNING:tensorflow:Early stopping conditioned on metric `val_mae` which is not available. Available metrics are: loss,mae\n"
     ]
    },
    {
     "name": "stderr",
     "output_type": "stream",
     "text": [
      "WARNING:tensorflow:Early stopping conditioned on metric `val_mae` which is not available. Available metrics are: loss,mae\n"
     ]
    },
    {
     "name": "stdout",
     "output_type": "stream",
     "text": [
      "27/27 [==============================] - 0s 3ms/step - loss: 5.6830 - mae: 5.6830\n",
      "Epoch 667/2000\n",
      "19/27 [====================>.........] - ETA: 0s - loss: 5.3778 - mae: 5.3778WARNING:tensorflow:Early stopping conditioned on metric `val_mae` which is not available. Available metrics are: loss,mae\n"
     ]
    },
    {
     "name": "stderr",
     "output_type": "stream",
     "text": [
      "WARNING:tensorflow:Early stopping conditioned on metric `val_mae` which is not available. Available metrics are: loss,mae\n"
     ]
    },
    {
     "name": "stdout",
     "output_type": "stream",
     "text": [
      "27/27 [==============================] - 0s 3ms/step - loss: 5.3886 - mae: 5.3886\n",
      "Epoch 668/2000\n",
      "19/27 [====================>.........] - ETA: 0s - loss: 5.4759 - mae: 5.4759WARNING:tensorflow:Early stopping conditioned on metric `val_mae` which is not available. Available metrics are: loss,mae\n"
     ]
    },
    {
     "name": "stderr",
     "output_type": "stream",
     "text": [
      "WARNING:tensorflow:Early stopping conditioned on metric `val_mae` which is not available. Available metrics are: loss,mae\n"
     ]
    },
    {
     "name": "stdout",
     "output_type": "stream",
     "text": [
      "27/27 [==============================] - 0s 3ms/step - loss: 5.3797 - mae: 5.3797\n",
      "Epoch 669/2000\n",
      "19/27 [====================>.........] - ETA: 0s - loss: 5.4442 - mae: 5.4442WARNING:tensorflow:Early stopping conditioned on metric `val_mae` which is not available. Available metrics are: loss,mae\n"
     ]
    },
    {
     "name": "stderr",
     "output_type": "stream",
     "text": [
      "WARNING:tensorflow:Early stopping conditioned on metric `val_mae` which is not available. Available metrics are: loss,mae\n"
     ]
    },
    {
     "name": "stdout",
     "output_type": "stream",
     "text": [
      "27/27 [==============================] - 0s 3ms/step - loss: 5.1174 - mae: 5.1174\n",
      "Epoch 670/2000\n",
      "19/27 [====================>.........] - ETA: 0s - loss: 7.7730 - mae: 7.7730WARNING:tensorflow:Early stopping conditioned on metric `val_mae` which is not available. Available metrics are: loss,mae\n"
     ]
    },
    {
     "name": "stderr",
     "output_type": "stream",
     "text": [
      "WARNING:tensorflow:Early stopping conditioned on metric `val_mae` which is not available. Available metrics are: loss,mae\n"
     ]
    },
    {
     "name": "stdout",
     "output_type": "stream",
     "text": [
      "27/27 [==============================] - 0s 3ms/step - loss: 7.6985 - mae: 7.6985\n",
      "Epoch 671/2000\n",
      "19/27 [====================>.........] - ETA: 0s - loss: 6.9828 - mae: 6.9828WARNING:tensorflow:Early stopping conditioned on metric `val_mae` which is not available. Available metrics are: loss,mae\n"
     ]
    },
    {
     "name": "stderr",
     "output_type": "stream",
     "text": [
      "WARNING:tensorflow:Early stopping conditioned on metric `val_mae` which is not available. Available metrics are: loss,mae\n"
     ]
    },
    {
     "name": "stdout",
     "output_type": "stream",
     "text": [
      "27/27 [==============================] - 0s 3ms/step - loss: 6.9830 - mae: 6.9830\n",
      "Epoch 672/2000\n",
      "20/27 [=====================>........] - ETA: 0s - loss: 8.1100 - mae: 8.1100WARNING:tensorflow:Early stopping conditioned on metric `val_mae` which is not available. Available metrics are: loss,mae\n"
     ]
    },
    {
     "name": "stderr",
     "output_type": "stream",
     "text": [
      "WARNING:tensorflow:Early stopping conditioned on metric `val_mae` which is not available. Available metrics are: loss,mae\n"
     ]
    },
    {
     "name": "stdout",
     "output_type": "stream",
     "text": [
      "27/27 [==============================] - 0s 3ms/step - loss: 7.6662 - mae: 7.6662\n",
      "Epoch 673/2000\n",
      "19/27 [====================>.........] - ETA: 0s - loss: 5.4039 - mae: 5.4039WARNING:tensorflow:Early stopping conditioned on metric `val_mae` which is not available. Available metrics are: loss,mae\n"
     ]
    },
    {
     "name": "stderr",
     "output_type": "stream",
     "text": [
      "WARNING:tensorflow:Early stopping conditioned on metric `val_mae` which is not available. Available metrics are: loss,mae\n"
     ]
    },
    {
     "name": "stdout",
     "output_type": "stream",
     "text": [
      "27/27 [==============================] - 0s 3ms/step - loss: 6.4185 - mae: 6.4185\n",
      "Epoch 674/2000\n",
      "20/27 [=====================>........] - ETA: 0s - loss: 5.7362 - mae: 5.7362WARNING:tensorflow:Early stopping conditioned on metric `val_mae` which is not available. Available metrics are: loss,mae\n"
     ]
    },
    {
     "name": "stderr",
     "output_type": "stream",
     "text": [
      "WARNING:tensorflow:Early stopping conditioned on metric `val_mae` which is not available. Available metrics are: loss,mae\n"
     ]
    },
    {
     "name": "stdout",
     "output_type": "stream",
     "text": [
      "27/27 [==============================] - 0s 3ms/step - loss: 5.7378 - mae: 5.7378\n",
      "Epoch 675/2000\n",
      "21/27 [======================>.......] - ETA: 0s - loss: 5.3919 - mae: 5.3919WARNING:tensorflow:Early stopping conditioned on metric `val_mae` which is not available. Available metrics are: loss,mae\n"
     ]
    },
    {
     "name": "stderr",
     "output_type": "stream",
     "text": [
      "WARNING:tensorflow:Early stopping conditioned on metric `val_mae` which is not available. Available metrics are: loss,mae\n"
     ]
    },
    {
     "name": "stdout",
     "output_type": "stream",
     "text": [
      "27/27 [==============================] - 0s 3ms/step - loss: 5.5326 - mae: 5.5326\n",
      "Epoch 676/2000\n",
      "21/27 [======================>.......] - ETA: 0s - loss: 5.6368 - mae: 5.6368WARNING:tensorflow:Early stopping conditioned on metric `val_mae` which is not available. Available metrics are: loss,mae\n"
     ]
    },
    {
     "name": "stderr",
     "output_type": "stream",
     "text": [
      "WARNING:tensorflow:Early stopping conditioned on metric `val_mae` which is not available. Available metrics are: loss,mae\n"
     ]
    },
    {
     "name": "stdout",
     "output_type": "stream",
     "text": [
      "27/27 [==============================] - 0s 3ms/step - loss: 5.5988 - mae: 5.5988\n",
      "Epoch 677/2000\n",
      "20/27 [=====================>........] - ETA: 0s - loss: 8.1668 - mae: 8.1668WARNING:tensorflow:Early stopping conditioned on metric `val_mae` which is not available. Available metrics are: loss,mae\n"
     ]
    },
    {
     "name": "stderr",
     "output_type": "stream",
     "text": [
      "WARNING:tensorflow:Early stopping conditioned on metric `val_mae` which is not available. Available metrics are: loss,mae\n"
     ]
    },
    {
     "name": "stdout",
     "output_type": "stream",
     "text": [
      "27/27 [==============================] - 0s 3ms/step - loss: 7.4548 - mae: 7.4548\n",
      "Epoch 678/2000\n",
      "16/27 [================>.............] - ETA: 0s - loss: 4.8477 - mae: 4.8477WARNING:tensorflow:Early stopping conditioned on metric `val_mae` which is not available. Available metrics are: loss,mae\n"
     ]
    },
    {
     "name": "stderr",
     "output_type": "stream",
     "text": [
      "WARNING:tensorflow:Early stopping conditioned on metric `val_mae` which is not available. Available metrics are: loss,mae\n"
     ]
    },
    {
     "name": "stdout",
     "output_type": "stream",
     "text": [
      "27/27 [==============================] - 0s 3ms/step - loss: 5.1913 - mae: 5.1913\n",
      "Epoch 679/2000\n",
      "19/27 [====================>.........] - ETA: 0s - loss: 5.7479 - mae: 5.7479WARNING:tensorflow:Early stopping conditioned on metric `val_mae` which is not available. Available metrics are: loss,mae\n"
     ]
    },
    {
     "name": "stderr",
     "output_type": "stream",
     "text": [
      "WARNING:tensorflow:Early stopping conditioned on metric `val_mae` which is not available. Available metrics are: loss,mae\n"
     ]
    },
    {
     "name": "stdout",
     "output_type": "stream",
     "text": [
      "27/27 [==============================] - 0s 3ms/step - loss: 6.1968 - mae: 6.1968\n",
      "Epoch 680/2000\n",
      "20/27 [=====================>........] - ETA: 0s - loss: 11.4904 - mae: 11.4904WARNING:tensorflow:Early stopping conditioned on metric `val_mae` which is not available. Available metrics are: loss,mae\n"
     ]
    },
    {
     "name": "stderr",
     "output_type": "stream",
     "text": [
      "WARNING:tensorflow:Early stopping conditioned on metric `val_mae` which is not available. Available metrics are: loss,mae\n"
     ]
    },
    {
     "name": "stdout",
     "output_type": "stream",
     "text": [
      "27/27 [==============================] - 0s 3ms/step - loss: 11.7065 - mae: 11.7065\n",
      "Epoch 681/2000\n",
      "19/27 [====================>.........] - ETA: 0s - loss: 8.4788 - mae: 8.4788  WARNING:tensorflow:Early stopping conditioned on metric `val_mae` which is not available. Available metrics are: loss,mae\n"
     ]
    },
    {
     "name": "stderr",
     "output_type": "stream",
     "text": [
      "WARNING:tensorflow:Early stopping conditioned on metric `val_mae` which is not available. Available metrics are: loss,mae\n"
     ]
    },
    {
     "name": "stdout",
     "output_type": "stream",
     "text": [
      "27/27 [==============================] - 0s 3ms/step - loss: 7.3795 - mae: 7.3795\n",
      "Epoch 682/2000\n",
      "19/27 [====================>.........] - ETA: 0s - loss: 5.0796 - mae: 5.0796WARNING:tensorflow:Early stopping conditioned on metric `val_mae` which is not available. Available metrics are: loss,mae\n"
     ]
    },
    {
     "name": "stderr",
     "output_type": "stream",
     "text": [
      "WARNING:tensorflow:Early stopping conditioned on metric `val_mae` which is not available. Available metrics are: loss,mae\n"
     ]
    },
    {
     "name": "stdout",
     "output_type": "stream",
     "text": [
      "27/27 [==============================] - 0s 3ms/step - loss: 5.1767 - mae: 5.1767\n",
      "Epoch 683/2000\n",
      "18/27 [===================>..........] - ETA: 0s - loss: 4.6696 - mae: 4.6696WARNING:tensorflow:Early stopping conditioned on metric `val_mae` which is not available. Available metrics are: loss,mae\n"
     ]
    },
    {
     "name": "stderr",
     "output_type": "stream",
     "text": [
      "WARNING:tensorflow:Early stopping conditioned on metric `val_mae` which is not available. Available metrics are: loss,mae\n"
     ]
    },
    {
     "name": "stdout",
     "output_type": "stream",
     "text": [
      "27/27 [==============================] - 0s 3ms/step - loss: 5.2485 - mae: 5.2485\n",
      "Epoch 684/2000\n",
      "19/27 [====================>.........] - ETA: 0s - loss: 6.7560 - mae: 6.7560WARNING:tensorflow:Early stopping conditioned on metric `val_mae` which is not available. Available metrics are: loss,mae\n"
     ]
    },
    {
     "name": "stderr",
     "output_type": "stream",
     "text": [
      "WARNING:tensorflow:Early stopping conditioned on metric `val_mae` which is not available. Available metrics are: loss,mae\n"
     ]
    },
    {
     "name": "stdout",
     "output_type": "stream",
     "text": [
      "27/27 [==============================] - 0s 3ms/step - loss: 6.1458 - mae: 6.1458\n",
      "Epoch 685/2000\n",
      "18/27 [===================>..........] - ETA: 0s - loss: 7.1246 - mae: 7.1246WARNING:tensorflow:Early stopping conditioned on metric `val_mae` which is not available. Available metrics are: loss,mae\n"
     ]
    },
    {
     "name": "stderr",
     "output_type": "stream",
     "text": [
      "WARNING:tensorflow:Early stopping conditioned on metric `val_mae` which is not available. Available metrics are: loss,mae\n"
     ]
    },
    {
     "name": "stdout",
     "output_type": "stream",
     "text": [
      "27/27 [==============================] - 0s 3ms/step - loss: 6.7513 - mae: 6.7513\n",
      "Epoch 686/2000\n",
      "19/27 [====================>.........] - ETA: 0s - loss: 7.1790 - mae: 7.1790WARNING:tensorflow:Early stopping conditioned on metric `val_mae` which is not available. Available metrics are: loss,mae\n"
     ]
    },
    {
     "name": "stderr",
     "output_type": "stream",
     "text": [
      "WARNING:tensorflow:Early stopping conditioned on metric `val_mae` which is not available. Available metrics are: loss,mae\n"
     ]
    },
    {
     "name": "stdout",
     "output_type": "stream",
     "text": [
      "27/27 [==============================] - 0s 3ms/step - loss: 6.2814 - mae: 6.2814\n",
      "Epoch 687/2000\n",
      "18/27 [===================>..........] - ETA: 0s - loss: 4.7862 - mae: 4.7862WARNING:tensorflow:Early stopping conditioned on metric `val_mae` which is not available. Available metrics are: loss,mae\n"
     ]
    },
    {
     "name": "stderr",
     "output_type": "stream",
     "text": [
      "WARNING:tensorflow:Early stopping conditioned on metric `val_mae` which is not available. Available metrics are: loss,mae\n"
     ]
    },
    {
     "name": "stdout",
     "output_type": "stream",
     "text": [
      "27/27 [==============================] - 0s 3ms/step - loss: 5.3321 - mae: 5.3321\n",
      "Epoch 688/2000\n",
      "19/27 [====================>.........] - ETA: 0s - loss: 6.4909 - mae: 6.4909WARNING:tensorflow:Early stopping conditioned on metric `val_mae` which is not available. Available metrics are: loss,mae\n"
     ]
    },
    {
     "name": "stderr",
     "output_type": "stream",
     "text": [
      "WARNING:tensorflow:Early stopping conditioned on metric `val_mae` which is not available. Available metrics are: loss,mae\n"
     ]
    },
    {
     "name": "stdout",
     "output_type": "stream",
     "text": [
      "27/27 [==============================] - 0s 3ms/step - loss: 6.9807 - mae: 6.9807\n",
      "Epoch 689/2000\n",
      "19/27 [====================>.........] - ETA: 0s - loss: 6.0366 - mae: 6.0366WARNING:tensorflow:Early stopping conditioned on metric `val_mae` which is not available. Available metrics are: loss,mae\n"
     ]
    },
    {
     "name": "stderr",
     "output_type": "stream",
     "text": [
      "WARNING:tensorflow:Early stopping conditioned on metric `val_mae` which is not available. Available metrics are: loss,mae\n"
     ]
    },
    {
     "name": "stdout",
     "output_type": "stream",
     "text": [
      "27/27 [==============================] - 0s 3ms/step - loss: 5.8419 - mae: 5.8419\n",
      "Epoch 690/2000\n",
      "19/27 [====================>.........] - ETA: 0s - loss: 5.6282 - mae: 5.6282WARNING:tensorflow:Early stopping conditioned on metric `val_mae` which is not available. Available metrics are: loss,mae\n"
     ]
    },
    {
     "name": "stderr",
     "output_type": "stream",
     "text": [
      "WARNING:tensorflow:Early stopping conditioned on metric `val_mae` which is not available. Available metrics are: loss,mae\n"
     ]
    },
    {
     "name": "stdout",
     "output_type": "stream",
     "text": [
      "27/27 [==============================] - 0s 3ms/step - loss: 6.2904 - mae: 6.2904\n",
      "Epoch 691/2000\n",
      "19/27 [====================>.........] - ETA: 0s - loss: 4.8318 - mae: 4.8318WARNING:tensorflow:Early stopping conditioned on metric `val_mae` which is not available. Available metrics are: loss,mae\n"
     ]
    },
    {
     "name": "stderr",
     "output_type": "stream",
     "text": [
      "WARNING:tensorflow:Early stopping conditioned on metric `val_mae` which is not available. Available metrics are: loss,mae\n"
     ]
    },
    {
     "name": "stdout",
     "output_type": "stream",
     "text": [
      "27/27 [==============================] - 0s 3ms/step - loss: 4.8010 - mae: 4.8010\n",
      "Epoch 692/2000\n",
      "19/27 [====================>.........] - ETA: 0s - loss: 6.6306 - mae: 6.6306WARNING:tensorflow:Early stopping conditioned on metric `val_mae` which is not available. Available metrics are: loss,mae\n"
     ]
    },
    {
     "name": "stderr",
     "output_type": "stream",
     "text": [
      "WARNING:tensorflow:Early stopping conditioned on metric `val_mae` which is not available. Available metrics are: loss,mae\n"
     ]
    },
    {
     "name": "stdout",
     "output_type": "stream",
     "text": [
      "27/27 [==============================] - 0s 3ms/step - loss: 6.1058 - mae: 6.1058\n",
      "Epoch 693/2000\n",
      "19/27 [====================>.........] - ETA: 0s - loss: 7.6414 - mae: 7.6414  WARNING:tensorflow:Early stopping conditioned on metric `val_mae` which is not available. Available metrics are: loss,mae\n"
     ]
    },
    {
     "name": "stderr",
     "output_type": "stream",
     "text": [
      "WARNING:tensorflow:Early stopping conditioned on metric `val_mae` which is not available. Available metrics are: loss,mae\n"
     ]
    },
    {
     "name": "stdout",
     "output_type": "stream",
     "text": [
      "27/27 [==============================] - 0s 3ms/step - loss: 6.8066 - mae: 6.8066\n",
      "Epoch 694/2000\n",
      "19/27 [====================>.........] - ETA: 0s - loss: 6.1018 - mae: 6.1018WARNING:tensorflow:Early stopping conditioned on metric `val_mae` which is not available. Available metrics are: loss,mae\n"
     ]
    },
    {
     "name": "stderr",
     "output_type": "stream",
     "text": [
      "WARNING:tensorflow:Early stopping conditioned on metric `val_mae` which is not available. Available metrics are: loss,mae\n"
     ]
    },
    {
     "name": "stdout",
     "output_type": "stream",
     "text": [
      "27/27 [==============================] - 0s 3ms/step - loss: 5.6993 - mae: 5.6993\n",
      "Epoch 695/2000\n",
      "19/27 [====================>.........] - ETA: 0s - loss: 4.8908 - mae: 4.8908WARNING:tensorflow:Early stopping conditioned on metric `val_mae` which is not available. Available metrics are: loss,mae\n"
     ]
    },
    {
     "name": "stderr",
     "output_type": "stream",
     "text": [
      "WARNING:tensorflow:Early stopping conditioned on metric `val_mae` which is not available. Available metrics are: loss,mae\n"
     ]
    },
    {
     "name": "stdout",
     "output_type": "stream",
     "text": [
      "27/27 [==============================] - 0s 3ms/step - loss: 4.5980 - mae: 4.5980\n",
      "Epoch 696/2000\n",
      "19/27 [====================>.........] - ETA: 0s - loss: 7.0679 - mae: 7.0679WARNING:tensorflow:Early stopping conditioned on metric `val_mae` which is not available. Available metrics are: loss,mae\n"
     ]
    },
    {
     "name": "stderr",
     "output_type": "stream",
     "text": [
      "WARNING:tensorflow:Early stopping conditioned on metric `val_mae` which is not available. Available metrics are: loss,mae\n"
     ]
    },
    {
     "name": "stdout",
     "output_type": "stream",
     "text": [
      "27/27 [==============================] - 0s 3ms/step - loss: 7.0142 - mae: 7.0142\n",
      "Epoch 697/2000\n",
      "19/27 [====================>.........] - ETA: 0s - loss: 6.6158 - mae: 6.6158WARNING:tensorflow:Early stopping conditioned on metric `val_mae` which is not available. Available metrics are: loss,mae\n"
     ]
    },
    {
     "name": "stderr",
     "output_type": "stream",
     "text": [
      "WARNING:tensorflow:Early stopping conditioned on metric `val_mae` which is not available. Available metrics are: loss,mae\n"
     ]
    },
    {
     "name": "stdout",
     "output_type": "stream",
     "text": [
      "27/27 [==============================] - 0s 3ms/step - loss: 6.1828 - mae: 6.1828\n",
      "Epoch 698/2000\n",
      "19/27 [====================>.........] - ETA: 0s - loss: 6.0775 - mae: 6.0775WARNING:tensorflow:Early stopping conditioned on metric `val_mae` which is not available. Available metrics are: loss,mae\n"
     ]
    },
    {
     "name": "stderr",
     "output_type": "stream",
     "text": [
      "WARNING:tensorflow:Early stopping conditioned on metric `val_mae` which is not available. Available metrics are: loss,mae\n"
     ]
    },
    {
     "name": "stdout",
     "output_type": "stream",
     "text": [
      "27/27 [==============================] - 0s 3ms/step - loss: 5.9640 - mae: 5.9640\n",
      "Epoch 699/2000\n",
      "19/27 [====================>.........] - ETA: 0s - loss: 5.7984 - mae: 5.7984WARNING:tensorflow:Early stopping conditioned on metric `val_mae` which is not available. Available metrics are: loss,mae\n"
     ]
    },
    {
     "name": "stderr",
     "output_type": "stream",
     "text": [
      "WARNING:tensorflow:Early stopping conditioned on metric `val_mae` which is not available. Available metrics are: loss,mae\n"
     ]
    },
    {
     "name": "stdout",
     "output_type": "stream",
     "text": [
      "27/27 [==============================] - 0s 3ms/step - loss: 5.5002 - mae: 5.5002\n",
      "Epoch 700/2000\n",
      "19/27 [====================>.........] - ETA: 0s - loss: 5.2724 - mae: 5.2724WARNING:tensorflow:Early stopping conditioned on metric `val_mae` which is not available. Available metrics are: loss,mae\n"
     ]
    },
    {
     "name": "stderr",
     "output_type": "stream",
     "text": [
      "WARNING:tensorflow:Early stopping conditioned on metric `val_mae` which is not available. Available metrics are: loss,mae\n"
     ]
    },
    {
     "name": "stdout",
     "output_type": "stream",
     "text": [
      "27/27 [==============================] - 0s 3ms/step - loss: 5.1492 - mae: 5.1492\n",
      "Epoch 701/2000\n",
      "18/27 [===================>..........] - ETA: 0s - loss: 5.5224 - mae: 5.5224WARNING:tensorflow:Early stopping conditioned on metric `val_mae` which is not available. Available metrics are: loss,mae\n"
     ]
    },
    {
     "name": "stderr",
     "output_type": "stream",
     "text": [
      "WARNING:tensorflow:Early stopping conditioned on metric `val_mae` which is not available. Available metrics are: loss,mae\n"
     ]
    },
    {
     "name": "stdout",
     "output_type": "stream",
     "text": [
      "27/27 [==============================] - 0s 3ms/step - loss: 5.1171 - mae: 5.1171\n",
      "Epoch 702/2000\n",
      "19/27 [====================>.........] - ETA: 0s - loss: 4.5191 - mae: 4.5191WARNING:tensorflow:Early stopping conditioned on metric `val_mae` which is not available. Available metrics are: loss,mae\n"
     ]
    },
    {
     "name": "stderr",
     "output_type": "stream",
     "text": [
      "WARNING:tensorflow:Early stopping conditioned on metric `val_mae` which is not available. Available metrics are: loss,mae\n"
     ]
    },
    {
     "name": "stdout",
     "output_type": "stream",
     "text": [
      "27/27 [==============================] - 0s 3ms/step - loss: 4.5775 - mae: 4.5775\n",
      "Epoch 703/2000\n",
      "19/27 [====================>.........] - ETA: 0s - loss: 5.5501 - mae: 5.5501WARNING:tensorflow:Early stopping conditioned on metric `val_mae` which is not available. Available metrics are: loss,mae\n"
     ]
    },
    {
     "name": "stderr",
     "output_type": "stream",
     "text": [
      "WARNING:tensorflow:Early stopping conditioned on metric `val_mae` which is not available. Available metrics are: loss,mae\n"
     ]
    },
    {
     "name": "stdout",
     "output_type": "stream",
     "text": [
      "27/27 [==============================] - 0s 3ms/step - loss: 5.5018 - mae: 5.5018\n",
      "Epoch 704/2000\n",
      "19/27 [====================>.........] - ETA: 0s - loss: 5.0923 - mae: 5.0923WARNING:tensorflow:Early stopping conditioned on metric `val_mae` which is not available. Available metrics are: loss,mae\n"
     ]
    },
    {
     "name": "stderr",
     "output_type": "stream",
     "text": [
      "WARNING:tensorflow:Early stopping conditioned on metric `val_mae` which is not available. Available metrics are: loss,mae\n"
     ]
    },
    {
     "name": "stdout",
     "output_type": "stream",
     "text": [
      "27/27 [==============================] - 0s 3ms/step - loss: 5.2690 - mae: 5.2690\n",
      "Epoch 705/2000\n",
      "19/27 [====================>.........] - ETA: 0s - loss: 6.0796 - mae: 6.0796WARNING:tensorflow:Early stopping conditioned on metric `val_mae` which is not available. Available metrics are: loss,mae\n"
     ]
    },
    {
     "name": "stderr",
     "output_type": "stream",
     "text": [
      "WARNING:tensorflow:Early stopping conditioned on metric `val_mae` which is not available. Available metrics are: loss,mae\n"
     ]
    },
    {
     "name": "stdout",
     "output_type": "stream",
     "text": [
      "27/27 [==============================] - 0s 3ms/step - loss: 6.0113 - mae: 6.0113\n",
      "Epoch 706/2000\n",
      "19/27 [====================>.........] - ETA: 0s - loss: 5.0868 - mae: 5.0868WARNING:tensorflow:Early stopping conditioned on metric `val_mae` which is not available. Available metrics are: loss,mae\n"
     ]
    },
    {
     "name": "stderr",
     "output_type": "stream",
     "text": [
      "WARNING:tensorflow:Early stopping conditioned on metric `val_mae` which is not available. Available metrics are: loss,mae\n"
     ]
    },
    {
     "name": "stdout",
     "output_type": "stream",
     "text": [
      "27/27 [==============================] - 0s 3ms/step - loss: 4.9026 - mae: 4.9026\n",
      "Epoch 707/2000\n",
      "19/27 [====================>.........] - ETA: 0s - loss: 6.5432 - mae: 6.5432WARNING:tensorflow:Early stopping conditioned on metric `val_mae` which is not available. Available metrics are: loss,mae\n"
     ]
    },
    {
     "name": "stderr",
     "output_type": "stream",
     "text": [
      "WARNING:tensorflow:Early stopping conditioned on metric `val_mae` which is not available. Available metrics are: loss,mae\n"
     ]
    },
    {
     "name": "stdout",
     "output_type": "stream",
     "text": [
      "27/27 [==============================] - 0s 3ms/step - loss: 6.8876 - mae: 6.8876\n",
      "Epoch 708/2000\n",
      "19/27 [====================>.........] - ETA: 0s - loss: 7.8058 - mae: 7.8058WARNING:tensorflow:Early stopping conditioned on metric `val_mae` which is not available. Available metrics are: loss,mae\n"
     ]
    },
    {
     "name": "stderr",
     "output_type": "stream",
     "text": [
      "WARNING:tensorflow:Early stopping conditioned on metric `val_mae` which is not available. Available metrics are: loss,mae\n"
     ]
    },
    {
     "name": "stdout",
     "output_type": "stream",
     "text": [
      "27/27 [==============================] - 0s 3ms/step - loss: 7.6788 - mae: 7.6788\n",
      "Epoch 709/2000\n",
      "19/27 [====================>.........] - ETA: 0s - loss: 9.7366 - mae: 9.7366  WARNING:tensorflow:Early stopping conditioned on metric `val_mae` which is not available. Available metrics are: loss,mae\n"
     ]
    },
    {
     "name": "stderr",
     "output_type": "stream",
     "text": [
      "WARNING:tensorflow:Early stopping conditioned on metric `val_mae` which is not available. Available metrics are: loss,mae\n"
     ]
    },
    {
     "name": "stdout",
     "output_type": "stream",
     "text": [
      "27/27 [==============================] - 0s 3ms/step - loss: 9.8820 - mae: 9.8820\n",
      "Epoch 710/2000\n",
      "19/27 [====================>.........] - ETA: 0s - loss: 10.4900 - mae: 10.4900WARNING:tensorflow:Early stopping conditioned on metric `val_mae` which is not available. Available metrics are: loss,mae\n"
     ]
    },
    {
     "name": "stderr",
     "output_type": "stream",
     "text": [
      "WARNING:tensorflow:Early stopping conditioned on metric `val_mae` which is not available. Available metrics are: loss,mae\n"
     ]
    },
    {
     "name": "stdout",
     "output_type": "stream",
     "text": [
      "27/27 [==============================] - 0s 3ms/step - loss: 9.7202 - mae: 9.7202\n",
      "Epoch 711/2000\n",
      "19/27 [====================>.........] - ETA: 0s - loss: 7.2121 - mae: 7.2121WARNING:tensorflow:Early stopping conditioned on metric `val_mae` which is not available. Available metrics are: loss,mae\n"
     ]
    },
    {
     "name": "stderr",
     "output_type": "stream",
     "text": [
      "WARNING:tensorflow:Early stopping conditioned on metric `val_mae` which is not available. Available metrics are: loss,mae\n"
     ]
    },
    {
     "name": "stdout",
     "output_type": "stream",
     "text": [
      "27/27 [==============================] - 0s 3ms/step - loss: 6.7183 - mae: 6.7183\n",
      "Epoch 712/2000\n",
      "19/27 [====================>.........] - ETA: 0s - loss: 7.1093 - mae: 7.1093  WARNING:tensorflow:Early stopping conditioned on metric `val_mae` which is not available. Available metrics are: loss,mae\n"
     ]
    },
    {
     "name": "stderr",
     "output_type": "stream",
     "text": [
      "WARNING:tensorflow:Early stopping conditioned on metric `val_mae` which is not available. Available metrics are: loss,mae\n"
     ]
    },
    {
     "name": "stdout",
     "output_type": "stream",
     "text": [
      "27/27 [==============================] - 0s 3ms/step - loss: 6.5911 - mae: 6.5911\n",
      "Epoch 713/2000\n",
      "19/27 [====================>.........] - ETA: 0s - loss: 7.2394 - mae: 7.2394  WARNING:tensorflow:Early stopping conditioned on metric `val_mae` which is not available. Available metrics are: loss,mae\n"
     ]
    },
    {
     "name": "stderr",
     "output_type": "stream",
     "text": [
      "WARNING:tensorflow:Early stopping conditioned on metric `val_mae` which is not available. Available metrics are: loss,mae\n"
     ]
    },
    {
     "name": "stdout",
     "output_type": "stream",
     "text": [
      "27/27 [==============================] - 0s 3ms/step - loss: 7.9705 - mae: 7.9705\n",
      "Epoch 714/2000\n",
      "19/27 [====================>.........] - ETA: 0s - loss: 7.2160 - mae: 7.2160  WARNING:tensorflow:Early stopping conditioned on metric `val_mae` which is not available. Available metrics are: loss,mae\n"
     ]
    },
    {
     "name": "stderr",
     "output_type": "stream",
     "text": [
      "WARNING:tensorflow:Early stopping conditioned on metric `val_mae` which is not available. Available metrics are: loss,mae\n"
     ]
    },
    {
     "name": "stdout",
     "output_type": "stream",
     "text": [
      "27/27 [==============================] - 0s 3ms/step - loss: 6.4864 - mae: 6.4864\n",
      "Epoch 715/2000\n",
      "18/27 [===================>..........] - ETA: 0s - loss: 6.4296 - mae: 6.4296WARNING:tensorflow:Early stopping conditioned on metric `val_mae` which is not available. Available metrics are: loss,mae\n"
     ]
    },
    {
     "name": "stderr",
     "output_type": "stream",
     "text": [
      "WARNING:tensorflow:Early stopping conditioned on metric `val_mae` which is not available. Available metrics are: loss,mae\n"
     ]
    },
    {
     "name": "stdout",
     "output_type": "stream",
     "text": [
      "27/27 [==============================] - 0s 3ms/step - loss: 6.2381 - mae: 6.2381\n",
      "Epoch 716/2000\n",
      "19/27 [====================>.........] - ETA: 0s - loss: 6.6456 - mae: 6.6456WARNING:tensorflow:Early stopping conditioned on metric `val_mae` which is not available. Available metrics are: loss,mae\n"
     ]
    },
    {
     "name": "stderr",
     "output_type": "stream",
     "text": [
      "WARNING:tensorflow:Early stopping conditioned on metric `val_mae` which is not available. Available metrics are: loss,mae\n"
     ]
    },
    {
     "name": "stdout",
     "output_type": "stream",
     "text": [
      "27/27 [==============================] - 0s 3ms/step - loss: 7.0459 - mae: 7.0459\n",
      "Epoch 717/2000\n",
      "18/27 [===================>..........] - ETA: 0s - loss: 10.9903 - mae: 10.9903WARNING:tensorflow:Early stopping conditioned on metric `val_mae` which is not available. Available metrics are: loss,mae\n"
     ]
    },
    {
     "name": "stderr",
     "output_type": "stream",
     "text": [
      "WARNING:tensorflow:Early stopping conditioned on metric `val_mae` which is not available. Available metrics are: loss,mae\n"
     ]
    },
    {
     "name": "stdout",
     "output_type": "stream",
     "text": [
      "27/27 [==============================] - 0s 3ms/step - loss: 11.1467 - mae: 11.1467\n",
      "Epoch 718/2000\n",
      "19/27 [====================>.........] - ETA: 0s - loss: 7.4991 - mae: 7.4991  WARNING:tensorflow:Early stopping conditioned on metric `val_mae` which is not available. Available metrics are: loss,mae\n"
     ]
    },
    {
     "name": "stderr",
     "output_type": "stream",
     "text": [
      "WARNING:tensorflow:Early stopping conditioned on metric `val_mae` which is not available. Available metrics are: loss,mae\n"
     ]
    },
    {
     "name": "stdout",
     "output_type": "stream",
     "text": [
      "27/27 [==============================] - 0s 3ms/step - loss: 7.2556 - mae: 7.2556\n",
      "Epoch 719/2000\n",
      "17/27 [=================>............] - ETA: 0s - loss: 5.3311 - mae: 5.3311WARNING:tensorflow:Early stopping conditioned on metric `val_mae` which is not available. Available metrics are: loss,mae\n"
     ]
    },
    {
     "name": "stderr",
     "output_type": "stream",
     "text": [
      "WARNING:tensorflow:Early stopping conditioned on metric `val_mae` which is not available. Available metrics are: loss,mae\n"
     ]
    },
    {
     "name": "stdout",
     "output_type": "stream",
     "text": [
      "27/27 [==============================] - 0s 3ms/step - loss: 5.3077 - mae: 5.3077\n",
      "Epoch 720/2000\n",
      "18/27 [===================>..........] - ETA: 0s - loss: 4.7422 - mae: 4.7422WARNING:tensorflow:Early stopping conditioned on metric `val_mae` which is not available. Available metrics are: loss,mae\n"
     ]
    },
    {
     "name": "stderr",
     "output_type": "stream",
     "text": [
      "WARNING:tensorflow:Early stopping conditioned on metric `val_mae` which is not available. Available metrics are: loss,mae\n"
     ]
    },
    {
     "name": "stdout",
     "output_type": "stream",
     "text": [
      "27/27 [==============================] - 0s 3ms/step - loss: 5.1872 - mae: 5.1872\n",
      "Epoch 721/2000\n",
      "18/27 [===================>..........] - ETA: 0s - loss: 6.4032 - mae: 6.4032WARNING:tensorflow:Early stopping conditioned on metric `val_mae` which is not available. Available metrics are: loss,mae\n"
     ]
    },
    {
     "name": "stderr",
     "output_type": "stream",
     "text": [
      "WARNING:tensorflow:Early stopping conditioned on metric `val_mae` which is not available. Available metrics are: loss,mae\n"
     ]
    },
    {
     "name": "stdout",
     "output_type": "stream",
     "text": [
      "27/27 [==============================] - 0s 3ms/step - loss: 6.4659 - mae: 6.4659\n",
      "Epoch 722/2000\n",
      "14/27 [==============>...............] - ETA: 0s - loss: 5.4388 - mae: 5.4388WARNING:tensorflow:Early stopping conditioned on metric `val_mae` which is not available. Available metrics are: loss,mae\n"
     ]
    },
    {
     "name": "stderr",
     "output_type": "stream",
     "text": [
      "WARNING:tensorflow:Early stopping conditioned on metric `val_mae` which is not available. Available metrics are: loss,mae\n"
     ]
    },
    {
     "name": "stdout",
     "output_type": "stream",
     "text": [
      "27/27 [==============================] - 0s 4ms/step - loss: 5.8587 - mae: 5.8587\n",
      "Epoch 723/2000\n",
      "18/27 [===================>..........] - ETA: 0s - loss: 4.6780 - mae: 4.6780WARNING:tensorflow:Early stopping conditioned on metric `val_mae` which is not available. Available metrics are: loss,mae\n"
     ]
    },
    {
     "name": "stderr",
     "output_type": "stream",
     "text": [
      "WARNING:tensorflow:Early stopping conditioned on metric `val_mae` which is not available. Available metrics are: loss,mae\n"
     ]
    },
    {
     "name": "stdout",
     "output_type": "stream",
     "text": [
      "27/27 [==============================] - 0s 3ms/step - loss: 5.1183 - mae: 5.1183\n",
      "Epoch 724/2000\n",
      "18/27 [===================>..........] - ETA: 0s - loss: 6.0844 - mae: 6.0844WARNING:tensorflow:Early stopping conditioned on metric `val_mae` which is not available. Available metrics are: loss,mae\n"
     ]
    },
    {
     "name": "stderr",
     "output_type": "stream",
     "text": [
      "WARNING:tensorflow:Early stopping conditioned on metric `val_mae` which is not available. Available metrics are: loss,mae\n"
     ]
    },
    {
     "name": "stdout",
     "output_type": "stream",
     "text": [
      "27/27 [==============================] - 0s 3ms/step - loss: 5.6955 - mae: 5.6955\n",
      "Epoch 725/2000\n",
      "18/27 [===================>..........] - ETA: 0s - loss: 6.1566 - mae: 6.1566  WARNING:tensorflow:Early stopping conditioned on metric `val_mae` which is not available. Available metrics are: loss,mae\n"
     ]
    },
    {
     "name": "stderr",
     "output_type": "stream",
     "text": [
      "WARNING:tensorflow:Early stopping conditioned on metric `val_mae` which is not available. Available metrics are: loss,mae\n"
     ]
    },
    {
     "name": "stdout",
     "output_type": "stream",
     "text": [
      "27/27 [==============================] - 0s 3ms/step - loss: 6.1044 - mae: 6.1044\n",
      "Epoch 726/2000\n",
      "18/27 [===================>..........] - ETA: 0s - loss: 6.3184 - mae: 6.3184WARNING:tensorflow:Early stopping conditioned on metric `val_mae` which is not available. Available metrics are: loss,mae\n"
     ]
    },
    {
     "name": "stderr",
     "output_type": "stream",
     "text": [
      "WARNING:tensorflow:Early stopping conditioned on metric `val_mae` which is not available. Available metrics are: loss,mae\n"
     ]
    },
    {
     "name": "stdout",
     "output_type": "stream",
     "text": [
      "27/27 [==============================] - 0s 3ms/step - loss: 5.8495 - mae: 5.8495\n",
      "Epoch 727/2000\n",
      "19/27 [====================>.........] - ETA: 0s - loss: 4.9318 - mae: 4.9318WARNING:tensorflow:Early stopping conditioned on metric `val_mae` which is not available. Available metrics are: loss,mae\n"
     ]
    },
    {
     "name": "stderr",
     "output_type": "stream",
     "text": [
      "WARNING:tensorflow:Early stopping conditioned on metric `val_mae` which is not available. Available metrics are: loss,mae\n"
     ]
    },
    {
     "name": "stdout",
     "output_type": "stream",
     "text": [
      "27/27 [==============================] - 0s 3ms/step - loss: 5.4518 - mae: 5.4518\n",
      "Epoch 728/2000\n",
      "18/27 [===================>..........] - ETA: 0s - loss: 8.4875 - mae: 8.4875WARNING:tensorflow:Early stopping conditioned on metric `val_mae` which is not available. Available metrics are: loss,mae\n"
     ]
    },
    {
     "name": "stderr",
     "output_type": "stream",
     "text": [
      "WARNING:tensorflow:Early stopping conditioned on metric `val_mae` which is not available. Available metrics are: loss,mae\n"
     ]
    },
    {
     "name": "stdout",
     "output_type": "stream",
     "text": [
      "27/27 [==============================] - 0s 3ms/step - loss: 7.7281 - mae: 7.7281\n",
      "Epoch 729/2000\n",
      "19/27 [====================>.........] - ETA: 0s - loss: 4.8677 - mae: 4.8677WARNING:tensorflow:Early stopping conditioned on metric `val_mae` which is not available. Available metrics are: loss,mae\n"
     ]
    },
    {
     "name": "stderr",
     "output_type": "stream",
     "text": [
      "WARNING:tensorflow:Early stopping conditioned on metric `val_mae` which is not available. Available metrics are: loss,mae\n"
     ]
    },
    {
     "name": "stdout",
     "output_type": "stream",
     "text": [
      "27/27 [==============================] - 0s 3ms/step - loss: 5.4919 - mae: 5.4919\n",
      "Epoch 730/2000\n",
      "19/27 [====================>.........] - ETA: 0s - loss: 7.3605 - mae: 7.3605WARNING:tensorflow:Early stopping conditioned on metric `val_mae` which is not available. Available metrics are: loss,mae\n"
     ]
    },
    {
     "name": "stderr",
     "output_type": "stream",
     "text": [
      "WARNING:tensorflow:Early stopping conditioned on metric `val_mae` which is not available. Available metrics are: loss,mae\n"
     ]
    },
    {
     "name": "stdout",
     "output_type": "stream",
     "text": [
      "27/27 [==============================] - 0s 3ms/step - loss: 6.9243 - mae: 6.9243\n",
      "Epoch 731/2000\n",
      "18/27 [===================>..........] - ETA: 0s - loss: 5.5192 - mae: 5.5192WARNING:tensorflow:Early stopping conditioned on metric `val_mae` which is not available. Available metrics are: loss,mae\n"
     ]
    },
    {
     "name": "stderr",
     "output_type": "stream",
     "text": [
      "WARNING:tensorflow:Early stopping conditioned on metric `val_mae` which is not available. Available metrics are: loss,mae\n"
     ]
    },
    {
     "name": "stdout",
     "output_type": "stream",
     "text": [
      "27/27 [==============================] - 0s 3ms/step - loss: 5.2001 - mae: 5.2001\n",
      "Epoch 732/2000\n",
      "19/27 [====================>.........] - ETA: 0s - loss: 5.7319 - mae: 5.7319WARNING:tensorflow:Early stopping conditioned on metric `val_mae` which is not available. Available metrics are: loss,mae\n"
     ]
    },
    {
     "name": "stderr",
     "output_type": "stream",
     "text": [
      "WARNING:tensorflow:Early stopping conditioned on metric `val_mae` which is not available. Available metrics are: loss,mae\n"
     ]
    },
    {
     "name": "stdout",
     "output_type": "stream",
     "text": [
      "27/27 [==============================] - 0s 3ms/step - loss: 5.8174 - mae: 5.8174\n",
      "Epoch 733/2000\n",
      "19/27 [====================>.........] - ETA: 0s - loss: 5.1100 - mae: 5.1100WARNING:tensorflow:Early stopping conditioned on metric `val_mae` which is not available. Available metrics are: loss,mae\n"
     ]
    },
    {
     "name": "stderr",
     "output_type": "stream",
     "text": [
      "WARNING:tensorflow:Early stopping conditioned on metric `val_mae` which is not available. Available metrics are: loss,mae\n"
     ]
    },
    {
     "name": "stdout",
     "output_type": "stream",
     "text": [
      "27/27 [==============================] - 0s 3ms/step - loss: 4.9032 - mae: 4.9032\n",
      "Epoch 734/2000\n",
      "18/27 [===================>..........] - ETA: 0s - loss: 5.2627 - mae: 5.2627WARNING:tensorflow:Early stopping conditioned on metric `val_mae` which is not available. Available metrics are: loss,mae\n"
     ]
    },
    {
     "name": "stderr",
     "output_type": "stream",
     "text": [
      "WARNING:tensorflow:Early stopping conditioned on metric `val_mae` which is not available. Available metrics are: loss,mae\n"
     ]
    },
    {
     "name": "stdout",
     "output_type": "stream",
     "text": [
      "27/27 [==============================] - 0s 3ms/step - loss: 5.8316 - mae: 5.8316\n",
      "Epoch 735/2000\n",
      "18/27 [===================>..........] - ETA: 0s - loss: 5.2872 - mae: 5.2872WARNING:tensorflow:Early stopping conditioned on metric `val_mae` which is not available. Available metrics are: loss,mae\n"
     ]
    },
    {
     "name": "stderr",
     "output_type": "stream",
     "text": [
      "WARNING:tensorflow:Early stopping conditioned on metric `val_mae` which is not available. Available metrics are: loss,mae\n"
     ]
    },
    {
     "name": "stdout",
     "output_type": "stream",
     "text": [
      "27/27 [==============================] - 0s 3ms/step - loss: 5.0036 - mae: 5.0036\n",
      "Epoch 736/2000\n",
      "18/27 [===================>..........] - ETA: 0s - loss: 4.7311 - mae: 4.7311WARNING:tensorflow:Early stopping conditioned on metric `val_mae` which is not available. Available metrics are: loss,mae\n"
     ]
    },
    {
     "name": "stderr",
     "output_type": "stream",
     "text": [
      "WARNING:tensorflow:Early stopping conditioned on metric `val_mae` which is not available. Available metrics are: loss,mae\n"
     ]
    },
    {
     "name": "stdout",
     "output_type": "stream",
     "text": [
      "27/27 [==============================] - 0s 3ms/step - loss: 4.9979 - mae: 4.9979\n",
      "Epoch 737/2000\n",
      "19/27 [====================>.........] - ETA: 0s - loss: 6.6902 - mae: 6.6902WARNING:tensorflow:Early stopping conditioned on metric `val_mae` which is not available. Available metrics are: loss,mae\n"
     ]
    },
    {
     "name": "stderr",
     "output_type": "stream",
     "text": [
      "WARNING:tensorflow:Early stopping conditioned on metric `val_mae` which is not available. Available metrics are: loss,mae\n"
     ]
    },
    {
     "name": "stdout",
     "output_type": "stream",
     "text": [
      "27/27 [==============================] - 0s 3ms/step - loss: 5.9948 - mae: 5.9948\n",
      "Epoch 738/2000\n",
      "18/27 [===================>..........] - ETA: 0s - loss: 5.3386 - mae: 5.3386WARNING:tensorflow:Early stopping conditioned on metric `val_mae` which is not available. Available metrics are: loss,mae\n"
     ]
    },
    {
     "name": "stderr",
     "output_type": "stream",
     "text": [
      "WARNING:tensorflow:Early stopping conditioned on metric `val_mae` which is not available. Available metrics are: loss,mae\n"
     ]
    },
    {
     "name": "stdout",
     "output_type": "stream",
     "text": [
      "27/27 [==============================] - 0s 3ms/step - loss: 5.3782 - mae: 5.3782\n",
      "Epoch 739/2000\n",
      "18/27 [===================>..........] - ETA: 0s - loss: 5.3749 - mae: 5.3749WARNING:tensorflow:Early stopping conditioned on metric `val_mae` which is not available. Available metrics are: loss,mae\n"
     ]
    },
    {
     "name": "stderr",
     "output_type": "stream",
     "text": [
      "WARNING:tensorflow:Early stopping conditioned on metric `val_mae` which is not available. Available metrics are: loss,mae\n"
     ]
    },
    {
     "name": "stdout",
     "output_type": "stream",
     "text": [
      "27/27 [==============================] - 0s 3ms/step - loss: 5.5160 - mae: 5.5160\n",
      "Epoch 740/2000\n",
      "18/27 [===================>..........] - ETA: 0s - loss: 5.3875 - mae: 5.3875WARNING:tensorflow:Early stopping conditioned on metric `val_mae` which is not available. Available metrics are: loss,mae\n"
     ]
    },
    {
     "name": "stderr",
     "output_type": "stream",
     "text": [
      "WARNING:tensorflow:Early stopping conditioned on metric `val_mae` which is not available. Available metrics are: loss,mae\n"
     ]
    },
    {
     "name": "stdout",
     "output_type": "stream",
     "text": [
      "27/27 [==============================] - 0s 3ms/step - loss: 5.3572 - mae: 5.3572\n",
      "Epoch 741/2000\n",
      "18/27 [===================>..........] - ETA: 0s - loss: 5.3554 - mae: 5.3554  WARNING:tensorflow:Early stopping conditioned on metric `val_mae` which is not available. Available metrics are: loss,mae\n"
     ]
    },
    {
     "name": "stderr",
     "output_type": "stream",
     "text": [
      "WARNING:tensorflow:Early stopping conditioned on metric `val_mae` which is not available. Available metrics are: loss,mae\n"
     ]
    },
    {
     "name": "stdout",
     "output_type": "stream",
     "text": [
      "27/27 [==============================] - 0s 3ms/step - loss: 5.2659 - mae: 5.2659\n",
      "Epoch 742/2000\n",
      "17/27 [=================>............] - ETA: 0s - loss: 4.5026 - mae: 4.5026WARNING:tensorflow:Early stopping conditioned on metric `val_mae` which is not available. Available metrics are: loss,mae\n"
     ]
    },
    {
     "name": "stderr",
     "output_type": "stream",
     "text": [
      "WARNING:tensorflow:Early stopping conditioned on metric `val_mae` which is not available. Available metrics are: loss,mae\n"
     ]
    },
    {
     "name": "stdout",
     "output_type": "stream",
     "text": [
      "27/27 [==============================] - 0s 3ms/step - loss: 6.0555 - mae: 6.0555\n",
      "Epoch 743/2000\n",
      "19/27 [====================>.........] - ETA: 0s - loss: 5.9803 - mae: 5.9803WARNING:tensorflow:Early stopping conditioned on metric `val_mae` which is not available. Available metrics are: loss,mae\n"
     ]
    },
    {
     "name": "stderr",
     "output_type": "stream",
     "text": [
      "WARNING:tensorflow:Early stopping conditioned on metric `val_mae` which is not available. Available metrics are: loss,mae\n"
     ]
    },
    {
     "name": "stdout",
     "output_type": "stream",
     "text": [
      "27/27 [==============================] - 0s 3ms/step - loss: 5.6409 - mae: 5.6409\n",
      "Epoch 744/2000\n",
      "18/27 [===================>..........] - ETA: 0s - loss: 6.0751 - mae: 6.0751WARNING:tensorflow:Early stopping conditioned on metric `val_mae` which is not available. Available metrics are: loss,mae\n"
     ]
    },
    {
     "name": "stderr",
     "output_type": "stream",
     "text": [
      "WARNING:tensorflow:Early stopping conditioned on metric `val_mae` which is not available. Available metrics are: loss,mae\n"
     ]
    },
    {
     "name": "stdout",
     "output_type": "stream",
     "text": [
      "27/27 [==============================] - 0s 3ms/step - loss: 5.7604 - mae: 5.7604\n",
      "Epoch 745/2000\n",
      "19/27 [====================>.........] - ETA: 0s - loss: 5.5661 - mae: 5.5661WARNING:tensorflow:Early stopping conditioned on metric `val_mae` which is not available. Available metrics are: loss,mae\n"
     ]
    },
    {
     "name": "stderr",
     "output_type": "stream",
     "text": [
      "WARNING:tensorflow:Early stopping conditioned on metric `val_mae` which is not available. Available metrics are: loss,mae\n"
     ]
    },
    {
     "name": "stdout",
     "output_type": "stream",
     "text": [
      "27/27 [==============================] - 0s 3ms/step - loss: 5.6524 - mae: 5.6524\n",
      "Epoch 746/2000\n",
      "19/27 [====================>.........] - ETA: 0s - loss: 5.5297 - mae: 5.5297WARNING:tensorflow:Early stopping conditioned on metric `val_mae` which is not available. Available metrics are: loss,mae\n"
     ]
    },
    {
     "name": "stderr",
     "output_type": "stream",
     "text": [
      "WARNING:tensorflow:Early stopping conditioned on metric `val_mae` which is not available. Available metrics are: loss,mae\n"
     ]
    },
    {
     "name": "stdout",
     "output_type": "stream",
     "text": [
      "27/27 [==============================] - 0s 3ms/step - loss: 5.6989 - mae: 5.6989\n",
      "Epoch 747/2000\n",
      "18/27 [===================>..........] - ETA: 0s - loss: 6.2357 - mae: 6.2357WARNING:tensorflow:Early stopping conditioned on metric `val_mae` which is not available. Available metrics are: loss,mae\n"
     ]
    },
    {
     "name": "stderr",
     "output_type": "stream",
     "text": [
      "WARNING:tensorflow:Early stopping conditioned on metric `val_mae` which is not available. Available metrics are: loss,mae\n"
     ]
    },
    {
     "name": "stdout",
     "output_type": "stream",
     "text": [
      "27/27 [==============================] - 0s 3ms/step - loss: 5.5902 - mae: 5.5902\n",
      "Epoch 748/2000\n",
      "19/27 [====================>.........] - ETA: 0s - loss: 5.4556 - mae: 5.4556WARNING:tensorflow:Early stopping conditioned on metric `val_mae` which is not available. Available metrics are: loss,mae\n"
     ]
    },
    {
     "name": "stderr",
     "output_type": "stream",
     "text": [
      "WARNING:tensorflow:Early stopping conditioned on metric `val_mae` which is not available. Available metrics are: loss,mae\n"
     ]
    },
    {
     "name": "stdout",
     "output_type": "stream",
     "text": [
      "27/27 [==============================] - 0s 3ms/step - loss: 5.7431 - mae: 5.7431\n",
      "Epoch 749/2000\n",
      "18/27 [===================>..........] - ETA: 0s - loss: 5.2049 - mae: 5.2049WARNING:tensorflow:Early stopping conditioned on metric `val_mae` which is not available. Available metrics are: loss,mae\n"
     ]
    },
    {
     "name": "stderr",
     "output_type": "stream",
     "text": [
      "WARNING:tensorflow:Early stopping conditioned on metric `val_mae` which is not available. Available metrics are: loss,mae\n"
     ]
    },
    {
     "name": "stdout",
     "output_type": "stream",
     "text": [
      "27/27 [==============================] - 0s 3ms/step - loss: 5.3706 - mae: 5.3706\n",
      "Epoch 750/2000\n",
      "19/27 [====================>.........] - ETA: 0s - loss: 5.1067 - mae: 5.1067WARNING:tensorflow:Early stopping conditioned on metric `val_mae` which is not available. Available metrics are: loss,mae\n"
     ]
    },
    {
     "name": "stderr",
     "output_type": "stream",
     "text": [
      "WARNING:tensorflow:Early stopping conditioned on metric `val_mae` which is not available. Available metrics are: loss,mae\n"
     ]
    },
    {
     "name": "stdout",
     "output_type": "stream",
     "text": [
      "27/27 [==============================] - 0s 3ms/step - loss: 5.0675 - mae: 5.0675\n",
      "Epoch 751/2000\n",
      "18/27 [===================>..........] - ETA: 0s - loss: 6.0868 - mae: 6.0868WARNING:tensorflow:Early stopping conditioned on metric `val_mae` which is not available. Available metrics are: loss,mae\n"
     ]
    },
    {
     "name": "stderr",
     "output_type": "stream",
     "text": [
      "WARNING:tensorflow:Early stopping conditioned on metric `val_mae` which is not available. Available metrics are: loss,mae\n"
     ]
    },
    {
     "name": "stdout",
     "output_type": "stream",
     "text": [
      "27/27 [==============================] - 0s 3ms/step - loss: 5.3533 - mae: 5.3533\n",
      "Epoch 752/2000\n",
      "18/27 [===================>..........] - ETA: 0s - loss: 5.6633 - mae: 5.6633WARNING:tensorflow:Early stopping conditioned on metric `val_mae` which is not available. Available metrics are: loss,mae\n"
     ]
    },
    {
     "name": "stderr",
     "output_type": "stream",
     "text": [
      "WARNING:tensorflow:Early stopping conditioned on metric `val_mae` which is not available. Available metrics are: loss,mae\n"
     ]
    },
    {
     "name": "stdout",
     "output_type": "stream",
     "text": [
      "27/27 [==============================] - 0s 3ms/step - loss: 5.7730 - mae: 5.7730\n",
      "Epoch 753/2000\n",
      "18/27 [===================>..........] - ETA: 0s - loss: 7.8569 - mae: 7.8569WARNING:tensorflow:Early stopping conditioned on metric `val_mae` which is not available. Available metrics are: loss,mae\n"
     ]
    },
    {
     "name": "stderr",
     "output_type": "stream",
     "text": [
      "WARNING:tensorflow:Early stopping conditioned on metric `val_mae` which is not available. Available metrics are: loss,mae\n"
     ]
    },
    {
     "name": "stdout",
     "output_type": "stream",
     "text": [
      "27/27 [==============================] - 0s 3ms/step - loss: 6.7536 - mae: 6.7536\n",
      "Epoch 754/2000\n",
      "19/27 [====================>.........] - ETA: 0s - loss: 5.1202 - mae: 5.1202WARNING:tensorflow:Early stopping conditioned on metric `val_mae` which is not available. Available metrics are: loss,mae\n"
     ]
    },
    {
     "name": "stderr",
     "output_type": "stream",
     "text": [
      "WARNING:tensorflow:Early stopping conditioned on metric `val_mae` which is not available. Available metrics are: loss,mae\n"
     ]
    },
    {
     "name": "stdout",
     "output_type": "stream",
     "text": [
      "27/27 [==============================] - 0s 3ms/step - loss: 5.1489 - mae: 5.1489\n",
      "Epoch 755/2000\n",
      "18/27 [===================>..........] - ETA: 0s - loss: 4.4957 - mae: 4.4957WARNING:tensorflow:Early stopping conditioned on metric `val_mae` which is not available. Available metrics are: loss,mae\n"
     ]
    },
    {
     "name": "stderr",
     "output_type": "stream",
     "text": [
      "WARNING:tensorflow:Early stopping conditioned on metric `val_mae` which is not available. Available metrics are: loss,mae\n"
     ]
    },
    {
     "name": "stdout",
     "output_type": "stream",
     "text": [
      "27/27 [==============================] - 0s 3ms/step - loss: 4.7616 - mae: 4.7616\n",
      "Epoch 756/2000\n",
      "18/27 [===================>..........] - ETA: 0s - loss: 6.1382 - mae: 6.1382WARNING:tensorflow:Early stopping conditioned on metric `val_mae` which is not available. Available metrics are: loss,mae\n"
     ]
    },
    {
     "name": "stderr",
     "output_type": "stream",
     "text": [
      "WARNING:tensorflow:Early stopping conditioned on metric `val_mae` which is not available. Available metrics are: loss,mae\n"
     ]
    },
    {
     "name": "stdout",
     "output_type": "stream",
     "text": [
      "27/27 [==============================] - 0s 3ms/step - loss: 6.6757 - mae: 6.6757\n",
      "Epoch 757/2000\n",
      "18/27 [===================>..........] - ETA: 0s - loss: 6.6812 - mae: 6.6812WARNING:tensorflow:Early stopping conditioned on metric `val_mae` which is not available. Available metrics are: loss,mae\n"
     ]
    },
    {
     "name": "stderr",
     "output_type": "stream",
     "text": [
      "WARNING:tensorflow:Early stopping conditioned on metric `val_mae` which is not available. Available metrics are: loss,mae\n"
     ]
    },
    {
     "name": "stdout",
     "output_type": "stream",
     "text": [
      "27/27 [==============================] - 0s 3ms/step - loss: 7.4319 - mae: 7.4319\n",
      "Epoch 758/2000\n",
      "18/27 [===================>..........] - ETA: 0s - loss: 7.3279 - mae: 7.3279  WARNING:tensorflow:Early stopping conditioned on metric `val_mae` which is not available. Available metrics are: loss,mae\n"
     ]
    },
    {
     "name": "stderr",
     "output_type": "stream",
     "text": [
      "WARNING:tensorflow:Early stopping conditioned on metric `val_mae` which is not available. Available metrics are: loss,mae\n"
     ]
    },
    {
     "name": "stdout",
     "output_type": "stream",
     "text": [
      "27/27 [==============================] - 0s 3ms/step - loss: 6.5388 - mae: 6.5388\n",
      "Epoch 759/2000\n",
      "19/27 [====================>.........] - ETA: 0s - loss: 6.7881 - mae: 6.7881WARNING:tensorflow:Early stopping conditioned on metric `val_mae` which is not available. Available metrics are: loss,mae\n"
     ]
    },
    {
     "name": "stderr",
     "output_type": "stream",
     "text": [
      "WARNING:tensorflow:Early stopping conditioned on metric `val_mae` which is not available. Available metrics are: loss,mae\n"
     ]
    },
    {
     "name": "stdout",
     "output_type": "stream",
     "text": [
      "27/27 [==============================] - 0s 3ms/step - loss: 6.5510 - mae: 6.5510\n",
      "Epoch 760/2000\n",
      "19/27 [====================>.........] - ETA: 0s - loss: 5.2583 - mae: 5.2583WARNING:tensorflow:Early stopping conditioned on metric `val_mae` which is not available. Available metrics are: loss,mae\n"
     ]
    },
    {
     "name": "stderr",
     "output_type": "stream",
     "text": [
      "WARNING:tensorflow:Early stopping conditioned on metric `val_mae` which is not available. Available metrics are: loss,mae\n"
     ]
    },
    {
     "name": "stdout",
     "output_type": "stream",
     "text": [
      "27/27 [==============================] - 0s 3ms/step - loss: 5.7917 - mae: 5.7917\n",
      "Epoch 761/2000\n",
      "18/27 [===================>..........] - ETA: 0s - loss: 4.9812 - mae: 4.9812WARNING:tensorflow:Early stopping conditioned on metric `val_mae` which is not available. Available metrics are: loss,mae\n"
     ]
    },
    {
     "name": "stderr",
     "output_type": "stream",
     "text": [
      "WARNING:tensorflow:Early stopping conditioned on metric `val_mae` which is not available. Available metrics are: loss,mae\n"
     ]
    },
    {
     "name": "stdout",
     "output_type": "stream",
     "text": [
      "27/27 [==============================] - 0s 3ms/step - loss: 5.2603 - mae: 5.2603\n",
      "Epoch 762/2000\n",
      "19/27 [====================>.........] - ETA: 0s - loss: 4.7340 - mae: 4.7340WARNING:tensorflow:Early stopping conditioned on metric `val_mae` which is not available. Available metrics are: loss,mae\n"
     ]
    },
    {
     "name": "stderr",
     "output_type": "stream",
     "text": [
      "WARNING:tensorflow:Early stopping conditioned on metric `val_mae` which is not available. Available metrics are: loss,mae\n"
     ]
    },
    {
     "name": "stdout",
     "output_type": "stream",
     "text": [
      "27/27 [==============================] - 0s 4ms/step - loss: 4.6884 - mae: 4.6884\n",
      "Epoch 763/2000\n",
      "18/27 [===================>..........] - ETA: 0s - loss: 3.8933 - mae: 3.8933WARNING:tensorflow:Early stopping conditioned on metric `val_mae` which is not available. Available metrics are: loss,mae\n"
     ]
    },
    {
     "name": "stderr",
     "output_type": "stream",
     "text": [
      "WARNING:tensorflow:Early stopping conditioned on metric `val_mae` which is not available. Available metrics are: loss,mae\n"
     ]
    },
    {
     "name": "stdout",
     "output_type": "stream",
     "text": [
      "27/27 [==============================] - 0s 3ms/step - loss: 4.4629 - mae: 4.4629\n",
      "Epoch 764/2000\n",
      "18/27 [===================>..........] - ETA: 0s - loss: 5.5152 - mae: 5.5152WARNING:tensorflow:Early stopping conditioned on metric `val_mae` which is not available. Available metrics are: loss,mae\n"
     ]
    },
    {
     "name": "stderr",
     "output_type": "stream",
     "text": [
      "WARNING:tensorflow:Early stopping conditioned on metric `val_mae` which is not available. Available metrics are: loss,mae\n"
     ]
    },
    {
     "name": "stdout",
     "output_type": "stream",
     "text": [
      "27/27 [==============================] - 0s 3ms/step - loss: 5.2064 - mae: 5.2064\n",
      "Epoch 765/2000\n",
      "19/27 [====================>.........] - ETA: 0s - loss: 4.4572 - mae: 4.4572WARNING:tensorflow:Early stopping conditioned on metric `val_mae` which is not available. Available metrics are: loss,mae\n"
     ]
    },
    {
     "name": "stderr",
     "output_type": "stream",
     "text": [
      "WARNING:tensorflow:Early stopping conditioned on metric `val_mae` which is not available. Available metrics are: loss,mae\n"
     ]
    },
    {
     "name": "stdout",
     "output_type": "stream",
     "text": [
      "27/27 [==============================] - 0s 3ms/step - loss: 4.3182 - mae: 4.3182\n",
      "Epoch 766/2000\n",
      "18/27 [===================>..........] - ETA: 0s - loss: 6.0668 - mae: 6.0668WARNING:tensorflow:Early stopping conditioned on metric `val_mae` which is not available. Available metrics are: loss,mae\n"
     ]
    },
    {
     "name": "stderr",
     "output_type": "stream",
     "text": [
      "WARNING:tensorflow:Early stopping conditioned on metric `val_mae` which is not available. Available metrics are: loss,mae\n"
     ]
    },
    {
     "name": "stdout",
     "output_type": "stream",
     "text": [
      "27/27 [==============================] - 0s 3ms/step - loss: 5.7127 - mae: 5.7127\n",
      "Epoch 767/2000\n",
      "19/27 [====================>.........] - ETA: 0s - loss: 5.1290 - mae: 5.1290WARNING:tensorflow:Early stopping conditioned on metric `val_mae` which is not available. Available metrics are: loss,mae\n"
     ]
    },
    {
     "name": "stderr",
     "output_type": "stream",
     "text": [
      "WARNING:tensorflow:Early stopping conditioned on metric `val_mae` which is not available. Available metrics are: loss,mae\n"
     ]
    },
    {
     "name": "stdout",
     "output_type": "stream",
     "text": [
      "27/27 [==============================] - 0s 3ms/step - loss: 5.0976 - mae: 5.0976\n",
      "Epoch 768/2000\n",
      "18/27 [===================>..........] - ETA: 0s - loss: 5.6004 - mae: 5.6004WARNING:tensorflow:Early stopping conditioned on metric `val_mae` which is not available. Available metrics are: loss,mae\n"
     ]
    },
    {
     "name": "stderr",
     "output_type": "stream",
     "text": [
      "WARNING:tensorflow:Early stopping conditioned on metric `val_mae` which is not available. Available metrics are: loss,mae\n"
     ]
    },
    {
     "name": "stdout",
     "output_type": "stream",
     "text": [
      "27/27 [==============================] - 0s 3ms/step - loss: 5.3757 - mae: 5.3757\n",
      "Epoch 769/2000\n",
      "18/27 [===================>..........] - ETA: 0s - loss: 5.8033 - mae: 5.8033WARNING:tensorflow:Early stopping conditioned on metric `val_mae` which is not available. Available metrics are: loss,mae\n"
     ]
    },
    {
     "name": "stderr",
     "output_type": "stream",
     "text": [
      "WARNING:tensorflow:Early stopping conditioned on metric `val_mae` which is not available. Available metrics are: loss,mae\n"
     ]
    },
    {
     "name": "stdout",
     "output_type": "stream",
     "text": [
      "27/27 [==============================] - 0s 3ms/step - loss: 5.7300 - mae: 5.7300\n",
      "Epoch 770/2000\n",
      "18/27 [===================>..........] - ETA: 0s - loss: 5.3845 - mae: 5.3845WARNING:tensorflow:Early stopping conditioned on metric `val_mae` which is not available. Available metrics are: loss,mae\n"
     ]
    },
    {
     "name": "stderr",
     "output_type": "stream",
     "text": [
      "WARNING:tensorflow:Early stopping conditioned on metric `val_mae` which is not available. Available metrics are: loss,mae\n"
     ]
    },
    {
     "name": "stdout",
     "output_type": "stream",
     "text": [
      "27/27 [==============================] - 0s 3ms/step - loss: 6.1524 - mae: 6.1524\n",
      "Epoch 771/2000\n",
      "19/27 [====================>.........] - ETA: 0s - loss: 8.3763 - mae: 8.3763WARNING:tensorflow:Early stopping conditioned on metric `val_mae` which is not available. Available metrics are: loss,mae\n"
     ]
    },
    {
     "name": "stderr",
     "output_type": "stream",
     "text": [
      "WARNING:tensorflow:Early stopping conditioned on metric `val_mae` which is not available. Available metrics are: loss,mae\n"
     ]
    },
    {
     "name": "stdout",
     "output_type": "stream",
     "text": [
      "27/27 [==============================] - 0s 3ms/step - loss: 7.8008 - mae: 7.8008\n",
      "Epoch 772/2000\n",
      "18/27 [===================>..........] - ETA: 0s - loss: 7.7822 - mae: 7.7822WARNING:tensorflow:Early stopping conditioned on metric `val_mae` which is not available. Available metrics are: loss,mae\n"
     ]
    },
    {
     "name": "stderr",
     "output_type": "stream",
     "text": [
      "WARNING:tensorflow:Early stopping conditioned on metric `val_mae` which is not available. Available metrics are: loss,mae\n"
     ]
    },
    {
     "name": "stdout",
     "output_type": "stream",
     "text": [
      "27/27 [==============================] - 0s 3ms/step - loss: 7.0227 - mae: 7.0227\n",
      "Epoch 773/2000\n",
      "18/27 [===================>..........] - ETA: 0s - loss: 5.2738 - mae: 5.2738WARNING:tensorflow:Early stopping conditioned on metric `val_mae` which is not available. Available metrics are: loss,mae\n"
     ]
    },
    {
     "name": "stderr",
     "output_type": "stream",
     "text": [
      "WARNING:tensorflow:Early stopping conditioned on metric `val_mae` which is not available. Available metrics are: loss,mae\n"
     ]
    },
    {
     "name": "stdout",
     "output_type": "stream",
     "text": [
      "27/27 [==============================] - 0s 3ms/step - loss: 5.2322 - mae: 5.2322\n",
      "Epoch 774/2000\n",
      "18/27 [===================>..........] - ETA: 0s - loss: 4.5433 - mae: 4.5433WARNING:tensorflow:Early stopping conditioned on metric `val_mae` which is not available. Available metrics are: loss,mae\n"
     ]
    },
    {
     "name": "stderr",
     "output_type": "stream",
     "text": [
      "WARNING:tensorflow:Early stopping conditioned on metric `val_mae` which is not available. Available metrics are: loss,mae\n"
     ]
    },
    {
     "name": "stdout",
     "output_type": "stream",
     "text": [
      "27/27 [==============================] - 0s 3ms/step - loss: 4.4695 - mae: 4.4695\n",
      "Epoch 775/2000\n",
      "19/27 [====================>.........] - ETA: 0s - loss: 4.2407 - mae: 4.2407WARNING:tensorflow:Early stopping conditioned on metric `val_mae` which is not available. Available metrics are: loss,mae\n"
     ]
    },
    {
     "name": "stderr",
     "output_type": "stream",
     "text": [
      "WARNING:tensorflow:Early stopping conditioned on metric `val_mae` which is not available. Available metrics are: loss,mae\n"
     ]
    },
    {
     "name": "stdout",
     "output_type": "stream",
     "text": [
      "27/27 [==============================] - 0s 3ms/step - loss: 4.6654 - mae: 4.6654\n",
      "Epoch 776/2000\n",
      "19/27 [====================>.........] - ETA: 0s - loss: 5.0184 - mae: 5.0184WARNING:tensorflow:Early stopping conditioned on metric `val_mae` which is not available. Available metrics are: loss,mae\n"
     ]
    },
    {
     "name": "stderr",
     "output_type": "stream",
     "text": [
      "WARNING:tensorflow:Early stopping conditioned on metric `val_mae` which is not available. Available metrics are: loss,mae\n"
     ]
    },
    {
     "name": "stdout",
     "output_type": "stream",
     "text": [
      "27/27 [==============================] - 0s 3ms/step - loss: 4.9750 - mae: 4.9750\n",
      "Epoch 777/2000\n",
      "19/27 [====================>.........] - ETA: 0s - loss: 6.8281 - mae: 6.8281WARNING:tensorflow:Early stopping conditioned on metric `val_mae` which is not available. Available metrics are: loss,mae\n"
     ]
    },
    {
     "name": "stderr",
     "output_type": "stream",
     "text": [
      "WARNING:tensorflow:Early stopping conditioned on metric `val_mae` which is not available. Available metrics are: loss,mae\n"
     ]
    },
    {
     "name": "stdout",
     "output_type": "stream",
     "text": [
      "27/27 [==============================] - 0s 3ms/step - loss: 6.5731 - mae: 6.5731\n",
      "Epoch 778/2000\n",
      "19/27 [====================>.........] - ETA: 0s - loss: 7.0948 - mae: 7.0948WARNING:tensorflow:Early stopping conditioned on metric `val_mae` which is not available. Available metrics are: loss,mae\n"
     ]
    },
    {
     "name": "stderr",
     "output_type": "stream",
     "text": [
      "WARNING:tensorflow:Early stopping conditioned on metric `val_mae` which is not available. Available metrics are: loss,mae\n"
     ]
    },
    {
     "name": "stdout",
     "output_type": "stream",
     "text": [
      "27/27 [==============================] - 0s 3ms/step - loss: 7.7516 - mae: 7.7516\n",
      "Epoch 779/2000\n",
      "18/27 [===================>..........] - ETA: 0s - loss: 5.5021 - mae: 5.5021WARNING:tensorflow:Early stopping conditioned on metric `val_mae` which is not available. Available metrics are: loss,mae\n"
     ]
    },
    {
     "name": "stderr",
     "output_type": "stream",
     "text": [
      "WARNING:tensorflow:Early stopping conditioned on metric `val_mae` which is not available. Available metrics are: loss,mae\n"
     ]
    },
    {
     "name": "stdout",
     "output_type": "stream",
     "text": [
      "27/27 [==============================] - 0s 3ms/step - loss: 6.1781 - mae: 6.1781\n",
      "Epoch 780/2000\n",
      "18/27 [===================>..........] - ETA: 0s - loss: 7.5111 - mae: 7.5111  WARNING:tensorflow:Early stopping conditioned on metric `val_mae` which is not available. Available metrics are: loss,mae\n"
     ]
    },
    {
     "name": "stderr",
     "output_type": "stream",
     "text": [
      "WARNING:tensorflow:Early stopping conditioned on metric `val_mae` which is not available. Available metrics are: loss,mae\n"
     ]
    },
    {
     "name": "stdout",
     "output_type": "stream",
     "text": [
      "27/27 [==============================] - 0s 3ms/step - loss: 6.7813 - mae: 6.7813\n",
      "Epoch 781/2000\n",
      "19/27 [====================>.........] - ETA: 0s - loss: 7.2270 - mae: 7.2270WARNING:tensorflow:Early stopping conditioned on metric `val_mae` which is not available. Available metrics are: loss,mae\n"
     ]
    },
    {
     "name": "stderr",
     "output_type": "stream",
     "text": [
      "WARNING:tensorflow:Early stopping conditioned on metric `val_mae` which is not available. Available metrics are: loss,mae\n"
     ]
    },
    {
     "name": "stdout",
     "output_type": "stream",
     "text": [
      "27/27 [==============================] - 0s 3ms/step - loss: 7.0484 - mae: 7.0484\n",
      "Epoch 782/2000\n",
      "18/27 [===================>..........] - ETA: 0s - loss: 5.8170 - mae: 5.8170WARNING:tensorflow:Early stopping conditioned on metric `val_mae` which is not available. Available metrics are: loss,mae\n"
     ]
    },
    {
     "name": "stderr",
     "output_type": "stream",
     "text": [
      "WARNING:tensorflow:Early stopping conditioned on metric `val_mae` which is not available. Available metrics are: loss,mae\n"
     ]
    },
    {
     "name": "stdout",
     "output_type": "stream",
     "text": [
      "27/27 [==============================] - 0s 3ms/step - loss: 5.2730 - mae: 5.2730\n",
      "Epoch 783/2000\n",
      "18/27 [===================>..........] - ETA: 0s - loss: 6.3945 - mae: 6.3945WARNING:tensorflow:Early stopping conditioned on metric `val_mae` which is not available. Available metrics are: loss,mae\n"
     ]
    },
    {
     "name": "stderr",
     "output_type": "stream",
     "text": [
      "WARNING:tensorflow:Early stopping conditioned on metric `val_mae` which is not available. Available metrics are: loss,mae\n"
     ]
    },
    {
     "name": "stdout",
     "output_type": "stream",
     "text": [
      "27/27 [==============================] - 0s 3ms/step - loss: 6.2562 - mae: 6.2562\n",
      "Epoch 784/2000\n",
      "18/27 [===================>..........] - ETA: 0s - loss: 4.4166 - mae: 4.4166WARNING:tensorflow:Early stopping conditioned on metric `val_mae` which is not available. Available metrics are: loss,mae\n"
     ]
    },
    {
     "name": "stderr",
     "output_type": "stream",
     "text": [
      "WARNING:tensorflow:Early stopping conditioned on metric `val_mae` which is not available. Available metrics are: loss,mae\n"
     ]
    },
    {
     "name": "stdout",
     "output_type": "stream",
     "text": [
      "27/27 [==============================] - 0s 3ms/step - loss: 4.4846 - mae: 4.4846\n",
      "Epoch 785/2000\n",
      "19/27 [====================>.........] - ETA: 0s - loss: 4.1736 - mae: 4.1736WARNING:tensorflow:Early stopping conditioned on metric `val_mae` which is not available. Available metrics are: loss,mae\n"
     ]
    },
    {
     "name": "stderr",
     "output_type": "stream",
     "text": [
      "WARNING:tensorflow:Early stopping conditioned on metric `val_mae` which is not available. Available metrics are: loss,mae\n"
     ]
    },
    {
     "name": "stdout",
     "output_type": "stream",
     "text": [
      "27/27 [==============================] - 0s 3ms/step - loss: 4.1116 - mae: 4.1116\n",
      "Epoch 786/2000\n",
      "18/27 [===================>..........] - ETA: 0s - loss: 4.4747 - mae: 4.4747WARNING:tensorflow:Early stopping conditioned on metric `val_mae` which is not available. Available metrics are: loss,mae\n"
     ]
    },
    {
     "name": "stderr",
     "output_type": "stream",
     "text": [
      "WARNING:tensorflow:Early stopping conditioned on metric `val_mae` which is not available. Available metrics are: loss,mae\n"
     ]
    },
    {
     "name": "stdout",
     "output_type": "stream",
     "text": [
      "27/27 [==============================] - 0s 3ms/step - loss: 5.4169 - mae: 5.4169\n",
      "Epoch 787/2000\n",
      "18/27 [===================>..........] - ETA: 0s - loss: 5.3558 - mae: 5.3558WARNING:tensorflow:Early stopping conditioned on metric `val_mae` which is not available. Available metrics are: loss,mae\n"
     ]
    },
    {
     "name": "stderr",
     "output_type": "stream",
     "text": [
      "WARNING:tensorflow:Early stopping conditioned on metric `val_mae` which is not available. Available metrics are: loss,mae\n"
     ]
    },
    {
     "name": "stdout",
     "output_type": "stream",
     "text": [
      "27/27 [==============================] - 0s 3ms/step - loss: 5.0646 - mae: 5.0646\n",
      "Epoch 788/2000\n",
      "19/27 [====================>.........] - ETA: 0s - loss: 5.6012 - mae: 5.6012WARNING:tensorflow:Early stopping conditioned on metric `val_mae` which is not available. Available metrics are: loss,mae\n"
     ]
    },
    {
     "name": "stderr",
     "output_type": "stream",
     "text": [
      "WARNING:tensorflow:Early stopping conditioned on metric `val_mae` which is not available. Available metrics are: loss,mae\n"
     ]
    },
    {
     "name": "stdout",
     "output_type": "stream",
     "text": [
      "27/27 [==============================] - 0s 3ms/step - loss: 6.0226 - mae: 6.0226\n",
      "Epoch 789/2000\n",
      " 1/27 [>.............................] - ETA: 0s - loss: 6.3789 - mae: 6.3789"
     ]
    }
   ],
   "source": [
    "import os\n",
    "import pandas as pd\n",
    "#data = pd.read_csv('data/SPY_cleaned_data.csv')\n",
    "#data.head()\n",
    "# print(os.getcwd())\n",
    "lstm = Lstm('SPY')\n",
    "lstm.train_lstm()"
   ]
  },
  {
   "cell_type": "code",
   "execution_count": null,
   "id": "ee4717f5",
   "metadata": {},
   "outputs": [],
   "source": []
  }
 ],
 "metadata": {
  "kernelspec": {
   "display_name": "Python 3 (ipykernel)",
   "language": "python",
   "name": "python3"
  },
  "language_info": {
   "codemirror_mode": {
    "name": "ipython",
    "version": 3
   },
   "file_extension": ".py",
   "mimetype": "text/x-python",
   "name": "python",
   "nbconvert_exporter": "python",
   "pygments_lexer": "ipython3",
   "version": "3.11.1"
  }
 },
 "nbformat": 4,
 "nbformat_minor": 5
}
